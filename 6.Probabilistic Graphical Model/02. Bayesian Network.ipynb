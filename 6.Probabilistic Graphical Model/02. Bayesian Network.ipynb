{
 "cells": [
  {
   "cell_type": "code",
   "execution_count": 1,
   "metadata": {},
   "outputs": [],
   "source": [
    "import numpy as np\n",
    "import pandas as pd"
   ]
  },
  {
   "cell_type": "markdown",
   "metadata": {},
   "source": [
    "# 베이지안 모델\n",
    "    \n",
    "베이지안 네트워크는, belief network이다. 일반적으로 확률 변수 간의 causal relationship을 나타내는데 사용한다. 베이지안 네트워크는 parameterized 에 조건부 확률 분포를 사용한다. (Conditional Probability Distribution). 각각의 노드들은 parameterized 된다 $ P(node | Pa(node)) $ 이런식으로, $ Pa(node) $ 이건 부모 노드를 표현하는 방식이다.\n",
    "\n",
    "- Representation\n",
    "    - Directed & acyclic (DAG)\n",
    "    - Probabilistic graphical model\n",
    "    - Set of random variables and conditional dependency\n",
    "    \n",
    "    \n",
    "### Summary\n",
    "\n",
    "Bayisan Model : 방향성이 있는 그래프이자 조건부 확률 분포를 따른다. 각각 조건부 확률 분포는 $ P(node | parents(node)) $ 의 형태이며, $ parents(node)$ 각 노드의 부모역할을 한다.\n"
   ]
  },
  {
   "cell_type": "markdown",
   "metadata": {},
   "source": [
    "![Alt text](images/2/student_full_param.png)"
   ]
  },
  {
   "cell_type": "markdown",
   "metadata": {},
   "source": [
    "본 문서에서는 pgmpy를 이용하여 network structure를 정의하고, CPD를 이용하여 개별 노드를 정의해본다."
   ]
  },
  {
   "cell_type": "code",
   "execution_count": 2,
   "metadata": {},
   "outputs": [],
   "source": [
    "from pgmpy.models import BayesianModel\n",
    "from pgmpy.factors.discrete import TabularCPD"
   ]
  },
  {
   "cell_type": "code",
   "execution_count": 3,
   "metadata": {},
   "outputs": [],
   "source": [
    "# define model sturcture\n",
    "model = BayesianModel([('D','G'),('I','G'),('G','L'),('I','S')])"
   ]
  },
  {
   "cell_type": "code",
   "execution_count": 6,
   "metadata": {},
   "outputs": [],
   "source": [
    "# define individual cpd\n",
    "\n",
    "cpd_d = TabularCPD(variable='D', variable_card=2, values=[[0.6,0.4]])\n",
    "cpd_i = TabularCPD(variable='I', variable_card=2, values=[[0.7,0.3]])\n",
    "cpd_g = TabularCPD(variable='G', variable_card=3, \n",
    "                   values=[[0.3, 0.05, 0.9,  0.5],\n",
    "                           [0.4, 0.25, 0.08, 0.3],\n",
    "                           [0.3, 0.7,  0.02, 0.2]],\n",
    "                  evidence=['I', 'D'],\n",
    "                  evidence_card=[2, 2])\n",
    "\n",
    "cpd_l = TabularCPD(variable='L', variable_card=2, \n",
    "                   values=[[0.1, 0.4, 0.99],\n",
    "                           [0.9, 0.6, 0.01]],\n",
    "                   evidence=['G'],\n",
    "                   evidence_card=[3])\n",
    "\n",
    "cpd_s = TabularCPD(variable='S', variable_card=2,\n",
    "                   values=[[0.95, 0.2],\n",
    "                           [0.05, 0.8]],\n",
    "                   evidence=['I'],\n",
    "                   evidence_card=[2])"
   ]
  },
  {
   "cell_type": "code",
   "execution_count": 8,
   "metadata": {},
   "outputs": [
    {
     "name": "stderr",
     "output_type": "stream",
     "text": [
      "WARNING:root:Replacing existing CPD for D\n",
      "WARNING:root:Replacing existing CPD for G\n",
      "WARNING:root:Replacing existing CPD for I\n",
      "WARNING:root:Replacing existing CPD for L\n",
      "WARNING:root:Replacing existing CPD for S\n"
     ]
    }
   ],
   "source": [
    "# 모델에 각 확률 변수들을 연결시켜주자 = 네트워크를 구성시키자\n",
    "model.add_cpds(cpd_d,cpd_g,cpd_i,cpd_l,cpd_s)"
   ]
  },
  {
   "cell_type": "code",
   "execution_count": 9,
   "metadata": {},
   "outputs": [
    {
     "data": {
      "text/plain": [
       "True"
      ]
     },
     "execution_count": 9,
     "metadata": {},
     "output_type": "execute_result"
    }
   ],
   "source": [
    "# 모델 스트럭쳐가 잘 구성되었는지를 확인해본다. 일반적으로 summation이 1인지를 보면 안다\n",
    "model.check_model()"
   ]
  },
  {
   "cell_type": "code",
   "execution_count": 11,
   "metadata": {},
   "outputs": [
    {
     "data": {
      "text/plain": [
       "[<TabularCPD representing P(D:2) at 0x1a24d150f0>,\n",
       " <TabularCPD representing P(G:3 | I:2, D:2) at 0x1a24d15160>,\n",
       " <TabularCPD representing P(I:2) at 0x1a24d150b8>,\n",
       " <TabularCPD representing P(L:2 | G:3) at 0x1a24cf0978>,\n",
       " <TabularCPD representing P(S:2 | I:2) at 0x1a24d15198>]"
      ]
     },
     "execution_count": 11,
     "metadata": {},
     "output_type": "execute_result"
    }
   ],
   "source": [
    "# 모델 스트럭쳐와 각 노드들을 확인하는 법\n",
    "model.get_cpds()"
   ]
  },
  {
   "cell_type": "code",
   "execution_count": 12,
   "metadata": {},
   "outputs": [
    {
     "name": "stdout",
     "output_type": "stream",
     "text": [
      "╒═════╤═════╤══════╤══════╤═════╕\n",
      "│ I   │ I_0 │ I_0  │ I_1  │ I_1 │\n",
      "├─────┼─────┼──────┼──────┼─────┤\n",
      "│ D   │ D_0 │ D_1  │ D_0  │ D_1 │\n",
      "├─────┼─────┼──────┼──────┼─────┤\n",
      "│ G_0 │ 0.3 │ 0.05 │ 0.9  │ 0.5 │\n",
      "├─────┼─────┼──────┼──────┼─────┤\n",
      "│ G_1 │ 0.4 │ 0.25 │ 0.08 │ 0.3 │\n",
      "├─────┼─────┼──────┼──────┼─────┤\n",
      "│ G_2 │ 0.3 │ 0.7  │ 0.02 │ 0.2 │\n",
      "╘═════╧═════╧══════╧══════╧═════╛\n"
     ]
    }
   ],
   "source": [
    "print(model.get_cpds('G'))"
   ]
  },
  {
   "cell_type": "code",
   "execution_count": 13,
   "metadata": {},
   "outputs": [
    {
     "data": {
      "text/plain": [
       "3"
      ]
     },
     "execution_count": 13,
     "metadata": {},
     "output_type": "execute_result"
    }
   ],
   "source": [
    "model.get_cardinality('G')"
   ]
  },
  {
   "cell_type": "markdown",
   "metadata": {},
   "source": [
    "### 베이지안 네트워크의 독립 (Independencies)\n",
    "\n",
    "구조속에서 독립관계를 파악하는 것은 베이지안 네트워크에서 매우 중요하다. 네트워크는 2가지 타입으로 구별할 수 있다.\n",
    "\n",
    "1. __Local Independencies__ :\n",
    "베이지안 네트워크에서 어떤 확률 변수들은 부모노드들이 given condition으로 주어질때 Non-Descendents 한 관계인 노드들과 조건부 독립 관계를 가지게 된다.\n",
    "\n",
    "$$ (X \\perp NonDesc(X) | Pa(X) $$\n",
    "\n",
    "2. __Global Independencies__ : \n",
    "오직 두개의 노드가 직접적으로 연결된 경우, 그들은 global independencies 를 보장 받는다."
   ]
  },
  {
   "cell_type": "markdown",
   "metadata": {},
   "source": [
    "![Alt text](images/2/two_nodes.png)"
   ]
  },
  {
   "cell_type": "markdown",
   "metadata": {},
   "source": [
    "우리의 첫 예시인 student 케이스를 다시보자\n",
    "![Alt text](images/2/student_full_param.png)"
   ]
  },
  {
   "cell_type": "markdown",
   "metadata": {},
   "source": [
    "$ difficulty \\rightarrow grade $ 이 경우를 확인해보자, 만약 우리가 difficulty를 높이면 등급이 올라갈 확률은 줄어든다. \n",
    "<br>\n",
    "$ SAT \\leftarrow Intel $ 이 경우는 어떠한가, 우리가 만약에 SAT의 점수가 높다는 것을 관찰할 확률을 높이게 된다면, 이는 지능이 좋다는 확률을 높일 것이다. 이 지능은 grade의 확률에도 연결이 될 것이다.\n",
    "<br>\n",
    "\n",
    "이처럼 확률변수가 관측에 따라서 사후 확률값이 변하게 될 경우,이는 모든 베이지안 네트워크에 영향력을 끼치게 된다."
   ]
  },
  {
   "cell_type": "markdown",
   "metadata": {},
   "source": [
    "### Flow of Probabilistic Influence"
   ]
  },
  {
   "cell_type": "markdown",
   "metadata": {},
   "source": [
    "![Alt text](images/2/three_nodes.png)"
   ]
  },
  {
   "cell_type": "markdown",
   "metadata": {},
   "source": [
    "이제 우리는 $A$와 $C$사이에 전파되는 영향력의 플로우를 확인해 보려고 한다.\n",
    "\n",
    "1. __Causal__ : 일반적으로, 우리가 확률 변수 $A$의 관측이 이루어졌다면, 이것은 $B$에 영향을 끼칠 것이며, $B$는 $C$에 영향을 끼칠 것이다. \n",
    "    - __cascading__ : 반면, B가 관측되었다고 해보자. 우리는 B의 상태를 파악할 것이다. 그렇다면 B는 이미 결정된 값이다. 따라서 A의 변화에 따라서 B는 영향을 받지 않는다. B가 고정되었다는 의미는 C에게도 영향력을 끼치지 않는 다는 소리이다. $ (A \\perp C | B)$\n",
    "    \n",
    "2. __Evidential__ : Causal의 역의 관계이다. \n",
    "\n",
    "\n",
    "3. __Common Evidence__ (V-structure) : 두개의 부모노드가 하나의 자식노드에게 영향을 끼치는 케이스다. 우리한번 다시 과목의 어려움, 성적, 지능의 관계를 살펴보자 $ D \\rightarrow G \\leftarrow I $. 만약 코스가 어려울 확률이 올라간다고 했을때, 성적이 잘나올 확률을 감소한다. 하지만 이 경우 학생의 지능에는 영향을 끼치지 않는다. 그러나 우리가 성적이 잘나왔다는 것이 관측되었다고 해보자. 그렇다면 우리는 이제 코스가 어려울 확률이 올라간다고 했을때, 이 학생의 지능이 좋다고 나올 확률이 올라감을 알 수 있다. 독립이였던 $ (D \\perp I) $ 과목의 어려움과 지능이, $ ( A \\not\\perp C | B) $ 성적의 관측에 의해서 관계가 형성된 경우이다.\n",
    "\n",
    "4. __Common Cause__ (commen parents): 하나의 부모노드(B)와 두개의 자식노드(A,C)가 있는 케이스이다. B가 관측된 순간 A와 C는 독립관계가 형성된다. 왜냐면 오직 B에 대해서 dependent 해지기 때문이다. $ ( A \\perp C | B) $. "
   ]
  },
  {
   "cell_type": "code",
   "execution_count": 16,
   "metadata": {},
   "outputs": [
    {
     "data": {
      "text/plain": [
       "(G _|_ S, L | D, I)"
      ]
     },
     "execution_count": 16,
     "metadata": {},
     "output_type": "execute_result"
    }
   ],
   "source": [
    "# 확률변수의 local_indepdendencies를 보자\n",
    "model.local_independencies('G')"
   ]
  },
  {
   "cell_type": "code",
   "execution_count": 17,
   "metadata": {},
   "outputs": [
    {
     "data": {
      "text/plain": [
       "(D _|_ G, S, L, I)\n",
       "(I _|_ G, D, S, L)\n",
       "(S _|_ G, D, L | I)\n",
       "(G _|_ S, L | D, I)\n",
       "(L _|_ D, S, I | G)"
      ]
     },
     "execution_count": 17,
     "metadata": {},
     "output_type": "execute_result"
    }
   ],
   "source": [
    "# 이제 모델의 모든 변수를 조회한다면.\n",
    "model.local_independencies(['D', 'I', 'S', 'G', 'L'])"
   ]
  },
  {
   "cell_type": "code",
   "execution_count": 18,
   "metadata": {},
   "outputs": [
    {
     "data": {
      "text/plain": [
       "{'D': {'D', 'G', 'L'}}"
      ]
     },
     "execution_count": 18,
     "metadata": {},
     "output_type": "execute_result"
    }
   ],
   "source": [
    "# active_trail : 두개의 확률변수가 서로 영향을 끼치는 관계 인지를 확인하는 것입니다.\n",
    "model.active_trail_nodes('D')"
   ]
  },
  {
   "cell_type": "code",
   "execution_count": 20,
   "metadata": {},
   "outputs": [
    {
     "data": {
      "text/plain": [
       "{'D': {'D', 'I', 'S'}}"
      ]
     },
     "execution_count": 20,
     "metadata": {},
     "output_type": "execute_result"
    }
   ],
   "source": [
    "# observed : 특정 확률 변수가 관측되어서 상수가 될 경우\n",
    "model.active_trail_nodes('D', observed='G')"
   ]
  },
  {
   "cell_type": "markdown",
   "metadata": {},
   "source": [
    "### Representing Joint Distribution\n",
    "\n",
    "이제 Joint Distribution을 확인해봅시다."
   ]
  },
  {
   "cell_type": "code",
   "execution_count": null,
   "metadata": {},
   "outputs": [],
   "source": []
  }
 ],
 "metadata": {
  "kernelspec": {
   "display_name": "python3.6",
   "language": "python",
   "name": "python3.6"
  },
  "language_info": {
   "codemirror_mode": {
    "name": "ipython",
    "version": 3
   },
   "file_extension": ".py",
   "mimetype": "text/x-python",
   "name": "python",
   "nbconvert_exporter": "python",
   "pygments_lexer": "ipython3",
   "version": "3.6.6"
  }
 },
 "nbformat": 4,
 "nbformat_minor": 2
}
