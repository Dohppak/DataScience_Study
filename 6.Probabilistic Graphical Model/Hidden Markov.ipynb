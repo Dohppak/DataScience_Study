{
 "cells": [
  {
   "cell_type": "markdown",
   "metadata": {},
   "source": [
    "# Hidden Markov model\n",
    "\n",
    "공간과 달리 __비가역적인 요소인 시간__ 이라는 요소를 모델링 하기 위해 접근해 보자\n",
    "\n",
    "- Transition from the static clustering to the dynamic clustering\n",
    "- Understand the difference of the graphical model\n",
    "- Modeling\n",
    "    - Evaluation\n",
    "        - Given : $\\pi, a, b$\n",
    "        - Find : $P(X|M,\\pi, a, b)$\n",
    "        - Markov 모델로부터 $X$ 가 generate 되었을때 얼마나 likely 한지 판단하게 된다\n",
    "    - decoding\n",
    "        - Given : $\\pi, a, b$\n",
    "        - Find : $argmax_{z}P(Z|X, M,\\pi, a, b)$\n",
    "        - Markov 모델로부터 가장 likely한 $Z$, latent factor 의 시퀀스가 무었인지 제시하여라\n",
    "    - learning \n",
    "        - Given : $X$\n",
    "        - Find : $argmax_{\\pi, a, b}P(X|M,\\pi, a, b)$\n",
    "        - X가 알려져 있을때, 주어진 데이터를 보일 확률을 maximize 해주는 paramter를 찾아보아라."
   ]
  },
  {
   "cell_type": "markdown",
   "metadata": {},
   "source": [
    "### Temporal relation\n",
    "\n",
    "Causality from time $t$ to time $t+1$\n",
    "\n",
    "- Observation $x_{1},x_{2}...x_{T}$\n",
    "discrete 하거나 continuous한 data 모두 가능하다.\n",
    "    - 데이터의 Probability distribution이 무엇인지가 중요하다\n",
    "    \n",
    "- Latent state $z$\n",
    "$K$개의 Vector variable이다. 역시 discrete & Continuous 할 수 있다.\n",
    "    - 만약 latent factor 가 continuous 하다면 그것을 칼만 필터라고 부른다.\n",
    "\n",
    "\n"
   ]
  },
  {
   "cell_type": "markdown",
   "metadata": {},
   "source": [
    "![Alt text](images/HMM.png)"
   ]
  },
  {
   "cell_type": "markdown",
   "metadata": {},
   "source": [
    "#####  Initial State probability ($\\pi$)\n",
    "\n",
    "Multinomial distirbution을 따르는 $P(z_{1})$ ~ $Mult(\\pi_{1},...\\pi_{k})$\n",
    "- Parameter = $\\pi$\n",
    "\n",
    "##### Transition Probability ($a_{i,j}$)\n",
    "$P(z_{t}|z^{i}_{t-1}=1)$ ~ $Mult(a_{i,k})$\n",
    "- Paramter = $a_{i,k} = P(z^{j}_{t}=1 |z^{i}_{t-1}=1)$\n",
    "- $a_{i,j}$ : $t-1$에서는 $i$번째 클러스터 이였다가 $t$에서는 $j$번째로 바뀌게 될 확률\n",
    "    \n",
    "##### Emission Probability ($b_{i,j}$)\n",
    "특정 클러스터로 assigment 되어있을때, 어떤 데이터 포인트가 관측될 것인가?\n",
    "$P(x_{t}|z^{i}_{t}=1)$~$Mult(b_{i,m})$~$f(x_{t}|\\theta_{i})$\n",
    "- $b_{i,j} = P(x^{j}_{t}|z^{i}_{t}=1)$"
   ]
  },
  {
   "cell_type": "markdown",
   "metadata": {},
   "source": [
    "### How to know $\\pi, a, b$?"
   ]
  },
  {
   "cell_type": "code",
   "execution_count": null,
   "metadata": {},
   "outputs": [],
   "source": []
  }
 ],
 "metadata": {
  "kernelspec": {
   "display_name": "python3.6",
   "language": "python",
   "name": "python3.6"
  },
  "language_info": {
   "codemirror_mode": {
    "name": "ipython",
    "version": 3
   },
   "file_extension": ".py",
   "mimetype": "text/x-python",
   "name": "python",
   "nbconvert_exporter": "python",
   "pygments_lexer": "ipython3",
   "version": "3.6.6"
  }
 },
 "nbformat": 4,
 "nbformat_minor": 2
}
