{
 "cells": [
  {
   "cell_type": "markdown",
   "metadata": {},
   "source": [
    "# Random Process\n",
    "\n",
    "Sample space에서 나온 원소하나를 숫자로 보내는 것이 Random variable 입니다. 확률론에서는 확률 공간에서 다른 measurable space로 가는 함수 또는 확률적인 과정에 따라 값이 결정되는 변수를 확률변수(Random variable)이라고 표현했습니다. 우리의 확률변수가 증가함에 따라서 차원이 확장됩니다. Random process는 이러한 확률 변수를 무한 차원으로 확장해서 정의하고 싶을 때 사용하는 개념입니다.\n",
    "\n",
    "### 무한차원이란? \n",
    "함수는 무한차원의 백터입니다. 무한차원은 몇번째 element를 가르치는것이 실수가 됩니다. input이 실수 전체인 함수가 됩니다. 함수의 공간에 확률을 부여하는게 random process입니다. "
   ]
  },
  {
   "cell_type": "code",
   "execution_count": null,
   "metadata": {},
   "outputs": [],
   "source": []
  }
 ],
 "metadata": {
  "kernelspec": {
   "display_name": "python3.6",
   "language": "python",
   "name": "python3.6"
  },
  "language_info": {
   "codemirror_mode": {
    "name": "ipython",
    "version": 3
   },
   "file_extension": ".py",
   "mimetype": "text/x-python",
   "name": "python",
   "nbconvert_exporter": "python",
   "pygments_lexer": "ipython3",
   "version": "3.6.6"
  }
 },
 "nbformat": 4,
 "nbformat_minor": 2
}
