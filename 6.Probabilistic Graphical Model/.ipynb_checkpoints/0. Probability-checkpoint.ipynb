{
 "cells": [
  {
   "cell_type": "code",
   "execution_count": 1,
   "metadata": {},
   "outputs": [],
   "source": [
    "import numpy as np\n",
    "import pandas as pd\n",
    "import matplotlib.pyplot as plt"
   ]
  },
  {
   "cell_type": "markdown",
   "metadata": {},
   "source": [
    "# Probability?\n",
    "\n",
    "- Understand differnece in $p()$, $P()$\n",
    "- set이 있고 set을 통해 $\\sigma$-field 를 만들고, 여기에 숫자를 매기는 measure를 줍니다. 전체 set의 measure는 1이 되는 Probability Space가 주어집니다."
   ]
  },
  {
   "cell_type": "markdown",
   "metadata": {},
   "source": [
    "## Set theory\n",
    "\n",
    "- set : 옷장\n",
    "- element : 옷장안에 있는 옷\n",
    "- Sub-set : 코트들, 바지들, 티셔트들\n",
    "- Universal-set : 전체 옷들\n",
    "- Set operation : 옷장안에 옷이 몇개 있는가?\n",
    "- disjoint set : 겹쳐지지 않는 옷 집합, 청바지, 티셔츠 $A \\cap B = \\emptyset$\n",
    "- partition of A : 가지고 있는 요소를 겹치지 않는 sub-set으로 전체 universal set을 표현합니다.\n",
    "- Cartesian product : 2차원 실수 공간이 이런것!\n",
    "- power set $2^{A}$ : A의 모든 부분집합의 집합\n",
    "- Cardinality $|A|$ : finite, infinite, countable, uncountable, denumerable(countably infinite) \n",
    "    - product space : $|A|=m$, $|B|=n$, $|AxB|=mn$\n",
    "    - power space : $|A|=m$, $|2^{A}|=2^{m}$\n",
    "    - 두개의 집합에게, one-to-one correspondence 가 있다면, 두개가 같은 cardinality입니다.\n",
    "    - countable : 자연수의 집합(셀수 있는 집합)과 우리가 관심있는 집합사이가 1 대 1 대응인가?\n",
    "        - 정수의 집합과 분수의 집합이 Countable한가? -> 정수는 countable, 분수 역시 countable\n",
    "    - denumerable $\\aleph_{0}$: 셀수있는 무한 (countable infinite, 자연수, 정수, 실수 등등)\n",
    "        - 모든 aleph null, aleph naught 는 같은 cardinality를 같는다. 자연수의 갯수라고 생각하자.\n",
    "    - uncountable (continuum) : 셀수 없음, 예를들면 0과 1사이에 있는 실수들의 갯수\n",
    "        - $c = 2^{\\aleph_{0}}$\n",
    "- function or mapping : $f:U \\Rightarrow V$        \n",
    "    - domain : $U$\n",
    "    - codomain : $V$\n",
    "    - image : $f(A)=\\{f(x)\\in V : x\\in A\\} A\\subseteq U $\n",
    "        - 함수의 입력 A라는 set이 있을때, A에 해당하는 codomain의 subset입니다.\n",
    "    - range : $f(U)$ unversial set이 들어갔을 때, codomain 의 공간\n",
    "    - inverse image(preimage) : $f^{-1}(B) = \\{x \\in U :f(x) \\in B\\},  A\\subseteq V $\n",
    "        - Codomain 정의된 set들이 원래의 U 공간에서는 얼마나 차지할지, 해당하는 element들의 subset\n",
    "        - 사진(codomain)이 강아지(U)인지 고양이(U)인지?\n",
    "    - one-to-one (injective) : $f(a)=f(b) \\Rightarrow a = b$\n",
    "        - x가 하나 정해지면 y가 하나 정해짐\n",
    "    - onto (surjective) : $f(U)=V$\n",
    "        - codomain을 커버할 필요는 없지만, U가 mapping될때, codomain을 다 커버하는 경우, x에 있는 원소가 y를 다 커버함\n",
    "    - invertable (bijection): one-to-one & onto\n",
    "        - x와 y가 하나씩 맵핑되며, x에 있는 원소가 y를 다 커버함\n",
    "        - x와 y의 카디널리티가 같아짐\n",
    "        - 두 set사이의 갯수도 같다."
   ]
  },
  {
   "cell_type": "markdown",
   "metadata": {},
   "source": [
    "## Measure theory\n",
    "\n",
    "Given a universal set $U$. a measure assign a nonnegative real number to each subset of $U$\n",
    "<br>\n",
    "\n",
    "#### Measure\n",
    "일종의 Set function으로 subset들을 0보다 큰 양수로 보내는 함수가 measure 입니다.\n",
    "\n",
    "- Set function : set에 대해서 숫자를 매기면 된다. function assigning a number of a set(ex, cardinality, length, area)\n",
    "- Set에 무언가 숫자를 부여하면 measure 입니다.\n",
    "    - 사람 -> 몸무게\n",
    "    - 하지만 사람은 더하기, 곱하기가 안되죠. 즉 아직 연산은 정의되지 않은 것입니다.\n",
    "- $\\sigma$-field ($\\beta$) : 면적을 주기 위해서 필요한 최소의 단위, $\\sigma$-field 안에 들어가는 set은 우리가 measure를 부여할 수 있는 최소단위이다. power set과 같은 친구다(subset을 가장 작게 나누는 방식). \n",
    "    - a collection of subset of $U$ such that\n",
    "        - __empty set__ is included (공집합이 포함되고)\n",
    "        - closed under __set complement__ (set의 부분에 대해서 measure를 정하면, 그 나머지 역시 measure가 가능해야한다.)\n",
    "        - close under __countable union__(set이 있으면 유한개 합쳤을때, 시그마 필드에 들어가야한다.)\n",
    "        - close under __countable intersection__\n",
    "        - powerset is $\\sigma$-field\n",
    "        - $\\sigma$-field is finite or uncountable, never denumerable (set이 유한하다면 finite, set이 무한하다면 uncountable)\n",
    "        - $B$,$C$ is $\\sigma$-field $\\Rightarrow$ is $B\\cap C$ is $\\sigma$-field, but $B\\cup C$ is not.\n",
    "\n",
    "> Set이 있었다. 이 Set들의 subset들로 $\\sigma$-field 를 만들었다. 그리고 그 $\\sigma$-field 에 무게, 면적과 같은 measure를 씌울 것 입니다.\n",
    "\n",
    "즉 $\\sigma$-field는 measure를 정의하기 위해 만들어 집니다.\n",
    "<br> \n",
    "확률은 measure입니다. 어떤 요소(element)가 시그마필드에 없다면, measure를 정의할 수 없습니다. \n",
    "\n",
    "#### Measureable Space\n",
    "\n",
    "집합 $U$와, $U$의 부분집합의 시그마필드로 구성된 공간입니다. $(U,\\beta)$. 더하기 곱하기등의 연산은 없지만, 사람이 있고 몸무게를 정의할수 있다면 그것이 measure space입니다."
   ]
  },
  {
   "cell_type": "markdown",
   "metadata": {},
   "source": [
    "## Probability\n",
    "\n",
    "확률은 measure입니다. $\\mu(U)=1$이라는 성질을 가지는 normalize measure입니다.\n",
    "- $\\Omega$ : Set, Sample space\n",
    "- 이 set안에 있는 면적이 measure입니다.\n",
    "- 주사위에서 숫자 1이 나올 면적 = 1/6\n",
    "- $\\mu = P$\n",
    "- $P(1)$ = 주사위 1,2,3 실제 관측값이 아니다. Sample space에서 결정된 measure 일 뿐이다."
   ]
  },
  {
   "cell_type": "markdown",
   "metadata": {},
   "source": [
    "![](./images/proba.png)"
   ]
  },
  {
   "cell_type": "markdown",
   "metadata": {},
   "source": [
    "#### Random experiment\n",
    "- Outcome\n",
    "    - Random experiment에서 나오는 실제 관측 가능한 값들, 예를 들면 주사위를 던져서 나오는 1~6\n",
    "    - Outcome은 sample space가 아닙니다. Sample space에서 무언가가 정해지면 outcome 이 나오는 것입니다. $Sample space\\ne outcome$\n",
    "- Sample point (element)\n",
    "    - outcome을 이야기하는 어떤 Sample space의 point 입니다."
   ]
  },
  {
   "cell_type": "markdown",
   "metadata": {},
   "source": [
    "#### Probability allocation function"
   ]
  },
  {
   "cell_type": "markdown",
   "metadata": {},
   "source": [
    "![](./images/proba2.png)"
   ]
  },
  {
   "cell_type": "markdown",
   "metadata": {},
   "source": [
    "#### Conditional probability"
   ]
  },
  {
   "cell_type": "markdown",
   "metadata": {},
   "source": [
    "## RandomVariable\n",
    "\n",
    "우리에게 관측된 실수로 보내는 함수가 RandomVariable입니다. 확률은 set function입니다. set에 면적을 부여할수 있는 것이 바로 확률입니다. 하지만 확률변수는 real-value function 입니다. Set에서 하나의 원소가 observation space로 가는 함수인 것이죠. 주사위가 관측되는건 1~6까지 숫자입니다. Sample space의 공간을 1/6로 잘라서, 그 공간에 들어가면 1이 나오는것이죠. 이것이 바로 random variable입니다.  \n",
    "\n",
    "수학적으로 확률변수(random variable)은 표본 공간(sample space)를 정의역으로 가지고 실수를 공역을 가지는 함수로 정의한다. \n",
    "- 표본 공간의 모든 표본에 대해 어떤 실수 값이 있는 것!\n",
    "- 표본 공간 -> 실수값을 대입하고 -> 이떄 확률을 지정해준다!\n",
    "\n",
    "#### 우리가 어떠한 실수값을 알때, 그때의 사건이 궁금하다 (Sample space의 면적)\n",
    "\n",
    "- 확률 : Sample space에 정의된 set function, Sample space의 면적\n",
    "- 확률변수 : Sample space가 실수로 가는 real value function 입니다. \n",
    "    - 여기서 random은 sample space에서 뭔가를 뽑는게 random이다.\n",
    "- random experience : 사건이 발생하는 행위, 주사위를 던진다.\n",
    "    - Realization : 샘플링을 하는 것\n",
    "- Alphabet : 샘플링으로 나올수 있는 전체집합."
   ]
  },
  {
   "cell_type": "markdown",
   "metadata": {},
   "source": [
    "![](./images/RV.png)"
   ]
  },
  {
   "cell_type": "markdown",
   "metadata": {},
   "source": [
    "\n",
    "### 연속과 이산?\n",
    "\n",
    "- 이산(불연속) : 유한개의 값 또는 셀수있는 값으로 구성환 확률 변수\n",
    "- 연속(연속) : 연속적인 값을 갖는 확률변수"
   ]
  },
  {
   "cell_type": "markdown",
   "metadata": {},
   "source": [
    "### 확률 질량 함수 (pmf)\n",
    "\n",
    "이산 확률 변수 X가 취할 수 있는 값 X_1~ X_n의 각각에 확률을 대응시켜주는 관계를 확률 질량 함수라고 한다"
   ]
  },
  {
   "cell_type": "code",
   "execution_count": 2,
   "metadata": {},
   "outputs": [
    {
     "data": {
      "text/plain": [
       "<function matplotlib.pyplot.show(*args, **kw)>"
      ]
     },
     "execution_count": 2,
     "metadata": {},
     "output_type": "execute_result"
    },
    {
     "data": {
      "image/png": "[encoded data removed]",
      "text/plain": [
       "<Figure size 432x288 with 1 Axes>"
      ]
     },
     "metadata": {
      "needs_background": "light"
     },
     "output_type": "display_data"
    }
   ],
   "source": [
    "x = np.arange(1,7)\n",
    "y = np.array([0.0, 0.1, 0.1, 0.2, 0.2, 0.4])\n",
    "plt.stem(x, y)\n",
    "plt.xlim(0, 7)\n",
    "plt.ylim(-0.01, 0.5)\n",
    "plt.show"
   ]
  },
  {
   "cell_type": "markdown",
   "metadata": {},
   "source": [
    "## 누적 분포 함수 cdf\n",
    "\n",
    "그래서 확률을 어떻게 정의할 껀데?\n",
    "__사건 공간__과 __확률 변수__ 사이의 관계를 잡아보자!\n",
    "\n",
    "- 확률 분포중에 사건 인터벌을 쓰자!\n",
    "$$\n",
    "P(\\{ a \\leq x < b \\}) = P(a, b)\n",
    "$$\n",
    "\n",
    "<br/>\n",
    "- 확률 분포중에서 하나의 값만 쓰고 싶다면? inf 를 쓰자!\n",
    "$$\n",
    "P(\\{ a \\leq x < b \\}) = P(\\{ -\\infty \\leq x < b \\}) - P(\\{ -\\infty \\leq x < a \\})\n",
    "$$\n",
    "\n",
    "<br/>\n",
    "- CDF : 확률 변수가 $-\\infty$ 와 $x$ 사이에 존재할 확률\n",
    "$$\n",
    "F(x) = P(\\{X < x\\})\n",
    "$$"
   ]
  },
  {
   "cell_type": "code",
   "execution_count": 3,
   "metadata": {},
   "outputs": [
    {
     "data": {
      "image/png": "[encoded data removed]",
      "text/plain": [
       "<Figure size 432x288 with 1 Axes>"
      ]
     },
     "metadata": {
      "needs_background": "light"
     },
     "output_type": "display_data"
    }
   ],
   "source": [
    "t = np.linspace(-100, 500, 100)\n",
    "F = t / 360\n",
    "F[t < 0] = 0\n",
    "F[t > 360] = 1\n",
    "plt.plot(t, F)\n",
    "plt.ylim(-0.1, 1.1)\n",
    "plt.xticks([0, 180, 360])\n",
    "plt.title(\"Cumulative Distribution Function\")\n",
    "plt.xlabel(\"$x$ (deg.)\")\n",
    "plt.ylabel(\"$F(x)$\")\n",
    "plt.show()"
   ]
  },
  {
   "cell_type": "markdown",
   "metadata": {},
   "source": [
    "## 확률 밀도 함수 pdf\n",
    "\n",
    "- 누적 분포 함수는 확률 분포를 함수의 형태로 바꿔준다. (input에 대해 output이 확률로 나온다!)\n",
    "- 그런데 절대적인 확률이 아니라 상대적인 확률 분포 형태를 보고싶은데??\n",
    "- 왜? 어떤 확률 변수값이 더 잘 나오는지에 대한 정보가 의사결정에 중요하다고!\n",
    "- 그렇다면 공간을 확률로 만들자!\n",
    "\n",
    "$$\n",
    "\\int_{-\\infty}^{\\infty} f(u)du = 1\n",
    "$$\n",
    "<br>\n",
    "\n",
    "개별 확률 분포값은!\n",
    "$$\n",
    "F(x) = \\int_{-\\infty}^{x} f(u) du\n",
    "$$"
   ]
  },
  {
   "cell_type": "code",
   "execution_count": 4,
   "metadata": {},
   "outputs": [
    {
     "data": {
      "image/png": "[encoded data removed]",
      "text/plain": [
       "<Figure size 432x288 with 1 Axes>"
      ]
     },
     "metadata": {
      "needs_background": "light"
     },
     "output_type": "display_data"
    }
   ],
   "source": [
    "t = np.linspace(-100, 500, 1000)\n",
    "F = t / 360\n",
    "F[t < 0] = 0\n",
    "F[t > 360] = 1\n",
    "f = np.gradient(F, 600/1000)  # 수치미분\n",
    "plt.plot(t, f)\n",
    "plt.ylim(-0.0001, f.max()*1.1)\n",
    "plt.xticks([0, 180, 360])\n",
    "plt.title(\"Probability Density Function\")\n",
    "plt.xlabel(\"$x$ (deg.)\")\n",
    "plt.ylabel(\"$f(x)$\")\n",
    "plt.show()"
   ]
  },
  {
   "cell_type": "markdown",
   "metadata": {},
   "source": [
    "## Expectation (기대값)\n",
    "\n",
    "- element랑 확률값을 곱해서 Summation 합니다."
   ]
  },
  {
   "cell_type": "markdown",
   "metadata": {},
   "source": [
    "## Conditional Expectation\n",
    "\n",
    "Conditional expectation E(X|Y)\n",
    "- 확률변수 $X$의 기대값은 $E(X)$ 다음과 같은 수식으로 $E(X) = \\int{x f_{X}}(x)dx$ 로 결정된 값이다.\n",
    "- $E(X|Y)$ 조건부 기대값은 Y라는 random variable에 대한 함수가 된다.\n",
    "- 각각의 y에 대해서, $E(X|Y)$ 은 $Y = y$ 일때의 X의 평균으로 말할 수 있다.\n",
    "- X는 fix, y는 conditioning 되어있다.\n",
    "\n",
    "의미\n",
    "- 확률을 이야기하려면, $\\sigma$-field를 고려해야한다.\n",
    "- 문제는 x,y가 $\\sigma$-field가 다르기 떄문에 이제 measure를 정의하기가 힘들다.\n",
    "- 그렇다면 y의 sample space의 measure를 기반으로 x를 정의하게 된다. \n",
    "- y의 space가 더 잘게 나눠져있다면 = class의 숫자가 더 많다면, x를 더 잘 표현할 수 있다. \n",
    "    - x는 관심 변수, y는 가지고 있는 데이터"
   ]
  },
  {
   "cell_type": "markdown",
   "metadata": {},
   "source": [
    "![](./images/condiprob.png)"
   ]
  },
  {
   "cell_type": "markdown",
   "metadata": {},
   "source": [
    "## Moment\n",
    "\n",
    "- 외도(Skewness) : 평균과의 거리의 세제곱을 이용하여 구한 특징값은 왜도이다 | 대칭성을 보고싶을때 구한다\n",
    "- 첨도(Kurtosis) : 평균과의 거리의 네제곱을 이용하여 구한 특징값을 첨도라고한다 | 데이터가 중앙에 몰려있는지를 보고싶을때 쓴다.\n",
    "- 모멘트(Moment) : 고차의 제곱을 통해 구하는 특징값이다. 평균은 1차 모멘트, 분산은 2차 모멘트, 왜도와 첨도는 3,4차 모멘트이다\n",
    "$$\n",
    "\\begin{eqnarray}\n",
    "평균 : \\text{E}[X] &=& \\text{E}[Y] \\\\\n",
    "분산 : \\text{E}[(X-\\mu_X)^2] &=& \\text{E}[(Y-\\mu_Y)^2] \\\\\n",
    "왜도 : \\text{E}[(X-\\mu_X)^3] &=& \\text{E}[(Y-\\mu_Y)^3] \\\\\n",
    "첨도 : \\text{E}[(X-\\mu_X)^4] &=& \\text{E}[(Y-\\mu_Y)^4] \\\\\n",
    "\\text{E}[(X-\\mu_X)^5] &=& \\text{E}[(Y-\\mu_Y)^5] \\\\\n",
    "\\vdots &=& \\vdots \\\\\n",
    "\\end{eqnarray}\n",
    "$$"
   ]
  },
  {
   "cell_type": "markdown",
   "metadata": {},
   "source": [
    "## Joint Moment\n",
    "\n",
    "__확률 변수를 하나만 가지고 놀다가 이제 2개로 가보자!__\n",
    "\n",
    "- correlation : $E(X,Y)$\n",
    "- covariance : $s_{xy} = \\dfrac{1}{N}\\sum_{i=1}^{N} (x_i-m_x)(y_i-m_y)$\n",
    "    - 자료가 평균값으로부터 얼마나 떨어져 있는가?에 관한 크기(분산에도 나와있음)과 방향성\n",
    "- correlation coefficient $r_{xy} = \\dfrac{s_{xy}}{\\sqrt{s^2_{x} \\cdot s^2_{y}}}$\n",
    "    - 방향성 만을 분리해서 보는것, 공분산을 샘플 표준편차로 정규화하여 정의합니다.\n",
    "- uncorrelated $E(X, Y)$ = $E(X)E(Y)$\n",
    "    - independent $\\Rightarrow$ uncorrelated\n",
    "    - uncorrelated $\\not\\Rightarrow$ independent\n",
    "- orthogonal $E(X,Y)$ = 0\n",
    "\n",
    "두 개 이상의 서로 관련을 가지는 자료 값의 집합이나 혹은 확률 변수들의 결합 분포는 결합확률 분포로 나타납니다! 하나가 움직일때 같이 움직이니까! 다변수 확률 변수도, 단변수 경우처럼 평균, 분산과 같은 대표값을 가질 수 있다. 그 중 가장 중요한 것이 자료 간의 상관 관계를 나타내는 공분산(covariance)과 상관계수(correlation coefficient)이다. 공분산과 상관계수도 샘플 자료 집합에 대해 정의되는 샘플 공분산, 샘플 상관계수와, 확률 변수에 대해 정의되는 공분산, 상관계수가 있습니다.\n",
    "\n",
    "### Sample 공분산\n",
    "\n",
    "$$\n",
    "s_{xy} = \\dfrac{1}{N}\\sum_{i=1}^{N} (x_i-m_x)(y_i-m_y)\n",
    "$$\n",
    "\n",
    "샘플 공분산(sample covariance)은 다음과 같이 정의된다. 여기에서  xi 와  yi 는 각각  i 번째의  x  자료와  y 자료의 값을 가리키고,  $m_x$ 와  $m_y$ 는  $x$  자료와  $y$ 자료의 샘플 평균을 가리킨다.\n",
    "\n",
    "- 즉 자료가 평균값(전체의 대표)와 얼마나 떨어져 있는지를 나타낸 것!\n",
    "- 자료들의 크기와 방향성을 같이 보여준다.\n",
    "\n",
    "### 샘플 상관계수 (sample correlation coefficient)\n",
    "\n",
    "- 크기가 오히려 방해가 될때는 정규화하여(normalize) 방향성만 한번 보자!\n",
    "- Pearson 상관계수!\n",
    "$$\n",
    "r_{xy} = \\dfrac{s_{xy}}{\\sqrt{s^2_{x} \\cdot s^2_{y}}}\n",
    "$$\n",
    "\n",
    "- 확률변수의 상관계수는 -1~1의 관계를 가진다\n",
    "    - 1 : 완전 선형 상관관계\n",
    "    - 0 : 무상관 (독립은 아니다!)\n",
    "    - -1 : 완전 선형 반 상관관계"
   ]
  },
  {
   "cell_type": "code",
   "execution_count": null,
   "metadata": {},
   "outputs": [],
   "source": []
  }
 ],
 "metadata": {
  "kernelspec": {
   "display_name": "python3.6",
   "language": "python",
   "name": "python3.6"
  },
  "language_info": {
   "codemirror_mode": {
    "name": "ipython",
    "version": 3
   },
   "file_extension": ".py",
   "mimetype": "text/x-python",
   "name": "python",
   "nbconvert_exporter": "python",
   "pygments_lexer": "ipython3",
   "version": "3.6.6"
  }
 },
 "nbformat": 4,
 "nbformat_minor": 2
}
