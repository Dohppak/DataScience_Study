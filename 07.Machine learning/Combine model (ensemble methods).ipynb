{
 "cells": [
  {
   "cell_type": "markdown",
   "metadata": {},
   "source": [
    "# Model combining (ensemble methods)\n",
    "복수의 예측모형을 결합하여 __더 나은 성능__을 예측을 하려는 시도이다.\n",
    "<br/>\n",
    "모형 결합 방법을 사용하며 일반적으로 __계산량을 증가__하지만 다음과 같은 효과가 있다.\n",
    " - 단일 모형사용할때 보다 성능 __분산이 감소__하고, 과최적화를 방지한다\n",
    " - 개별모형의 성능이 안좋을 경우에 결합 모형의 성능이 향상된다.\n",
    " - Aggregation 과 Boosting 으로 나뉘어진다\n"
   ]
  },
  {
   "cell_type": "markdown",
   "metadata": {},
   "source": [
    "## Aggregation 과 Boosting 의 차이\n",
    "\n",
    "- Aggregation : 사용할 모형이 결정되어있다.\n",
    "- Boosting : 사용할 모형을 점진적으로 늘려간다."
   ]
  },
  {
   "cell_type": "markdown",
   "metadata": {},
   "source": [
    "### Aggregation (Bagging)\n",
    "- 사용할 모형의 집합이 결정되어 있다.\n",
    "- Bagging\n",
    "- Model Averaging : Mean value (Regression)\n",
    "- voting : The most frequency (Classfication : we can change probability)\n",
    "    - Hard voting : 단순 투표, 개별 모형의 결과 기준\n",
    "    - Soft voting : 가중치 투표, 개별 모형의 조건부 확률 합 기준\n",
    "- Random Forest\n"
   ]
  },
  {
   "cell_type": "markdown",
   "metadata": {
    "collapsed": true
   },
   "source": [
    "### Bagging (Bootstraping Aggregation)\n",
    "\n",
    "- 동일한 모형과 모형 모수를 사용하는 대신, 트레이닝 데이터를 랜덤하게 선택해서 다수결 모형을 적용한다.\n",
    "    - Same data sample with Replacement : Bagging\n",
    "    - Same data sample without Replacement : Pasting\n",
    "    - Select $X variable$ : Random Subspaces\n",
    "    - Select $ \\text{X varaible&Data sample}$ : Random patches"
   ]
  },
  {
   "cell_type": "markdown",
   "metadata": {
    "collapsed": true
   },
   "source": [
    "\n",
    "### Describtion\n",
    "- bootstrap sample is chosen at random with replacement from the data. \n",
    "- Bagging reduces the variance of the base learner but has limited effect on the bias.\n",
    "- Bootstrap : random sampling\n",
    "- Fit classification or regression models to bootstrap samples from the data and combine by voting (classification) or averaging (regression). "
   ]
  },
  {
   "cell_type": "markdown",
   "metadata": {
    "collapsed": true
   },
   "source": [
    "## 다수결 방법론\n",
    "\n",
    "- hard voting : 단순투표, 개별 모형의 결과 기준\n",
    "- soft voting : 가중치 투표, 개별 모형의 조건부 확률 합 기준"
   ]
  },
  {
   "cell_type": "code",
   "execution_count": 8,
   "metadata": {
    "collapsed": true
   },
   "outputs": [],
   "source": [
    "from sklearn.ensemble import VotingClassifier\n",
    "import numpy as np\n",
    "import pandas as pd\n",
    "import scipy.stats as sp\n",
    "from matplotlib import pyplot as plt\n",
    "%matplotlib inline"
   ]
  },
  {
   "cell_type": "markdown",
   "metadata": {},
   "source": [
    "#### Scikit-Learn 의 ensemble 패키지\n",
    "\n",
    "__sklearn.ensemble.VotingClassifier(estimators, voting='hard', weights=None)__\n",
    "\n",
    "- estimators :\n",
    "    - 개별 모형 목록, 리스트나 named parameter 형식으로 입력\n",
    "- voting : 문자열 {‘hard’, ‘soft’} (디폴트 ’hard’)\n",
    "    - hard voting 과 soft voting 선택\n",
    "- weights : 리스트\n",
    "    - 사용자 가중치"
   ]
  },
  {
   "cell_type": "code",
   "execution_count": 9,
   "metadata": {},
   "outputs": [
    {
     "data": {
      "image/png": "[encoded data removed]",
      "text/plain": [
       "<matplotlib.figure.Figure at 0x1a10df7c18>"
      ]
     },
     "metadata": {},
     "output_type": "display_data"
    }
   ],
   "source": [
    "X = np.array([[-1, -1], [-1.5, -1.5], [1, -0.5], \n",
    "              [-3.5, -2.5], [0, 1], [1, 1.5], [-2, -0.5]])\n",
    "y = np.array([1, 1, 1, 2, 2, 2, 2])\n",
    "\n",
    "plt.scatter(X[y==1,0], X[y==1,1], s=100, marker='o', c='r')\n",
    "plt.scatter(X[y==2,0], X[y==2,1], s=100, marker='x', c='b')\n",
    "\n",
    "x_new = [0.5, 0]\n",
    "\n",
    "plt.scatter(x_new[0], x_new[1], s=100, marker='^', c='g')\n",
    "plt.show()"
   ]
  },
  {
   "cell_type": "code",
   "execution_count": 10,
   "metadata": {},
   "outputs": [
    {
     "data": {
      "image/png": "[encoded data removed]",
      "text/plain": [
       "<matplotlib.figure.Figure at 0x1a192c9630>"
      ]
     },
     "metadata": {},
     "output_type": "display_data"
    }
   ],
   "source": [
    "from sklearn.linear_model import LogisticRegression\n",
    "from sklearn.naive_bayes import GaussianNB\n",
    "from sklearn.discriminant_analysis import QuadraticDiscriminantAnalysis\n",
    "\n",
    "model1 = LogisticRegression(random_state=1)\n",
    "model2 = QuadraticDiscriminantAnalysis()\n",
    "model3 = GaussianNB()\n",
    "ensemble = VotingClassifier(estimators=[('lr', model1), ('qda', model2), ('gnb', model3)], \n",
    "                            voting='soft', weights=[1, 1, 2])\n",
    "\n",
    "probas = [c.fit(X, y).predict_proba([x_new]) for c in (model1, model2, model3, ensemble)]\n",
    "class1_1 = [pr[0, 0] for pr in probas]\n",
    "class2_1 = [pr[0, 1] for pr in probas]\n",
    "\n",
    "ind = np.arange(4)\n",
    "width = 0.35  # bar width\n",
    "p1 = plt.bar(ind, np.hstack(([class1_1[:-1], [0]])), width, color='green')\n",
    "p2 = plt.bar(ind + width, np.hstack(([class2_1[:-1], [0]])), width, color='lightgreen')\n",
    "p3 = plt.bar(ind, [0, 0, 0, class1_1[-1]], width, color='blue')\n",
    "p4 = plt.bar(ind + width, [0, 0, 0, class2_1[-1]], width, color='steelblue')\n",
    "\n",
    "plt.xticks(ind + 0.5 * width, ['LogisticRegression\\nweight 1',\n",
    "                               'QDA\\nweight 1',\n",
    "                               'GaussianNB\\nweight 2',\n",
    "                               'VotingClassifier'])\n",
    "plt.ylim([0, 1.1])\n",
    "plt.title('Class probabilities for sample 1 by different classifiers')\n",
    "plt.legend([p1[0], p2[0]], ['class 1', 'class 2'], loc='upper left')\n",
    "plt.show()"
   ]
  },
  {
   "cell_type": "markdown",
   "metadata": {},
   "source": [
    "## Boosting 과 Gradient Boosting"
   ]
  },
  {
   "cell_type": "code",
   "execution_count": null,
   "metadata": {
    "collapsed": true
   },
   "outputs": [],
   "source": []
  }
 ],
 "metadata": {
  "kernelspec": {
   "display_name": "Python 3",
   "language": "python",
   "name": "python3"
  },
  "language_info": {
   "codemirror_mode": {
    "name": "ipython",
    "version": 3
   },
   "file_extension": ".py",
   "mimetype": "text/x-python",
   "name": "python",
   "nbconvert_exporter": "python",
   "pygments_lexer": "ipython3",
   "version": "3.6.3"
  }
 },
 "nbformat": 4,
 "nbformat_minor": 2
}
