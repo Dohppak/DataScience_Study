{
 "cells": [
  {
   "cell_type": "code",
   "execution_count": 553,
   "metadata": {
    "collapsed": true
   },
   "outputs": [],
   "source": [
    "import numpy as np # linear algebra\n",
    "import pandas as pd # data processing, CSV file I/O (e.g. pd.read_csv)\n",
    "import os\n",
    "import gc\n",
    "import matplotlib.pyplot as plt\n",
    "import seaborn as sns\n",
    "%matplotlib inline\n",
    "\n",
    "from sklearn.svm import LinearSVC\n",
    "from sklearn.model_selection import GridSearchCV, cross_val_score\n",
    "from sklearn.metrics import make_scorer, fbeta_score, classification_report, roc_auc_score, confusion_matrix, roc_curve, auc\n",
    "import warnings\n",
    "warnings.filterwarnings(\"ignore\")"
   ]
  },
  {
   "cell_type": "markdown",
   "metadata": {},
   "source": [
    "## Problem 1 SVM\n",
    "\n",
    "- Classify the following training samples for 10 objects using linear SVM based on C=1."
   ]
  },
  {
   "cell_type": "code",
   "execution_count": 554,
   "metadata": {
    "collapsed": true
   },
   "outputs": [],
   "source": [
    "from sklearn.metrics.pairwise import linear_kernel,pairwise_kernels,rbf_kernel,polynomial_kernel"
   ]
  },
  {
   "cell_type": "code",
   "execution_count": 555,
   "metadata": {
    "collapsed": true
   },
   "outputs": [],
   "source": [
    "X1 = [5,4,7,8,3,2,6,9,5,7]\n",
    "X2 = [7,3,8,6,6,5,6,6,4,6]\n",
    "Y = [1,-1,1,-1,-1,-1,1,1,-1,1]"
   ]
  },
  {
   "cell_type": "code",
   "execution_count": 556,
   "metadata": {
    "collapsed": true
   },
   "outputs": [],
   "source": [
    "plot_X = np.array([X1,X2])"
   ]
  },
  {
   "cell_type": "code",
   "execution_count": 557,
   "metadata": {},
   "outputs": [
    {
     "data": {
      "text/plain": [
       "array([[5, 4, 7, 8, 3, 2, 6, 9, 5, 7],\n",
       "       [7, 3, 8, 6, 6, 5, 6, 6, 4, 6]])"
      ]
     },
     "execution_count": 557,
     "metadata": {},
     "output_type": "execute_result"
    }
   ],
   "source": [
    "plot_X"
   ]
  },
  {
   "cell_type": "code",
   "execution_count": 558,
   "metadata": {},
   "outputs": [
    {
     "data": {
      "text/plain": [
       "array([ 1, -1,  1, -1, -1, -1,  1,  1, -1,  1])"
      ]
     },
     "execution_count": 558,
     "metadata": {},
     "output_type": "execute_result"
    }
   ],
   "source": [
    "plot_Y = np.array(Y)\n",
    "plot_Y"
   ]
  },
  {
   "cell_type": "code",
   "execution_count": 559,
   "metadata": {},
   "outputs": [
    {
     "data": {
      "text/html": [
       "<div>\n",
       "<style scoped>\n",
       "    .dataframe tbody tr th:only-of-type {\n",
       "        vertical-align: middle;\n",
       "    }\n",
       "\n",
       "    .dataframe tbody tr th {\n",
       "        vertical-align: top;\n",
       "    }\n",
       "\n",
       "    .dataframe thead th {\n",
       "        text-align: right;\n",
       "    }\n",
       "</style>\n",
       "<table border=\"1\" class=\"dataframe\">\n",
       "  <thead>\n",
       "    <tr style=\"text-align: right;\">\n",
       "      <th></th>\n",
       "      <th>X1</th>\n",
       "      <th>X2</th>\n",
       "      <th>Y</th>\n",
       "    </tr>\n",
       "  </thead>\n",
       "  <tbody>\n",
       "    <tr>\n",
       "      <th>1</th>\n",
       "      <td>5</td>\n",
       "      <td>7</td>\n",
       "      <td>1</td>\n",
       "    </tr>\n",
       "    <tr>\n",
       "      <th>2</th>\n",
       "      <td>4</td>\n",
       "      <td>3</td>\n",
       "      <td>-1</td>\n",
       "    </tr>\n",
       "    <tr>\n",
       "      <th>3</th>\n",
       "      <td>7</td>\n",
       "      <td>8</td>\n",
       "      <td>1</td>\n",
       "    </tr>\n",
       "    <tr>\n",
       "      <th>4</th>\n",
       "      <td>8</td>\n",
       "      <td>6</td>\n",
       "      <td>-1</td>\n",
       "    </tr>\n",
       "    <tr>\n",
       "      <th>5</th>\n",
       "      <td>3</td>\n",
       "      <td>6</td>\n",
       "      <td>-1</td>\n",
       "    </tr>\n",
       "    <tr>\n",
       "      <th>6</th>\n",
       "      <td>2</td>\n",
       "      <td>5</td>\n",
       "      <td>-1</td>\n",
       "    </tr>\n",
       "    <tr>\n",
       "      <th>7</th>\n",
       "      <td>6</td>\n",
       "      <td>6</td>\n",
       "      <td>1</td>\n",
       "    </tr>\n",
       "    <tr>\n",
       "      <th>8</th>\n",
       "      <td>9</td>\n",
       "      <td>6</td>\n",
       "      <td>1</td>\n",
       "    </tr>\n",
       "    <tr>\n",
       "      <th>9</th>\n",
       "      <td>5</td>\n",
       "      <td>4</td>\n",
       "      <td>-1</td>\n",
       "    </tr>\n",
       "    <tr>\n",
       "      <th>10</th>\n",
       "      <td>7</td>\n",
       "      <td>6</td>\n",
       "      <td>1</td>\n",
       "    </tr>\n",
       "  </tbody>\n",
       "</table>\n",
       "</div>"
      ],
      "text/plain": [
       "    X1  X2  Y\n",
       "1    5   7  1\n",
       "2    4   3 -1\n",
       "3    7   8  1\n",
       "4    8   6 -1\n",
       "5    3   6 -1\n",
       "6    2   5 -1\n",
       "7    6   6  1\n",
       "8    9   6  1\n",
       "9    5   4 -1\n",
       "10   7   6  1"
      ]
     },
     "execution_count": 559,
     "metadata": {},
     "output_type": "execute_result"
    }
   ],
   "source": [
    "data = {\n",
    "     'X1': [5,4,7,8,3,2,6,9,5,7],\n",
    "     'X2': [7,3,8,6,6,5,6,6,4,6],\n",
    "     'Y': [1,-1,1,-1,-1,-1,1,1,-1,1],\n",
    "}\n",
    "columns = [\"X1\", \"X2\", \"Y\"]\n",
    "index = [1,2,3,4,5,6,7,8,9,10]\n",
    "df = pd.DataFrame(data, index=index, columns=columns)\n",
    "df"
   ]
  },
  {
   "cell_type": "code",
   "execution_count": 561,
   "metadata": {
    "collapsed": true
   },
   "outputs": [],
   "source": [
    "df1 = df.head()"
   ]
  },
  {
   "cell_type": "code",
   "execution_count": 464,
   "metadata": {},
   "outputs": [
    {
     "data": {
      "text/plain": [
       "1     1\n",
       "2    -1\n",
       "3     1\n",
       "4    -1\n",
       "5    -1\n",
       "6    -1\n",
       "7     1\n",
       "8     1\n",
       "9    -1\n",
       "10    1\n",
       "Name: Y, dtype: int64"
      ]
     },
     "execution_count": 464,
     "metadata": {},
     "output_type": "execute_result"
    }
   ],
   "source": [
    "Y = df['Y']\n",
    "df.drop(['Y'], axis=1, inplace=True)\n",
    "Y"
   ]
  },
  {
   "cell_type": "code",
   "execution_count": 465,
   "metadata": {},
   "outputs": [
    {
     "data": {
      "text/html": [
       "<div>\n",
       "<style scoped>\n",
       "    .dataframe tbody tr th:only-of-type {\n",
       "        vertical-align: middle;\n",
       "    }\n",
       "\n",
       "    .dataframe tbody tr th {\n",
       "        vertical-align: top;\n",
       "    }\n",
       "\n",
       "    .dataframe thead th {\n",
       "        text-align: right;\n",
       "    }\n",
       "</style>\n",
       "<table border=\"1\" class=\"dataframe\">\n",
       "  <thead>\n",
       "    <tr style=\"text-align: right;\">\n",
       "      <th></th>\n",
       "      <th>X1</th>\n",
       "      <th>X2</th>\n",
       "    </tr>\n",
       "  </thead>\n",
       "  <tbody>\n",
       "    <tr>\n",
       "      <th>1</th>\n",
       "      <td>5</td>\n",
       "      <td>7</td>\n",
       "    </tr>\n",
       "    <tr>\n",
       "      <th>2</th>\n",
       "      <td>4</td>\n",
       "      <td>3</td>\n",
       "    </tr>\n",
       "    <tr>\n",
       "      <th>3</th>\n",
       "      <td>7</td>\n",
       "      <td>8</td>\n",
       "    </tr>\n",
       "    <tr>\n",
       "      <th>4</th>\n",
       "      <td>8</td>\n",
       "      <td>6</td>\n",
       "    </tr>\n",
       "    <tr>\n",
       "      <th>5</th>\n",
       "      <td>3</td>\n",
       "      <td>6</td>\n",
       "    </tr>\n",
       "    <tr>\n",
       "      <th>6</th>\n",
       "      <td>2</td>\n",
       "      <td>5</td>\n",
       "    </tr>\n",
       "    <tr>\n",
       "      <th>7</th>\n",
       "      <td>6</td>\n",
       "      <td>6</td>\n",
       "    </tr>\n",
       "    <tr>\n",
       "      <th>8</th>\n",
       "      <td>9</td>\n",
       "      <td>6</td>\n",
       "    </tr>\n",
       "    <tr>\n",
       "      <th>9</th>\n",
       "      <td>5</td>\n",
       "      <td>4</td>\n",
       "    </tr>\n",
       "    <tr>\n",
       "      <th>10</th>\n",
       "      <td>7</td>\n",
       "      <td>6</td>\n",
       "    </tr>\n",
       "  </tbody>\n",
       "</table>\n",
       "</div>"
      ],
      "text/plain": [
       "    X1  X2\n",
       "1    5   7\n",
       "2    4   3\n",
       "3    7   8\n",
       "4    8   6\n",
       "5    3   6\n",
       "6    2   5\n",
       "7    6   6\n",
       "8    9   6\n",
       "9    5   4\n",
       "10   7   6"
      ]
     },
     "execution_count": 465,
     "metadata": {},
     "output_type": "execute_result"
    }
   ],
   "source": [
    "X=df\n",
    "X"
   ]
  },
  {
   "cell_type": "code",
   "execution_count": 562,
   "metadata": {},
   "outputs": [
    {
     "data": {
      "text/plain": [
       "array([[ 75.,  40.,  92.,  81.,  56.],\n",
       "       [ 40.,  26.,  51.,  51.,  31.],\n",
       "       [ 92.,  51., 114., 103.,  68.],\n",
       "       [ 81.,  51., 103., 101.,  61.],\n",
       "       [ 56.,  31.,  68.,  61.,  46.]])"
      ]
     },
     "execution_count": 562,
     "metadata": {},
     "output_type": "execute_result"
    }
   ],
   "source": [
    "pairwise_kernels(df1)"
   ]
  },
  {
   "cell_type": "code",
   "execution_count": 563,
   "metadata": {},
   "outputs": [
    {
     "data": {
      "text/plain": [
       "array([[ 75.,  40.,  92.,  81.,  56.],\n",
       "       [ 40.,  26.,  51.,  51.,  31.],\n",
       "       [ 92.,  51., 114., 103.,  68.],\n",
       "       [ 81.,  51., 103., 101.,  61.],\n",
       "       [ 56.,  31.,  68.,  61.,  46.]])"
      ]
     },
     "execution_count": 563,
     "metadata": {},
     "output_type": "execute_result"
    }
   ],
   "source": [
    "linear_kernel(df1)"
   ]
  },
  {
   "cell_type": "code",
   "execution_count": 564,
   "metadata": {},
   "outputs": [
    {
     "data": {
      "text/plain": [
       "array([[26.        , 14.33333333, 31.66666667, 28.        , 19.66666667],\n",
       "       [14.33333333,  9.66666667, 18.        , 18.        , 11.33333333],\n",
       "       [31.66666667, 18.        , 39.        , 35.33333333, 23.66666667],\n",
       "       [28.        , 18.        , 35.33333333, 34.66666667, 21.33333333],\n",
       "       [19.66666667, 11.33333333, 23.66666667, 21.33333333, 16.33333333]])"
      ]
     },
     "execution_count": 564,
     "metadata": {},
     "output_type": "execute_result"
    }
   ],
   "source": [
    "polynomial_kernel(df1, degree=1)"
   ]
  },
  {
   "cell_type": "code",
   "execution_count": 565,
   "metadata": {},
   "outputs": [
    {
     "data": {
      "text/plain": [
       "array([[ 676.        ,  205.44444444, 1002.77777778,  784.        ,\n",
       "         386.77777778],\n",
       "       [ 205.44444444,   93.44444444,  324.        ,  324.        ,\n",
       "         128.44444444],\n",
       "       [1002.77777778,  324.        , 1521.        , 1248.44444444,\n",
       "         560.11111111],\n",
       "       [ 784.        ,  324.        , 1248.44444444, 1201.77777778,\n",
       "         455.11111111],\n",
       "       [ 386.77777778,  128.44444444,  560.11111111,  455.11111111,\n",
       "         266.77777778]])"
      ]
     },
     "execution_count": 565,
     "metadata": {},
     "output_type": "execute_result"
    }
   ],
   "source": [
    "polynomial_kernel(df1, degree=2)"
   ]
  },
  {
   "cell_type": "code",
   "execution_count": 566,
   "metadata": {},
   "outputs": [
    {
     "data": {
      "text/plain": [
       "array([[1.00000000e+00, 7.58256043e-10, 6.73794700e-03, 8.31528719e-07,\n",
       "        1.23409804e-04],\n",
       "       [7.58256043e-10, 1.00000000e+00, 3.13913279e-17, 1.38879439e-11,\n",
       "        4.53999298e-05],\n",
       "       [6.73794700e-03, 3.13913279e-17, 1.00000000e+00, 1.23409804e-04,\n",
       "        3.77513454e-11],\n",
       "       [8.31528719e-07, 1.38879439e-11, 1.23409804e-04, 1.00000000e+00,\n",
       "        1.38879439e-11],\n",
       "       [1.23409804e-04, 4.53999298e-05, 3.77513454e-11, 1.38879439e-11,\n",
       "        1.00000000e+00]])"
      ]
     },
     "execution_count": 566,
     "metadata": {},
     "output_type": "execute_result"
    }
   ],
   "source": [
    "rbf_kernel(df1, gamma=1)"
   ]
  },
  {
   "cell_type": "code",
   "execution_count": 567,
   "metadata": {},
   "outputs": [
    {
     "data": {
      "text/plain": [
       "SVC(C=1, cache_size=200, class_weight=None, coef0=0.0,\n",
       "  decision_function_shape='ovr', degree=3, gamma='auto', kernel='linear',\n",
       "  max_iter=-1, probability=False, random_state=None, shrinking=True,\n",
       "  tol=0.001, verbose=False)"
      ]
     },
     "execution_count": 567,
     "metadata": {},
     "output_type": "execute_result"
    }
   ],
   "source": [
    "from sklearn.svm import SVC\n",
    "\n",
    "svc = SVC(kernel='linear', C=1)\n",
    "svc.fit(df, Y)"
   ]
  },
  {
   "cell_type": "code",
   "execution_count": 568,
   "metadata": {},
   "outputs": [
    {
     "data": {
      "text/plain": [
       "array([3, 2], dtype=int32)"
      ]
     },
     "execution_count": 568,
     "metadata": {},
     "output_type": "execute_result"
    }
   ],
   "source": [
    "#클래스 별 서포터 개수\n",
    "svc.n_support_"
   ]
  },
  {
   "cell_type": "code",
   "execution_count": 569,
   "metadata": {},
   "outputs": [
    {
     "data": {
      "text/plain": [
       "array([3, 4, 8, 6, 9], dtype=int32)"
      ]
     },
     "execution_count": 569,
     "metadata": {},
     "output_type": "execute_result"
    }
   ],
   "source": [
    "#각 서포트의 인덱스\n",
    "svc.support_"
   ]
  },
  {
   "cell_type": "code",
   "execution_count": 570,
   "metadata": {},
   "outputs": [
    {
     "data": {
      "text/plain": [
       "array([[ 8.,  6., -1.],\n",
       "       [ 3.,  6., -1.],\n",
       "       [ 5.,  4., -1.],\n",
       "       [ 6.,  6.,  1.],\n",
       "       [ 7.,  6.,  1.]])"
      ]
     },
     "execution_count": 570,
     "metadata": {},
     "output_type": "execute_result"
    }
   ],
   "source": [
    "#서포트 백터들의 x값\n",
    "svc.support_vectors_"
   ]
  },
  {
   "cell_type": "code",
   "execution_count": 571,
   "metadata": {},
   "outputs": [
    {
     "data": {
      "text/plain": [
       "array([3, 4, 8, 6, 9], dtype=int32)"
      ]
     },
     "execution_count": 571,
     "metadata": {},
     "output_type": "execute_result"
    }
   ],
   "source": [
    "svc.support_"
   ]
  },
  {
   "cell_type": "code",
   "execution_count": 572,
   "metadata": {},
   "outputs": [
    {
     "data": {
      "image/png": "[encoded data removed]",
      "text/plain": [
       "<matplotlib.figure.Figure at 0x1a18d2b780>"
      ]
     },
     "metadata": {},
     "output_type": "display_data"
    }
   ],
   "source": [
    "plt.scatter(X1,X2, marker='o')\n",
    "plt.show()"
   ]
  },
  {
   "cell_type": "code",
   "execution_count": 573,
   "metadata": {
    "collapsed": true
   },
   "outputs": [],
   "source": [
    "X=plot_X.T"
   ]
  },
  {
   "cell_type": "code",
   "execution_count": 574,
   "metadata": {
    "collapsed": true
   },
   "outputs": [],
   "source": [
    "y=plot_Y.T"
   ]
  },
  {
   "cell_type": "code",
   "execution_count": 575,
   "metadata": {},
   "outputs": [
    {
     "data": {
      "image/png": "[encoded data removed]",
      "text/plain": [
       "<matplotlib.figure.Figure at 0x1a18f48e48>"
      ]
     },
     "metadata": {},
     "output_type": "display_data"
    }
   ],
   "source": [
    "plt.scatter(X[y == -1, 0], X[y == -1, 1], marker='o')\n",
    "plt.scatter(X[y == +1, 0], X[y == +1, 1], marker='x')\n",
    "plt.show()"
   ]
  },
  {
   "cell_type": "code",
   "execution_count": 576,
   "metadata": {
    "collapsed": true
   },
   "outputs": [],
   "source": [
    "xmin = X[:,0].min()\n",
    "xmax = X[:,0].max()\n",
    "ymin = X[:,1].min()\n",
    "ymax = X[:,1].max()\n",
    "xx = np.linspace(xmin, xmax, 10)\n",
    "yy = np.linspace(ymin, ymax, 10)\n",
    "X1, X2 = np.meshgrid(xx, yy)"
   ]
  },
  {
   "cell_type": "code",
   "execution_count": 580,
   "metadata": {},
   "outputs": [
    {
     "data": {
      "text/plain": [
       "array([8., 3., 5., 6., 7.])"
      ]
     },
     "execution_count": 580,
     "metadata": {},
     "output_type": "execute_result"
    }
   ],
   "source": [
    "svc.support_vectors_[:, 0]"
   ]
  },
  {
   "cell_type": "code",
   "execution_count": 581,
   "metadata": {},
   "outputs": [
    {
     "data": {
      "text/plain": [
       "array([6., 6., 4., 6., 6.])"
      ]
     },
     "execution_count": 581,
     "metadata": {},
     "output_type": "execute_result"
    }
   ],
   "source": [
    "svc.support_vectors_[:, 1]"
   ]
  },
  {
   "cell_type": "markdown",
   "metadata": {},
   "source": [
    "- Obtain a kernel matrix using Radial Basis Function (RBF, Gaussian) kernel based on σ^2=1.\n",
    "\n",
    "- (Hope you first clarify your RBF kernel equation because there are several ways to define RBF kernel.)"
   ]
  },
  {
   "cell_type": "code",
   "execution_count": 582,
   "metadata": {},
   "outputs": [
    {
     "data": {
      "text/plain": [
       "SVC(C=1, cache_size=200, class_weight=None, coef0=0.0,\n",
       "  decision_function_shape='ovr', degree=3, gamma='auto', kernel='linear',\n",
       "  max_iter=-1, probability=False, random_state=None, shrinking=True,\n",
       "  tol=0.001, verbose=False)"
      ]
     },
     "execution_count": 582,
     "metadata": {},
     "output_type": "execute_result"
    }
   ],
   "source": [
    "def plot_svm(X, y, model, title, xmin=1.5, xmax=10, ymin=2.5, ymax=9):\n",
    "    XX, YY = np.meshgrid(np.arange(xmin, xmax, (xmax-xmin)/1000), np.arange(ymin, ymax, (ymax-ymin)/1000))\n",
    "    ZZ = np.reshape(model.predict(np.array([XX.ravel(), YY.ravel()]).T), XX.shape)\n",
    "    plt.contourf(XX, YY, ZZ, cmap=plt.cm.Set1, alpha=0.5)\n",
    "    plt.scatter(X[y == -1, 0], X[y == -1, 1], marker='o')\n",
    "    plt.scatter(X[y == +1, 0], X[y == +1, 1], marker='x')\n",
    "    plt.xlim(xmin, xmax)\n",
    "    plt.ylim(ymin, ymax)\n",
    "    plt.title(title)\n",
    "    plt.show()\n",
    "    \n",
    "svc = SVC(kernel='linear', C=1)\n",
    "svc.fit(df, Y)"
   ]
  },
  {
   "cell_type": "code",
   "execution_count": 583,
   "metadata": {},
   "outputs": [
    {
     "ename": "ValueError",
     "evalue": "X.shape[1] = 2 should be equal to 3, the number of features at training time",
     "output_type": "error",
     "traceback": [
      "\u001b[0;31m---------------------------------------------------------------------------\u001b[0m",
      "\u001b[0;31mValueError\u001b[0m                                Traceback (most recent call last)",
      "\u001b[0;32m<ipython-input-583-092e5a900545>\u001b[0m in \u001b[0;36m<module>\u001b[0;34m()\u001b[0m\n\u001b[1;32m      1\u001b[0m \u001b[0mLinsvc\u001b[0m \u001b[0;34m=\u001b[0m \u001b[0mSVC\u001b[0m\u001b[0;34m(\u001b[0m\u001b[0mkernel\u001b[0m\u001b[0;34m=\u001b[0m\u001b[0;34m'linear'\u001b[0m\u001b[0;34m,\u001b[0m \u001b[0mC\u001b[0m\u001b[0;34m=\u001b[0m\u001b[0;36m1\u001b[0m\u001b[0;34m)\u001b[0m\u001b[0;34m\u001b[0m\u001b[0m\n\u001b[1;32m      2\u001b[0m \u001b[0mLinsvc\u001b[0m\u001b[0;34m.\u001b[0m\u001b[0mfit\u001b[0m\u001b[0;34m(\u001b[0m\u001b[0mdf\u001b[0m\u001b[0;34m,\u001b[0m \u001b[0mY\u001b[0m\u001b[0;34m)\u001b[0m\u001b[0;34m\u001b[0m\u001b[0m\n\u001b[0;32m----> 3\u001b[0;31m \u001b[0mplot_svm\u001b[0m\u001b[0;34m(\u001b[0m\u001b[0mX\u001b[0m\u001b[0;34m,\u001b[0m \u001b[0my\u001b[0m\u001b[0;34m,\u001b[0m \u001b[0mLinsvc\u001b[0m\u001b[0;34m,\u001b[0m \u001b[0;34m\"Linear SVC\"\u001b[0m\u001b[0;34m)\u001b[0m\u001b[0;34m\u001b[0m\u001b[0m\n\u001b[0m",
      "\u001b[0;32m<ipython-input-582-d58eba2a627d>\u001b[0m in \u001b[0;36mplot_svm\u001b[0;34m(X, y, model, title, xmin, xmax, ymin, ymax)\u001b[0m\n\u001b[1;32m      1\u001b[0m \u001b[0;32mdef\u001b[0m \u001b[0mplot_svm\u001b[0m\u001b[0;34m(\u001b[0m\u001b[0mX\u001b[0m\u001b[0;34m,\u001b[0m \u001b[0my\u001b[0m\u001b[0;34m,\u001b[0m \u001b[0mmodel\u001b[0m\u001b[0;34m,\u001b[0m \u001b[0mtitle\u001b[0m\u001b[0;34m,\u001b[0m \u001b[0mxmin\u001b[0m\u001b[0;34m=\u001b[0m\u001b[0;36m1.5\u001b[0m\u001b[0;34m,\u001b[0m \u001b[0mxmax\u001b[0m\u001b[0;34m=\u001b[0m\u001b[0;36m10\u001b[0m\u001b[0;34m,\u001b[0m \u001b[0mymin\u001b[0m\u001b[0;34m=\u001b[0m\u001b[0;36m2.5\u001b[0m\u001b[0;34m,\u001b[0m \u001b[0mymax\u001b[0m\u001b[0;34m=\u001b[0m\u001b[0;36m9\u001b[0m\u001b[0;34m)\u001b[0m\u001b[0;34m:\u001b[0m\u001b[0;34m\u001b[0m\u001b[0m\n\u001b[1;32m      2\u001b[0m     \u001b[0mXX\u001b[0m\u001b[0;34m,\u001b[0m \u001b[0mYY\u001b[0m \u001b[0;34m=\u001b[0m \u001b[0mnp\u001b[0m\u001b[0;34m.\u001b[0m\u001b[0mmeshgrid\u001b[0m\u001b[0;34m(\u001b[0m\u001b[0mnp\u001b[0m\u001b[0;34m.\u001b[0m\u001b[0marange\u001b[0m\u001b[0;34m(\u001b[0m\u001b[0mxmin\u001b[0m\u001b[0;34m,\u001b[0m \u001b[0mxmax\u001b[0m\u001b[0;34m,\u001b[0m \u001b[0;34m(\u001b[0m\u001b[0mxmax\u001b[0m\u001b[0;34m-\u001b[0m\u001b[0mxmin\u001b[0m\u001b[0;34m)\u001b[0m\u001b[0;34m/\u001b[0m\u001b[0;36m1000\u001b[0m\u001b[0;34m)\u001b[0m\u001b[0;34m,\u001b[0m \u001b[0mnp\u001b[0m\u001b[0;34m.\u001b[0m\u001b[0marange\u001b[0m\u001b[0;34m(\u001b[0m\u001b[0mymin\u001b[0m\u001b[0;34m,\u001b[0m \u001b[0mymax\u001b[0m\u001b[0;34m,\u001b[0m \u001b[0;34m(\u001b[0m\u001b[0mymax\u001b[0m\u001b[0;34m-\u001b[0m\u001b[0mymin\u001b[0m\u001b[0;34m)\u001b[0m\u001b[0;34m/\u001b[0m\u001b[0;36m1000\u001b[0m\u001b[0;34m)\u001b[0m\u001b[0;34m)\u001b[0m\u001b[0;34m\u001b[0m\u001b[0m\n\u001b[0;32m----> 3\u001b[0;31m     \u001b[0mZZ\u001b[0m \u001b[0;34m=\u001b[0m \u001b[0mnp\u001b[0m\u001b[0;34m.\u001b[0m\u001b[0mreshape\u001b[0m\u001b[0;34m(\u001b[0m\u001b[0mmodel\u001b[0m\u001b[0;34m.\u001b[0m\u001b[0mpredict\u001b[0m\u001b[0;34m(\u001b[0m\u001b[0mnp\u001b[0m\u001b[0;34m.\u001b[0m\u001b[0marray\u001b[0m\u001b[0;34m(\u001b[0m\u001b[0;34m[\u001b[0m\u001b[0mXX\u001b[0m\u001b[0;34m.\u001b[0m\u001b[0mravel\u001b[0m\u001b[0;34m(\u001b[0m\u001b[0;34m)\u001b[0m\u001b[0;34m,\u001b[0m \u001b[0mYY\u001b[0m\u001b[0;34m.\u001b[0m\u001b[0mravel\u001b[0m\u001b[0;34m(\u001b[0m\u001b[0;34m)\u001b[0m\u001b[0;34m]\u001b[0m\u001b[0;34m)\u001b[0m\u001b[0;34m.\u001b[0m\u001b[0mT\u001b[0m\u001b[0;34m)\u001b[0m\u001b[0;34m,\u001b[0m \u001b[0mXX\u001b[0m\u001b[0;34m.\u001b[0m\u001b[0mshape\u001b[0m\u001b[0;34m)\u001b[0m\u001b[0;34m\u001b[0m\u001b[0m\n\u001b[0m\u001b[1;32m      4\u001b[0m     \u001b[0mplt\u001b[0m\u001b[0;34m.\u001b[0m\u001b[0mcontourf\u001b[0m\u001b[0;34m(\u001b[0m\u001b[0mXX\u001b[0m\u001b[0;34m,\u001b[0m \u001b[0mYY\u001b[0m\u001b[0;34m,\u001b[0m \u001b[0mZZ\u001b[0m\u001b[0;34m,\u001b[0m \u001b[0mcmap\u001b[0m\u001b[0;34m=\u001b[0m\u001b[0mplt\u001b[0m\u001b[0;34m.\u001b[0m\u001b[0mcm\u001b[0m\u001b[0;34m.\u001b[0m\u001b[0mSet1\u001b[0m\u001b[0;34m,\u001b[0m \u001b[0malpha\u001b[0m\u001b[0;34m=\u001b[0m\u001b[0;36m0.5\u001b[0m\u001b[0;34m)\u001b[0m\u001b[0;34m\u001b[0m\u001b[0m\n\u001b[1;32m      5\u001b[0m     \u001b[0mplt\u001b[0m\u001b[0;34m.\u001b[0m\u001b[0mscatter\u001b[0m\u001b[0;34m(\u001b[0m\u001b[0mX\u001b[0m\u001b[0;34m[\u001b[0m\u001b[0my\u001b[0m \u001b[0;34m==\u001b[0m \u001b[0;34m-\u001b[0m\u001b[0;36m1\u001b[0m\u001b[0;34m,\u001b[0m \u001b[0;36m0\u001b[0m\u001b[0;34m]\u001b[0m\u001b[0;34m,\u001b[0m \u001b[0mX\u001b[0m\u001b[0;34m[\u001b[0m\u001b[0my\u001b[0m \u001b[0;34m==\u001b[0m \u001b[0;34m-\u001b[0m\u001b[0;36m1\u001b[0m\u001b[0;34m,\u001b[0m \u001b[0;36m1\u001b[0m\u001b[0;34m]\u001b[0m\u001b[0;34m,\u001b[0m \u001b[0mmarker\u001b[0m\u001b[0;34m=\u001b[0m\u001b[0;34m'o'\u001b[0m\u001b[0;34m)\u001b[0m\u001b[0;34m\u001b[0m\u001b[0m\n",
      "\u001b[0;32m~/anaconda3/lib/python3.6/site-packages/sklearn/svm/base.py\u001b[0m in \u001b[0;36mpredict\u001b[0;34m(self, X)\u001b[0m\n\u001b[1;32m    546\u001b[0m             \u001b[0mClass\u001b[0m \u001b[0mlabels\u001b[0m \u001b[0;32mfor\u001b[0m \u001b[0msamples\u001b[0m \u001b[0;32min\u001b[0m \u001b[0mX\u001b[0m\u001b[0;34m.\u001b[0m\u001b[0;34m\u001b[0m\u001b[0m\n\u001b[1;32m    547\u001b[0m         \"\"\"\n\u001b[0;32m--> 548\u001b[0;31m         \u001b[0my\u001b[0m \u001b[0;34m=\u001b[0m \u001b[0msuper\u001b[0m\u001b[0;34m(\u001b[0m\u001b[0mBaseSVC\u001b[0m\u001b[0;34m,\u001b[0m \u001b[0mself\u001b[0m\u001b[0;34m)\u001b[0m\u001b[0;34m.\u001b[0m\u001b[0mpredict\u001b[0m\u001b[0;34m(\u001b[0m\u001b[0mX\u001b[0m\u001b[0;34m)\u001b[0m\u001b[0;34m\u001b[0m\u001b[0m\n\u001b[0m\u001b[1;32m    549\u001b[0m         \u001b[0;32mreturn\u001b[0m \u001b[0mself\u001b[0m\u001b[0;34m.\u001b[0m\u001b[0mclasses_\u001b[0m\u001b[0;34m.\u001b[0m\u001b[0mtake\u001b[0m\u001b[0;34m(\u001b[0m\u001b[0mnp\u001b[0m\u001b[0;34m.\u001b[0m\u001b[0masarray\u001b[0m\u001b[0;34m(\u001b[0m\u001b[0my\u001b[0m\u001b[0;34m,\u001b[0m \u001b[0mdtype\u001b[0m\u001b[0;34m=\u001b[0m\u001b[0mnp\u001b[0m\u001b[0;34m.\u001b[0m\u001b[0mintp\u001b[0m\u001b[0;34m)\u001b[0m\u001b[0;34m)\u001b[0m\u001b[0;34m\u001b[0m\u001b[0m\n\u001b[1;32m    550\u001b[0m \u001b[0;34m\u001b[0m\u001b[0m\n",
      "\u001b[0;32m~/anaconda3/lib/python3.6/site-packages/sklearn/svm/base.py\u001b[0m in \u001b[0;36mpredict\u001b[0;34m(self, X)\u001b[0m\n\u001b[1;32m    306\u001b[0m         \u001b[0my_pred\u001b[0m \u001b[0;34m:\u001b[0m \u001b[0marray\u001b[0m\u001b[0;34m,\u001b[0m \u001b[0mshape\u001b[0m \u001b[0;34m(\u001b[0m\u001b[0mn_samples\u001b[0m\u001b[0;34m,\u001b[0m\u001b[0;34m)\u001b[0m\u001b[0;34m\u001b[0m\u001b[0m\n\u001b[1;32m    307\u001b[0m         \"\"\"\n\u001b[0;32m--> 308\u001b[0;31m         \u001b[0mX\u001b[0m \u001b[0;34m=\u001b[0m \u001b[0mself\u001b[0m\u001b[0;34m.\u001b[0m\u001b[0m_validate_for_predict\u001b[0m\u001b[0;34m(\u001b[0m\u001b[0mX\u001b[0m\u001b[0;34m)\u001b[0m\u001b[0;34m\u001b[0m\u001b[0m\n\u001b[0m\u001b[1;32m    309\u001b[0m         \u001b[0mpredict\u001b[0m \u001b[0;34m=\u001b[0m \u001b[0mself\u001b[0m\u001b[0;34m.\u001b[0m\u001b[0m_sparse_predict\u001b[0m \u001b[0;32mif\u001b[0m \u001b[0mself\u001b[0m\u001b[0;34m.\u001b[0m\u001b[0m_sparse\u001b[0m \u001b[0;32melse\u001b[0m \u001b[0mself\u001b[0m\u001b[0;34m.\u001b[0m\u001b[0m_dense_predict\u001b[0m\u001b[0;34m\u001b[0m\u001b[0m\n\u001b[1;32m    310\u001b[0m         \u001b[0;32mreturn\u001b[0m \u001b[0mpredict\u001b[0m\u001b[0;34m(\u001b[0m\u001b[0mX\u001b[0m\u001b[0;34m)\u001b[0m\u001b[0;34m\u001b[0m\u001b[0m\n",
      "\u001b[0;32m~/anaconda3/lib/python3.6/site-packages/sklearn/svm/base.py\u001b[0m in \u001b[0;36m_validate_for_predict\u001b[0;34m(self, X)\u001b[0m\n\u001b[1;32m    457\u001b[0m             raise ValueError(\"X.shape[1] = %d should be equal to %d, \"\n\u001b[1;32m    458\u001b[0m                              \u001b[0;34m\"the number of features at training time\"\u001b[0m \u001b[0;34m%\u001b[0m\u001b[0;34m\u001b[0m\u001b[0m\n\u001b[0;32m--> 459\u001b[0;31m                              (n_features, self.shape_fit_[1]))\n\u001b[0m\u001b[1;32m    460\u001b[0m         \u001b[0;32mreturn\u001b[0m \u001b[0mX\u001b[0m\u001b[0;34m\u001b[0m\u001b[0m\n\u001b[1;32m    461\u001b[0m \u001b[0;34m\u001b[0m\u001b[0m\n",
      "\u001b[0;31mValueError\u001b[0m: X.shape[1] = 2 should be equal to 3, the number of features at training time"
     ]
    }
   ],
   "source": [
    "Linsvc = SVC(kernel='linear', C=1)\n",
    "Linsvc.fit(df, Y)\n",
    "plot_svm(X, y, Linsvc, \"Linear SVC\")"
   ]
  },
  {
   "cell_type": "code",
   "execution_count": 263,
   "metadata": {},
   "outputs": [
    {
     "data": {
      "image/png": "[encoded data removed]",
      "text/plain": [
       "<matplotlib.figure.Figure at 0x1149fd198>"
      ]
     },
     "metadata": {},
     "output_type": "display_data"
    }
   ],
   "source": [
    "RBFsvc = SVC(kernel='rbf', random_state=0, gamma=1, C=1.0)\n",
    "RBFsvc.fit(df, Y)\n",
    "plot_svm(X, y, RBFsvc, \"RBF SVC\")"
   ]
  },
  {
   "cell_type": "code",
   "execution_count": 267,
   "metadata": {},
   "outputs": [
    {
     "data": {
      "image/png": "[encoded data removed]",
      "text/plain": [
       "<matplotlib.figure.Figure at 0x1a18078f98>"
      ]
     },
     "metadata": {},
     "output_type": "display_data"
    }
   ],
   "source": [
    "Polysvc = SVC(kernel='poly',degree=2, random_state=0, gamma=1, C=1.0)\n",
    "Polysvc.fit(df, Y)\n",
    "plot_svm(X, y, Polysvc, \"Poly SVC\")"
   ]
  },
  {
   "cell_type": "code",
   "execution_count": 265,
   "metadata": {},
   "outputs": [
    {
     "data": {
      "text/plain": [
       "SVC(C=1.0, cache_size=200, class_weight=None, coef0=0.0,\n",
       "  decision_function_shape='ovr', degree=3, gamma=1, kernel='poly',\n",
       "  max_iter=-1, probability=False, random_state=0, shrinking=True,\n",
       "  tol=0.001, verbose=False)"
      ]
     },
     "execution_count": 265,
     "metadata": {},
     "output_type": "execute_result"
    }
   ],
   "source": [
    "Polysvc"
   ]
  },
  {
   "cell_type": "markdown",
   "metadata": {},
   "source": [
    "## 3. The following is training samples of 10 objects. \n",
    "\n",
    "- Each object is represented as variable X, and divided into two classes.\n",
    "- For the data above, compute sensitivity and specificity according to the change of C value. \n",
    "- Use a classification criterion that if X < C, then classify it as class 0. \n",
    "- And generate ROC curve based on the computed sensitivity and specificity.\n"
   ]
  },
  {
   "cell_type": "code",
   "execution_count": 276,
   "metadata": {
    "collapsed": true
   },
   "outputs": [],
   "source": [
    "from sklearn import metrics"
   ]
  },
  {
   "cell_type": "code",
   "execution_count": 277,
   "metadata": {},
   "outputs": [
    {
     "data": {
      "text/html": [
       "<div>\n",
       "<style scoped>\n",
       "    .dataframe tbody tr th:only-of-type {\n",
       "        vertical-align: middle;\n",
       "    }\n",
       "\n",
       "    .dataframe tbody tr th {\n",
       "        vertical-align: top;\n",
       "    }\n",
       "\n",
       "    .dataframe thead th {\n",
       "        text-align: right;\n",
       "    }\n",
       "</style>\n",
       "<table border=\"1\" class=\"dataframe\">\n",
       "  <thead>\n",
       "    <tr style=\"text-align: right;\">\n",
       "      <th></th>\n",
       "      <th>X1</th>\n",
       "      <th>Y</th>\n",
       "    </tr>\n",
       "  </thead>\n",
       "  <tbody>\n",
       "    <tr>\n",
       "      <th>1</th>\n",
       "      <td>24</td>\n",
       "      <td>0</td>\n",
       "    </tr>\n",
       "    <tr>\n",
       "      <th>2</th>\n",
       "      <td>35</td>\n",
       "      <td>0</td>\n",
       "    </tr>\n",
       "    <tr>\n",
       "      <th>3</th>\n",
       "      <td>37</td>\n",
       "      <td>1</td>\n",
       "    </tr>\n",
       "    <tr>\n",
       "      <th>4</th>\n",
       "      <td>42</td>\n",
       "      <td>0</td>\n",
       "    </tr>\n",
       "    <tr>\n",
       "      <th>5</th>\n",
       "      <td>49</td>\n",
       "      <td>1</td>\n",
       "    </tr>\n",
       "    <tr>\n",
       "      <th>6</th>\n",
       "      <td>54</td>\n",
       "      <td>1</td>\n",
       "    </tr>\n",
       "    <tr>\n",
       "      <th>7</th>\n",
       "      <td>56</td>\n",
       "      <td>0</td>\n",
       "    </tr>\n",
       "    <tr>\n",
       "      <th>8</th>\n",
       "      <td>68</td>\n",
       "      <td>1</td>\n",
       "    </tr>\n",
       "    <tr>\n",
       "      <th>9</th>\n",
       "      <td>72</td>\n",
       "      <td>1</td>\n",
       "    </tr>\n",
       "    <tr>\n",
       "      <th>10</th>\n",
       "      <td>73</td>\n",
       "      <td>1</td>\n",
       "    </tr>\n",
       "  </tbody>\n",
       "</table>\n",
       "</div>"
      ],
      "text/plain": [
       "    X1  Y\n",
       "1   24  0\n",
       "2   35  0\n",
       "3   37  1\n",
       "4   42  0\n",
       "5   49  1\n",
       "6   54  1\n",
       "7   56  0\n",
       "8   68  1\n",
       "9   72  1\n",
       "10  73  1"
      ]
     },
     "execution_count": 277,
     "metadata": {},
     "output_type": "execute_result"
    }
   ],
   "source": [
    "data = {\n",
    "     'X1': [24,35,37,42,49,54,56,68,72,73],\n",
    "     'Y': [0,0,1,0,1,1,0,1,1,1]\n",
    "}\n",
    "columns = [\"X1\",\"Y\"]\n",
    "index = [1,2,3,4,5,6,7,8,9,10]\n",
    "df2 = pd.DataFrame(data, index=index, columns=columns)\n",
    "df2"
   ]
  },
  {
   "cell_type": "code",
   "execution_count": 278,
   "metadata": {
    "collapsed": true
   },
   "outputs": [],
   "source": [
    "Y = df2['Y']"
   ]
  },
  {
   "cell_type": "code",
   "execution_count": 279,
   "metadata": {},
   "outputs": [
    {
     "name": "stdout",
     "output_type": "stream",
     "text": [
      "[0. 0. 0. 0. 0. 0. 0. 0. 0. 0.]\n",
      "[0. 0. 0. 0. 0. 0. 0. 0. 0.]\n",
      "[0. 0. 0. 0. 0. 0. 0. 0.]\n",
      "[0. 0. 0. 0. 0. 0. 0.]\n",
      "[0. 0. 0. 0. 0. 0.]\n",
      "[0. 0. 0. 0. 0.]\n",
      "[0. 0. 0. 0.]\n",
      "[0. 0. 0.]\n",
      "[0. 0.]\n",
      "[0.]\n"
     ]
    }
   ],
   "source": [
    "for i in range(len(df2)):\n",
    "    y_hat = np.zeros(len(df2)-i)\n",
    "    print(y_hat)"
   ]
  },
  {
   "cell_type": "code",
   "execution_count": 291,
   "metadata": {},
   "outputs": [
    {
     "name": "stdout",
     "output_type": "stream",
     "text": [
      "[0. 0. 0. 0. 0. 0. 0. 0. 0. 0.]\n",
      "[0. 0. 0. 0. 0. 0. 0. 0. 0. 1.]\n",
      "[0. 0. 0. 0. 0. 0. 0. 0. 1. 1.]\n",
      "[0. 0. 0. 0. 0. 0. 0. 1. 1. 1.]\n",
      "[0. 0. 0. 0. 0. 0. 1. 1. 1. 1.]\n",
      "[0. 0. 0. 0. 0. 1. 1. 1. 1. 1.]\n",
      "[0. 0. 0. 0. 1. 1. 1. 1. 1. 1.]\n",
      "[0. 0. 0. 1. 1. 1. 1. 1. 1. 1.]\n",
      "[0. 0. 1. 1. 1. 1. 1. 1. 1. 1.]\n",
      "[0. 1. 1. 1. 1. 1. 1. 1. 1. 1.]\n",
      "[1. 1. 1. 1. 1. 1. 1. 1. 1. 1.]\n"
     ]
    }
   ],
   "source": [
    "for i in range(len(df2)+1):\n",
    "    y_hat = np.zeros(len(df2)-i)\n",
    "    y_hat = np.append(y_hat,np.ones(i))\n",
    "    print(y_hat)"
   ]
  },
  {
   "cell_type": "code",
   "execution_count": 294,
   "metadata": {},
   "outputs": [
    {
     "data": {
      "text/plain": [
       "1     0\n",
       "2     0\n",
       "3     1\n",
       "4     0\n",
       "5     1\n",
       "6     1\n",
       "7     0\n",
       "8     1\n",
       "9     1\n",
       "10    1\n",
       "Name: Y, dtype: int64"
      ]
     },
     "execution_count": 294,
     "metadata": {},
     "output_type": "execute_result"
    }
   ],
   "source": [
    "Y"
   ]
  },
  {
   "cell_type": "code",
   "execution_count": 280,
   "metadata": {},
   "outputs": [
    {
     "name": "stdout",
     "output_type": "stream",
     "text": [
      "0.5\n",
      "0.5833333333333334\n",
      "0.6666666666666666\n",
      "0.75\n",
      "0.625\n",
      "0.7083333333333334\n",
      "0.7916666666666666\n",
      "0.6666666666666667\n",
      "0.75\n",
      "0.625\n",
      "0.5\n"
     ]
    }
   ],
   "source": [
    "for i in range(len(df2)+1):\n",
    "    y_hat = np.zeros(len(df2)-i)\n",
    "    y_hat = np.append(y_hat,np.ones(i))\n",
    "    print(roc_auc_score(Y,y_hat))"
   ]
  },
  {
   "cell_type": "code",
   "execution_count": 287,
   "metadata": {
    "collapsed": true
   },
   "outputs": [],
   "source": [
    "from sklearn.metrics import recall_score, precision_score"
   ]
  },
  {
   "cell_type": "code",
   "execution_count": 288,
   "metadata": {},
   "outputs": [
    {
     "name": "stdout",
     "output_type": "stream",
     "text": [
      "0.0\n",
      "0.16666666666666666\n",
      "0.3333333333333333\n",
      "0.5\n",
      "0.5\n",
      "0.6666666666666666\n",
      "0.8333333333333334\n",
      "0.8333333333333334\n",
      "1.0\n",
      "1.0\n",
      "1.0\n"
     ]
    }
   ],
   "source": [
    "for i in range(len(df2)+1):\n",
    "    y_hat = np.zeros(len(df2)-i)\n",
    "    y_hat = np.append(y_hat,np.ones(i))\n",
    "    print(recall_score(Y,y_hat))"
   ]
  },
  {
   "cell_type": "code",
   "execution_count": 289,
   "metadata": {},
   "outputs": [
    {
     "name": "stdout",
     "output_type": "stream",
     "text": [
      "0.0\n",
      "1.0\n",
      "1.0\n",
      "1.0\n",
      "0.75\n",
      "0.8\n",
      "0.8333333333333334\n",
      "0.7142857142857143\n",
      "0.75\n",
      "0.6666666666666666\n",
      "0.6\n"
     ]
    }
   ],
   "source": [
    "for i in range(len(df2)+1):\n",
    "    y_hat = np.zeros(len(df2)-i)\n",
    "    y_hat = np.append(y_hat,np.ones(i))\n",
    "    print(precision_score(Y,y_hat))"
   ]
  },
  {
   "cell_type": "code",
   "execution_count": 282,
   "metadata": {
    "scrolled": false
   },
   "outputs": [
    {
     "data": {
      "image/png": "[encoded data removed]",
      "text/plain": [
       "<matplotlib.figure.Figure at 0x1a18bcada0>"
      ]
     },
     "metadata": {},
     "output_type": "display_data"
    }
   ],
   "source": [
    "plt.figure(figsize=(12,8))\n",
    "\n",
    "\n",
    "for i in range(len(df2)+1):\n",
    "    y_hat = np.zeros(len(df2)-i)\n",
    "    y_hat = np.append(y_hat,np.ones(i))\n",
    "    fpr1, tpr1, thresholds1 = roc_curve(Y,y_hat)\n",
    "    k = roc_auc_score(Y,y_hat)\n",
    "    plt.plot(fpr1, tpr1, label=k)\n",
    "    plt.legend()\n",
    "    plt.xlabel('False Positive Rate (1-specificity)')\n",
    "    plt.ylabel('True Positive Rate (sensitivity)')\n",
    "    plt.title('Receiver operating characteristic example')\n",
    "\n",
    "plt.plot([0, 1], [0, 1], 'k--', label=\"random guess\")\n",
    "plt.show()"
   ]
  },
  {
   "cell_type": "markdown",
   "metadata": {},
   "source": [
    "## 4. Frequencies of actual classes of data that has 500 objects is following.!"
   ]
  },
  {
   "cell_type": "markdown",
   "metadata": {},
   "source": [
    "## 5. The followings are ingredients included in 10 foods."
   ]
  },
  {
   "cell_type": "code",
   "execution_count": 602,
   "metadata": {
    "collapsed": true
   },
   "outputs": [],
   "source": [
    "#Make array\n",
    "O1= np.array([351,15.5,6.2,0.8,76.6])\n",
    "O2= np.array([471,4,19.5,24,46.2])\n",
    "O3= np.array([349,40,4.5,0.4,54.5])\n",
    "O4= np.array([366,11.5,11.5,1.4,74.5])\n",
    "O5= np.array([270,35,8,1.5,54.3])\n",
    "O6= np.array([414,4.5,7.2,8.2,79.1])\n",
    "O7= np.array([325,22.7,6.7,3.7,66.2])\n",
    "O8= np.array([116,72,2.6,0.3,24.8])\n",
    "O9= np.array([377,6,9,1,80.2])\n",
    "O10= np.array([167,60.2,24.2,4.2,6.6])"
   ]
  },
  {
   "cell_type": "code",
   "execution_count": 603,
   "metadata": {},
   "outputs": [
    {
     "data": {
      "text/plain": [
       "[[351, 15.5, 6.2, 0.8, 76.6],\n",
       " [471, 4, 19.5, 24, 46.2],\n",
       " [349, 40, 4.5, 0.4, 54.5],\n",
       " [366, 11.5, 11.5, 1.4, 74.5],\n",
       " [270, 35, 8, 1.5, 54.3],\n",
       " [414, 4.5, 7.2, 8.2, 79.1],\n",
       " [325, 22.7, 6.7, 3.7, 66.2],\n",
       " [116, 72, 2.6, 0.3, 24.8],\n",
       " [377, 6, 9, 1, 80.2],\n",
       " [167, 60.2, 24.2, 4.2, 6.6]]"
      ]
     },
     "execution_count": 603,
     "metadata": {},
     "output_type": "execute_result"
    }
   ],
   "source": [
    "#Make List\n",
    "data = [\n",
    "        [351,15.5,6.2,0.8,76.6],\n",
    "        [471,4,19.5,24,46.2],\n",
    "        [349,40,4.5,0.4,54.5],\n",
    "        [366,11.5,11.5,1.4,74.5],\n",
    "        [270,35,8,1.5,54.3],\n",
    "        [414,4.5,7.2,8.2,79.1],\n",
    "        [325,22.7,6.7,3.7,66.2],\n",
    "        [116,72,2.6,0.3,24.8],\n",
    "        [377,6,9,1,80.2],\n",
    "        [167,60.2,24.2,4.2,6.6]\n",
    "]\n",
    "data"
   ]
  },
  {
   "cell_type": "code",
   "execution_count": 604,
   "metadata": {},
   "outputs": [
    {
     "data": {
      "text/plain": [
       "matrix([[3.51e+02, 1.55e+01, 6.20e+00, 8.00e-01, 7.66e+01],\n",
       "        [4.71e+02, 4.00e+00, 1.95e+01, 2.40e+01, 4.62e+01],\n",
       "        [3.49e+02, 4.00e+01, 4.50e+00, 4.00e-01, 5.45e+01],\n",
       "        [3.66e+02, 1.15e+01, 1.15e+01, 1.40e+00, 7.45e+01],\n",
       "        [2.70e+02, 3.50e+01, 8.00e+00, 1.50e+00, 5.43e+01],\n",
       "        [4.14e+02, 4.50e+00, 7.20e+00, 8.20e+00, 7.91e+01],\n",
       "        [3.25e+02, 2.27e+01, 6.70e+00, 3.70e+00, 6.62e+01],\n",
       "        [1.16e+02, 7.20e+01, 2.60e+00, 3.00e-01, 2.48e+01],\n",
       "        [3.77e+02, 6.00e+00, 9.00e+00, 1.00e+00, 8.02e+01],\n",
       "        [1.67e+02, 6.02e+01, 2.42e+01, 4.20e+00, 6.60e+00]])"
      ]
     },
     "execution_count": 604,
     "metadata": {},
     "output_type": "execute_result"
    }
   ],
   "source": [
    "#Make Matrix\n",
    "M_data = np.matrix(data)\n",
    "M_data"
   ]
  },
  {
   "cell_type": "code",
   "execution_count": 605,
   "metadata": {},
   "outputs": [
    {
     "data": {
      "text/html": [
       "<div>\n",
       "<style scoped>\n",
       "    .dataframe tbody tr th:only-of-type {\n",
       "        vertical-align: middle;\n",
       "    }\n",
       "\n",
       "    .dataframe tbody tr th {\n",
       "        vertical-align: top;\n",
       "    }\n",
       "\n",
       "    .dataframe thead th {\n",
       "        text-align: right;\n",
       "    }\n",
       "</style>\n",
       "<table border=\"1\" class=\"dataframe\">\n",
       "  <thead>\n",
       "    <tr style=\"text-align: right;\">\n",
       "      <th></th>\n",
       "      <th>0</th>\n",
       "      <th>1</th>\n",
       "      <th>2</th>\n",
       "      <th>3</th>\n",
       "      <th>4</th>\n",
       "    </tr>\n",
       "  </thead>\n",
       "  <tbody>\n",
       "    <tr>\n",
       "      <th>0</th>\n",
       "      <td>351.0</td>\n",
       "      <td>15.5</td>\n",
       "      <td>6.2</td>\n",
       "      <td>0.8</td>\n",
       "      <td>76.6</td>\n",
       "    </tr>\n",
       "    <tr>\n",
       "      <th>1</th>\n",
       "      <td>471.0</td>\n",
       "      <td>4.0</td>\n",
       "      <td>19.5</td>\n",
       "      <td>24.0</td>\n",
       "      <td>46.2</td>\n",
       "    </tr>\n",
       "    <tr>\n",
       "      <th>2</th>\n",
       "      <td>349.0</td>\n",
       "      <td>40.0</td>\n",
       "      <td>4.5</td>\n",
       "      <td>0.4</td>\n",
       "      <td>54.5</td>\n",
       "    </tr>\n",
       "    <tr>\n",
       "      <th>3</th>\n",
       "      <td>366.0</td>\n",
       "      <td>11.5</td>\n",
       "      <td>11.5</td>\n",
       "      <td>1.4</td>\n",
       "      <td>74.5</td>\n",
       "    </tr>\n",
       "    <tr>\n",
       "      <th>4</th>\n",
       "      <td>270.0</td>\n",
       "      <td>35.0</td>\n",
       "      <td>8.0</td>\n",
       "      <td>1.5</td>\n",
       "      <td>54.3</td>\n",
       "    </tr>\n",
       "    <tr>\n",
       "      <th>5</th>\n",
       "      <td>414.0</td>\n",
       "      <td>4.5</td>\n",
       "      <td>7.2</td>\n",
       "      <td>8.2</td>\n",
       "      <td>79.1</td>\n",
       "    </tr>\n",
       "    <tr>\n",
       "      <th>6</th>\n",
       "      <td>325.0</td>\n",
       "      <td>22.7</td>\n",
       "      <td>6.7</td>\n",
       "      <td>3.7</td>\n",
       "      <td>66.2</td>\n",
       "    </tr>\n",
       "    <tr>\n",
       "      <th>7</th>\n",
       "      <td>116.0</td>\n",
       "      <td>72.0</td>\n",
       "      <td>2.6</td>\n",
       "      <td>0.3</td>\n",
       "      <td>24.8</td>\n",
       "    </tr>\n",
       "    <tr>\n",
       "      <th>8</th>\n",
       "      <td>377.0</td>\n",
       "      <td>6.0</td>\n",
       "      <td>9.0</td>\n",
       "      <td>1.0</td>\n",
       "      <td>80.2</td>\n",
       "    </tr>\n",
       "    <tr>\n",
       "      <th>9</th>\n",
       "      <td>167.0</td>\n",
       "      <td>60.2</td>\n",
       "      <td>24.2</td>\n",
       "      <td>4.2</td>\n",
       "      <td>6.6</td>\n",
       "    </tr>\n",
       "  </tbody>\n",
       "</table>\n",
       "</div>"
      ],
      "text/plain": [
       "       0     1     2     3     4\n",
       "0  351.0  15.5   6.2   0.8  76.6\n",
       "1  471.0   4.0  19.5  24.0  46.2\n",
       "2  349.0  40.0   4.5   0.4  54.5\n",
       "3  366.0  11.5  11.5   1.4  74.5\n",
       "4  270.0  35.0   8.0   1.5  54.3\n",
       "5  414.0   4.5   7.2   8.2  79.1\n",
       "6  325.0  22.7   6.7   3.7  66.2\n",
       "7  116.0  72.0   2.6   0.3  24.8\n",
       "8  377.0   6.0   9.0   1.0  80.2\n",
       "9  167.0  60.2  24.2   4.2   6.6"
      ]
     },
     "execution_count": 605,
     "metadata": {},
     "output_type": "execute_result"
    }
   ],
   "source": [
    "#Make data frame\n",
    "df3 = pd.DataFrame(M_data)\n",
    "df3"
   ]
  },
  {
   "cell_type": "markdown",
   "metadata": {},
   "source": [
    "__(a)\tWhat are the two closest and farthest objects in terms of Euclidean distance?__"
   ]
  },
  {
   "cell_type": "code",
   "execution_count": 615,
   "metadata": {
    "collapsed": true
   },
   "outputs": [],
   "source": [
    "from scipy.spatial.distance import pdist\n",
    "from sklearn.metrics.pairwise import euclidean_distances"
   ]
  },
  {
   "cell_type": "code",
   "execution_count": 311,
   "metadata": {},
   "outputs": [
    {
     "name": "stdout",
     "output_type": "stream",
     "text": [
      "[[  0.         127.16737003  33.10151054  16.54871596  86.2685922\n",
      "   64.43609237  29.06303494 247.21185247  28.05512431 202.70582133]\n",
      " [127.16737003   0.         130.50229883 111.61048338 205.10024378\n",
      "   68.7938224  150.47132617 363.25508943 103.12734846 312.34072741]\n",
      " [ 33.10151054 130.50229883   0.          39.38591119  79.24329625\n",
      "   78.47636587  32.06103554 237.06267104  51.19667958 190.33911842]\n",
      " [ 16.54871596 111.61048338  39.38591119   0.         100.93834752\n",
      "   49.38511922  43.63095232 262.12737362  13.78948875 216.22263989]\n",
      " [ 86.2685922  205.10024378  79.24329625 100.93834752   0.\n",
      "  149.42161825  57.65787023 161.20127171 113.85104303 117.42682828]\n",
      " [ 64.43609237  68.7938224   78.47636587  49.38511922 149.42161825\n",
      "    0.          91.86484638 310.47110977  37.78280032 263.95594329]\n",
      " [ 29.06303494 150.47132617  32.06103554  43.63095232  57.65787023\n",
      "   91.86484638   0.         218.75515994  56.49309692 173.86463125]\n",
      " [247.21185247 363.25508943 237.06267104 262.12737362 161.20127171\n",
      "  310.47110977 218.75515994   0.         274.93200978  59.60914359]\n",
      " [ 28.05512431 103.12734846  51.19667958  13.78948875 113.85104303\n",
      "   37.78280032  56.49309692 274.93200978   0.         229.55583199]\n",
      " [202.70582133 312.34072741 190.33911842 216.22263989 117.42682828\n",
      "  263.95594329 173.86463125  59.60914359 229.55583199   0.        ]]\n"
     ]
    }
   ],
   "source": [
    "O49 = euclidean_distances(M_data,M_data)\n",
    "O49\n",
    "print(O49)"
   ]
  },
  {
   "cell_type": "code",
   "execution_count": 310,
   "metadata": {},
   "outputs": [
    {
     "name": "stdout",
     "output_type": "stream",
     "text": [
      "[127.16737003  33.10151054  16.54871596  86.2685922   64.43609237\n",
      "  29.06303494 247.21185247  28.05512431 202.70582133 130.50229883\n",
      " 111.61048338 205.10024378  68.7938224  150.47132617 363.25508943\n",
      " 103.12734846 312.34072741  39.38591119  79.24329625  78.47636587\n",
      "  32.06103554 237.06267104  51.19667958 190.33911842 100.93834752\n",
      "  49.38511922  43.63095232 262.12737362  13.78948875 216.22263989\n",
      " 149.42161825  57.65787023 161.20127171 113.85104303 117.42682828\n",
      "  91.86484638 310.47110977  37.78280032 263.95594329 218.75515994\n",
      "  56.49309692 173.86463125 274.93200978  59.60914359 229.55583199]\n"
     ]
    }
   ],
   "source": [
    "D1 = pdist(df3, 'euclidean')\n",
    "D1\n",
    "print(D1)"
   ]
  },
  {
   "cell_type": "code",
   "execution_count": 302,
   "metadata": {},
   "outputs": [
    {
     "name": "stdout",
     "output_type": "stream",
     "text": [
      "13.78948875049398\n",
      "363.2550894344083\n"
     ]
    }
   ],
   "source": [
    "print(min(D1)) #49\n",
    "print(max(D1)) #82"
   ]
  },
  {
   "cell_type": "code",
   "execution_count": 313,
   "metadata": {},
   "outputs": [
    {
     "data": {
      "text/plain": [
       "array([4.12311278, 1.37761407, 0.81638636, 1.4499209 , 1.27142609,\n",
       "       0.69894079, 3.8524706 , 0.63532607, 4.6395437 , 4.36342926,\n",
       "       3.66402049, 4.20151922, 3.1704728 , 3.79790712, 6.01732296,\n",
       "       3.88260467, 4.8732767 , 1.77562507, 0.92653094, 2.19777024,\n",
       "       1.04842693, 2.80673125, 1.89216453, 3.9877544 , 1.63167349,\n",
       "       1.26149492, 1.03359775, 4.16671828, 0.50327902, 4.31291406,\n",
       "       2.286686  , 0.93618921, 2.53837471, 1.8815088 , 3.39271512,\n",
       "       1.3794614 , 4.67154768, 1.08472455, 5.0632713 , 3.35649461,\n",
       "       1.13230519, 4.11730229, 4.37904665, 3.36946353, 4.77757318])"
      ]
     },
     "execution_count": 313,
     "metadata": {},
     "output_type": "execute_result"
    }
   ],
   "source": [
    "D2 = pdist(df3, 'seuclidean', V=None)\n",
    "D2"
   ]
  },
  {
   "cell_type": "code",
   "execution_count": 316,
   "metadata": {},
   "outputs": [
    {
     "name": "stdout",
     "output_type": "stream",
     "text": [
      "0.5032790216918197\n",
      "6.0173229570738505\n"
     ]
    }
   ],
   "source": [
    "print(min(D2))\n",
    "print(max(D2))"
   ]
  },
  {
   "cell_type": "code",
   "execution_count": 314,
   "metadata": {},
   "outputs": [
    {
     "data": {
      "text/plain": [
       "array([3.40017548, 3.13973312, 1.48782816, 0.95812102, 1.45167626,\n",
       "       0.96483802, 3.00305956, 2.58183394, 3.30402541, 4.12231414,\n",
       "       3.81949308, 3.22966439, 2.89499374, 3.15171332, 4.06647482,\n",
       "       4.01379994, 3.91367351, 3.55920539, 3.1620648 , 3.61331911,\n",
       "       3.37009378, 4.05379955, 4.20502256, 4.16565965, 1.82064536,\n",
       "       1.79292844, 1.6362277 , 3.99438297, 3.63018787, 3.00451721,\n",
       "       1.66092012, 0.81160239, 2.23832397, 2.92603529, 2.75255624,\n",
       "       0.91248426, 3.29663333, 3.68784274, 3.8316842 , 2.60263176,\n",
       "       3.33737248, 3.28481356, 4.05731648, 3.88164208, 4.10185146])"
      ]
     },
     "execution_count": 314,
     "metadata": {},
     "output_type": "execute_result"
    }
   ],
   "source": [
    "D3 = pdist(df3, 'mahalanobis', VI=None)\n",
    "D3"
   ]
  },
  {
   "cell_type": "code",
   "execution_count": 315,
   "metadata": {},
   "outputs": [
    {
     "name": "stdout",
     "output_type": "stream",
     "text": [
      "0.8116023869935357\n",
      "4.205022555403322\n"
     ]
    }
   ],
   "source": [
    "print(min(D3))\n",
    "print(max(D3))"
   ]
  },
  {
   "cell_type": "code",
   "execution_count": 356,
   "metadata": {},
   "outputs": [
    {
     "data": {
      "text/plain": [
       "array([[22207.472 , 29556.9315, 21739.238 , 23143.268 , 16580.826 ,\n",
       "        26328.4375, 20336.696 ,  6082.6815, 24005.614 ,  9151.454 ],\n",
       "       [29556.9315, 40292.618 , 29127.9885, 30906.486 , 22089.597 ,\n",
       "        35266.35  , 27130.812 ,  7941.6255, 32013.133 , 12540.638 ],\n",
       "       [21739.238 , 29127.9885, 21544.787 , 22653.582 , 16387.9915,\n",
       "        25751.6975, 19980.3265,  6345.861 , 23447.056 ,  9411.796 ],\n",
       "       [23143.268 , 30906.486 , 22653.582 , 24136.577 , 17267.7315,\n",
       "        27466.06  , 21193.4415,  6276.5335, 25033.166 ,  9552.706 ],\n",
       "       [16580.826 , 22089.597 , 16387.9915, 17267.7315, 12484.263 ,\n",
       "        19615.9125, 15225.4855,  4824.4645, 17881.282 ,  7103.852 ],\n",
       "       [26328.4375, 35266.35  , 25751.6975, 27466.06  , 19615.9125,\n",
       "        31289.585 , 24108.4925,  7050.01  , 28492.875 , 10809.48  ],\n",
       "       [20336.696 , 27130.812 , 19980.3265, 21193.4415, 15225.4855,\n",
       "        24108.4925, 18643.803 ,  5672.597 , 21969.672 ,  8501.462 ],\n",
       "       [ 6082.6815,  7941.6255,  6345.861 ,  6276.5335,  4824.4645,\n",
       "         7050.01  ,  5672.597 ,  2489.148 ,  6440.703 ,  3155.738 ],\n",
       "       [24005.614 , 32013.133 , 23447.056 , 25033.166 , 17881.282 ,\n",
       "        28492.875 , 21969.672 ,  6440.703 , 25973.848 ,  9814.228 ],\n",
       "       [ 9151.454 , 12540.638 ,  9411.796 ,  9552.706 ,  7103.852 ,\n",
       "        10809.48  ,  8501.462 ,  3155.738 ,  9814.228 ,  4602.528 ]])"
      ]
     },
     "execution_count": 356,
     "metadata": {},
     "output_type": "execute_result"
    }
   ],
   "source": [
    "np.cov(M_data)"
   ]
  },
  {
   "cell_type": "code",
   "execution_count": 496,
   "metadata": {},
   "outputs": [
    {
     "data": {
      "text/plain": [
       "array([[1.        , 0.98809122, 0.99385643, 0.9996254 , 0.99580693,\n",
       "        0.99879331, 0.99945578, 0.81812593, 0.99952833, 0.90519536],\n",
       "       [0.98809122, 1.        , 0.98861376, 0.99105794, 0.98490331,\n",
       "        0.99322552, 0.98988056, 0.79299655, 0.98957175, 0.92089193],\n",
       "       [0.99385643, 0.98861376, 1.        , 0.99340866, 0.99924774,\n",
       "        0.99182456, 0.99692899, 0.86655093, 0.9911721 , 0.94515532],\n",
       "       [0.9996254 , 0.99105794, 0.99340866, 1.        , 0.99475468,\n",
       "        0.99944436, 0.99907109, 0.80976062, 0.99979231, 0.90633834],\n",
       "       [0.99580693, 0.98490331, 0.99924774, 0.99475468, 1.        ,\n",
       "        0.99249233, 0.99798139, 0.86545063, 0.99299955, 0.93716105],\n",
       "       [0.99879331, 0.99322552, 0.99182456, 0.99944436, 0.99249233,\n",
       "        1.        , 0.99816629, 0.79884859, 0.99946646, 0.900755  ],\n",
       "       [0.99945578, 0.98988056, 0.99692899, 0.99907109, 0.99798139,\n",
       "        0.99816629, 1.        , 0.83270145, 0.9983623 , 0.91775793],\n",
       "       [0.81812593, 0.79299655, 0.86655093, 0.80976062, 0.86545063,\n",
       "        0.79884859, 0.83270145, 1.        , 0.80101337, 0.93234653],\n",
       "       [0.99952833, 0.98957175, 0.9911721 , 0.99979231, 0.99299955,\n",
       "        0.99946646, 0.9983623 , 0.80101337, 1.        , 0.89761433],\n",
       "       [0.90519536, 0.92089193, 0.94515532, 0.90633834, 0.93716105,\n",
       "        0.900755  , 0.91775793, 0.93234653, 0.89761433, 1.        ]])"
      ]
     },
     "execution_count": 496,
     "metadata": {},
     "output_type": "execute_result"
    }
   ],
   "source": [
    "np.corrcoef(M_data)"
   ]
  },
  {
   "cell_type": "markdown",
   "metadata": {},
   "source": [
    "## 6.  Euclidean distance & standardized Euclidean distance\n",
    "\n",
    "- Explain that calculating Euclidean distance among objects after standardizing each variable of an object (μ=0,σ=1) and calculating standardized Euclidean distance among objects directly are the same."
   ]
  },
  {
   "cell_type": "code",
   "execution_count": 607,
   "metadata": {
    "collapsed": true
   },
   "outputs": [],
   "source": [
    "from sklearn.preprocessing import StandardScaler"
   ]
  },
  {
   "cell_type": "code",
   "execution_count": 608,
   "metadata": {
    "collapsed": true
   },
   "outputs": [],
   "source": [
    "scaler = StandardScaler()"
   ]
  },
  {
   "cell_type": "code",
   "execution_count": 609,
   "metadata": {},
   "outputs": [],
   "source": [
    "data1 = scaler.fit(data)"
   ]
  },
  {
   "cell_type": "code",
   "execution_count": 611,
   "metadata": {},
   "outputs": [
    {
     "data": {
      "text/plain": [
       "array([320.6 ,  27.14,   9.94,   4.55,  56.3 ])"
      ]
     },
     "execution_count": 611,
     "metadata": {},
     "output_type": "execute_result"
    }
   ],
   "source": [
    "data1.mean_"
   ]
  },
  {
   "cell_type": "code",
   "execution_count": 612,
   "metadata": {},
   "outputs": [
    {
     "data": {
      "text/plain": [
       "array([103.12633029,  22.86325436,   6.45975232,   6.88218715,\n",
       "        23.46056265])"
      ]
     },
     "execution_count": 612,
     "metadata": {},
     "output_type": "execute_result"
    }
   ],
   "source": [
    "data1.scale_"
   ]
  },
  {
   "cell_type": "code",
   "execution_count": 613,
   "metadata": {},
   "outputs": [
    {
     "data": {
      "text/plain": [
       "array([[ 0.29478408, -0.50911387, -0.57896957, -0.54488492,  0.86528189],\n",
       "       [ 1.45840543, -1.01210439,  1.4799329 ,  2.82613645, -0.43050971],\n",
       "       [ 0.27539039,  0.56247461, -0.84213755, -0.60300598, -0.0767245 ],\n",
       "       [ 0.44023675, -0.6840671 ,  0.24149533, -0.45770333,  0.77576997],\n",
       "       [-0.49066034,  0.34378308, -0.30032111, -0.44317307, -0.08524945],\n",
       "       [ 0.90568529, -0.99023523, -0.42416487,  0.53035466,  0.9718437 ],\n",
       "       [ 0.04266612, -0.19419808, -0.50156722, -0.12350725,  0.42198476],\n",
       "       [-1.98397441,  1.96210038, -1.13626648, -0.61753624, -1.3426788 ],\n",
       "       [ 0.54690204, -0.92462777, -0.14551642, -0.51582439,  1.0187309 ],\n",
       "       [-1.48943533,  1.44598837,  2.20751498, -0.05085593, -2.11844877]])"
      ]
     },
     "execution_count": 613,
     "metadata": {},
     "output_type": "execute_result"
    }
   ],
   "source": [
    "st_data = data1.transform(data)\n",
    "st_data"
   ]
  },
  {
   "cell_type": "code",
   "execution_count": 618,
   "metadata": {},
   "outputs": [
    {
     "data": {
      "text/plain": [
       "array([4.34614248, 1.45213273, 0.86054678, 1.52835082, 1.34020077,\n",
       "       0.73674828, 4.06086057, 0.66969248, 4.89050847, 4.59945829,\n",
       "       3.86221672, 4.42879012, 3.34197177, 4.00334561, 6.34281532,\n",
       "       4.09262467, 5.13688468, 1.87167317, 0.97664937, 2.31665325,\n",
       "       1.10513902, 2.95855451, 1.99451654, 4.20346222, 1.71993488,\n",
       "       1.3297324 , 1.08950769, 4.39210671, 0.53050267, 4.5462106 ,\n",
       "       2.41037868, 0.98683008, 2.67568188, 1.98328442, 3.57623574,\n",
       "       1.45407999, 4.92424363, 1.14340007, 5.33715658, 3.53805598,\n",
       "       1.19355447, 4.34001769, 4.61592046, 3.55172642, 5.03600431])"
      ]
     },
     "execution_count": 618,
     "metadata": {},
     "output_type": "execute_result"
    }
   ],
   "source": [
    "D_st = pdist(st_data, 'euclidean')\n",
    "D_st"
   ]
  },
  {
   "cell_type": "code",
   "execution_count": 616,
   "metadata": {},
   "outputs": [
    {
     "data": {
      "text/plain": [
       "array([4.12311278, 1.37761407, 0.81638636, 1.4499209 , 1.27142609,\n",
       "       0.69894079, 3.8524706 , 0.63532607, 4.6395437 , 4.36342926,\n",
       "       3.66402049, 4.20151922, 3.1704728 , 3.79790712, 6.01732296,\n",
       "       3.88260467, 4.8732767 , 1.77562507, 0.92653094, 2.19777024,\n",
       "       1.04842693, 2.80673125, 1.89216453, 3.9877544 , 1.63167349,\n",
       "       1.26149492, 1.03359775, 4.16671828, 0.50327902, 4.31291406,\n",
       "       2.286686  , 0.93618921, 2.53837471, 1.8815088 , 3.39271512,\n",
       "       1.3794614 , 4.67154768, 1.08472455, 5.0632713 , 3.35649461,\n",
       "       1.13230519, 4.11730229, 4.37904665, 3.36946353, 4.77757318])"
      ]
     },
     "execution_count": 616,
     "metadata": {},
     "output_type": "execute_result"
    }
   ],
   "source": [
    "D2 = pdist(data, 'seuclidean', V=None)\n",
    "D2"
   ]
  },
  {
   "cell_type": "markdown",
   "metadata": {},
   "source": [
    "## 7. The followings are eight objects represented as two variables (X, Y)\n"
   ]
  },
  {
   "cell_type": "code",
   "execution_count": 401,
   "metadata": {},
   "outputs": [
    {
     "data": {
      "text/plain": [
       "[[1, 2, 1, 4, 5, 8, 9, 10], [1, 1, 2, 5, 6, 7, 9, 12]]"
      ]
     },
     "execution_count": 401,
     "metadata": {},
     "output_type": "execute_result"
    }
   ],
   "source": [
    "#Make List\n",
    "data7 = [\n",
    "        [1,2,1,4,5,8,9,10],\n",
    "        [1,1,2,5,6,7,9,12]\n",
    "]\n",
    "data7"
   ]
  },
  {
   "cell_type": "code",
   "execution_count": 402,
   "metadata": {},
   "outputs": [
    {
     "data": {
      "text/plain": [
       "matrix([[ 1,  1],\n",
       "        [ 2,  1],\n",
       "        [ 1,  2],\n",
       "        [ 4,  5],\n",
       "        [ 5,  6],\n",
       "        [ 8,  7],\n",
       "        [ 9,  9],\n",
       "        [10, 12]])"
      ]
     },
     "execution_count": 402,
     "metadata": {},
     "output_type": "execute_result"
    }
   ],
   "source": [
    "#Make Matrix\n",
    "M_data7 = np.matrix(data7).T\n",
    "M_data7"
   ]
  },
  {
   "cell_type": "code",
   "execution_count": 403,
   "metadata": {},
   "outputs": [
    {
     "data": {
      "text/html": [
       "<div>\n",
       "<style scoped>\n",
       "    .dataframe tbody tr th:only-of-type {\n",
       "        vertical-align: middle;\n",
       "    }\n",
       "\n",
       "    .dataframe tbody tr th {\n",
       "        vertical-align: top;\n",
       "    }\n",
       "\n",
       "    .dataframe thead th {\n",
       "        text-align: right;\n",
       "    }\n",
       "</style>\n",
       "<table border=\"1\" class=\"dataframe\">\n",
       "  <thead>\n",
       "    <tr style=\"text-align: right;\">\n",
       "      <th></th>\n",
       "      <th>0</th>\n",
       "      <th>1</th>\n",
       "    </tr>\n",
       "  </thead>\n",
       "  <tbody>\n",
       "    <tr>\n",
       "      <th>1</th>\n",
       "      <td>1</td>\n",
       "      <td>1</td>\n",
       "    </tr>\n",
       "    <tr>\n",
       "      <th>2</th>\n",
       "      <td>2</td>\n",
       "      <td>1</td>\n",
       "    </tr>\n",
       "    <tr>\n",
       "      <th>3</th>\n",
       "      <td>1</td>\n",
       "      <td>2</td>\n",
       "    </tr>\n",
       "    <tr>\n",
       "      <th>4</th>\n",
       "      <td>4</td>\n",
       "      <td>5</td>\n",
       "    </tr>\n",
       "    <tr>\n",
       "      <th>5</th>\n",
       "      <td>5</td>\n",
       "      <td>6</td>\n",
       "    </tr>\n",
       "    <tr>\n",
       "      <th>6</th>\n",
       "      <td>8</td>\n",
       "      <td>7</td>\n",
       "    </tr>\n",
       "    <tr>\n",
       "      <th>7</th>\n",
       "      <td>9</td>\n",
       "      <td>9</td>\n",
       "    </tr>\n",
       "    <tr>\n",
       "      <th>8</th>\n",
       "      <td>10</td>\n",
       "      <td>12</td>\n",
       "    </tr>\n",
       "  </tbody>\n",
       "</table>\n",
       "</div>"
      ],
      "text/plain": [
       "    0   1\n",
       "1   1   1\n",
       "2   2   1\n",
       "3   1   2\n",
       "4   4   5\n",
       "5   5   6\n",
       "6   8   7\n",
       "7   9   9\n",
       "8  10  12"
      ]
     },
     "execution_count": 403,
     "metadata": {},
     "output_type": "execute_result"
    }
   ],
   "source": [
    "#Make data frame\n",
    "df7 = pd.DataFrame(data7).T\n",
    "df7.index += 1 \n",
    "df7"
   ]
  },
  {
   "cell_type": "code",
   "execution_count": 404,
   "metadata": {},
   "outputs": [
    {
     "data": {
      "text/plain": [
       "1     1\n",
       "2     2\n",
       "3     1\n",
       "4     4\n",
       "5     5\n",
       "6     8\n",
       "7     9\n",
       "8    10\n",
       "Name: 0, dtype: int64"
      ]
     },
     "execution_count": 404,
     "metadata": {},
     "output_type": "execute_result"
    }
   ],
   "source": [
    "df7[0]"
   ]
  },
  {
   "cell_type": "markdown",
   "metadata": {},
   "source": [
    "__Clustering is conducted based on linkage method using Manhattan(Rectilinear) distance. In current step of clustering, the result is as follows: (1, 2, 3); (4, 5); (6, 7, 8)__"
   ]
  },
  {
   "cell_type": "code",
   "execution_count": 405,
   "metadata": {},
   "outputs": [
    {
     "data": {
      "text/plain": [
       "<matplotlib.collections.PathCollection at 0x1a186ffe10>"
      ]
     },
     "execution_count": 405,
     "metadata": {},
     "output_type": "execute_result"
    },
    {
     "data": {
      "image/png": "[encoded data removed]",
      "text/plain": [
       "<matplotlib.figure.Figure at 0x1a17be2f98>"
      ]
     },
     "metadata": {},
     "output_type": "display_data"
    }
   ],
   "source": [
    "plt.scatter(df7[0], df7[1])"
   ]
  },
  {
   "cell_type": "code",
   "execution_count": 433,
   "metadata": {
    "collapsed": true
   },
   "outputs": [],
   "source": [
    "from sklearn.cluster import AgglomerativeClustering\n",
    "from sklearn.metrics import pairwise_distances"
   ]
  },
  {
   "cell_type": "code",
   "execution_count": 434,
   "metadata": {
    "collapsed": true
   },
   "outputs": [],
   "source": [
    "X = df7[0]\n",
    "y = df7[1]\n",
    "n_clusters = 3\n",
    "labels = ('X', 'Y')"
   ]
  },
  {
   "cell_type": "code",
   "execution_count": 435,
   "metadata": {
    "collapsed": true
   },
   "outputs": [],
   "source": [
    "Model_C = AgglomerativeClustering(n_clusters=n_clusters,affinity='manhattan',linkage ='average')"
   ]
  },
  {
   "cell_type": "code",
   "execution_count": 436,
   "metadata": {},
   "outputs": [
    {
     "data": {
      "text/plain": [
       "AgglomerativeClustering(affinity='manhattan', compute_full_tree='auto',\n",
       "            connectivity=None, linkage='average', memory=None,\n",
       "            n_clusters=3, pooling_func=<function mean at 0x112384158>)"
      ]
     },
     "execution_count": 436,
     "metadata": {},
     "output_type": "execute_result"
    }
   ],
   "source": [
    "Model_C.fit(df7)"
   ]
  },
  {
   "cell_type": "code",
   "execution_count": 437,
   "metadata": {},
   "outputs": [
    {
     "data": {
      "text/plain": [
       "array([2, 2, 2, 1, 1, 0, 0, 0])"
      ]
     },
     "execution_count": 437,
     "metadata": {},
     "output_type": "execute_result"
    }
   ],
   "source": [
    "Model_C.labels_"
   ]
  },
  {
   "cell_type": "code",
   "execution_count": 438,
   "metadata": {},
   "outputs": [
    {
     "data": {
      "text/plain": [
       "6     8\n",
       "7     9\n",
       "8    10\n",
       "Name: 0, dtype: int64"
      ]
     },
     "execution_count": 438,
     "metadata": {},
     "output_type": "execute_result"
    }
   ],
   "source": [
    "X[Model_C.labels_ == 0]"
   ]
  },
  {
   "cell_type": "code",
   "execution_count": 439,
   "metadata": {
    "collapsed": true
   },
   "outputs": [],
   "source": [
    "def plot_cluster(model, c0, c1):\n",
    "    plt.scatter(X[model.labels_ == 0],y[model.labels_ == 0],s=100, c='b')\n",
    "    plt.scatter(X[model.labels_ == 1],y[model.labels_ == 1],s=100, c='r')\n",
    "    plt.scatter(X[model.labels_ == 2],y[model.labels_ == 2],s=100, c='g')\n",
    "    plt.show()"
   ]
  },
  {
   "cell_type": "code",
   "execution_count": 440,
   "metadata": {},
   "outputs": [
    {
     "data": {
      "image/png": "[encoded data removed]",
      "text/plain": [
       "<matplotlib.figure.Figure at 0x1a18d1ea90>"
      ]
     },
     "metadata": {},
     "output_type": "display_data"
    }
   ],
   "source": [
    "plot_cluster(Model_C,X,y)"
   ]
  },
  {
   "cell_type": "code",
   "execution_count": 441,
   "metadata": {
    "collapsed": true
   },
   "outputs": [],
   "source": [
    "from scipy.cluster.hierarchy import dendrogram, centroid"
   ]
  },
  {
   "cell_type": "code",
   "execution_count": 442,
   "metadata": {},
   "outputs": [
    {
     "data": {
      "text/html": [
       "<div>\n",
       "<style scoped>\n",
       "    .dataframe tbody tr th:only-of-type {\n",
       "        vertical-align: middle;\n",
       "    }\n",
       "\n",
       "    .dataframe tbody tr th {\n",
       "        vertical-align: top;\n",
       "    }\n",
       "\n",
       "    .dataframe thead th {\n",
       "        text-align: right;\n",
       "    }\n",
       "</style>\n",
       "<table border=\"1\" class=\"dataframe\">\n",
       "  <thead>\n",
       "    <tr style=\"text-align: right;\">\n",
       "      <th></th>\n",
       "      <th>0</th>\n",
       "      <th>1</th>\n",
       "    </tr>\n",
       "  </thead>\n",
       "  <tbody>\n",
       "    <tr>\n",
       "      <th>1</th>\n",
       "      <td>1</td>\n",
       "      <td>1</td>\n",
       "    </tr>\n",
       "    <tr>\n",
       "      <th>2</th>\n",
       "      <td>2</td>\n",
       "      <td>1</td>\n",
       "    </tr>\n",
       "    <tr>\n",
       "      <th>3</th>\n",
       "      <td>1</td>\n",
       "      <td>2</td>\n",
       "    </tr>\n",
       "    <tr>\n",
       "      <th>4</th>\n",
       "      <td>4</td>\n",
       "      <td>5</td>\n",
       "    </tr>\n",
       "    <tr>\n",
       "      <th>5</th>\n",
       "      <td>5</td>\n",
       "      <td>6</td>\n",
       "    </tr>\n",
       "    <tr>\n",
       "      <th>6</th>\n",
       "      <td>8</td>\n",
       "      <td>7</td>\n",
       "    </tr>\n",
       "    <tr>\n",
       "      <th>7</th>\n",
       "      <td>9</td>\n",
       "      <td>9</td>\n",
       "    </tr>\n",
       "    <tr>\n",
       "      <th>8</th>\n",
       "      <td>10</td>\n",
       "      <td>12</td>\n",
       "    </tr>\n",
       "  </tbody>\n",
       "</table>\n",
       "</div>"
      ],
      "text/plain": [
       "    0   1\n",
       "1   1   1\n",
       "2   2   1\n",
       "3   1   2\n",
       "4   4   5\n",
       "5   5   6\n",
       "6   8   7\n",
       "7   9   9\n",
       "8  10  12"
      ]
     },
     "execution_count": 442,
     "metadata": {},
     "output_type": "execute_result"
    }
   ],
   "source": [
    "df7"
   ]
  },
  {
   "cell_type": "code",
   "execution_count": 443,
   "metadata": {},
   "outputs": [
    {
     "data": {
      "text/plain": [
       "array([[ 0.        ,  1.        ,  1.        ,  2.        ],\n",
       "       [ 2.        ,  8.        ,  1.11803399,  3.        ],\n",
       "       [ 3.        ,  4.        ,  1.41421356,  2.        ],\n",
       "       [ 5.        ,  6.        ,  2.23606798,  2.        ],\n",
       "       [ 7.        , 11.        ,  4.27200187,  3.        ],\n",
       "       [ 9.        , 10.        ,  5.23343949,  5.        ],\n",
       "       [12.        , 13.        ,  9.00394975,  8.        ]])"
      ]
     },
     "execution_count": 443,
     "metadata": {},
     "output_type": "execute_result"
    }
   ],
   "source": [
    "Z = centroid(df7)\n",
    "Z"
   ]
  },
  {
   "cell_type": "markdown",
   "metadata": {},
   "source": [
    "__(a)\tCompute the distance between clusters when using the single linkage. What is the result of the next step of clustering?__"
   ]
  },
  {
   "cell_type": "code",
   "execution_count": 372,
   "metadata": {
    "collapsed": true
   },
   "outputs": [],
   "source": [
    "from scipy.cluster.hierarchy import dendrogram, linkage"
   ]
  },
  {
   "cell_type": "markdown",
   "metadata": {},
   "source": [
    "- Z[i,0] : 클러스터1 \n",
    "- Z[i,1] : 클러스터2\n",
    "- Z[i,2] : 1,2클러스터 간의 거리\n",
    "- Z[i,3] : 현재까지 클러스터링에 관여한 노드수"
   ]
  },
  {
   "cell_type": "code",
   "execution_count": 373,
   "metadata": {},
   "outputs": [
    {
     "data": {
      "text/plain": [
       "array([[ 0.        ,  1.        ,  1.        ,  2.        ],\n",
       "       [ 2.        ,  8.        ,  1.5       ,  3.        ],\n",
       "       [ 3.        ,  4.        ,  2.        ,  2.        ],\n",
       "       [ 5.        ,  6.        ,  3.        ,  2.        ],\n",
       "       [ 7.        , 11.        ,  5.5       ,  3.        ],\n",
       "       [ 9.        , 10.        ,  7.33333333,  5.        ],\n",
       "       [12.        , 13.        , 12.73333333,  8.        ]])"
      ]
     },
     "execution_count": 373,
     "metadata": {},
     "output_type": "execute_result"
    }
   ],
   "source": [
    "# generate the linkage matrix\n",
    "Z = linkage(df7, 'average', 'cityblock')\n",
    "Z"
   ]
  },
  {
   "cell_type": "code",
   "execution_count": 374,
   "metadata": {},
   "outputs": [
    {
     "data": {
      "text/plain": [
       "0.7762508549202956"
      ]
     },
     "execution_count": 374,
     "metadata": {},
     "output_type": "execute_result"
    }
   ],
   "source": [
    "from scipy.cluster.hierarchy import cophenet\n",
    "from scipy.spatial.distance import pdist\n",
    "\n",
    "c, coph_dists = cophenet(Z, pdist(df7))\n",
    "c"
   ]
  },
  {
   "cell_type": "code",
   "execution_count": 375,
   "metadata": {},
   "outputs": [
    {
     "data": {
      "text/plain": [
       "array([0., 1., 1., 2.])"
      ]
     },
     "execution_count": 375,
     "metadata": {},
     "output_type": "execute_result"
    }
   ],
   "source": [
    "Z[0]"
   ]
  },
  {
   "cell_type": "code",
   "execution_count": 376,
   "metadata": {},
   "outputs": [
    {
     "data": {
      "image/png": "[encoded data removed]",
      "text/plain": [
       "<matplotlib.figure.Figure at 0x1a1907b8d0>"
      ]
     },
     "metadata": {},
     "output_type": "display_data"
    }
   ],
   "source": [
    "# calculate full dendrogram\n",
    "plt.figure(figsize=(12, 6))\n",
    "plt.title('Hierarchical Clustering Dendrogram')\n",
    "plt.xlabel('sample index')\n",
    "plt.ylabel('distance')\n",
    "dendrogram(\n",
    "    Z,\n",
    "    leaf_rotation=90.,  # rotates the x axis labels\n",
    "    leaf_font_size=12,  # font size for the x axis labels\n",
    ")\n",
    "plt.show()"
   ]
  },
  {
   "cell_type": "code",
   "execution_count": 377,
   "metadata": {},
   "outputs": [
    {
     "data": {
      "text/plain": [
       "array([[ 0.,  1.,  1.,  2.],\n",
       "       [ 2.,  8.,  1.,  3.],\n",
       "       [ 3.,  4.,  2.,  2.],\n",
       "       [ 5.,  6.,  3.,  2.],\n",
       "       [10., 11.,  4.,  4.],\n",
       "       [ 7., 12.,  4.,  5.],\n",
       "       [ 9., 13.,  6.,  8.]])"
      ]
     },
     "execution_count": 377,
     "metadata": {},
     "output_type": "execute_result"
    }
   ],
   "source": [
    "# generate the linkage matrix\n",
    "Z = linkage(df7, 'single', 'cityblock')\n",
    "Z"
   ]
  },
  {
   "cell_type": "code",
   "execution_count": 378,
   "metadata": {},
   "outputs": [
    {
     "data": {
      "image/png": "[encoded data removed]",
      "text/plain": [
       "<matplotlib.figure.Figure at 0x1a1904a518>"
      ]
     },
     "metadata": {},
     "output_type": "display_data"
    }
   ],
   "source": [
    "# calculate full dendrogram\n",
    "plt.figure(figsize=(12, 6))\n",
    "plt.title('Hierarchical Clustering Dendrogram')\n",
    "plt.xlabel('sample index')\n",
    "plt.ylabel('distance')\n",
    "dendrogram(\n",
    "    Z,\n",
    "    leaf_rotation=90.,  # rotates the x axis labels\n",
    "    leaf_font_size=12,  # font size for the x axis labels\n",
    ")\n",
    "plt.show()"
   ]
  },
  {
   "cell_type": "code",
   "execution_count": 379,
   "metadata": {},
   "outputs": [
    {
     "data": {
      "text/plain": [
       "array([[ 0.,  1.,  1.,  2.],\n",
       "       [ 2.,  8.,  2.,  3.],\n",
       "       [ 3.,  4.,  2.,  2.],\n",
       "       [ 5.,  6.,  3.,  2.],\n",
       "       [ 7., 11.,  7.,  3.],\n",
       "       [ 9., 10.,  9.,  5.],\n",
       "       [12., 13., 20.,  8.]])"
      ]
     },
     "execution_count": 379,
     "metadata": {},
     "output_type": "execute_result"
    }
   ],
   "source": [
    "# generate the linkage matrix\n",
    "Z = linkage(df7, 'complete', 'cityblock')\n",
    "Z"
   ]
  },
  {
   "cell_type": "code",
   "execution_count": 380,
   "metadata": {},
   "outputs": [
    {
     "data": {
      "image/png": "[encoded data removed]",
      "text/plain": [
       "<matplotlib.figure.Figure at 0x1a18d5b4a8>"
      ]
     },
     "metadata": {},
     "output_type": "display_data"
    }
   ],
   "source": [
    "# calculate full dendrogram\n",
    "plt.figure(figsize=(12, 6))\n",
    "plt.title('Hierarchical Clustering Dendrogram')\n",
    "plt.xlabel('sample index')\n",
    "plt.ylabel('distance')\n",
    "dendrogram(\n",
    "    Z,\n",
    "    leaf_rotation=90.,  # rotates the x axis labels\n",
    "    leaf_font_size=12,  # font size for the x axis labels\n",
    ")\n",
    "plt.show()"
   ]
  },
  {
   "cell_type": "markdown",
   "metadata": {
    "collapsed": true
   },
   "source": [
    "# 8.dissimilarity measures\n",
    "The followings are the dissimilarity measures between ten different objects. Conduct clustering analysis by using 1) single linkage method, 2) complete linkage method, 3) average linkage method, respectively. \n",
    "<br/>\n",
    "\n",
    "Also, compute root-mean-square standard deviation of the new cluster (RMSSTD), semi-partial R-squared (SPR), and R-squared (R^2) for each step, and determine a proper number of clusters.\n"
   ]
  },
  {
   "cell_type": "code",
   "execution_count": 27,
   "metadata": {},
   "outputs": [
    {
     "data": {
      "text/plain": [
       "[[0],\n",
       " [587, 0],\n",
       " [1212, 920, 0],\n",
       " [701, 940, 879, 0],\n",
       " [1936, 1745, 831, 1374, 0],\n",
       " [604, 1188, 1726, 968, 2339, 0],\n",
       " [748, 713, 1631, 1420, 2451, 1092, 0],\n",
       " [2139, 1858, 949, 1645, 347, 2594, 2571, 0],\n",
       " [2182, 1737, 1021, 1891, 959, 2734, 2408, 678, 0],\n",
       " [543, 597, 1494, 1220, 2300, 923, 205, 2442, 2329, 0]]"
      ]
     },
     "execution_count": 27,
     "metadata": {},
     "output_type": "execute_result"
    }
   ],
   "source": [
    "#Make List\n",
    "data8 = [\n",
    "            [0],\n",
    "            [587,0],\n",
    "            [1212,920,0],\n",
    "            [701,940,879,0],\n",
    "            [1936,1745,831,1374,0],\n",
    "            [604,1188,1726,968,2339,0],\n",
    "            [748,713,1631,1420,2451,1092,0],\n",
    "            [2139,1858,949,1645,347,2594,2571,0],\n",
    "            [2182,1737,1021,1891,959,2734,2408,678,0],\n",
    "            [543,597,1494,1220,2300,923,205,2442,2329,0]\n",
    "        ]\n",
    "data8"
   ]
  },
  {
   "cell_type": "code",
   "execution_count": 28,
   "metadata": {},
   "outputs": [
    {
     "data": {
      "text/plain": [
       "matrix([[list([0])],\n",
       "        [list([587, 0])],\n",
       "        [list([1212, 920, 0])],\n",
       "        [list([701, 940, 879, 0])],\n",
       "        [list([1936, 1745, 831, 1374, 0])],\n",
       "        [list([604, 1188, 1726, 968, 2339, 0])],\n",
       "        [list([748, 713, 1631, 1420, 2451, 1092, 0])],\n",
       "        [list([2139, 1858, 949, 1645, 347, 2594, 2571, 0])],\n",
       "        [list([2182, 1737, 1021, 1891, 959, 2734, 2408, 678, 0])],\n",
       "        [list([543, 597, 1494, 1220, 2300, 923, 205, 2442, 2329, 0])]],\n",
       "       dtype=object)"
      ]
     },
     "execution_count": 28,
     "metadata": {},
     "output_type": "execute_result"
    }
   ],
   "source": [
    "#Make Matrix\n",
    "M_data8 = np.matrix(data8).T\n",
    "M_data8"
   ]
  },
  {
   "cell_type": "code",
   "execution_count": 29,
   "metadata": {},
   "outputs": [
    {
     "data": {
      "text/html": [
       "<div>\n",
       "<style scoped>\n",
       "    .dataframe tbody tr th:only-of-type {\n",
       "        vertical-align: middle;\n",
       "    }\n",
       "\n",
       "    .dataframe tbody tr th {\n",
       "        vertical-align: top;\n",
       "    }\n",
       "\n",
       "    .dataframe thead th {\n",
       "        text-align: right;\n",
       "    }\n",
       "</style>\n",
       "<table border=\"1\" class=\"dataframe\">\n",
       "  <thead>\n",
       "    <tr style=\"text-align: right;\">\n",
       "      <th></th>\n",
       "      <th>0</th>\n",
       "      <th>1</th>\n",
       "      <th>2</th>\n",
       "      <th>3</th>\n",
       "      <th>4</th>\n",
       "      <th>5</th>\n",
       "      <th>6</th>\n",
       "      <th>7</th>\n",
       "      <th>8</th>\n",
       "      <th>9</th>\n",
       "    </tr>\n",
       "  </thead>\n",
       "  <tbody>\n",
       "    <tr>\n",
       "      <th>1</th>\n",
       "      <td>0</td>\n",
       "      <td>NaN</td>\n",
       "      <td>NaN</td>\n",
       "      <td>NaN</td>\n",
       "      <td>NaN</td>\n",
       "      <td>NaN</td>\n",
       "      <td>NaN</td>\n",
       "      <td>NaN</td>\n",
       "      <td>NaN</td>\n",
       "      <td>NaN</td>\n",
       "    </tr>\n",
       "    <tr>\n",
       "      <th>2</th>\n",
       "      <td>587</td>\n",
       "      <td>0.0</td>\n",
       "      <td>NaN</td>\n",
       "      <td>NaN</td>\n",
       "      <td>NaN</td>\n",
       "      <td>NaN</td>\n",
       "      <td>NaN</td>\n",
       "      <td>NaN</td>\n",
       "      <td>NaN</td>\n",
       "      <td>NaN</td>\n",
       "    </tr>\n",
       "    <tr>\n",
       "      <th>3</th>\n",
       "      <td>1212</td>\n",
       "      <td>920.0</td>\n",
       "      <td>0.0</td>\n",
       "      <td>NaN</td>\n",
       "      <td>NaN</td>\n",
       "      <td>NaN</td>\n",
       "      <td>NaN</td>\n",
       "      <td>NaN</td>\n",
       "      <td>NaN</td>\n",
       "      <td>NaN</td>\n",
       "    </tr>\n",
       "    <tr>\n",
       "      <th>4</th>\n",
       "      <td>701</td>\n",
       "      <td>940.0</td>\n",
       "      <td>879.0</td>\n",
       "      <td>0.0</td>\n",
       "      <td>NaN</td>\n",
       "      <td>NaN</td>\n",
       "      <td>NaN</td>\n",
       "      <td>NaN</td>\n",
       "      <td>NaN</td>\n",
       "      <td>NaN</td>\n",
       "    </tr>\n",
       "    <tr>\n",
       "      <th>5</th>\n",
       "      <td>1936</td>\n",
       "      <td>1745.0</td>\n",
       "      <td>831.0</td>\n",
       "      <td>1374.0</td>\n",
       "      <td>0.0</td>\n",
       "      <td>NaN</td>\n",
       "      <td>NaN</td>\n",
       "      <td>NaN</td>\n",
       "      <td>NaN</td>\n",
       "      <td>NaN</td>\n",
       "    </tr>\n",
       "    <tr>\n",
       "      <th>6</th>\n",
       "      <td>604</td>\n",
       "      <td>1188.0</td>\n",
       "      <td>1726.0</td>\n",
       "      <td>968.0</td>\n",
       "      <td>2339.0</td>\n",
       "      <td>0.0</td>\n",
       "      <td>NaN</td>\n",
       "      <td>NaN</td>\n",
       "      <td>NaN</td>\n",
       "      <td>NaN</td>\n",
       "    </tr>\n",
       "    <tr>\n",
       "      <th>7</th>\n",
       "      <td>748</td>\n",
       "      <td>713.0</td>\n",
       "      <td>1631.0</td>\n",
       "      <td>1420.0</td>\n",
       "      <td>2451.0</td>\n",
       "      <td>1092.0</td>\n",
       "      <td>0.0</td>\n",
       "      <td>NaN</td>\n",
       "      <td>NaN</td>\n",
       "      <td>NaN</td>\n",
       "    </tr>\n",
       "    <tr>\n",
       "      <th>8</th>\n",
       "      <td>2139</td>\n",
       "      <td>1858.0</td>\n",
       "      <td>949.0</td>\n",
       "      <td>1645.0</td>\n",
       "      <td>347.0</td>\n",
       "      <td>2594.0</td>\n",
       "      <td>2571.0</td>\n",
       "      <td>0.0</td>\n",
       "      <td>NaN</td>\n",
       "      <td>NaN</td>\n",
       "    </tr>\n",
       "    <tr>\n",
       "      <th>9</th>\n",
       "      <td>2182</td>\n",
       "      <td>1737.0</td>\n",
       "      <td>1021.0</td>\n",
       "      <td>1891.0</td>\n",
       "      <td>959.0</td>\n",
       "      <td>2734.0</td>\n",
       "      <td>2408.0</td>\n",
       "      <td>678.0</td>\n",
       "      <td>0.0</td>\n",
       "      <td>NaN</td>\n",
       "    </tr>\n",
       "    <tr>\n",
       "      <th>10</th>\n",
       "      <td>543</td>\n",
       "      <td>597.0</td>\n",
       "      <td>1494.0</td>\n",
       "      <td>1220.0</td>\n",
       "      <td>2300.0</td>\n",
       "      <td>923.0</td>\n",
       "      <td>205.0</td>\n",
       "      <td>2442.0</td>\n",
       "      <td>2329.0</td>\n",
       "      <td>0.0</td>\n",
       "    </tr>\n",
       "  </tbody>\n",
       "</table>\n",
       "</div>"
      ],
      "text/plain": [
       "       0       1       2       3       4       5       6       7       8    9\n",
       "1      0     NaN     NaN     NaN     NaN     NaN     NaN     NaN     NaN  NaN\n",
       "2    587     0.0     NaN     NaN     NaN     NaN     NaN     NaN     NaN  NaN\n",
       "3   1212   920.0     0.0     NaN     NaN     NaN     NaN     NaN     NaN  NaN\n",
       "4    701   940.0   879.0     0.0     NaN     NaN     NaN     NaN     NaN  NaN\n",
       "5   1936  1745.0   831.0  1374.0     0.0     NaN     NaN     NaN     NaN  NaN\n",
       "6    604  1188.0  1726.0   968.0  2339.0     0.0     NaN     NaN     NaN  NaN\n",
       "7    748   713.0  1631.0  1420.0  2451.0  1092.0     0.0     NaN     NaN  NaN\n",
       "8   2139  1858.0   949.0  1645.0   347.0  2594.0  2571.0     0.0     NaN  NaN\n",
       "9   2182  1737.0  1021.0  1891.0   959.0  2734.0  2408.0   678.0     0.0  NaN\n",
       "10   543   597.0  1494.0  1220.0  2300.0   923.0   205.0  2442.0  2329.0  0.0"
      ]
     },
     "execution_count": 29,
     "metadata": {},
     "output_type": "execute_result"
    }
   ],
   "source": [
    "#Make data frame\n",
    "df8 = pd.DataFrame(data8)\n",
    "df8.index += 1 \n",
    "df8"
   ]
  },
  {
   "cell_type": "code",
   "execution_count": null,
   "metadata": {
    "collapsed": true
   },
   "outputs": [],
   "source": []
  },
  {
   "cell_type": "code",
   "execution_count": null,
   "metadata": {
    "collapsed": true
   },
   "outputs": [],
   "source": []
  },
  {
   "cell_type": "code",
   "execution_count": null,
   "metadata": {
    "collapsed": true
   },
   "outputs": [],
   "source": []
  },
  {
   "cell_type": "code",
   "execution_count": null,
   "metadata": {
    "collapsed": true
   },
   "outputs": [],
   "source": []
  },
  {
   "cell_type": "code",
   "execution_count": null,
   "metadata": {
    "collapsed": true
   },
   "outputs": [],
   "source": []
  },
  {
   "cell_type": "code",
   "execution_count": null,
   "metadata": {
    "collapsed": true
   },
   "outputs": [],
   "source": []
  },
  {
   "cell_type": "markdown",
   "metadata": {},
   "source": [
    "# 9-a. k-means & K-medoids"
   ]
  },
  {
   "cell_type": "markdown",
   "metadata": {},
   "source": [
    "a)\tFind the clustering solution by using k-means algorithm.\n",
    "You are required to generate two clusters among 7 objects with a single variable."
   ]
  },
  {
   "cell_type": "code",
   "execution_count": 86,
   "metadata": {},
   "outputs": [
    {
     "data": {
      "text/plain": [
       "[[2, 2.5, 5.5, 6, 9, 11, 12]]"
      ]
     },
     "execution_count": 86,
     "metadata": {},
     "output_type": "execute_result"
    }
   ],
   "source": [
    "#Make List\n",
    "data9 = [\n",
    "        [2,2.5,5.5,6,9,11,12]\n",
    "        ]\n",
    "data9"
   ]
  },
  {
   "cell_type": "code",
   "execution_count": 103,
   "metadata": {},
   "outputs": [
    {
     "data": {
      "text/plain": [
       "array([ 2. ,  2.5,  5.5,  6. ,  9. , 11. , 12. ])"
      ]
     },
     "execution_count": 103,
     "metadata": {},
     "output_type": "execute_result"
    }
   ],
   "source": [
    "A_data9 = np.array([2,2.5,5.5,6,9,11,12])\n",
    "A_data9"
   ]
  },
  {
   "cell_type": "code",
   "execution_count": 104,
   "metadata": {},
   "outputs": [
    {
     "data": {
      "text/plain": [
       "matrix([[ 2. ],\n",
       "        [ 2.5],\n",
       "        [ 5.5],\n",
       "        [ 6. ],\n",
       "        [ 9. ],\n",
       "        [11. ],\n",
       "        [12. ]])"
      ]
     },
     "execution_count": 104,
     "metadata": {},
     "output_type": "execute_result"
    }
   ],
   "source": [
    "#Make Matrix\n",
    "M_data9 = np.matrix(A_data9).T\n",
    "M_data9"
   ]
  },
  {
   "cell_type": "code",
   "execution_count": 106,
   "metadata": {},
   "outputs": [
    {
     "data": {
      "text/html": [
       "<div>\n",
       "<style scoped>\n",
       "    .dataframe tbody tr th:only-of-type {\n",
       "        vertical-align: middle;\n",
       "    }\n",
       "\n",
       "    .dataframe tbody tr th {\n",
       "        vertical-align: top;\n",
       "    }\n",
       "\n",
       "    .dataframe thead th {\n",
       "        text-align: right;\n",
       "    }\n",
       "</style>\n",
       "<table border=\"1\" class=\"dataframe\">\n",
       "  <thead>\n",
       "    <tr style=\"text-align: right;\">\n",
       "      <th></th>\n",
       "      <th>0</th>\n",
       "    </tr>\n",
       "  </thead>\n",
       "  <tbody>\n",
       "    <tr>\n",
       "      <th>1</th>\n",
       "      <td>2.0</td>\n",
       "    </tr>\n",
       "    <tr>\n",
       "      <th>2</th>\n",
       "      <td>2.5</td>\n",
       "    </tr>\n",
       "    <tr>\n",
       "      <th>3</th>\n",
       "      <td>5.5</td>\n",
       "    </tr>\n",
       "    <tr>\n",
       "      <th>4</th>\n",
       "      <td>6.0</td>\n",
       "    </tr>\n",
       "    <tr>\n",
       "      <th>5</th>\n",
       "      <td>9.0</td>\n",
       "    </tr>\n",
       "    <tr>\n",
       "      <th>6</th>\n",
       "      <td>11.0</td>\n",
       "    </tr>\n",
       "    <tr>\n",
       "      <th>7</th>\n",
       "      <td>12.0</td>\n",
       "    </tr>\n",
       "  </tbody>\n",
       "</table>\n",
       "</div>"
      ],
      "text/plain": [
       "      0\n",
       "1   2.0\n",
       "2   2.5\n",
       "3   5.5\n",
       "4   6.0\n",
       "5   9.0\n",
       "6  11.0\n",
       "7  12.0"
      ]
     },
     "execution_count": 106,
     "metadata": {},
     "output_type": "execute_result"
    }
   ],
   "source": [
    "#Make data frame\n",
    "df9 = pd.DataFrame(A_data9)\n",
    "df9.index += 1 \n",
    "df9"
   ]
  },
  {
   "cell_type": "code",
   "execution_count": 148,
   "metadata": {},
   "outputs": [
    {
     "data": {
      "image/png": "[encoded data removed]",
      "text/plain": [
       "<matplotlib.figure.Figure at 0x1a1919f240>"
      ]
     },
     "metadata": {},
     "output_type": "display_data"
    }
   ],
   "source": [
    "val = 0.\n",
    "plt.plot(data9, np.zeros_like(data9) + val, 'b.')\n",
    "plt.show()"
   ]
  },
  {
   "cell_type": "code",
   "execution_count": 140,
   "metadata": {},
   "outputs": [
    {
     "data": {
      "text/plain": [
       "array([[0., 0., 0., 0., 0., 0., 0.]])"
      ]
     },
     "execution_count": 140,
     "metadata": {},
     "output_type": "execute_result"
    }
   ],
   "source": [
    "np.zeros_like(data9)"
   ]
  },
  {
   "cell_type": "code",
   "execution_count": 116,
   "metadata": {},
   "outputs": [
    {
     "data": {
      "text/plain": [
       "1     2.0\n",
       "2     2.5\n",
       "3     5.5\n",
       "4     6.0\n",
       "5     9.0\n",
       "6    11.0\n",
       "7    12.0\n",
       "Name: 0, dtype: float64"
      ]
     },
     "execution_count": 116,
     "metadata": {},
     "output_type": "execute_result"
    }
   ],
   "source": [
    "df9[0]"
   ]
  },
  {
   "cell_type": "code",
   "execution_count": 118,
   "metadata": {
    "collapsed": true,
    "scrolled": false
   },
   "outputs": [],
   "source": [
    "from sklearn.cluster import KMeans\n",
    "\n",
    "cost = []\n",
    "kmeans = KMeans(n_clusters=2, random_state=0).fit(M_data9)\n",
    "cost.append(abs(kmeans.score(M_data9)))"
   ]
  },
  {
   "cell_type": "code",
   "execution_count": 119,
   "metadata": {},
   "outputs": [
    {
     "data": {
      "text/plain": [
       "[17.166666666666686]"
      ]
     },
     "execution_count": 119,
     "metadata": {},
     "output_type": "execute_result"
    }
   ],
   "source": [
    "cost"
   ]
  },
  {
   "cell_type": "code",
   "execution_count": 120,
   "metadata": {},
   "outputs": [
    {
     "data": {
      "text/plain": [
       "array([1, 1, 1, 1, 0, 0, 0], dtype=int32)"
      ]
     },
     "execution_count": 120,
     "metadata": {},
     "output_type": "execute_result"
    }
   ],
   "source": [
    "kmeans.labels_"
   ]
  },
  {
   "cell_type": "code",
   "execution_count": 121,
   "metadata": {},
   "outputs": [
    {
     "data": {
      "text/plain": [
       "array([[10.66666667],\n",
       "       [ 4.        ]])"
      ]
     },
     "execution_count": 121,
     "metadata": {},
     "output_type": "execute_result"
    }
   ],
   "source": [
    "kmeans.cluster_centers_›"
   ]
  },
  {
   "cell_type": "code",
   "execution_count": 145,
   "metadata": {},
   "outputs": [
    {
     "data": {
      "image/png": "[encoded data removed]",
      "text/plain": [
       "<matplotlib.figure.Figure at 0x1a18175630>"
      ]
     },
     "metadata": {},
     "output_type": "display_data"
    }
   ],
   "source": [
    "val = 0.\n",
    "plt.plot(M_data9[kmeans.labels_ == 0], np.zeros_like(M_data9[kmeans.labels_ == 0]) + val, 'o')\n",
    "plt.plot(M_data9[kmeans.labels_ == 1], np.zeros_like(M_data9[kmeans.labels_ == 1]) + val, 'o')\n",
    "plt.show()"
   ]
  },
  {
   "cell_type": "code",
   "execution_count": 132,
   "metadata": {},
   "outputs": [
    {
     "data": {
      "text/plain": [
       "matrix([[ 9.],\n",
       "        [11.],\n",
       "        [12.]])"
      ]
     },
     "execution_count": 132,
     "metadata": {},
     "output_type": "execute_result"
    }
   ],
   "source": [
    "M_data9[kmeans.labels_ == 0,0]"
   ]
  },
  {
   "cell_type": "code",
   "execution_count": 134,
   "metadata": {},
   "outputs": [
    {
     "data": {
      "text/plain": [
       "matrix([[2. ],\n",
       "        [2.5],\n",
       "        [5.5],\n",
       "        [6. ]])"
      ]
     },
     "execution_count": 134,
     "metadata": {},
     "output_type": "execute_result"
    }
   ],
   "source": [
    "M_data9[kmeans.labels_ == 1,0]"
   ]
  },
  {
   "cell_type": "markdown",
   "metadata": {},
   "source": [
    "b) K-medoids\n",
    "<br/>\n",
    "- Kmeans의 한계 : 아웃라이어나 noise에 민감하다\n",
    "- K-medoids = 클러스터의 대표값으로 오브젝트의 중심점을 구하는 것이다.\n",
    "<br/>\n",
    "\n",
    "- K-mean의 경우 평균을 대표값으로 가져가기 떄문에 분산을 기준으로 알고리즘이 진행되는데\n",
    "- K-medoid는 중앙값을 대표값으로 가져가므로 위처럼 절대 오차를 기준으로 진행된다."
   ]
  },
  {
   "cell_type": "markdown",
   "metadata": {},
   "source": [
    "## 10. There are n observations with a single variable x_1,…,x_n (in other words, there are n points on a line). And, we are trying to generate two clusters among those observations by using k-means algorithm."
   ]
  },
  {
   "cell_type": "markdown",
   "metadata": {},
   "source": [
    "## 11. The following is a loan list of a library."
   ]
  },
  {
   "cell_type": "markdown",
   "metadata": {},
   "source": [
    "## 12. recommended\n",
    "\n",
    "The following shows evaluated weights of target user for four important words, and weights for new five documents. List the documents that will be recommended in order of priority"
   ]
  },
  {
   "cell_type": "code",
   "execution_count": 216,
   "metadata": {},
   "outputs": [
    {
     "data": {
      "text/html": [
       "<div>\n",
       "<style scoped>\n",
       "    .dataframe tbody tr th:only-of-type {\n",
       "        vertical-align: middle;\n",
       "    }\n",
       "\n",
       "    .dataframe tbody tr th {\n",
       "        vertical-align: top;\n",
       "    }\n",
       "\n",
       "    .dataframe thead th {\n",
       "        text-align: right;\n",
       "    }\n",
       "</style>\n",
       "<table border=\"1\" class=\"dataframe\">\n",
       "  <thead>\n",
       "    <tr style=\"text-align: right;\">\n",
       "      <th></th>\n",
       "      <th>word1</th>\n",
       "      <th>word2</th>\n",
       "      <th>word3</th>\n",
       "      <th>word4</th>\n",
       "    </tr>\n",
       "  </thead>\n",
       "  <tbody>\n",
       "    <tr>\n",
       "      <th>target user</th>\n",
       "      <td>0.2240</td>\n",
       "      <td>0.0750</td>\n",
       "      <td>0.1190</td>\n",
       "      <td>0.2820</td>\n",
       "    </tr>\n",
       "    <tr>\n",
       "      <th>document1</th>\n",
       "      <td>0.0194</td>\n",
       "      <td>0.0043</td>\n",
       "      <td>0.0054</td>\n",
       "      <td>0.0151</td>\n",
       "    </tr>\n",
       "    <tr>\n",
       "      <th>document2</th>\n",
       "      <td>0.0081</td>\n",
       "      <td>0.0092</td>\n",
       "      <td>0.0127</td>\n",
       "      <td>0.0104</td>\n",
       "    </tr>\n",
       "    <tr>\n",
       "      <th>document3</th>\n",
       "      <td>0.0087</td>\n",
       "      <td>0.0174</td>\n",
       "      <td>0.0091</td>\n",
       "      <td>0.0185</td>\n",
       "    </tr>\n",
       "    <tr>\n",
       "      <th>document4</th>\n",
       "      <td>0.0093</td>\n",
       "      <td>0.0061</td>\n",
       "      <td>0.0172</td>\n",
       "      <td>0.0028</td>\n",
       "    </tr>\n",
       "    <tr>\n",
       "      <th>document5</th>\n",
       "      <td>0.0183</td>\n",
       "      <td>0.0249</td>\n",
       "      <td>0.0084</td>\n",
       "      <td>0.0267</td>\n",
       "    </tr>\n",
       "  </tbody>\n",
       "</table>\n",
       "</div>"
      ],
      "text/plain": [
       "              word1   word2   word3   word4\n",
       "target user  0.2240  0.0750  0.1190  0.2820\n",
       "document1    0.0194  0.0043  0.0054  0.0151\n",
       "document2    0.0081  0.0092  0.0127  0.0104\n",
       "document3    0.0087  0.0174  0.0091  0.0185\n",
       "document4    0.0093  0.0061  0.0172  0.0028\n",
       "document5    0.0183  0.0249  0.0084  0.0267"
      ]
     },
     "execution_count": 216,
     "metadata": {},
     "output_type": "execute_result"
    }
   ],
   "source": [
    "data = {\n",
    "        'word1':[0.224,0.0194,0.0081,0.0087,0.0093,0.0183],\n",
    "        'word2':[0.075,0.0043,0.0092,0.0174,0.0061,0.0249],\n",
    "        'word3':[0.119,0.0054,0.0127,0.0091,0.0172,0.0084],\n",
    "        'word4':[0.282,0.0151,0.0104,0.0185,0.0028,0.0267]\n",
    "}\n",
    "index = ['target user','document1','document2','document3','document4','document5']\n",
    "df12 = pd.DataFrame(data,index=index)\n",
    "df12"
   ]
  },
  {
   "cell_type": "code",
   "execution_count": 209,
   "metadata": {
    "collapsed": true
   },
   "outputs": [],
   "source": [
    "from sklearn.metrics.pairwise import cosine_similarity"
   ]
  },
  {
   "cell_type": "code",
   "execution_count": 230,
   "metadata": {},
   "outputs": [
    {
     "data": {
      "text/plain": [
       "array([[0.96923993, 0.87724584, 0.87171736, 0.67272994, 0.89922903]])"
      ]
     },
     "execution_count": 230,
     "metadata": {},
     "output_type": "execute_result"
    }
   ],
   "source": [
    "sol12 = cosine_similarity(df12[:1],df12[1:])\n",
    "sol12"
   ]
  },
  {
   "cell_type": "markdown",
   "metadata": {},
   "source": [
    "## 13. The following is market basket data.\n"
   ]
  },
  {
   "cell_type": "code",
   "execution_count": 234,
   "metadata": {},
   "outputs": [
    {
     "data": {
      "text/html": [
       "<div>\n",
       "<style scoped>\n",
       "    .dataframe tbody tr th:only-of-type {\n",
       "        vertical-align: middle;\n",
       "    }\n",
       "\n",
       "    .dataframe tbody tr th {\n",
       "        vertical-align: top;\n",
       "    }\n",
       "\n",
       "    .dataframe thead th {\n",
       "        text-align: right;\n",
       "    }\n",
       "</style>\n",
       "<table border=\"1\" class=\"dataframe\">\n",
       "  <thead>\n",
       "    <tr style=\"text-align: right;\">\n",
       "      <th></th>\n",
       "      <th>product1</th>\n",
       "      <th>product2</th>\n",
       "      <th>product3</th>\n",
       "      <th>product4</th>\n",
       "      <th>product5</th>\n",
       "      <th>product6</th>\n",
       "    </tr>\n",
       "  </thead>\n",
       "  <tbody>\n",
       "    <tr>\n",
       "      <th>Targetcustomer</th>\n",
       "      <td>1</td>\n",
       "      <td>0</td>\n",
       "      <td>0</td>\n",
       "      <td>0</td>\n",
       "      <td>0</td>\n",
       "      <td>1</td>\n",
       "    </tr>\n",
       "    <tr>\n",
       "      <th>customer1</th>\n",
       "      <td>0</td>\n",
       "      <td>0</td>\n",
       "      <td>1</td>\n",
       "      <td>1</td>\n",
       "      <td>0</td>\n",
       "      <td>1</td>\n",
       "    </tr>\n",
       "    <tr>\n",
       "      <th>customer2</th>\n",
       "      <td>1</td>\n",
       "      <td>1</td>\n",
       "      <td>1</td>\n",
       "      <td>0</td>\n",
       "      <td>0</td>\n",
       "      <td>1</td>\n",
       "    </tr>\n",
       "    <tr>\n",
       "      <th>customer3</th>\n",
       "      <td>1</td>\n",
       "      <td>0</td>\n",
       "      <td>0</td>\n",
       "      <td>1</td>\n",
       "      <td>0</td>\n",
       "      <td>0</td>\n",
       "    </tr>\n",
       "    <tr>\n",
       "      <th>customer4</th>\n",
       "      <td>1</td>\n",
       "      <td>1</td>\n",
       "      <td>0</td>\n",
       "      <td>1</td>\n",
       "      <td>1</td>\n",
       "      <td>1</td>\n",
       "    </tr>\n",
       "    <tr>\n",
       "      <th>customer5</th>\n",
       "      <td>0</td>\n",
       "      <td>1</td>\n",
       "      <td>0</td>\n",
       "      <td>1</td>\n",
       "      <td>1</td>\n",
       "      <td>0</td>\n",
       "    </tr>\n",
       "  </tbody>\n",
       "</table>\n",
       "</div>"
      ],
      "text/plain": [
       "                product1  product2  product3  product4  product5  product6\n",
       "Targetcustomer         1         0         0         0         0         1\n",
       "customer1              0         0         1         1         0         1\n",
       "customer2              1         1         1         0         0         1\n",
       "customer3              1         0         0         1         0         0\n",
       "customer4              1         1         0         1         1         1\n",
       "customer5              0         1         0         1         1         0"
      ]
     },
     "execution_count": 234,
     "metadata": {},
     "output_type": "execute_result"
    }
   ],
   "source": [
    "\n",
    "data = {\n",
    "    'customer1':[0,0,1,1,0,1],\n",
    "    'customer2':[1,1,1,0,0,1],\n",
    "    'customer3':[1,0,0,1,0,0],\n",
    "    'customer4':[1,1,0,1,1,1],\n",
    "    'customer5':[0,1,0,1,1,0],\n",
    "    'Targetcustomer':[1,0,0,0,0,1]\n",
    "}\n",
    "\n",
    "index = ['product1','product2','product3','product4','product5','product6']\n",
    "df13 = pd.DataFrame(data,index=index)\n",
    "df13 = df13.T\n",
    "df13"
   ]
  },
  {
   "cell_type": "code",
   "execution_count": 455,
   "metadata": {
    "collapsed": true
   },
   "outputs": [],
   "source": [
    "MT = df13.ix['Targetcustomer'].mean()\n",
    "M1 = df13.ix['customer1'].mean()\n",
    "M2 = df13.ix['customer2'].mean()\n",
    "M3 = df13.ix['customer3'].mean()\n",
    "M4 = df13.ix['customer4'].mean()\n",
    "M5 = df13.ix['customer5'].mean()"
   ]
  },
  {
   "cell_type": "code",
   "execution_count": 500,
   "metadata": {
    "collapsed": true
   },
   "outputs": [],
   "source": [
    "p_a = 1/6"
   ]
  },
  {
   "cell_type": "code",
   "execution_count": 498,
   "metadata": {},
   "outputs": [
    {
     "data": {
      "text/plain": [
       "matrix([[0.5       , 0.66666667, 0.33333333, 0.83333333, 0.5       ]])"
      ]
     },
     "execution_count": 498,
     "metadata": {},
     "output_type": "execute_result"
    }
   ],
   "source": [
    "p_i = [3/6,4/6,2/6,5/6,3/6]\n",
    "A = np.matrix(p_i)\n",
    "A"
   ]
  },
  {
   "cell_type": "code",
   "execution_count": 499,
   "metadata": {},
   "outputs": [
    {
     "data": {
      "text/plain": [
       "matrix([[0.16666667, 0.33333333, 0.16666667, 0.33333333, 0.        ]])"
      ]
     },
     "execution_count": 499,
     "metadata": {},
     "output_type": "execute_result"
    }
   ],
   "source": [
    "p_ai =[1/6,2/6,1/6,2/6,0]\n",
    "B = np.matrix(p_ai)\n",
    "B"
   ]
  },
  {
   "cell_type": "code",
   "execution_count": 509,
   "metadata": {
    "collapsed": true
   },
   "outputs": [],
   "source": [
    "import math"
   ]
  },
  {
   "cell_type": "code",
   "execution_count": 516,
   "metadata": {},
   "outputs": [
    {
     "name": "stdout",
     "output_type": "stream",
     "text": [
      "0.4472135954999579\n",
      "1.2649110640673515\n",
      "0.6324555320336758\n",
      "1.4000000000000001\n",
      "-0.4472135954999579\n"
     ]
    }
   ],
   "source": [
    "w_a =[]\n",
    "for i in range(5):\n",
    "    w= (p_ai[i]-p_a*p_i[i])/(math.sqrt(p_a*(1-p_a))*math.sqrt(p_i[i]*(1-p_i[i])))\n",
    "    w_a.append(abs(w))\n",
    "    print(w)"
   ]
  },
  {
   "cell_type": "code",
   "execution_count": 517,
   "metadata": {},
   "outputs": [
    {
     "data": {
      "text/plain": [
       "[0.4472135954999579,\n",
       " 1.2649110640673515,\n",
       " 0.6324555320336758,\n",
       " 1.4000000000000001,\n",
       " 0.4472135954999579]"
      ]
     },
     "execution_count": 517,
     "metadata": {},
     "output_type": "execute_result"
    }
   ],
   "source": [
    "w_a"
   ]
  },
  {
   "cell_type": "code",
   "execution_count": 520,
   "metadata": {},
   "outputs": [
    {
     "data": {
      "text/plain": [
       "4.191793787100944"
      ]
     },
     "execution_count": 520,
     "metadata": {},
     "output_type": "execute_result"
    }
   ],
   "source": [
    "k_a = sum(w_a)\n",
    "k_a"
   ]
  },
  {
   "cell_type": "code",
   "execution_count": 546,
   "metadata": {},
   "outputs": [
    {
     "data": {
      "text/plain": [
       "Targetcustomer    1\n",
       "customer1         0\n",
       "customer2         1\n",
       "customer3         1\n",
       "customer4         1\n",
       "customer5         0\n",
       "Name: product1, dtype: int64"
      ]
     },
     "execution_count": 546,
     "metadata": {},
     "output_type": "execute_result"
    }
   ],
   "source": [
    "df13['product1']"
   ]
  },
  {
   "cell_type": "code",
   "execution_count": 619,
   "metadata": {},
   "outputs": [
    {
     "data": {
      "text/plain": [
       "Targetcustomer    1\n",
       "customer1         0\n",
       "customer2         1\n",
       "customer3         1\n",
       "customer4         1\n",
       "customer5         0\n",
       "Name: product1, dtype: int64"
      ]
     },
     "execution_count": 619,
     "metadata": {},
     "output_type": "execute_result"
    }
   ],
   "source": [
    "df13['product1']"
   ]
  },
  {
   "cell_type": "code",
   "execution_count": 548,
   "metadata": {},
   "outputs": [
    {
     "data": {
      "text/plain": [
       "12.268888813985303"
      ]
     },
     "execution_count": 548,
     "metadata": {},
     "output_type": "execute_result"
    }
   ],
   "source": [
    "a =[]\n",
    "final =[]\n",
    "for j in range(5):\n",
    "    a.append(w_a[j]*df13['product1'][j])\n",
    "    b=sum(a)\n",
    "\n",
    "b*k_a"
   ]
  },
  {
   "cell_type": "code",
   "execution_count": 549,
   "metadata": {},
   "outputs": [
    {
     "data": {
      "text/plain": [
       "4.525750340920182"
      ]
     },
     "execution_count": 549,
     "metadata": {},
     "output_type": "execute_result"
    }
   ],
   "source": [
    "a =[]\n",
    "final =[]\n",
    "for j in range(5):\n",
    "    a.append(w_a[j]*df13['product2'][j])\n",
    "    b=sum(a)\n",
    "\n",
    "b*k_a"
   ]
  },
  {
   "cell_type": "code",
   "execution_count": 550,
   "metadata": {},
   "outputs": [
    {
     "data": {
      "text/plain": [
       "7.9533695093891525"
      ]
     },
     "execution_count": 550,
     "metadata": {},
     "output_type": "execute_result"
    }
   ],
   "source": [
    "a =[]\n",
    "final =[]\n",
    "for j in range(5):\n",
    "    a.append(w_a[j]*df13['product3'][j])\n",
    "    b=sum(a)\n",
    "\n",
    "b*k_a"
   ]
  },
  {
   "cell_type": "code",
   "execution_count": 551,
   "metadata": {},
   "outputs": [
    {
     "data": {
      "text/plain": [
       "13.045384812657888"
      ]
     },
     "execution_count": 551,
     "metadata": {},
     "output_type": "execute_result"
    }
   ],
   "source": [
    "a =[]\n",
    "final =[]\n",
    "for j in range(5):\n",
    "    a.append(w_a[j]*df13['product4'][j])\n",
    "    b=sum(a)\n",
    "\n",
    "b*k_a"
   ]
  },
  {
   "cell_type": "code",
   "execution_count": 552,
   "metadata": {},
   "outputs": [
    {
     "data": {
      "text/plain": [
       "1.8746271711237983"
      ]
     },
     "execution_count": 552,
     "metadata": {},
     "output_type": "execute_result"
    }
   ],
   "source": [
    "a =[]\n",
    "final =[]\n",
    "for j in range(5):\n",
    "    a.append(w_a[j]*df13['product5'][j])\n",
    "    b=sum(a)\n",
    "\n",
    "b*k_a"
   ]
  },
  {
   "cell_type": "code",
   "execution_count": null,
   "metadata": {
    "collapsed": true
   },
   "outputs": [],
   "source": []
  }
 ],
 "metadata": {
  "kernelspec": {
   "display_name": "Python 3",
   "language": "python",
   "name": "python3"
  },
  "language_info": {
   "codemirror_mode": {
    "name": "ipython",
    "version": 3
   },
   "file_extension": ".py",
   "mimetype": "text/x-python",
   "name": "python",
   "nbconvert_exporter": "python",
   "pygments_lexer": "ipython3",
   "version": "3.6.3"
  }
 },
 "nbformat": 4,
 "nbformat_minor": 2
}
