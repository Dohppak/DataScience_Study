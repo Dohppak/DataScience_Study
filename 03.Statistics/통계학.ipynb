{
 "cells": [
  {
   "cell_type": "markdown",
   "metadata": {},
   "source": [
    "## Measures of Central Tendency\n",
    "\n",
    "- Average\n",
    "- Median\n",
    "- Mode\n",
    "- Quantiles ($\\alpha$% of data)\n",
    "- QQ plot\n",
    "    - Data plot for 2 Variables\n",
    "    - Distribution의 차이를 알 수 있다."
   ]
  },
  {
   "cell_type": "markdown",
   "metadata": {},
   "source": [
    "## Measures of Dispersion\n",
    "- Range\n",
    "    - Maximum - Minmum\n",
    "- Interquartile Range\n",
    "    - IQR = $x_{0.75}-x_{0.25}$\n",
    "- Deviation\n",
    "    - Certain value A를 기준으로 모든 데이터를 뺀고 더해서, 갯수로 나눈 것\n",
    "    - $D = \\frac{1}{n}\\sum_{i=1}^{n}(x_{i}-A)$\n",
    "- Absolute Deviation\n",
    "    - $D(x_{0.5})$ = Absolute median deviation\n",
    "    - $D(x_{0.5}) = \\frac{1}{n}\\sum_{i=1}^{n}(x_{i}-x_{0.5})$\n",
    "- Mean Squared Error\n",
    "- Variance(Special Case of Mean Squared Error)\n",
    "- Standard Deviation\n",
    "- Variance Decomposition\n",
    "    - Within group\n",
    "    - Between group\n",
    "- Coefficient of Variation\n",
    "- Box plot"
   ]
  },
  {
   "cell_type": "markdown",
   "metadata": {},
   "source": [
    "## Chapter 4, Association of Two Variables\n",
    "\n",
    "- Relative Probability\n",
    "$$\n",
    "\\frac{P(D|S)}{P(D|NS)}\n",
    "$$\n",
    "\n",
    "- Odds of Diesase for smoker\n",
    "$$\n",
    "\\frac{P(D|S)}{1-P(D|S)}\n",
    "$$\n",
    "\n",
    "- Odds ratio\n",
    "\n",
    "\n",
    "#### if Independence\n",
    "2개의 Variable이 독립이라면, \n",
    "\n",
    "- Relative Probability = 1\n",
    "- Odds Ratio = 1\n",
    "\n",
    "Association의 direction을 결정해 줍니다.\n",
    "\n",
    "## Association Betweeen Ordinal and Continuous Variables\n",
    "\n",
    "Linear and Nonlinear\n",
    "- Numerical data = scatter plot\n",
    "- Correlation Coefficient (Pearson)\n",
    "    -"
   ]
  },
  {
   "cell_type": "markdown",
   "metadata": {},
   "source": [
    "## Combination and Permutation\n",
    "- Replacement and Order\n",
    "    - 제일 마지막꺼 빼고 다시 넣어서 뽑게 됩니다. 때문에 추출하는부분을 더해주고 마지막 친구를 뺴게 됩니다."
   ]
  },
  {
   "cell_type": "markdown",
   "metadata": {},
   "source": [
    "## Elements of Probability Theory\n",
    "\n",
    "확률론을 배우는 이유는 Randomness라는 개념이 들어오게 됩니다. Uncertainty가 존재하게 됩니다. Actions들은 이벤트가 발생한 가능도랑 연관이 있습니다. \n",
    "- Likelihoods : \n",
    "- Probability : \n",
    "\n",
    "\n",
    "### Sample Space\n",
    "- The set of all possible outcomes\n",
    "- Random Experiments\n",
    "- Sample Space : All possible outcomes\n",
    "- Events : Any subset of the sample space\n",
    "    - Simple event\n",
    "    - Complementary event : subset의 여집합\n",
    "- Null event : 그냥 정의만 됩니다.\n",
    "\n",
    "\n",
    "### Relative Frequency and Laplace Probability\n",
    "\n",
    "실험을 엄청 많이 반복하게 된다면, 그 결과의 Frequency를 계산할수있고, 그것들의 Relative Frequency를 계산할수 있습니다.\n",
    "- There is a close connection between the relative frequency and probability\n",
    "\n",
    "m개의 가능한 outcome이 n번의 실험에서 나오게 된다면, 각 outcome의 count = Absolutie frequency를 정의할때, random event의 relatvie frequency를 정의 가능합니다.\n",
    "\n",
    "#### Probability Limiting relative frequency of an event (극한 상대빈도)\n",
    "Cardinality : Set에 있는 모든 경우의 수\n",
    "-> Element가 Countable할때만 쓸수 있다.\n",
    "\n",
    "확률을 좀더 수학적으로는 정의한다면 set function이다. \n",
    "- Set을 input으로 하고 real number를 output으로 하는 function이다. \n",
    "- 왜 measure? "
   ]
  },
  {
   "cell_type": "code",
   "execution_count": null,
   "metadata": {},
   "outputs": [],
   "source": []
  }
 ],
 "metadata": {
  "kernelspec": {
   "display_name": "python3.6",
   "language": "python",
   "name": "python3.6"
  },
  "language_info": {
   "codemirror_mode": {
    "name": "ipython",
    "version": 3
   },
   "file_extension": ".py",
   "mimetype": "text/x-python",
   "name": "python",
   "nbconvert_exporter": "python",
   "pygments_lexer": "ipython3",
   "version": "3.6.8"
  }
 },
 "nbformat": 4,
 "nbformat_minor": 2
}
