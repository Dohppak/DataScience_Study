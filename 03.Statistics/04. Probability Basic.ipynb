{
 "cells": [
  {
   "cell_type": "markdown",
   "metadata": {},
   "source": [
    "# 확률론 (Probability theory)\n",
    "\n",
    "불확실성의 논리(Logic of Uncertainty)라고 불리기도 합니다. 불확실성을 수치로 만드는 수단이기 떄문입니다.\n",
    "\n",
    "- Law of large number : states that as more observations are collected the proportion of occurrences with a particular outcome coverges to the probability of that outcome\n",
    "- Frequentist : The probability of an outcome is the proportion of times if we observed the random process an infinite number of times.\n",
    "- Bayesian : Probability as a subjective degree of belif\n",
    "    \n",
    "Distribution에 영향력을 주면 independent 하지는 않습니다."
   ]
  },
  {
   "cell_type": "markdown",
   "metadata": {},
   "source": [
    "### Lo 1. Define the probability of an outcome\n",
    "proportion of times the outcome would occur if we observed the random process that gives rise to it an infinite number of items.\n",
    "\n",
    "- Experience : 어떤 Outcome 을 발생시키는 행위, 실험, 조사, 관찰\n",
    "- Sample space : 실험에서 얻을수 있는 모든 결과의 집합\n",
    "- Event : 어떤 실험에서 가능한 한개 또는 여러개의 결과, 표본공간의 부분집합\n",
    "- Probability : Some outcomes이 발생할 Chance 나 Likelihood\n",
    "\n",
    "\n",
    "여기서 정의를 살펴본다면 Sample Space, Event에 대한 정의는 집합(Set)과 연관이 있음을 알 수 있습니다.\n",
    "\n",
    "$$\n",
    "P(A)=\\frac{\\text{Number of Some outcomes}}{\\text{Number of All outcomes}}\n",
    "$$\n",
    "만약 우리가 $P(A)$를 해석한다면, 여기서 대문자 P는 매우 중요한 Notataion입니다 확률을 의미하게 됩니다. A는 사건입니다. 즉 표본공간의 부분집합이죠. 직 우리는 모든 가능한 outcomes으로 원하는 outcomes를 나눠서 확률을 정의할 수 있습니다. 그러나 이떄는 모든 사건이 Fair하고 Finite Sample Space인 경우를 가정해야합니다. 그래야 분모가 무한대로 가지 않기 떄문입니다.\n",
    "\n",
    "### Counting\n",
    "여기서 재밌는 점은 우리가 Number of ~ 라는 표현을 쓰는 것입니다. 네 그렇습니다. 확률의 가장 근원이 되는 연산은 바로 Counting입니다. 분자와 분모를 계산하기 위해서는 우리는 Counting을 해야합니다. \n",
    "- Multiplication Rule : $n_{1}$\n",
    "\n",
    "\n",
    "### Binominal Coefficient "
   ]
  },
  {
   "cell_type": "markdown",
   "metadata": {},
   "source": [
    "### Lo 2. Events\n",
    "Long-run relative frequency of repeated independent events settles down to the turn probability as the number of trials increases\n",
    "- Disjoint\n",
    "- Independent"
   ]
  },
  {
   "cell_type": "markdown",
   "metadata": {},
   "source": [
    "### Lo 3. Define disjoint events as events that cannnot both happen at the same time\n",
    "- If A and B are disjoint $P(A \\cap B) = 0$"
   ]
  },
  {
   "cell_type": "markdown",
   "metadata": {},
   "source": [
    "### Lo 4. Distingish between disjoint and independent events\n",
    "- If A and B are independent, then having information on A does not tell us anything about B (Process view)\n",
    "- If A and B are disjoint, then knowing that A occurs tells us that B cannot occur. (Event view)\n",
    "- Disjoint(mutually exclusive) events are always dependent since if one events occurs we know the other one cannot\n",
    "\n",
    "<br/>\n",
    "- Example\n",
    "    - Outcomes of one coin toss are disjoint and dependent\n",
    "    - Outcomes of two coin tosses are independent"
   ]
  },
  {
   "cell_type": "markdown",
   "metadata": {},
   "source": [
    "### Lo 5. Define probability distribution as a list of the possible outcomes with corresponding probability\n",
    "\n",
    "probability distribution : lists all possible outcomes in the sample space, and the probabilities with which they occur.\n",
    "- The outcomes listed must be disjoint.\n",
    "- Each probability must be between 0 and 1.\n",
    "- The probabilities must total 1"
   ]
  },
  {
   "cell_type": "markdown",
   "metadata": {},
   "source": [
    "### Lo 6. Define complementary, union, intersection\n",
    "- If A and B are complementary, $P(A)+P(B) = 1$\n",
    "- Calculate the probability of union of events using the addition rule\n",
    "    - If A and B are not mutually exculsive,$P(AorB)=P(A)+P(B)-P(AandB)$\n",
    "    - If A and B are mutually exclusive, $P(AorB)=P(A)+P(B)$, because of $P(A\\cap B)=0$\n",
    "- Calculate the probability of intersection of independent events using the multiplication rule\n",
    "    - If A and B are independent,$P(AandB)=P(A)$ x $P(B)$\n",
    "    - If A and B are dependent, $P(AandB)=P(A|B)$ x $P(B)$"
   ]
  },
  {
   "cell_type": "markdown",
   "metadata": {},
   "source": [
    "### Lo 7. Disjoint vs complementary\n",
    "- Complemetary events are always necessarily disjoined by definition\n",
    "- However, Disjoint not necessarily alwas complimentary"
   ]
  },
  {
   "cell_type": "code",
   "execution_count": null,
   "metadata": {
    "collapsed": true
   },
   "outputs": [],
   "source": []
  }
 ],
 "metadata": {
  "kernelspec": {
   "display_name": "Python 3",
   "language": "python",
   "name": "python3"
  },
  "language_info": {
   "codemirror_mode": {
    "name": "ipython",
    "version": 3
   },
   "file_extension": ".py",
   "mimetype": "text/x-python",
   "name": "python",
   "nbconvert_exporter": "python",
   "pygments_lexer": "ipython3",
   "version": "3.7.4"
  }
 },
 "nbformat": 4,
 "nbformat_minor": 2
}
