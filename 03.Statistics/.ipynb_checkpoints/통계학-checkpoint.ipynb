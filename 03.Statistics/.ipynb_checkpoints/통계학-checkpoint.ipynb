{
 "cells": [
  {
   "cell_type": "markdown",
   "metadata": {},
   "source": [
    "## Measures of Central Tendency\n",
    "\n",
    "- Average\n",
    "- Median\n",
    "- Mode\n",
    "- Quantiles ($\\alpha$% of data)\n",
    "- QQ plot\n",
    "    - Data plot for 2 Variables\n",
    "    - Distribution의 차이를 알 수 있다."
   ]
  },
  {
   "cell_type": "markdown",
   "metadata": {},
   "source": [
    "## Measures of Dispersion\n",
    "- Range\n",
    "    - Maximum - Minmum\n",
    "- Interquartile Range\n",
    "    - IQR = $x_{0.75}-x_{0.25}$\n",
    "- Deviation\n",
    "    - Certain value A를 기준으로 모든 데이터를 뺀고 더해서, 갯수로 나눈 것\n",
    "    - $D = \\frac{1}{n}\\sum_{i=1}^{n}(x_{i}-A)$\n",
    "- Absolute Deviation\n",
    "    - $D(x_{0.5})$ = Absolute median deviation\n",
    "    - $D(x_{0.5}) = \\frac{1}{n}\\sum_{i=1}^{n}(x_{i}-x_{0.5})$\n",
    "- Mean Squared Error\n",
    "- Variance(Special Case of Mean Squared Error)\n",
    "- Standard Deviation\n",
    "- Variance Decomposition\n",
    "    - Within group\n",
    "    - Between group\n",
    "- Coefficient of Variation\n",
    "- Box plot"
   ]
  },
  {
   "cell_type": "code",
   "execution_count": null,
   "metadata": {},
   "outputs": [],
   "source": []
  }
 ],
 "metadata": {
  "kernelspec": {
   "display_name": "python3.6",
   "language": "python",
   "name": "python3.6"
  },
  "language_info": {
   "codemirror_mode": {
    "name": "ipython",
    "version": 3
   },
   "file_extension": ".py",
   "mimetype": "text/x-python",
   "name": "python",
   "nbconvert_exporter": "python",
   "pygments_lexer": "ipython3",
   "version": "3.6.8"
  }
 },
 "nbformat": 4,
 "nbformat_minor": 2
}
