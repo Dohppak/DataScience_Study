{
 "cells": [
  {
   "cell_type": "markdown",
   "metadata": {},
   "source": [
    "## Linear Basis Function Models\n",
    "\n",
    "목표 : 실수 범위의 입력 변수 x를 관찰한 후에 이 관찰 값을 바탕으로 실수 범위의 타겟 t의 값을 예측하고 싶다.\n",
    "\n",
    "- Linear model\n",
    "$$\n",
    "y({\\bf x}, {\\bf w}) = w_0+w_1x_1+...w_Dx_D \n",
    "$$\n",
    "\n",
    "- 이 함수는 직선이나, HyperPlane을 만들어내며, 보통 분류문제에서 많이 활용된다.\n",
    "- 이 모델의 파라미터는 $w$벡터이다. \n",
    "- 이 식은 입력 데이터에 $x$ 대해서 선형식이다.\n",
    "$$\n",
    "y({\\bf x}, {\\bf w}) = w_0 + \\sum_{j=1}^{M-1}{w_j\\phi_j(x)}\n",
    "$$\n",
    "\n",
    "- 이 식을 일반화 시킴에 따라서 $x$라는 함수에 $\\phi()$가 추가되었다.\n",
    "    - 이 함수는 기저함수 이다.\n",
    "    - 기저함수의 도입으로 기존에 $x$에 대해서 선형식이던 $y_(x,w)$함수가 x에 대해서 비선형 함수가 될 수 있다.\n",
    "    - 기저함수는 Global Function의 조건을 만족한다.\n",
    "    \n",
    "- Global Function\n",
    "    - 입력값의 범위가 변하더라도, 함수 전체 수식에서 다르게 적용되어 최종 출력값이 크게 변한다.\n",
    "    - 함수 근사에 대한 한계점이 존재한다.\n",
    "    "
   ]
  },
  {
   "cell_type": "markdown",
   "metadata": {},
   "source": [
    "- Parameter Distribution\n"
   ]
  },
  {
   "cell_type": "code",
   "execution_count": null,
   "metadata": {},
   "outputs": [],
   "source": []
  }
 ],
 "metadata": {
  "kernelspec": {
   "display_name": "python3.6",
   "language": "python",
   "name": "python3.6"
  },
  "language_info": {
   "codemirror_mode": {
    "name": "ipython",
    "version": 3
   },
   "file_extension": ".py",
   "mimetype": "text/x-python",
   "name": "python",
   "nbconvert_exporter": "python",
   "pygments_lexer": "ipython3",
   "version": "3.6.6"
  }
 },
 "nbformat": 4,
 "nbformat_minor": 2
}
