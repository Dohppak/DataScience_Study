{
 "cells": [
  {
   "cell_type": "markdown",
   "metadata": {},
   "source": [
    "# Random Process\n",
    "\n",
    "Sample space에서 나온 원소하나를 숫자로 보내는 것이 Random variable 입니다. 확률론에서는 확률 공간에서 다른 measurable space로 가는 함수 또는 확률적인 과정에 따라 값이 결정되는 변수를 확률변수(Random variable)이라고 표현했습니다. 우리의 확률변수가 증가함에 따라서 차원이 확장됩니다. Random process는 이러한 확률 변수를 무한 차원으로 확장해서 정의하고 싶을 때 사용하는 개념입니다.\n",
    "\n",
    "### 무한차원이란? \n",
    "함수는 무한차원의 백터입니다. 무한차원은 몇번째 element를 가르치는것이 실수가 됩니다. input이 실수 전체인 함수가 됩니다. 함수의 공간에 확률을 부여하는게 random process입니다. "
   ]
  },
  {
   "cell_type": "markdown",
   "metadata": {},
   "source": [
    "## Random Process\n",
    "$X_{t}(w),t∈I:$ 이 때 '$X_t$'가 시간 '$t$'에 따라 변하는 random function을 의미하고, '$w$'는 sample space '$\\Omega$'에서 뽑은 event를 의미한다. \n",
    "- random sequence, random function, 또는 random signal은 다움과 같이 표현이 됩니다.:\n",
    "    - $X_{t} : Ω$ \n",
    "    - $Ω$ the set of all sequences or functions, 모든 시퀀스와 함수의 집합\n",
    "- Indexed family of infinite number of random variables:\n",
    "    - $X_{t} : I$ \n",
    "    - set of all random variables defined on $Ω$\n",
    "- $X_{t} : Ω × I → R$\n",
    "    - R은 실수집합입니다.\n",
    "- If $t$ is fixed, then a random process becomes a random variable.\n",
    "    - 시점이 고정된다면 랜덤프로세스는 확률변수가 됩니다."
   ]
  },
  {
   "cell_type": "markdown",
   "metadata": {},
   "source": [
    "<img src='./images/RP.png' width=80%>\n"
   ]
  },
  {
   "cell_type": "markdown",
   "metadata": {},
   "source": [
    "Random process X_{t}는 다음과 같은 조건이 충족된다면 completely characterized 됩니다.\n",
    "- $P((X_{t_{1}},··· ,X_{t_{k}} ) ∈ B)$ 다음이 어떠한 $B, k,$ and $t_{1},··· ,t_{k}$\n",
    "- 주어진 랜덤프로세스에 대해서는, 오직 ’finite-dimensional’ probabilities 이나 probability functions 만이 specified 할수 있습니다.\n",
    "- 고정 된 시점에 대해서는 $t∈T$,$X_{t}(w)$ 랜덤 프로세스는 확률변수가 됩니다.\n",
    "- 고정된 input에 대해서는 $w ∈ Ω$, X_{t}(w) 는 t에 대해서 deterministic function 이 됩니다. 우리는 이것을 sample path.라고 부릅니다\n",
    "\n",
    "랜덤프로세스는 다음과 같은 종류를 가지게 됩니다.\n",
    "- discrete-time\n",
    "- continuous-time \n",
    "- discrete-valued\n",
    "- continuous-valued\n"
   ]
  },
  {
   "cell_type": "markdown",
   "metadata": {},
   "source": [
    "이렇게 정의된 random process를 표현할 때 많이 사용되는 식이 moment, 즉 mean function과 covariance function이다. 물론 RP가 시간의 개념이 들어가기 때문에 이러한 mean과 covariance 역시 시간이 들어간다. \n",
    "\n",
    "#### Mean function \n",
    "\n",
    "$$ m_{X}(t) = EX_t  $$\n",
    "\n",
    "#### Auto-correlation function (acf)\n",
    "\n",
    "$$ R_X(t, s) = EX_tX_s$$\n",
    "\n",
    "\n",
    "\n",
    "만약 어떤 RP가 다음의 특성을 만족한다면 우리는 해당 RP를 (wide-sense) stationary, wss 라 한다. \n",
    "\n",
    "1. '$m_X(t+\\tau) = m_X(t) = m_X$' 즉 mean function이 상수이다. \n",
    "\n",
    "2. '$R_X(t, s) = R_X(t-s)$', 즉 acf과 두 indicating variable 사이의 거리의 함수이다.  "
   ]
  },
  {
   "cell_type": "markdown",
   "metadata": {},
   "source": [
    "Note that given a random process, only ’finite-dimensional’ probabilities or probability functions can be specified.\n",
    "\n",
    "랜덤프로세스가 주어진다면, 어떤 모델인지, 어떤 확률 함수를 가지게 되는지 찾을 수 있다. \n",
    "- raw data = 랜덤프로세스의 결과값\n",
    "- Parameter => mean, variation\n",
    "- Probability function => Gaussian\n",
    "\n",
    "’finite-dimensional’ probabilities or probability functions으로 나온다."
   ]
  }
 ],
 "metadata": {
  "kernelspec": {
   "display_name": "python3.6",
   "language": "python",
   "name": "python3.6"
  },
  "language_info": {
   "codemirror_mode": {
    "name": "ipython",
    "version": 3
   },
   "file_extension": ".py",
   "mimetype": "text/x-python",
   "name": "python",
   "nbconvert_exporter": "python",
   "pygments_lexer": "ipython3",
   "version": "3.6.6"
  }
 },
 "nbformat": 4,
 "nbformat_minor": 2
}
