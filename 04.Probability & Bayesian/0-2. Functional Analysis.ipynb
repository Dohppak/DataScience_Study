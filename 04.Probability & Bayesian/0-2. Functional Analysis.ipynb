{
 "cells": [
  {
   "cell_type": "markdown",
   "metadata": {},
   "source": [
    "## Functional Analysis\n",
    "\n",
    "set은 아무런 구조가 없다. element만 있다.\n",
    "- set function : element를 셀수 있다.\n",
    "- measure : element의 영역을 계산할 수 있다.\n",
    "\n",
    "\n",
    "- Vector space: algebraic structures 의 공간 (addition, scalar multiplication, ...), 대수관계라는 약속을 지키는 공간입니다.\n",
    "    - 숫자들의 연산 뿐만 아니라, 함수끼리도 연산이 가능하다.\n",
    "- Metric space: Vector에 거리를 주는 공간 (distance)\n",
    "    - 2개의 원소를 입력으로 받아서 거리를 return\n",
    "    - 거리는 항상 0보다 크다.\n",
    "    - 두개가 같으면 0이다.\n",
    "    - Triangle : 두점과 임의의 기준점에 따라서 삼각형을 만들도\n",
    "- Normed space: Metric space에 놈을 주는 공간 norm (size)\n",
    "    - Norm은 하나의 원소에 대해서도 정의가 가능하다.\n",
    "- Inner-product space: norm space 안에서 내적이 정의된 공간 (similarity)\n",
    "    - 두개의 원소가 들어가서 유사도가 나온다.\n",
    "- Hilbert space: complete space"
   ]
  },
  {
   "cell_type": "markdown",
   "metadata": {},
   "source": [
    "## Inner product\n",
    "\n",
    "Linear 하고 Symmetric한 $H$라는 벡터공간에 대해서, 두개의 백터공간을 input으로 받아서 실수를 반환하는 것이 inner product이다.\n",
    "\n",
    "\n",
    "Let $H$ be a vector space over $R$. A function $⟨·,·⟩_{H}$: $H×H→R$ is an inner product on $H$ if\n",
    "1. Linear : $⟨α_{1}f_{1} +α_{2}f_{2},g⟩_{H}$\n",
    "2. Symmetric : $⟨f,g⟩_{H}=⟨g,h⟩_{H}$\n",
    "3. $⟨f,f⟩_{H}≥0$and $⟨f,f⟩_{H} =0$ if and only if $f =0$.\n",
    "\n",
    "innerproduct가 정의되면 Norm역시 정의되며, metric역시 정의됩니다."
   ]
  },
  {
   "cell_type": "markdown",
   "metadata": {},
   "source": [
    "## Hilbert space\n",
    "\n",
    "쭉 지나갔을때, 끝점이 나의 공간속에 포함되는 공간이다.(Complete)\n",
    "\n",
    "• Inner product space containing Cauchy sequence limits.\n",
    "⇒ Complete space\n",
    "⇒ Always possible to fill all the holes. \n",
    "⇒ $R$(실수) is complete, $Q$(무리수) is not complete."
   ]
  },
  {
   "cell_type": "markdown",
   "metadata": {},
   "source": [
    "## Kernel\n",
    "\n",
    "커널은 함수이다. X라는 셋이 있고, 셋 두개의 inner-product가 실수의 집합으로 가는 함수를 커널이라고 한다. Set만 있으면 된다. Set에 있는 element를 내적이 정의되어있는 Hilbert space로 보내는 Map $\\phi$ 이다.\n",
    "\n",
    "- Let $X$ be a non-empty set. \n",
    "- A function $k : X × X → R$ is a kernel if\n",
    "there exists a Hilbert space $H$ and a map $φ:X →H$ such that $∀x,x′ ∈X$,\n",
    "$k(x, x′) = ⟨φ(x), φ(x′)⟩_{H.}$ \n",
    "- Note that there is almost no condition on X.\n",
    "\n",
    "커널은 시퀀스에 대해서 정의될 수 있습니다.\n",
    "\n",
    "#### Kernel Method\n",
    "- 입력을 무한차원으로 보낸다.\n",
    "- XOR문제를 커널을 통해 풀어봅시다.\n",
    "- Linear하게 나눌수 없는 문제를 더 큰 공간으로 보내서 분류 가능하게 한다.\n",
    "\n",
    "![](./images/kernel.png)"
   ]
  },
  {
   "cell_type": "markdown",
   "metadata": {},
   "source": [
    "## Function operator\n",
    "\n",
    "- "
   ]
  }
 ],
 "metadata": {
  "kernelspec": {
   "display_name": "python3.6",
   "language": "python",
   "name": "python3.6"
  },
  "language_info": {
   "codemirror_mode": {
    "name": "ipython",
    "version": 3
   },
   "file_extension": ".py",
   "mimetype": "text/x-python",
   "name": "python",
   "nbconvert_exporter": "python",
   "pygments_lexer": "ipython3",
   "version": "3.6.6"
  }
 },
 "nbformat": 4,
 "nbformat_minor": 2
}
