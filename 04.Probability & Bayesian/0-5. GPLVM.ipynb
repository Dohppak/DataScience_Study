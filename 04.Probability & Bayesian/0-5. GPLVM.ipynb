{
 "cells": [
  {
   "cell_type": "markdown",
   "metadata": {},
   "source": [
    "## PPCA (Probabilistic Principle Component analysis)\n",
    "\n",
    "주어진 데이터 X가 있을 때, 데이터를 더 잘 표한 할수 있는 공간을 Y라고 했을 때, 이를 맵핑해주는 선형변환 W를 찾고 싶다. 물론 우리는 Bayesian 이기 때문에 모든 conditional distribution 이 정의 되야하고, 이 분포를 통해 MLE를 통해서 W를 찾아야한다."
   ]
  },
  {
   "cell_type": "markdown",
   "metadata": {},
   "source": [
    "## GPLVM (Gauss)\n",
    "\n",
    "우리가 nonlinear mapping을 하게 된다면, 어떨 것인가를  이를 해결하는 것이 Dual PPCA이다. 즉 PPCA가 MLE를 통해서 W를 찾는다면, PPCA는 미리 W에 대한 prior에 대한 prior를 주고, X에 대해서는 MLE를 풀게 된다. 이 부분의 kernel trick을 사용하면 Dual PPCA가 GPLVM으로 바뀌게 된다."
   ]
  },
  {
   "cell_type": "markdown",
   "metadata": {},
   "source": []
  }
 ],
 "metadata": {
  "kernelspec": {
   "display_name": "python3.6",
   "language": "python",
   "name": "python3.6"
  },
  "language_info": {
   "codemirror_mode": {
    "name": "ipython",
    "version": 3
   },
   "file_extension": ".py",
   "mimetype": "text/x-python",
   "name": "python",
   "nbconvert_exporter": "python",
   "pygments_lexer": "ipython3",
   "version": "3.6.6"
  }
 },
 "nbformat": 4,
 "nbformat_minor": 2
}
