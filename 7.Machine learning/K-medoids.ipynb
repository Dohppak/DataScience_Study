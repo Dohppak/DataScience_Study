{
 "cells": [
  {
   "cell_type": "code",
   "execution_count": 1,
   "metadata": {
    "collapsed": true
   },
   "outputs": [],
   "source": [
    "from pyclustering.samples.definitions import SIMPLE_SAMPLES, FCPS_SAMPLES;\n",
    "\n",
    "from pyclustering.cluster import cluster_visualizer;\n",
    "from pyclustering.cluster.kmedoids import kmedoids;\n",
    "\n",
    "from pyclustering.utils import read_sample;\n",
    "from pyclustering.utils import timedcall;\n"
   ]
  },
  {
   "cell_type": "code",
   "execution_count": 2,
   "metadata": {
    "collapsed": true
   },
   "outputs": [],
   "source": [
    "def template_clustering(start_medoids, path, tolerance = 0.25, show = True):\n",
    "    sample = read_sample(path);\n",
    "    \n",
    "    kmedoids_instance = kmedoids(sample, start_medoids, tolerance);\n",
    "    (ticks, result) = timedcall(kmedoids_instance.process);\n",
    "    \n",
    "    clusters = kmedoids_instance.get_clusters();\n",
    "    medoids = kmedoids_instance.get_medoids();\n",
    "    print(\"Sample: \", path, \"\\t\\tExecution time: \", ticks, \"\\n\");\n",
    "\n",
    "    if show is True:\n",
    "        visualizer = cluster_visualizer(1);\n",
    "        visualizer.append_clusters(clusters, sample, 0);\n",
    "        visualizer.append_cluster([ sample[index] for index in start_medoids ], marker = '*', markersize = 15);\n",
    "        visualizer.append_cluster(medoids, data=sample, marker='*', markersize=15);\n",
    "        visualizer.show();\n",
    "    \n",
    "    return (sample, clusters);"
   ]
  },
  {
   "cell_type": "code",
   "execution_count": null,
   "metadata": {
    "collapsed": true
   },
   "outputs": [],
   "source": []
  }
 ],
 "metadata": {
  "kernelspec": {
   "display_name": "Python 3",
   "language": "python",
   "name": "python3"
  },
  "language_info": {
   "codemirror_mode": {
    "name": "ipython",
    "version": 3
   },
   "file_extension": ".py",
   "mimetype": "text/x-python",
   "name": "python",
   "nbconvert_exporter": "python",
   "pygments_lexer": "ipython3",
   "version": "3.6.3"
  }
 },
 "nbformat": 4,
 "nbformat_minor": 2
}
