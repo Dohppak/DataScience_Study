{
 "cells": [
  {
   "cell_type": "markdown",
   "metadata": {},
   "source": [
    "## 기본원리\n",
    "\n",
    "- 오컴의 면도날 (Priniciple of Parsimony)\n",
    "    - 같은 현상을 설명하는 두가지 모형이 있다면, 단순한 모형을 선택한다\n",
    "<br/><br/>\n",
    "- 표집 편향 (Sampling Bias)\n",
    "    - 모집단의 대표성의 원리에 따라 표본을 추출하지 못할 때, 기계학습 알고리즘도 편향된 표본을 학습하여 결과를 왜곡시킨다.\n",
    "<br/><br/>\n",
    "- 데이터 염탐 편향 (Data Snooping Bias)\n",
    "    - 데이터를 본 후 알고리즘을 결정하는 것으로, 사실 데이터를 보기전에 모델을 선정해야한다. 데이터에 적합한 모델을 선정합시다!"
   ]
  },
  {
   "cell_type": "markdown",
   "metadata": {},
   "source": [
    "## 탐색적 데이터 분석 (EDA)\n",
    "\n",
    "기계학습 알고리즘이 학습을 얼마나 잘하느냐는 전적으로 데이터의 품질과 정보량에 달려있다. 따라서 정보를 잃지 않으면서 기계학습 알고리즘이 학습할 환경을 구비하는 것이 중요하다.\n",
    "\n",
    "- 데이터에 표함된 변수에 내재된 변동성(variation) 유형을 어떻게 되나\n",
    "- 변수들 간의 공변동(covariation)은 어떻게 되나?\n",
    "\n",
    "    - __변수하나 변동(Variation)__ : 변수 값은 측정 시점마다 변동하거나 다르게 측정되는 특성이 있는데 이를 변동이라고 부른다. \n",
    "    - __변수(Variable)__ : 측정할 수 있는 질적 속성, 양적 수량, 속성이 된다.\n",
    "    - __값(Value)__ : 값은 측정할 때 변수의 상태로 정의되어, 변수 값은 측정 시점마다 변하는 특징이 있다.\n",
    "    - __관측점(Observation)__ : 동일한 시점 동일한 객체에 대한 측정된 관측정보 집합.\n",
    "    - __이상점(Outlier)__ : 시각화 해서보자\n",
    "    - __공변동(Covariation)__\n",
    "        - 연속 x 연속 : 산점도 (ggplot, geom_freqpoly)\n",
    "        - 연속 x 범주 : 상자그림 (ggplot, geom_boxplot)\n",
    "        - 범주 x 범주 : 히트맵 (ggplot, geom_count, gemo_tile)\n",
    "        \n",
    "### 일반적인 변환\n",
    "\n",
    "- 매출, 판매수량, 가격, 가구소득 : $log(x)$\n",
    "- 지리적 거리 : $log(x)$\n",
    "- 효용에 근거한 시장점유율, 선호점유율 : $exp$\n",
    "- 우측으로 꼬리가 긴 분포 : $root$\n",
    "- 좌측으로 꼬리가 긴 분포 : $x^2$"
   ]
  },
  {
   "cell_type": "markdown",
   "metadata": {},
   "source": [
    "## 문제정의\n",
    "\n",
    "#### 유형\n",
    "- 탐색(Exploration) : 추세나 변수간 관계 같은 __패턴을 데이터에서 찾아, 후속 공정에서 귀무/대립 가설을 생성시킨다.__\n",
    "- 기술(descriptive) : 평균 소득, 임금표준오차, 모집단에서 왼손잡이 비율등 __데이터를 요약한다.__\n",
    "- 추론(Inference) : 가설을 지지하는 추론 질문을 생성한다.\n",
    "- 예측(Prediction) : 미래 행동양상을 예측한다.\n",
    "- 인과(Causality) : 인과관계를 파악한다.\n",
    "- 매커니즘(Mechanism) : 기계적 매커니즘을 파악한다.\n",
    "\n",
    "#### 통계기법 구분\n",
    "- 기술통계 : 탐색적 데이터 분석이 이 범주에 속한다. 데이터를 기술하고 이해한다.\n",
    "- 추론통계 : 모집단에 대한 추론을 가능하게 한다. 예측 & 기계학습\n",
    "    - 가장 수익성 높은 고객은? : 기술통계\n",
    "    - 지방과 수도권 고객간 수익성 차이가 있나? : 가설 검증\n",
    "    - 수도권 지방 고객의 특징은? : 고객 세분화와 군집분석\n",
    "    - 이번 특판행사 고객은 수익성 높은 고객이 될까? : 예측모형\n",
    "    \n",
    "    \n",
    "#### 머신러닝 문제정의 예시\n",
    "- 과거 거래실적 기반해서, 고객이 어떤 제품을 구매할 것인가?, 혹은 특정 검색 조건에 대한 최적 제품은?\n",
    "    - 비지도 학습으로 유사성과 거리관계 기준으로 묶는다 : K-means, KNN\n",
    "    - 장바구니에 함꼐 구매하는 패턴 학습 : 연관성\n",
    "    - 웹 브라우져 동일 세션에서 웹 페이지 예측 : 연관성\n",
    "    - 웹페이지와 광고효과 예측 : 연관성\n",
    "- 사기탐지, 해킹 거래 식별\n",
    "    - 선형 이항 회귀모형\n",
    "- 다양한 제품 가격을 변경할때 가격 탄력성 결정\n",
    "    - 회귀모형\n",
    "- 유사집단 내 혹은 외부 패턴에 따른 군집 분석\n",
    "    - 동일 지역, 동일 고객에서 가장 인기있는 제품?\n",
    "        - K-means (동일집단)\n",
    "    - 유사한 주제 혹은 정치적 이슈에 활발히 논의되는 신문기사?\n",
    "        - K-means (동일집단)\n",
    "    - 다른 유사한 고객의 구매정보에 기반한 제품 추천\n",
    "        - KNN (유사집단)\n",
    "    - 과거 거래된 실적 혹은 경매된 실적에 근거한 최종가격, 실적 예측\n",
    "        - KNN (유사집단)\n",
    "- Prediction : 내일 무슨일이 있는가?\n",
    "- Forecasting : 무슨일이 일어날 가능성은?\n",
    "\n",
    "        \n"
   ]
  },
  {
   "cell_type": "markdown",
   "metadata": {},
   "source": [
    "## 전처리 (Preprocessing)\n",
    "\n",
    "#### 결측값 대체\n",
    "결측값(missing value)은 보통 빈칸으로 내버려두거나, NaN(Not a Number) 혹은 NA (Not Applicable, Not Available)로 표기하여 자리를 차지해 둔다.\n",
    "- 파악, df.values 명령어를 사용하고, 결측값 갯수는 df.isnull().sum() 명령어로 확인한다.\n",
    "- 결측값을 제거하는 메쏘드는 df.dropna()가 있고, 행방향 혹은 열방향 기준으로 결측값을 제거할 경우 인자로 axis=0, axis=1를 df.dropna(axis=1)와 같이 넣어준다.\n",
    "- 임의결측(Missing at Random) : 중위수 대체법\n",
    "- 임의 결측이 아닌 경우 : Knn imputation\n",
    "\n",
    "#### 중심화\n",
    "- Centering\n",
    "#### 척도 조정 \n",
    "- Scaling\n",
    "#### 상관변수 추출 \n",
    "- PCA\n",
    "\n",
    "#### 변수 제거와 중복 변수 제거"
   ]
  },
  {
   "cell_type": "markdown",
   "metadata": {},
   "source": [
    "# 전처리 예시\n",
    "\n",
    "- Imputer 함수를 사용해서 결측값을 대치하는데, 인자로 missing_values=에 결측값 대상을 정의하고, strategy=에 평균으로 대치하면 mean, 중위값으로 대치하면 median, 범주형 자료의 경우는 가장 많은 최빈치로 most_frequent를 넣어주고, 행기준이면, axis=0, 열기준이면 axis=1로 설정한다."
   ]
  },
  {
   "cell_type": "code",
   "execution_count": 10,
   "metadata": {},
   "outputs": [
    {
     "data": {
      "text/plain": [
       "array([[   1. ,    2. ,  175. ,   75. ,    3. ],\n",
       "       [   4. ,    2. ,  165. ,   72.5,    1. ],\n",
       "       [   2.5,    2. ,  180. ,   70. ,    2. ]])"
      ]
     },
     "execution_count": 10,
     "metadata": {},
     "output_type": "execute_result"
    }
   ],
   "source": [
    "from sklearn.preprocessing import Imputer\n",
    "import pandas as pd\n",
    "df = pd.DataFrame([\n",
    "        ['1','NaN','175','75','3'],\n",
    "        ['4','2','165','NaN','1'],\n",
    "        ['NaN','2','180','70','NaN']        \n",
    "    ])\n",
    "df.columns = ['A','B','C', 'D','E']\n",
    "imp_mean = Imputer(missing_values='NaN', strategy='mean', axis=0)\n",
    "imp_mean = imp_mean.fit(df)\n",
    "imp_mean_dat = imp_mean.transform(df.values)\n",
    "imp_mean_dat"
   ]
  },
  {
   "cell_type": "code",
   "execution_count": 11,
   "metadata": {},
   "outputs": [
    {
     "data": {
      "text/html": [
       "<div>\n",
       "<style scoped>\n",
       "    .dataframe tbody tr th:only-of-type {\n",
       "        vertical-align: middle;\n",
       "    }\n",
       "\n",
       "    .dataframe tbody tr th {\n",
       "        vertical-align: top;\n",
       "    }\n",
       "\n",
       "    .dataframe thead th {\n",
       "        text-align: right;\n",
       "    }\n",
       "</style>\n",
       "<table border=\"1\" class=\"dataframe\">\n",
       "  <thead>\n",
       "    <tr style=\"text-align: right;\">\n",
       "      <th></th>\n",
       "      <th>고향</th>\n",
       "      <th>계급</th>\n",
       "      <th>키</th>\n",
       "      <th>몸무게</th>\n",
       "      <th>소속</th>\n",
       "    </tr>\n",
       "  </thead>\n",
       "  <tbody>\n",
       "    <tr>\n",
       "      <th>0</th>\n",
       "      <td>서울</td>\n",
       "      <td>대위</td>\n",
       "      <td>175</td>\n",
       "      <td>75</td>\n",
       "      <td>1중대</td>\n",
       "    </tr>\n",
       "    <tr>\n",
       "      <th>1</th>\n",
       "      <td>부산</td>\n",
       "      <td>중위</td>\n",
       "      <td>165</td>\n",
       "      <td>85</td>\n",
       "      <td>2중대</td>\n",
       "    </tr>\n",
       "    <tr>\n",
       "      <th>2</th>\n",
       "      <td>성남</td>\n",
       "      <td>소위</td>\n",
       "      <td>180</td>\n",
       "      <td>70</td>\n",
       "      <td>1중대</td>\n",
       "    </tr>\n",
       "  </tbody>\n",
       "</table>\n",
       "</div>"
      ],
      "text/plain": [
       "   고향  계급    키 몸무게   소속\n",
       "0  서울  대위  175  75  1중대\n",
       "1  부산  중위  165  85  2중대\n",
       "2  성남  소위  180  70  1중대"
      ]
     },
     "execution_count": 11,
     "metadata": {},
     "output_type": "execute_result"
    }
   ],
   "source": [
    "import pandas as pd\n",
    "df = pd.DataFrame([\n",
    "        ['서울','대위','175','75','1중대'],\n",
    "        ['부산','중위','165','85','2중대'],\n",
    "        ['성남','소위','180','70','1중대']        \n",
    "    ])\n",
    "df.columns = ['고향','계급','키', '몸무게','소속']\n",
    "df"
   ]
  },
  {
   "cell_type": "code",
   "execution_count": 12,
   "metadata": {},
   "outputs": [
    {
     "data": {
      "text/html": [
       "<div>\n",
       "<style scoped>\n",
       "    .dataframe tbody tr th:only-of-type {\n",
       "        vertical-align: middle;\n",
       "    }\n",
       "\n",
       "    .dataframe tbody tr th {\n",
       "        vertical-align: top;\n",
       "    }\n",
       "\n",
       "    .dataframe thead th {\n",
       "        text-align: right;\n",
       "    }\n",
       "</style>\n",
       "<table border=\"1\" class=\"dataframe\">\n",
       "  <thead>\n",
       "    <tr style=\"text-align: right;\">\n",
       "      <th></th>\n",
       "      <th>고향</th>\n",
       "      <th>계급</th>\n",
       "      <th>키</th>\n",
       "      <th>몸무게</th>\n",
       "      <th>소속</th>\n",
       "    </tr>\n",
       "  </thead>\n",
       "  <tbody>\n",
       "    <tr>\n",
       "      <th>0</th>\n",
       "      <td>서울</td>\n",
       "      <td>3</td>\n",
       "      <td>175</td>\n",
       "      <td>75</td>\n",
       "      <td>1중대</td>\n",
       "    </tr>\n",
       "    <tr>\n",
       "      <th>1</th>\n",
       "      <td>부산</td>\n",
       "      <td>2</td>\n",
       "      <td>165</td>\n",
       "      <td>85</td>\n",
       "      <td>2중대</td>\n",
       "    </tr>\n",
       "    <tr>\n",
       "      <th>2</th>\n",
       "      <td>성남</td>\n",
       "      <td>1</td>\n",
       "      <td>180</td>\n",
       "      <td>70</td>\n",
       "      <td>1중대</td>\n",
       "    </tr>\n",
       "  </tbody>\n",
       "</table>\n",
       "</div>"
      ],
      "text/plain": [
       "   고향  계급    키 몸무게   소속\n",
       "0  서울   3  175  75  1중대\n",
       "1  부산   2  165  85  2중대\n",
       "2  성남   1  180  70  1중대"
      ]
     },
     "execution_count": 12,
     "metadata": {},
     "output_type": "execute_result"
    }
   ],
   "source": [
    "rank_mapping = {\n",
    "    '소위' : 1,\n",
    "    '중위' : 2,\n",
    "    '대위' : 3\n",
    "}\n",
    "df['계급'] = df['계급'].map(rank_mapping)\n",
    "df"
   ]
  },
  {
   "cell_type": "code",
   "execution_count": 13,
   "metadata": {},
   "outputs": [
    {
     "data": {
      "text/html": [
       "<div>\n",
       "<style scoped>\n",
       "    .dataframe tbody tr th:only-of-type {\n",
       "        vertical-align: middle;\n",
       "    }\n",
       "\n",
       "    .dataframe tbody tr th {\n",
       "        vertical-align: top;\n",
       "    }\n",
       "\n",
       "    .dataframe thead th {\n",
       "        text-align: right;\n",
       "    }\n",
       "</style>\n",
       "<table border=\"1\" class=\"dataframe\">\n",
       "  <thead>\n",
       "    <tr style=\"text-align: right;\">\n",
       "      <th></th>\n",
       "      <th>고향</th>\n",
       "      <th>계급</th>\n",
       "      <th>키</th>\n",
       "      <th>몸무게</th>\n",
       "      <th>소속</th>\n",
       "    </tr>\n",
       "  </thead>\n",
       "  <tbody>\n",
       "    <tr>\n",
       "      <th>0</th>\n",
       "      <td>서울</td>\n",
       "      <td>대위</td>\n",
       "      <td>175</td>\n",
       "      <td>75</td>\n",
       "      <td>1중대</td>\n",
       "    </tr>\n",
       "    <tr>\n",
       "      <th>1</th>\n",
       "      <td>부산</td>\n",
       "      <td>중위</td>\n",
       "      <td>165</td>\n",
       "      <td>85</td>\n",
       "      <td>2중대</td>\n",
       "    </tr>\n",
       "    <tr>\n",
       "      <th>2</th>\n",
       "      <td>성남</td>\n",
       "      <td>소위</td>\n",
       "      <td>180</td>\n",
       "      <td>70</td>\n",
       "      <td>1중대</td>\n",
       "    </tr>\n",
       "  </tbody>\n",
       "</table>\n",
       "</div>"
      ],
      "text/plain": [
       "   고향  계급    키 몸무게   소속\n",
       "0  서울  대위  175  75  1중대\n",
       "1  부산  중위  165  85  2중대\n",
       "2  성남  소위  180  70  1중대"
      ]
     },
     "execution_count": 13,
     "metadata": {},
     "output_type": "execute_result"
    }
   ],
   "source": [
    "inv_rank_mapping = {v: k for k, v in rank_mapping.items()}\n",
    "df['계급'] = df['계급'].map(inv_rank_mapping)\n",
    "df"
   ]
  },
  {
   "cell_type": "code",
   "execution_count": 14,
   "metadata": {},
   "outputs": [
    {
     "data": {
      "text/plain": [
       "{'1중대': 0, '2중대': 1}"
      ]
     },
     "execution_count": 14,
     "metadata": {},
     "output_type": "execute_result"
    }
   ],
   "source": [
    "import numpy as np\n",
    "company_mapping = {label:idx for idx, label in \n",
    "                  enumerate(np.unique(df['소속']))}\n",
    "company_mapping"
   ]
  },
  {
   "cell_type": "code",
   "execution_count": 15,
   "metadata": {},
   "outputs": [
    {
     "data": {
      "text/html": [
       "<div>\n",
       "<style scoped>\n",
       "    .dataframe tbody tr th:only-of-type {\n",
       "        vertical-align: middle;\n",
       "    }\n",
       "\n",
       "    .dataframe tbody tr th {\n",
       "        vertical-align: top;\n",
       "    }\n",
       "\n",
       "    .dataframe thead th {\n",
       "        text-align: right;\n",
       "    }\n",
       "</style>\n",
       "<table border=\"1\" class=\"dataframe\">\n",
       "  <thead>\n",
       "    <tr style=\"text-align: right;\">\n",
       "      <th></th>\n",
       "      <th>고향</th>\n",
       "      <th>계급</th>\n",
       "      <th>키</th>\n",
       "      <th>몸무게</th>\n",
       "      <th>소속</th>\n",
       "    </tr>\n",
       "  </thead>\n",
       "  <tbody>\n",
       "    <tr>\n",
       "      <th>0</th>\n",
       "      <td>서울</td>\n",
       "      <td>대위</td>\n",
       "      <td>175</td>\n",
       "      <td>75</td>\n",
       "      <td>0</td>\n",
       "    </tr>\n",
       "    <tr>\n",
       "      <th>1</th>\n",
       "      <td>부산</td>\n",
       "      <td>중위</td>\n",
       "      <td>165</td>\n",
       "      <td>85</td>\n",
       "      <td>1</td>\n",
       "    </tr>\n",
       "    <tr>\n",
       "      <th>2</th>\n",
       "      <td>성남</td>\n",
       "      <td>소위</td>\n",
       "      <td>180</td>\n",
       "      <td>70</td>\n",
       "      <td>0</td>\n",
       "    </tr>\n",
       "  </tbody>\n",
       "</table>\n",
       "</div>"
      ],
      "text/plain": [
       "   고향  계급    키 몸무게  소속\n",
       "0  서울  대위  175  75   0\n",
       "1  부산  중위  165  85   1\n",
       "2  성남  소위  180  70   0"
      ]
     },
     "execution_count": 15,
     "metadata": {},
     "output_type": "execute_result"
    }
   ],
   "source": [
    "df['소속'] = df['소속'].map(company_mapping)\n",
    "df"
   ]
  },
  {
   "cell_type": "code",
   "execution_count": 16,
   "metadata": {},
   "outputs": [
    {
     "data": {
      "text/plain": [
       "array([0, 1, 0])"
      ]
     },
     "execution_count": 16,
     "metadata": {},
     "output_type": "execute_result"
    }
   ],
   "source": [
    "from sklearn.preprocessing import LabelEncoder\n",
    "company_lbl = LabelEncoder()\n",
    "orig_y = company_lbl.fit_transform(df['소속'].values)\n",
    "orig_y"
   ]
  },
  {
   "cell_type": "code",
   "execution_count": 17,
   "metadata": {},
   "outputs": [
    {
     "data": {
      "text/html": [
       "<div>\n",
       "<style scoped>\n",
       "    .dataframe tbody tr th:only-of-type {\n",
       "        vertical-align: middle;\n",
       "    }\n",
       "\n",
       "    .dataframe tbody tr th {\n",
       "        vertical-align: top;\n",
       "    }\n",
       "\n",
       "    .dataframe thead th {\n",
       "        text-align: right;\n",
       "    }\n",
       "</style>\n",
       "<table border=\"1\" class=\"dataframe\">\n",
       "  <thead>\n",
       "    <tr style=\"text-align: right;\">\n",
       "      <th></th>\n",
       "      <th>고향_부산</th>\n",
       "      <th>고향_서울</th>\n",
       "      <th>고향_성남</th>\n",
       "    </tr>\n",
       "  </thead>\n",
       "  <tbody>\n",
       "    <tr>\n",
       "      <th>0</th>\n",
       "      <td>0</td>\n",
       "      <td>1</td>\n",
       "      <td>0</td>\n",
       "    </tr>\n",
       "    <tr>\n",
       "      <th>1</th>\n",
       "      <td>1</td>\n",
       "      <td>0</td>\n",
       "      <td>0</td>\n",
       "    </tr>\n",
       "    <tr>\n",
       "      <th>2</th>\n",
       "      <td>0</td>\n",
       "      <td>0</td>\n",
       "      <td>1</td>\n",
       "    </tr>\n",
       "  </tbody>\n",
       "</table>\n",
       "</div>"
      ],
      "text/plain": [
       "   고향_부산  고향_서울  고향_성남\n",
       "0      0      1      0\n",
       "1      1      0      0\n",
       "2      0      0      1"
      ]
     },
     "execution_count": 17,
     "metadata": {},
     "output_type": "execute_result"
    }
   ],
   "source": [
    "# from sklearn.preprocessing import OneHotEncoder\n",
    "# ht_ohe = OneHotEncoder(categorical_features=[0])\n",
    "# ht_ohe.fit_transform(df).toarray()\n",
    "\n",
    "import pandas as pd\n",
    "pd.get_dummies(df[['고향']])"
   ]
  },
  {
   "cell_type": "code",
   "execution_count": 18,
   "metadata": {},
   "outputs": [
    {
     "ename": "NameError",
     "evalue": "name 'x_dat' is not defined",
     "output_type": "error",
     "traceback": [
      "\u001b[0;31m---------------------------------------------------------------------------\u001b[0m",
      "\u001b[0;31mNameError\u001b[0m                                 Traceback (most recent call last)",
      "\u001b[0;32m<ipython-input-18-8c4cd4e85023>\u001b[0m in \u001b[0;36m<module>\u001b[0;34m()\u001b[0m\n\u001b[1;32m      2\u001b[0m \u001b[0;32mfrom\u001b[0m \u001b[0msklearn\u001b[0m\u001b[0;34m.\u001b[0m\u001b[0mpreprocessing\u001b[0m \u001b[0;32mimport\u001b[0m \u001b[0mMinMaxScaler\u001b[0m\u001b[0;34m\u001b[0m\u001b[0m\n\u001b[1;32m      3\u001b[0m \u001b[0mmmscaler\u001b[0m \u001b[0;34m=\u001b[0m \u001b[0mMinMaxScaler\u001b[0m\u001b[0;34m(\u001b[0m\u001b[0;34m)\u001b[0m\u001b[0;34m\u001b[0m\u001b[0m\n\u001b[0;32m----> 4\u001b[0;31m \u001b[0mx_dat_scaling\u001b[0m \u001b[0;34m=\u001b[0m \u001b[0mmmscaler\u001b[0m\u001b[0;34m.\u001b[0m\u001b[0mfit_transform\u001b[0m\u001b[0;34m(\u001b[0m\u001b[0mx_dat\u001b[0m\u001b[0;34m)\u001b[0m\u001b[0;34m\u001b[0m\u001b[0m\n\u001b[0m\u001b[1;32m      5\u001b[0m \u001b[0;34m\u001b[0m\u001b[0m\n\u001b[1;32m      6\u001b[0m \u001b[0;31m# 정규 표준화 척도조정\u001b[0m\u001b[0;34m\u001b[0m\u001b[0;34m\u001b[0m\u001b[0m\n",
      "\u001b[0;31mNameError\u001b[0m: name 'x_dat' is not defined"
     ]
    }
   ],
   "source": [
    "# 최소-최대 척도조정\n",
    "from sklearn.preprocessing import MinMaxScaler\n",
    "mmscaler = MinMaxScaler()\n",
    "x_dat_scaling = mmscaler.fit_transform(x_dat)\n",
    "\n",
    "# 정규 표준화 척도조정\n",
    "from sklearn.preprocessing import StandardScaler\n",
    "stdscaler = StandardScaler()\n",
    "x_dat_std = stdscaler.fit_transform(x_dat)"
   ]
  },
  {
   "cell_type": "markdown",
   "metadata": {},
   "source": [
    "## 모델 선택\n",
    "\n",
    "- 기호주의자 (Symbolist) : 역추론(inverse deduction) -> 전문가 시스템\n",
    "- 연결주의자 (connectionist): 역전파(backpropagation) -> 딥러닝\n",
    "- 진화론자 : 유전자 프로그레밍 -> 유전자 알고리즘\n",
    "- 베이즈(Bayesian) : 베이즈 추론(Bayesian inference) -> 깁스 표집, MCMC\n",
    "- 유사주의자 (analogize) : 통계적 학습(Statistical Learning) -> 서포트백터(SVM)"
   ]
  },
  {
   "cell_type": "code",
   "execution_count": null,
   "metadata": {
    "collapsed": true
   },
   "outputs": [],
   "source": []
  },
  {
   "cell_type": "code",
   "execution_count": null,
   "metadata": {
    "collapsed": true
   },
   "outputs": [],
   "source": []
  }
 ],
 "metadata": {
  "kernelspec": {
   "display_name": "Python 3",
   "language": "python",
   "name": "python3"
  },
  "language_info": {
   "codemirror_mode": {
    "name": "ipython",
    "version": 3
   },
   "file_extension": ".py",
   "mimetype": "text/x-python",
   "name": "python",
   "nbconvert_exporter": "python",
   "pygments_lexer": "ipython3",
   "version": "3.6.3"
  }
 },
 "nbformat": 4,
 "nbformat_minor": 2
}
