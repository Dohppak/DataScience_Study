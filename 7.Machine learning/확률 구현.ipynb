{
 "cells": [
  {
   "cell_type": "code",
   "execution_count": 7,
   "metadata": {
    "collapsed": true
   },
   "outputs": [],
   "source": [
    "from pgmpy.factors.discrete import JointProbabilityDistribution as JPD\n",
    "import numpy as np\n",
    "import pandas as pd"
   ]
  },
  {
   "cell_type": "markdown",
   "metadata": {},
   "source": [
    "## 확률\n",
    "\n",
    "확률이란 사건(부분집합)을 입력하면 숫자(확률값)가 출력되는 함수이다.\n",
    "<br/>\n",
    "각가의 사건에 어떤 숫자를 할당(allocate)하는 모형이다\n",
    "<br/>\n",
    "<br/>\n",
    "파이썬에서는 사건을 키(key)로 가지고 숫자를 값(value)로 가지는 딕셔너리를 사용하여 확률을 구현할 수 있다."
   ]
  },
  {
   "cell_type": "code",
   "execution_count": 2,
   "metadata": {},
   "outputs": [
    {
     "data": {
      "text/plain": [
       "{frozenset(), frozenset({'T'}), frozenset({'H'}), frozenset({'H', 'T'})}"
      ]
     },
     "execution_count": 2,
     "metadata": {},
     "output_type": "execute_result"
    }
   ],
   "source": [
    "A = frozenset([])\n",
    "B = frozenset(['H'])\n",
    "C = frozenset(['T'])\n",
    "D = frozenset(['T','H'])\n",
    "set([A,B,C,D])"
   ]
  },
  {
   "cell_type": "code",
   "execution_count": 3,
   "metadata": {},
   "outputs": [
    {
     "data": {
      "text/plain": [
       "{frozenset(): 0,\n",
       " frozenset({'H'}): 0.4,\n",
       " frozenset({'T'}): 0.6,\n",
       " frozenset({'H', 'T'}): 1}"
      ]
     },
     "execution_count": 3,
     "metadata": {},
     "output_type": "execute_result"
    }
   ],
   "source": [
    "P={A:0,B:0.4,C:0.6,D:1}\n",
    "P"
   ]
  },
  {
   "cell_type": "markdown",
   "metadata": {},
   "source": [
    "### Ex1) \n",
    "살인 사건이 발생하였다고 가정하자. 경찰은 전체 용의자 목록을 가지고 있다. 베이지안 확률론 관점에서 전체 용의자 목록은 바로 표본 공간이다. 우리가 알고 싶은 것은 전체 용의자 목록(표본 공간)에서 누가 범인(선택된 표본)인가 하는 점이다. 현재 표본 공간은 20명의 용의자로 구성되어 있으며 이 중 남자가 12명, 여자가 8명이라고 가정한다.\n",
    "\n",
    "- 살인 사건 발생. 용의자는 20명\n",
    "    - 남자 12명, 여자 8명\n",
    "    - 머리가 긴 사람 10명, 머리가 짧은 사람 10명\n",
    "- 범인이 남자일 확률\n",
    "    - 남자의 집합(사건)  A 에 범인(선택된 표본)이 속해 있다는 주장의 신뢰도:  P(A)=0.6 \n",
    "- 범인이 머리가 길 확률\n",
    "    - 머리가 긴 사람의 집합(사건)  B 에 범인(선택된 표본)이 속해 있다는 주장의 신뢰도:  P(B)=0.5"
   ]
  },
  {
   "cell_type": "markdown",
   "metadata": {},
   "source": [
    "위의 범인 찾기 문제의 예에서 12명의 남자 중 머리가 긴 사람이 다음과 같이 3명인 경우는 다음처럼 모형을 만들 수 있다. 이 모형은 두 개의 확률 변수  X ,  Y 를 가지며  \n",
    "- X=0 인 경우가 사건  A ,  \n",
    "- Y=0 인 경우가 사건  B 가 된다."
   ]
  },
  {
   "cell_type": "markdown",
   "metadata": {},
   "source": [
    "## pgmpy 패키지\n",
    "\n",
    "JointProbabilityDistribution(variables, cardinality, values)\n",
    "<br/>\n",
    "- variable : 확률 변수의 이름 문자열의 리스트\n",
    "- cardinality : 각 확률 변수의 경우의 수(cardinality)의 리스트\n",
    "- values : 각 확률 변수의 모든 경우의 조합에 대한 확률 값의 리스트\n",
    "\n",
    "\n",
    "variable에 들아가는 인수가 사건의 이름이 아니라 확률 변수의 이름이라는 점에 주의하라. 여기서 확률변수는 0에서 N-1까지 값을 가질 수 있는 변수이다. 확률 변수가 특정한 값을 가지면 하나의 사건이 된다.\n"
   ]
  },
  {
   "cell_type": "code",
   "execution_count": 4,
   "metadata": {},
   "outputs": [
    {
     "name": "stdout",
     "output_type": "stream",
     "text": [
      "╒═════╤═════╤══════════╕\n",
      "│ X   │ Y   │   P(X,Y) │\n",
      "╞═════╪═════╪══════════╡\n",
      "│ X_0 │ Y_0 │   0.1500 │\n",
      "├─────┼─────┼──────────┤\n",
      "│ X_0 │ Y_1 │   0.4500 │\n",
      "├─────┼─────┼──────────┤\n",
      "│ X_1 │ Y_0 │   0.3500 │\n",
      "├─────┼─────┼──────────┤\n",
      "│ X_1 │ Y_1 │   0.0500 │\n",
      "╘═════╧═════╧══════════╛\n"
     ]
    }
   ],
   "source": [
    "j1 = JPD(['X','Y'],[2,2],np.array([3,9,7,1])/20)\n",
    "print(j1)"
   ]
  },
  {
   "cell_type": "markdown",
   "metadata": {},
   "source": [
    "- marginal_distribution(values, inplace=True)\n",
    "    - values : 주변확률을 구할 변수 이름 문자열 리스트\n",
    "    - inplace: True이면 객체 자신을 주변확률 모형으로 변화시킨다. False 면 주변확률 모형 객체를 반환한다. \n",
    "    \n",
    "- conditional_distribution(values, inplace=True)\n",
    "    - values : 주변확률을 구할 변수 이름 문자열과 값을 묶은 튜플 리스트\n",
    "    - inplace : True 이면 객체 자신을 조건부 확률 모형으로 변화시킨다. False면 조건부 확률 모형 객체를 반환한다"
   ]
  },
  {
   "cell_type": "code",
   "execution_count": 5,
   "metadata": {},
   "outputs": [
    {
     "name": "stdout",
     "output_type": "stream",
     "text": [
      "╒═════╤════════╕\n",
      "│ X   │   P(X) │\n",
      "╞═════╪════════╡\n",
      "│ X_0 │ 0.6000 │\n",
      "├─────┼────────┤\n",
      "│ X_1 │ 0.4000 │\n",
      "╘═════╧════════╛\n"
     ]
    }
   ],
   "source": [
    "m1x = j1.marginal_distribution(['X'],inplace=False)\n",
    "print(m1x)"
   ]
  },
  {
   "cell_type": "code",
   "execution_count": 6,
   "metadata": {
    "scrolled": false
   },
   "outputs": [
    {
     "name": "stdout",
     "output_type": "stream",
     "text": [
      "None\n"
     ]
    }
   ],
   "source": [
    "m1y = j1.marginal_distribution(['Y'], inplace=True)\n",
    "print(m1y)"
   ]
  },
  {
   "cell_type": "markdown",
   "metadata": {},
   "source": [
    "# Association"
   ]
  },
  {
   "cell_type": "code",
   "execution_count": 11,
   "metadata": {},
   "outputs": [
    {
     "data": {
      "text/plain": [
       "{frozenset({'b', 'c', 'g'}),\n",
       " frozenset({'b', 'c', 'e', 'f'}),\n",
       " frozenset({'a', 'b', 'c', 'g'}),\n",
       " frozenset({'a', 'b', 'd', 'e', 'f'}),\n",
       " frozenset({'b', 'c', 'e', 'f', 'g'})}"
      ]
     },
     "execution_count": 11,
     "metadata": {},
     "output_type": "execute_result"
    }
   ],
   "source": [
    "A = frozenset(['b','c','g'])\n",
    "B = frozenset(['a','b','d','e','f'])\n",
    "C = frozenset(['a','b','c','g'])\n",
    "d = frozenset(['b','c','e','f'])\n",
    "e = frozenset(['b','c','e','f','g'])\n",
    "set([A,B,C,d,e])"
   ]
  },
  {
   "cell_type": "code",
   "execution_count": null,
   "metadata": {
    "collapsed": true
   },
   "outputs": [],
   "source": []
  }
 ],
 "metadata": {
  "kernelspec": {
   "display_name": "Python 3",
   "language": "python",
   "name": "python3"
  },
  "language_info": {
   "codemirror_mode": {
    "name": "ipython",
    "version": 3
   },
   "file_extension": ".py",
   "mimetype": "text/x-python",
   "name": "python",
   "nbconvert_exporter": "python",
   "pygments_lexer": "ipython3",
   "version": "3.6.3"
  }
 },
 "nbformat": 4,
 "nbformat_minor": 2
}
