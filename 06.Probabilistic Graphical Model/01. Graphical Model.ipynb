{
 "cells": [
  {
   "cell_type": "markdown",
   "metadata": {},
   "source": [
    "## import numpy as np\n",
    "import pandas as pd"
   ]
  },
  {
   "cell_type": "markdown",
   "metadata": {},
   "source": [
    "# 확률론적 그래프 모델 (PGM)\n",
    "    \n",
    "PGM은 compactly하게 Joint probability distribution 을 표현한 것이다. 이때 다양한 Random variable들 가운데서, 서로간의 영향을 표현하기 위해 조건부 독립관계를 고려하여 표현된다. 즉 다수의 확률 변수가 서로에 영향을 미치는 복잡한 관계를, 표현하는 모형이다. 확률론적 접근을 통해 현실 문제의 __uncertainty__ 에 대한 대응이 가능하다는 장점이 있다.\n",
    "\n",
    "- Representation\n",
    "    - Directed & Undirected\n",
    "    - Temporal & plate mode\n",
    "- Inference(reasoning)\n",
    "    - Exact and approximation\n",
    "    - Decision Making\n",
    "- Learning\n",
    "    - Parameters and sturcture\n",
    "    - with and without complete data\n",
    "    \n",
    "### Case\n",
    "\n",
    "1. Bayisan Model : 방향성이 있는 그래프이자 조건부 확률 분포를 따른다. 각각 조건부 확률 분포는 $ P(node | parents(node)) $ 의 형태이며, $ parents(node)$ 각 노드의 부모역할을 한다.\n",
    "\n",
    "2. Markov Model : 방향성이 없으며, Factors들에 의해서 parameterized 되어있다. 각각 Factors들은 2개 이상의 변수들에 의해 결합되어있다."
   ]
  },
  {
   "cell_type": "markdown",
   "metadata": {},
   "source": [
    "\n",
    "### Model\n",
    "\n",
    "__Declarative Representation of our understanding of world__\n",
    "<br>\n",
    "세상을 이해한 것을 명확하게 표현한것을 모델이라고 합니다. 그러나 우리의 세상은 늘 같은 현상만들 보여주지 않습니다. 여러가지 예측 불가능한 uncertainty가 존재합니다.\n",
    "\n",
    "### 확률론?\n",
    "\n",
    "확률론의 목표는 이러한 세상의 불확실성을 제어를 도와주는 좋은 도구입니다. 불확실성은 다음과 같이 정의할 수 있습니다.\n",
    "\n",
    "- Partial Knowledge\n",
    "    - 우리는 세상 현상에 대한 부분적인 지식을 가지게 됩니다.\n",
    "- Noisy observation\n",
    "    - 우리가 수집한 데이텋에는 항상 노이즈가 형성됩니다.\n",
    "- Model limiation\n",
    "    - 우리가 설계한 가설 모형의 경우 항상 coverage의 문제가 있습니다.\n",
    "- Inherent Stocastic\n",
    "    - 작은 단위가 아닌 큰 단위로 변화와 같은 문제에 다른 특성이 반영됩니다."
   ]
  },
  {
   "cell_type": "markdown",
   "metadata": {},
   "source": [
    "### 그래프?\n",
    "\n",
    "Intuitive & compact data sturucuture로 고차원의 확률 분포를 시각화시켜준다. 이는 확률 모델의 구조를 시각화시켜 모형 전체의 이해를 도와줌을 의미한다.\n",
    "\n",
    "- __Node__ : 확률 변수 (Random variable)\n",
    "- __Edge__ : 확률론적 연결을 의미한다.(확률 변수간의 관계)\n"
   ]
  },
  {
   "cell_type": "markdown",
   "metadata": {},
   "source": [
    "![Alt text](images/1/Iris_BN.png)"
   ]
  },
  {
   "cell_type": "code",
   "execution_count": 12,
   "metadata": {},
   "outputs": [
    {
     "data": {
      "text/html": [
       "<div>\n",
       "<style scoped>\n",
       "    .dataframe tbody tr th:only-of-type {\n",
       "        vertical-align: middle;\n",
       "    }\n",
       "\n",
       "    .dataframe tbody tr th {\n",
       "        vertical-align: top;\n",
       "    }\n",
       "\n",
       "    .dataframe thead th {\n",
       "        text-align: right;\n",
       "    }\n",
       "</style>\n",
       "<table border=\"1\" class=\"dataframe\">\n",
       "  <thead>\n",
       "    <tr style=\"text-align: right;\">\n",
       "      <th></th>\n",
       "      <th>length</th>\n",
       "      <th>width</th>\n",
       "      <th>type</th>\n",
       "    </tr>\n",
       "  </thead>\n",
       "  <tbody>\n",
       "    <tr>\n",
       "      <th>63</th>\n",
       "      <td>6</td>\n",
       "      <td>3</td>\n",
       "      <td>1</td>\n",
       "    </tr>\n",
       "    <tr>\n",
       "      <th>111</th>\n",
       "      <td>6</td>\n",
       "      <td>3</td>\n",
       "      <td>2</td>\n",
       "    </tr>\n",
       "    <tr>\n",
       "      <th>53</th>\n",
       "      <td>6</td>\n",
       "      <td>2</td>\n",
       "      <td>1</td>\n",
       "    </tr>\n",
       "    <tr>\n",
       "      <th>56</th>\n",
       "      <td>6</td>\n",
       "      <td>3</td>\n",
       "      <td>1</td>\n",
       "    </tr>\n",
       "    <tr>\n",
       "      <th>113</th>\n",
       "      <td>6</td>\n",
       "      <td>2</td>\n",
       "      <td>2</td>\n",
       "    </tr>\n",
       "  </tbody>\n",
       "</table>\n",
       "</div>"
      ],
      "text/plain": [
       "     length  width  type\n",
       "63        6      3     1\n",
       "111       6      3     2\n",
       "53        6      2     1\n",
       "56        6      3     1\n",
       "113       6      2     2"
      ]
     },
     "execution_count": 12,
     "metadata": {},
     "output_type": "execute_result"
    }
   ],
   "source": [
    "%run pgmpy/pgmpy_notebook/scripts/1/discretize.py\n",
    "data.head()"
   ]
  },
  {
   "cell_type": "code",
   "execution_count": 13,
   "metadata": {},
   "outputs": [],
   "source": [
    "X_train, X_test = data[:120], data[120:]"
   ]
  },
  {
   "cell_type": "code",
   "execution_count": 9,
   "metadata": {},
   "outputs": [
    {
     "data": {
      "text/plain": [
       "length  width  type\n",
       "4       2      0       0.008333\n",
       "        3      0       0.033333\n",
       "5       2      1       0.033333\n",
       "               2       0.008333\n",
       "        3      0       0.200000\n",
       "               1       0.016667\n",
       "        4      0       0.133333\n",
       "6       2      1       0.075000\n",
       "               2       0.025000\n",
       "        3      1       0.225000\n",
       "               2       0.200000\n",
       "        4      0       0.041667\n",
       "7       2      2       0.008333\n",
       "        3      1       0.066667\n",
       "               2       0.116667\n",
       "        4      2       0.008333\n",
       "8       3      2       0.033333\n",
       "        4      2       0.016667\n",
       "dtype: float64"
      ]
     },
     "execution_count": 9,
     "metadata": {},
     "output_type": "execute_result"
    }
   ],
   "source": [
    "# joint probability 를 구해보자\n",
    "\n",
    "joint_prob = data.groupby(['length','width','type']).size()/120\n",
    "joint_prob"
   ]
  },
  {
   "cell_type": "code",
   "execution_count": 14,
   "metadata": {},
   "outputs": [],
   "source": [
    "# Selecting just the feature variables.\n",
    "X_test_features = X_test.iloc[:, :2].values\n",
    "X_test_actual_results = X_test.iloc[:, 2].values"
   ]
  },
  {
   "cell_type": "code",
   "execution_count": 23,
   "metadata": {
    "scrolled": true
   },
   "outputs": [
    {
     "name": "stderr",
     "output_type": "stream",
     "text": [
      "/Users/seungheondoh/anaconda3/envs/python3.6/lib/python3.6/site-packages/numpy/core/fromnumeric.py:51: FutureWarning: 'argmax' is deprecated, use 'idxmax' instead. The behavior of 'argmax'\n",
      "will be corrected to return the positional maximum in the future.\n",
      "Use 'series.values.argmax' to get the position of the maximum now.\n",
      "  return getattr(obj, method)(*args, **kwds)\n"
     ]
    }
   ],
   "source": [
    "predicted_values = []\n",
    "for i in X_test_features:\n",
    "    predicted_values.append(np.argmax(joint_prob[i[0], i[1]]))"
   ]
  },
  {
   "cell_type": "code",
   "execution_count": 25,
   "metadata": {},
   "outputs": [
    {
     "data": {
      "text/plain": [
       "array([1, 2, 0, 1, 1, 1, 0, 1, 0, 2, 2, 1, 1, 1, 2, 0, 0, 1, 1, 1, 1, 1,\n",
       "       0, 1, 0, 0, 1, 1, 0, 1])"
      ]
     },
     "execution_count": 25,
     "metadata": {},
     "output_type": "execute_result"
    }
   ],
   "source": [
    "predicted_values = np.array(predicted_values)\n",
    "predicted_values"
   ]
  },
  {
   "cell_type": "code",
   "execution_count": 27,
   "metadata": {},
   "outputs": [
    {
     "name": "stdout",
     "output_type": "stream",
     "text": [
      "0.8333333333333334\n"
     ]
    }
   ],
   "source": [
    "score = (predicted_values == X_test_actual_results).sum() / 30\n",
    "print(score)"
   ]
  },
  {
   "cell_type": "code",
   "execution_count": null,
   "metadata": {},
   "outputs": [],
   "source": []
  }
 ],
 "metadata": {
  "kernelspec": {
   "display_name": "python3.6",
   "language": "python",
   "name": "python3.6"
  },
  "language_info": {
   "codemirror_mode": {
    "name": "ipython",
    "version": 3
   },
   "file_extension": ".py",
   "mimetype": "text/x-python",
   "name": "python",
   "nbconvert_exporter": "python",
   "pygments_lexer": "ipython3",
   "version": "3.6.6"
  }
 },
 "nbformat": 4,
 "nbformat_minor": 2
}
