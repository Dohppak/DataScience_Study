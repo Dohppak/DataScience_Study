{
 "cells": [
  {
   "cell_type": "markdown",
   "metadata": {},
   "source": [
    "## Network Diagram\n",
    "\n",
    "Graph라고 불리는 Network Diagram은 Entities들의 집합의 연결을 보여줍니다. 각각의 Entity는 Node 혹은 Vertice라고 표현되고, Connections들은 Link라고 불리게 됩니다.\n",
    "\n",
    "### Four types of input\n",
    "\n",
    "__Undirected and Unwieghted__<br>\n",
    "연결이 되어 있지만, 방향성과 Link의 Weight가 없는 경우입니다. 둘 간의 연결이 있는가 없는가를 표현하게 됩니다.\n",
    "\n",
    "__Undirected and Weight__<br>\n",
    "일반적으로 Co-author의 network가 이러한 방식으로 표현됩니다. 연결되어 있고 Link의 Weight가 존재하지만 이제 방향성이 없는 경우입니다. 이제 연결 상태의 중요도를 표현할 수 있게 됩니다.\n",
    "\n",
    "__Directed and Unweight__<br>\n",
    "연결의 방향성이 추가된 경우입니다. 누군가가 누군가에게 Like를 누룰수 있지만, 일방향적인 것이겠죠. 좀더 사회적인 현상이 반영된 그래프라고 생각됩니다. Fair함이 꺠지게 됩니다.\n",
    "\n",
    "__Directed and Weighted__<br>\n",
    "가장 사회적인 그래프라고 생각됩니다. 방향성과 그 방향에 따른 강도까지 모두 표현이 됩니다.\n",
    "\n"
   ]
  },
  {
   "cell_type": "markdown",
   "metadata": {},
   "source": [
    "## Why D3?\n",
    "\n",
    "D3는 JavaScript기반의 데이터 시각화 툴입니다. 우리의 목적은 "
   ]
  }
 ],
 "metadata": {
  "kernelspec": {
   "display_name": "python3.7",
   "language": "python",
   "name": "python3.7"
  },
  "language_info": {
   "codemirror_mode": {
    "name": "ipython",
    "version": 3
   },
   "file_extension": ".py",
   "mimetype": "text/x-python",
   "name": "python",
   "nbconvert_exporter": "python",
   "pygments_lexer": "ipython3",
   "version": "3.7.4"
  }
 },
 "nbformat": 4,
 "nbformat_minor": 2
}
