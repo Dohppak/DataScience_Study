{
 "cells": [
  {
   "cell_type": "markdown",
   "metadata": {},
   "source": [
    "Resultion == feature map이랑 유사하게 사용된다.\n",
    "pooling할때매다 때문에 resolution이 줄어들게 된는것.\n",
    "<br>\n",
    "\n",
    "1d convolution의 1 by 1 이 뭐냐? \n",
    "\n",
    "<br>\n",
    "\n",
    "\n",
    "- Input : Char (1x1014)\n",
    "- Batch-norm : 배치놈의 기준이 하나의 feautre가 모든 time을 다 고려해서 진행된다.\n",
    "- feature 단위의 correlation, filter 에 따라서 형태를 맞춰준다.\n",
    "- 차원을 줄이는 경향으로 사용한다.\n",
    "- 1 by 1 conv는 데이터를 압축한다. -> feature 단위의 correlation이다.\n",
    "- conv 갯수는 채널에 갯수에 연관성이 있으니\n",
    "- 늘린걸 다시 늘린다.\n",
    "\n",
    "- sequence의 token 의 관계를 보기위해 covolution을 사용한다?\n",
    "    - 단어를 추출을 하는게 1-D cov\n",
    "    - Feature 와 Channel 이 맵핑된다. -> 1 by 1 cov를 하는데, "
   ]
  },
  {
   "cell_type": "code",
   "execution_count": null,
   "metadata": {},
   "outputs": [],
   "source": []
  }
 ],
 "metadata": {
  "kernelspec": {
   "display_name": "python3.6",
   "language": "python",
   "name": "python3.6"
  },
  "language_info": {
   "codemirror_mode": {
    "name": "ipython",
    "version": 3
   },
   "file_extension": ".py",
   "mimetype": "text/x-python",
   "name": "python",
   "nbconvert_exporter": "python",
   "pygments_lexer": "ipython3",
   "version": "3.6.6"
  }
 },
 "nbformat": 4,
 "nbformat_minor": 2
}
