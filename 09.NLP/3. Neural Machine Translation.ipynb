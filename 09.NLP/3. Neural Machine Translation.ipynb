{
 "cells": [
  {
   "cell_type": "markdown",
   "metadata": {},
   "source": [
    "## Neural Machine Translation:\n",
    "\n",
    "문장이 주어졌을때, 원하는 언어의 문장으로 바꾸어줄수 있는가? Sequence to Sequence 문제가 됩니다.\n",
    "\n",
    "- input : source language의 sentence\n",
    "- ouput : target language의 sentence\n",
    "\n",
    "Input이 주어졌을때, 번역된 문장을 출력하는 지도학습니다. 번역될 문장의 조건부 확률 분포를 계산하게 됩니다.\n",
    "$$\n",
    "p(Y=(y_{1},...y_{T})|X=(x_{1},x_{2}...x_{T}))\n",
    "$$\n"
   ]
  },
  {
   "cell_type": "markdown",
   "metadata": {},
   "source": [
    "### Token Representation (One-hot Vectors)"
   ]
  },
  {
   "cell_type": "markdown",
   "metadata": {},
   "source": [
    "### Encoder & Decoder\n",
    "\n"
   ]
  },
  {
   "cell_type": "markdown",
   "metadata": {},
   "source": [
    "<img src='./img/autoregression.png' width=70%>"
   ]
  },
  {
   "cell_type": "code",
   "execution_count": null,
   "metadata": {},
   "outputs": [],
   "source": []
  }
 ],
 "metadata": {
  "kernelspec": {
   "display_name": "python3.6",
   "language": "python",
   "name": "python3.6"
  },
  "language_info": {
   "codemirror_mode": {
    "name": "ipython",
    "version": 3
   },
   "file_extension": ".py",
   "mimetype": "text/x-python",
   "name": "python",
   "nbconvert_exporter": "python",
   "pygments_lexer": "ipython3",
   "version": "3.6.8"
  }
 },
 "nbformat": 4,
 "nbformat_minor": 2
}
