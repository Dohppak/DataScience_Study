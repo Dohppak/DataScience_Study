{
 "cells": [
  {
   "cell_type": "markdown",
   "metadata": {},
   "source": [
    "### Intro\n",
    "\n",
    "Raw data로부터 unsupervised learning으로 학습하는게 중요하다.\n",
    "- Transper 방식이 명확하지 않습니다.\n",
    "- Task별로 embedding 방법이 다르고 기준이 없다고 합니다.\n",
    "    - Language model.\n",
    "    - Machine translation.\n",
    "    - Discurse coherence.\n",
    "\n",
    "### Unsupervised pre-training\n",
    "\n",
    "- Traditional word vector\n",
    "- Word embeddings\n",
    "- More than word-level semantics (context)\n",
    "\n",
    "### Auxiliary training objectives\n",
    "\n",
    "Label 데이터가 있으면 Multi-task Learning.\n",
    "Label 데이터가 없으면 Auxiliary training. 어느정도 공유된 개념이 있어야한다. robust한 학습을 목표로 해야한다. 데이터가 많을때 사용해야합니다.\n",
    "- Some task-specific objective.\n",
    "- Unsupervised training objective.\n",
    "\n",
    "### GTP Unsupervised pre-training\n",
    "\n",
    "$$\n",
    "L_{1}(u)= \\sum_{i} logP(u_{i}|u_{i-k},...u_{i-1};\\theta) \\\\\n",
    "h_{0}= UW_{e}+W_{p}\\\\\n",
    "h_{l} = \\text{transformer_block}(h_{l-1})\\\\\n",
    "P(u) = \\text{softmax}(h_{n}W_{e}^T)\\\\\n",
    "$$\n",
    "n번쨰 트렌스포머 블록에 k번째 시퀀스가 들어가게 된다면, $k$번째의 hidden vector만 들어가게 됩니다.\n",
    "2개의 학습목표를 어떠한 비율을 가지고 학습이 이루어집니다.\n",
    "\n",
    "### GTP Unsupervised Inference\n",
    "\n",
    "- 12 decoder-only transformer\n",
    "- Cosine annealing : Learning rate schedules with restart\n",
    "- Contiguouse sequence of 512 tokens\n",
    "- Wieght init of N(0,0.02)\n",
    "- 40,000 BPE with merges."
   ]
  },
  {
   "cell_type": "markdown",
   "metadata": {},
   "source": [
    "- Compute requirement 가 높다\n",
    "- Dataset의 한계가 있다."
   ]
  },
  {
   "cell_type": "code",
   "execution_count": null,
   "metadata": {},
   "outputs": [],
   "source": []
  }
 ],
 "metadata": {
  "kernelspec": {
   "display_name": "python3.6",
   "language": "python",
   "name": "python3.6"
  },
  "language_info": {
   "codemirror_mode": {
    "name": "ipython",
    "version": 3
   },
   "file_extension": ".py",
   "mimetype": "text/x-python",
   "name": "python",
   "nbconvert_exporter": "python",
   "pygments_lexer": "ipython3",
   "version": "3.6.8"
  }
 },
 "nbformat": 4,
 "nbformat_minor": 2
}
