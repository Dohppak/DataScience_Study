{
 "cells": [
  {
   "cell_type": "markdown",
   "metadata": {},
   "source": [
    "- https://github.com/dkaterenchuk/ranking_measures\n",
    "- https://github.com/eldrin/pyircor"
   ]
  },
  {
   "cell_type": "code",
   "execution_count": 23,
   "metadata": {},
   "outputs": [],
   "source": [
    "import math\n",
    "import numpy as np\n",
    "from scipy import stats"
   ]
  },
  {
   "cell_type": "code",
   "execution_count": 4,
   "metadata": {},
   "outputs": [],
   "source": [
    "def find_precision_k(reference, hypothesis, k):\n",
    "    precision = 0.0\n",
    "    relevant = 0.0\n",
    "    for i, value in enumerate(hypothesis[:k]):\n",
    "        if value == reference[i]:\n",
    "            relevant += 1.0\n",
    "    precision = relevant/k\n",
    "    return precision\n",
    "\n",
    "def find_precision(reference, hypothesis):\n",
    "    return find_precision_k(reference, hypothesis, len(reference))\n",
    "\n",
    "\n",
    "def AveragePrecision(reference, hypothesis):\n",
    "    s_total = sum([find_precision_k(reference, hypothesis, k+1) \\\n",
    "                   for k in range(len(reference))])\n",
    "    return s_total/len(reference)"
   ]
  },
  {
   "cell_type": "code",
   "execution_count": 12,
   "metadata": {},
   "outputs": [],
   "source": [
    "def tau(x,y):\n",
    "    n = len(x)\n",
    "    numerator = 0\n",
    "    for i in range(n-1):\n",
    "        for j in range(i+1, n):\n",
    "            sx = np.sign(x[i] - x[j])\n",
    "            sy = np.sign(y[i] - y[j])\n",
    "            numerator += sx * sy\n",
    "    nn = n * (n-1) / 2\n",
    "    return numerator / nn"
   ]
  },
  {
   "cell_type": "code",
   "execution_count": 13,
   "metadata": {},
   "outputs": [],
   "source": [
    "def _tauap(x, y, rx, ry):\n",
    "    n = len(rx)\n",
    "    numerator = 0\n",
    "    for i in range(n-1):\n",
    "        for j in range(i+1, n):\n",
    "            sx = np.sign(x[i] - x[j])\n",
    "            sy = np.sign(y[i] - y[j])\n",
    "            if sx == sy:\n",
    "                numerator += 1 / (max(ry[i], ry[j]) - 1)\n",
    "    return (2 * numerator / (n-1)) - 1"
   ]
  },
  {
   "cell_type": "code",
   "execution_count": 14,
   "metadata": {},
   "outputs": [],
   "source": [
    "def tauap(x, y, decreasing=True):\n",
    "    rx = stats.rankdata(x)\n",
    "    ry = stats.rankdata(y)\n",
    "    return _tauap(x, y, rx, ry)"
   ]
  },
  {
   "cell_type": "code",
   "execution_count": 16,
   "metadata": {},
   "outputs": [],
   "source": [
    "def find_dcg(ranking_list):\n",
    "    score = 0.0\n",
    "    for order, rank in enumerate(ranking_list):\n",
    "        score += float(rank)/math.log((order+2))\n",
    "    return score"
   ]
  },
  {
   "cell_type": "code",
   "execution_count": 17,
   "metadata": {},
   "outputs": [],
   "source": [
    "def find_ndcg(reference, hypothesis):\n",
    "    return find_dcg(hypothesis) / find_dcg(reference)"
   ]
  },
  {
   "cell_type": "code",
   "execution_count": 18,
   "metadata": {},
   "outputs": [],
   "source": [
    "def _order_lists(reference, hypothesis):\n",
    "    pair_ref_list = sorted([x for x in enumerate(reference)], key=lambda x: x[1])\n",
    "    mapped_hyp_list = [hypothesis[x[0]] for x in pair_ref_list]\n",
    "\n",
    "    return [x[1] for x in pair_ref_list], mapped_hyp_list"
   ]
  },
  {
   "cell_type": "code",
   "execution_count": 42,
   "metadata": {},
   "outputs": [
    {
     "name": "stdout",
     "output_type": "stream",
     "text": [
      "tau:  1.0\n",
      "AP:  1.0\n",
      "AP Corr:  1.0\n"
     ]
    }
   ],
   "source": [
    "# Best\n",
    "label = [1, 2, 3, 4, 5]\n",
    "predict = [1, 2, 3, 4, 5]\n",
    "print(\"tau: \",tau(label, predict))\n",
    "print(\"AP: \",AveragePrecision(label, predict))\n",
    "print(\"AP Corr: \",tauap(label, predict))"
   ]
  },
  {
   "cell_type": "code",
   "execution_count": 43,
   "metadata": {},
   "outputs": [
    {
     "name": "stdout",
     "output_type": "stream",
     "text": [
      "tau:  0.8\n",
      "AP:  0.7533333333333333\n",
      "AP Corr:  0.8333333333333333\n"
     ]
    }
   ],
   "source": [
    "# Quite Best\n",
    "label = [1, 2, 3, 4, 5]\n",
    "predict = [1, 2, 4, 3, 5]\n",
    "print(\"tau: \",tau(label, predict))\n",
    "print(\"AP: \",AveragePrecision(label, predict))\n",
    "print(\"AP Corr: \",tauap(label, predict))"
   ]
  },
  {
   "cell_type": "code",
   "execution_count": 44,
   "metadata": {},
   "outputs": [
    {
     "name": "stdout",
     "output_type": "stream",
     "text": [
      "tau:  0.4\n",
      "AP:  0.8033333333333333\n",
      "AP Corr:  0.5833333333333333\n"
     ]
    }
   ],
   "source": [
    "# Bottom Error\n",
    "label = [1, 2, 3, 4, 5]\n",
    "predict = [1, 2, 5, 4, 3]\n",
    "print(\"tau: \",tau(label, predict))\n",
    "print(\"AP: \",AveragePrecision(label, predict))\n",
    "print(\"AP Corr: \",tauap(label, predict))"
   ]
  },
  {
   "cell_type": "code",
   "execution_count": 45,
   "metadata": {},
   "outputs": [
    {
     "name": "stdout",
     "output_type": "stream",
     "text": [
      "tau:  0.4\n",
      "AP:  0.3866666666666666\n",
      "AP Corr:  -1.1102230246251565e-16\n"
     ]
    }
   ],
   "source": [
    "# Top Error\n",
    "label = [1, 2, 3, 4, 5]\n",
    "predict = [3, 2, 1, 4, 5]\n",
    "print(\"tau: \",tau(label, predict))\n",
    "print(\"AP: \",AveragePrecision(label, predict))\n",
    "print(\"AP Corr: \",tauap(label, predict))"
   ]
  },
  {
   "cell_type": "code",
   "execution_count": 46,
   "metadata": {},
   "outputs": [
    {
     "name": "stdout",
     "output_type": "stream",
     "text": [
      "tau:  0.2\n",
      "AP:  0.0\n",
      "AP Corr:  0.5\n"
     ]
    }
   ],
   "source": [
    "# Only One Top Error\n",
    "label = [1, 2, 3, 4, 5]\n",
    "predict = [5, 1, 2, 3, 4]\n",
    "print(\"tau: \",tau(label, predict))\n",
    "print(\"AP: \",AveragePrecision(label, predict))\n",
    "print(\"AP Corr: \",tauap(label, predict))"
   ]
  },
  {
   "cell_type": "code",
   "execution_count": 47,
   "metadata": {},
   "outputs": [
    {
     "name": "stdout",
     "output_type": "stream",
     "text": [
      "tau:  -1.0\n",
      "AP:  0.15666666666666665\n",
      "AP Corr:  -1.0\n"
     ]
    }
   ],
   "source": [
    "# Worst Error\n",
    "label = [1, 2, 3, 4, 5]\n",
    "predict = [5, 4, 3, 2, 1]\n",
    "print(\"tau: \",tau(label, predict))\n",
    "print(\"AP: \",AveragePrecision(label, predict))\n",
    "print(\"AP Corr: \",tauap(label, predict))"
   ]
  },
  {
   "cell_type": "code",
   "execution_count": 48,
   "metadata": {},
   "outputs": [
    {
     "name": "stdout",
     "output_type": "stream",
     "text": [
      "tau:  -0.6\n",
      "AP:  0.0\n",
      "AP Corr:  -0.625\n"
     ]
    }
   ],
   "source": [
    "# Error\n",
    "label = [1, 2, 3, 4, 5]\n",
    "predict = [4, 5, 2, 3, 1]\n",
    "print(\"tau: \",tau(label, predict))\n",
    "print(\"AP: \",AveragePrecision(label, predict))\n",
    "print(\"AP Corr: \",tauap(label, predict))"
   ]
  },
  {
   "cell_type": "code",
   "execution_count": null,
   "metadata": {},
   "outputs": [],
   "source": []
  }
 ],
 "metadata": {
  "kernelspec": {
   "display_name": "Python 3",
   "language": "python",
   "name": "python3"
  },
  "language_info": {
   "codemirror_mode": {
    "name": "ipython",
    "version": 3
   },
   "file_extension": ".py",
   "mimetype": "text/x-python",
   "name": "python",
   "nbconvert_exporter": "python",
   "pygments_lexer": "ipython3",
   "version": "3.7.3"
  }
 },
 "nbformat": 4,
 "nbformat_minor": 4
}
