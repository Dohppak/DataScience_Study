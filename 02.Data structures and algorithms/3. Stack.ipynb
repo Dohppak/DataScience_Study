{
 "cells": [
  {
   "cell_type": "markdown",
   "metadata": {},
   "source": [
    "## Stack이란?\n",
    "\n",
    "Stack은 sotring data를 위해 사용되는 자료구조 입니다. Stack의 가장 큰 특징은 데이터가 구조로 들어오는 순서(Order)가 매우 중요하다는 것입니다. Stack은 일종의 ordered list입니다. 단지, insertion과 deletion이 top기준으로 이루어지게 되는 것이죠. 마지막에 inserted 된 element는 첫번째로 deleted됩니다. 우리가 흔히 말하는 Last in First Out(LIFO)구조를 가지게 되는 List인 것이죠.\n",
    "\n",
    "### Stack의 Application\n",
    "- Balancing of symbols\n",
    "- lnfix-to-postfix conversion\n",
    "- Evaluation of postfix expression\n",
    "- Implementing function calls (including recursion)\n",
    "- Page-visited history in a Web browser [Back Buttons]\n",
    "- Undo sequence in a text editor\n",
    "- Matching Tags in HTML and XML\n",
    "- Used in many algorithms like Tower of Hanoi, tree traversals, stock span problem, histogram problem.\n",
    "\n",
    "\n",
    "### Time Complexities\n",
    "- Push: O(1)\n",
    "- Pop: O(1)\n",
    "- Peek: O(1)\n",
    "- isEmpty: O(1)\n",
    "- Size: O(1)\n"
   ]
  },
  {
   "cell_type": "code",
   "execution_count": null,
   "metadata": {},
   "outputs": [],
   "source": []
  }
 ],
 "metadata": {
  "kernelspec": {
   "display_name": "Python 3",
   "language": "python",
   "name": "python3"
  },
  "language_info": {
   "codemirror_mode": {
    "name": "ipython",
    "version": 3
   },
   "file_extension": ".py",
   "mimetype": "text/x-python",
   "name": "python",
   "nbconvert_exporter": "python",
   "pygments_lexer": "ipython3",
   "version": "3.7.6"
  }
 },
 "nbformat": 4,
 "nbformat_minor": 4
}
