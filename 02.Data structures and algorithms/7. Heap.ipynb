{
 "cells": [
  {
   "cell_type": "markdown",
   "metadata": {},
   "source": [
    "Heap은 Priority Queue를 위해서 만들어진 자료구조입니다. 즉 여러개의 값 중에서 최대값이나 최솟값을 빠르게 찾아내도록 만들어 진 친구입니다. 힙은 일정의 반 정렬상태(느슨한 정렬 상태)를 유지하고 있습니다.\n",
    "\n",
    "Binary Heap은 Binary Tree의 Special Case입니다. Complete tree입니다. 모든 level이 채워져 있으며, last level역시 모든 keys들이 있으면 좋습니다. 이러한 특성은 Binary Heap이 저장하기 좋게 만들어줍니다. Binary Heap은 Min Heap or Max Heap으로도 사용가능합니다. Min Binary Hip의 경우에는 root의 key는 반드시 Binary Heap안에서 minimum이여야한다. 같은 속성은 반드시 모든 노드에 대해서 recursively ture해야합니다.\n",
    "\n",
    "### Heap의 속성\n",
    "- Root는 array의 2번째 아이템입니다. 우리는 index zero cell을 스킵합니다. 따라서 K-th element는 다음과 같이 표현됩니다.\n",
    "    - left chile = 2\\*k index\n",
    "    - right child = 2\\*k+1 index\n",
    "    - parent = k/2 index\n",
    "  "
   ]
  },
  {
   "cell_type": "code",
   "execution_count": 2,
   "metadata": {},
   "outputs": [],
   "source": [
    "class BinaryHeap(object):\n",
    "    def __init__(self):\n",
    "        self.heap = [0]\n",
    "        self.currentSize = 0\n",
    "    \n",
    "    def shiftUp(self, index):\n",
    "        while (index // 2)>0:\n",
    "            if self.heap[index] < self.heap[index // 2]:\n",
    "                temp = self.heap[index // 2]\n",
    "                self.heap[index // 2] = self.heap[index]\n",
    "                self.heap[index] = temp\n",
    "            index = index //2\n",
    "    \n",
    "    def shiftDown(self,index):\n",
    "        while (index *2) <= self.currentSize:\n",
    "            minimumChild = self.minChild(index)\n",
    "            if self.heap[index] > self.heap[minimumChild]:\n",
    "                temp = self.heap[index]\n",
    "                self.heap[index] > self.heap[minimumChild]\n",
    "                self.heap[minimumChild]= temp\n",
    "            index = minimumChild\n",
    "            \n",
    "    def minChild(self,i):\n",
    "        if i*2+1 > self.currentSize:\n",
    "            return i*2\n",
    "        else:\n",
    "            if self.heap[i*2] < self.heap[i*2+1]:\n",
    "                return i*2\n",
    "\n",
    "            else:\n",
    "                return i*2+1\n",
    "    \n",
    "    def delete(self):\n",
    "        deleteNode = self.heap[1]\n",
    "        self.heap[1] = self.heap[self.currentSize]\n",
    "        self.currentSize -= 1\n",
    "        self.heap.pop()\n",
    "        self.shiftDown(1)\n",
    "        return deleteNode\n",
    "    \n",
    "    def buildHeap(self, alist):\n",
    "        i = len(alist) //2\n",
    "        self.currentSize = len(alist)\n",
    "        self.heap = [0] + alist[:]\n",
    "        while (i>0):\n",
    "            self.shiftDown(i)\n",
    "            i = i-1"
   ]
  },
  {
   "cell_type": "code",
   "execution_count": 3,
   "metadata": {},
   "outputs": [],
   "source": [
    "bh = BinaryHeap()\n",
    "bh.buildHeap([9,5,6,2,3])"
   ]
  },
  {
   "cell_type": "code",
   "execution_count": 7,
   "metadata": {},
   "outputs": [
    {
     "data": {
      "text/plain": [
       "[0, 9, 9, 6, 5, 9]"
      ]
     },
     "execution_count": 7,
     "metadata": {},
     "output_type": "execute_result"
    }
   ],
   "source": [
    "bh.heap"
   ]
  },
  {
   "cell_type": "code",
   "execution_count": null,
   "metadata": {},
   "outputs": [],
   "source": []
  }
 ],
 "metadata": {
  "kernelspec": {
   "display_name": "SoundScape",
   "language": "python",
   "name": "soundscape"
  },
  "language_info": {
   "codemirror_mode": {
    "name": "ipython",
    "version": 3
   },
   "file_extension": ".py",
   "mimetype": "text/x-python",
   "name": "python",
   "nbconvert_exporter": "python",
   "pygments_lexer": "ipython3",
   "version": "3.7.6"
  }
 },
 "nbformat": 4,
 "nbformat_minor": 4
}
