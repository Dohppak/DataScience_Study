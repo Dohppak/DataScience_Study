{
 "cells": [
  {
   "cell_type": "markdown",
   "metadata": {},
   "source": [
    "- https://ratsgo.github.io/data%20structure&algorithm/2017/09/07/algorithm/\n",
    "- https://grepsean.github.io/Algorithms-and-Data-Structures-with-Python-3/"
   ]
  },
  {
   "cell_type": "markdown",
   "metadata": {},
   "source": [
    "## Programming and DS&A\n",
    "\n",
    "가장 기본적으로 프로그래밍과 데이터구조, 알고리즘 이 3가지 용어에 대해서 접근해 봅시다. 예를들어서 건축을 한다고 해봅시다. 집을 건축하기 위해서는 설계도가 필요합니다. 설계도는 바로 구조와 유저의 시나리오가 존재하겠죠. 또한 시공을 위해서는 도구가 필요할 것입니다. 엔지니어는 그러면 설계와 구현 이 2가지를 하게 됩니다. 구현을 위해서는 Programming이, 설계에는 UML이 쓰이게 됩니다. UML이 바로 우리가 알아보려는 자료구조와 알고리즘이 될 것입니다. 설계와 구현 모두 중요한 요소입니다.\n",
    "\n",
    "- Programming: 구현 (Implement)\n",
    "- DataStructure & Algorithm : 설계(Design)\n",
    "\n",
    "만약 가정을 해봅시다 좋은 디자인인데 구현이 별로면 어떨까요? 아쉽겠지만 그래도 봐줄만 할 것입니다. 하지만 나쁜 디자인의 좋은 구현체를 본다면, 우리의 필요를 충족해 주지 못할 것입니다. \n",
    "\n",
    "### Python\n",
    "\n",
    "파이썬은 91년도에 만들어진 Interpreter 언어입니다(Not compiler). 제약 조건이 덜하고 생산성에 초점이 맞추어져 있습니다. 빠르게 구현이 가능하고, 실행은 살짝 느린 형태가 됩니다. 그리고 무엇보다 객체지향적이고 동적 타이핑이 가능하다는 특징이있습니다.그리고 독특한 코드 스트럭쳐입니다. Pythonic 한 코드의 형태가 존재하기도 합니다. 규칙을 이해한다면 편하게 짤 수 있습니다. 그리고 데이터 분석에 아주 Speciality가 있다는 특징이 있습니다."
   ]
  },
  {
   "cell_type": "markdown",
   "metadata": {},
   "source": [
    "### Data Structure 란?\n",
    "\n",
    "자료구조는 데이터를 효율적으로 이용할 수 있도록 저장하는 방법이다. 데이터의 타입에 따라서 효율적인 자료구조를 선택할수 있어야한다.\n",
    "\n",
    "- 형태\n",
    "    - linear 자료구조\n",
    "        - 스택 Stack : 후입선출 구조의 자료구조이다. 데이터를 스택에 넣고 다시 꺼내면 역순으로 나온다\n",
    "        - 큐 Queue : 선입 선출의 자료구조이다\n",
    "        - 덱 Deque : 양쪽에서 넣고 뺼수 있는 자료구조이다. 스택과 큐가 합쳐져 있다.\n",
    "        - __리스트 List : 같은 값이 한번 이상 존재 할 수 있고, 일련의 값이 모여있는 추상 자료형입니다.__\n",
    "    - Non-linear 자료구조\n",
    "        - 트리 tree : 부모 노드와 N개의 자식 노드로 구성된 자료구조이며, 자식 노드도 재귀적으로 서브트리를 구성한다.\n",
    "        - 그래프 Graph : 트리 구조와 비슷하지만, 순환구조를 가진다."
   ]
  },
  {
   "cell_type": "markdown",
   "metadata": {},
   "source": [
    "### Algorithm (Definite Finite Automata)\n",
    "\n",
    "하나의 상태만을 가지게 되며, 어떤 사건에 의해 다른 사건으로 전이가 일어납니다. 전이가 결정적이고 유한상태입니다. \n",
    "<br>\n",
    "\n",
    "알고리즘은 자료구조에 저장되어 있는 데이터를 연산하여 어떠한 문제를 해결하는 과정이다. \n",
    "1. 입력 : 0개 이상의 입력을 받아야한다\n",
    "2. 출력 : 전달받는 입력에 대해서는 의도하는 결과가 반환되어야한다.\n",
    "3. 명확성 : 수행과정은 명확하고 모호하지 않는 명령어로 구성되어야한다.\n",
    "4. 유한성(종결성) : 유한 번의 명령어를 수행 한 후 종료한다\n",
    "5. 효율성 모든 과정은 명백하게 실행가능 및 검증 가능해야한다.\n"
   ]
  },
  {
   "cell_type": "markdown",
   "metadata": {},
   "source": [
    "### Conplexity & Notation BigO\n",
    "\n",
    "복작도는 공간과 시간으로 나눌 수 있다. 공간 복잡도는 알고리즘에 필요한 메모리 공간이 얼마인지, 시간 복잡도는 알고리즘이 동작하는 시간이 얼마인지 계산해 내는 것이다. 메모리는 충분히 보충가능하지만, 시간은 추가할 수 없는 절대적 가치이기 때문에 시간 복잡도가 더 우선시 된다. \n",
    "\n",
    "- http://bigocheatsheet.com/\n"
   ]
  },
  {
   "cell_type": "markdown",
   "metadata": {},
   "source": [
    "### Approximation\n",
    "\n",
    "임의의 함수에 대하여 \"함수의 입력값\"이 충분히 커짐에 따라 출력값이 얼마나 빠르게 커지는가로 된다. "
   ]
  },
  {
   "cell_type": "markdown",
   "metadata": {},
   "source": [
    "### Worst Case\n",
    "\n",
    "lower boundary of Efficiency"
   ]
  },
  {
   "cell_type": "code",
   "execution_count": null,
   "metadata": {},
   "outputs": [],
   "source": [
    "O(n),O(1),O(nm),O(n^2)"
   ]
  }
 ],
 "metadata": {
  "kernelspec": {
   "display_name": "Python 3",
   "language": "python",
   "name": "python3"
  },
  "language_info": {
   "codemirror_mode": {
    "name": "ipython",
    "version": 3
   },
   "file_extension": ".py",
   "mimetype": "text/x-python",
   "name": "python",
   "nbconvert_exporter": "python",
   "pygments_lexer": "ipython3",
   "version": "3.6.8"
  }
 },
 "nbformat": 4,
 "nbformat_minor": 2
}
