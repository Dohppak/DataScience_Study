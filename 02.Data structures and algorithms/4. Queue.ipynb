{
 "cells": [
  {
   "cell_type": "markdown",
   "metadata": {},
   "source": [
    "## Queue\n",
    "\n",
    "Queue는 Stack과 마찬가지로 들어오는 순서가 중요한 데이터구조입니다. Queue는 ordered list의 한 종류로 First in First Out과 가장 유사한 구조를 가지고 있습니다. 예를들어서 우리 연구실에서 30개의 컴퓨터 네트워크가 하나의 프린터를 사용한다면, 프린터를 하고싶을때 줄을 서서 기다렸다가 프린팅을 해야합니다. 그런거입니다.\n",
    "\n",
    "- Mulitple consumer에게 resource가 sharing될때, 예를들면 CPU 스케쥴링이나 Disk 스케쥴링\n",
    "- 데이터 비동기적인 Transfer작업이 있을때, 두개의 프로세스 사이에서 UI Buffer나 pipes, file IO등이 필요할때\n",
    "\n",
    "### 시간복잡도\n",
    "\n",
    "- enqueue(): O(1)\n",
    "- dequeue(): O(1)\n",
    "- isEmpty(): O(1)\n",
    "- getSize(): O(1)\n",
    "\n",
    "### 한계점\n",
    "\n",
    "Max Size의 queue는 반드시 execution을 거쳐야합니다.\n",
    "\n",
    "### 변형\n",
    "\n",
    "- Deque\n",
    "- Circular Queue\n",
    "- Priority Queue"
   ]
  },
  {
   "cell_type": "code",
   "execution_count": 1,
   "metadata": {},
   "outputs": [
    {
     "name": "stdout",
     "output_type": "stream",
     "text": [
      "0 1 2 3 4 5 6 7 8 9\n",
      "Queue Size: 10\n",
      "0 1 2 3 4 5 6 7 8\n",
      "Queue Size: 9\n"
     ]
    }
   ],
   "source": [
    "class Queue(object):\n",
    "    def __init__(self, limit = 10):\n",
    "        self.queue = []\n",
    "        self.front = None\n",
    "        self.rear = None\n",
    "        self.limit = limit\n",
    "        self.size = 0\n",
    "     \n",
    "    def __str__(self):\n",
    "        return ' '.join([str(i) for i in self.queue])\n",
    "    \n",
    "    # to check if queue is empty\n",
    "    def isEmpty(self):\n",
    "        return self.size <= 0\n",
    "    \n",
    "    # to add an element from the rear end of the queue\n",
    "    def enqueue(self, data):\n",
    "        if self.size >= self.limit:\n",
    "            return -1          # queue overflow\n",
    "        else:\n",
    "            self.queue.append(data)\n",
    "        \n",
    "        # assign the rear as size of the queue and front as 0\n",
    "        if self.front is None:\n",
    "            self.front = self.rear = 0\n",
    "        else:\n",
    "            self.rear = self.size\n",
    "            \n",
    "        self.size += 1\n",
    "    \n",
    "    # to pop an element from the front end of the queue\n",
    "    def dequeue(self):\n",
    "        if self.isEmpty():\n",
    "            return -1          # queue underflow\n",
    "        else:\n",
    "            self.queue.pop()\n",
    "            self.size -= 1\n",
    "            if self.size == 0:\n",
    "                self.front = self.rear = 0\n",
    "            else:\n",
    "                self.rear = self.size - 1\n",
    "    \n",
    "    def getSize(self):\n",
    "        return self.size\n",
    "\n",
    "myQueue = Queue()\n",
    "for i in range(10):\n",
    "    myQueue.enqueue(i)\n",
    "print(myQueue)\n",
    "print('Queue Size:',myQueue.getSize())\n",
    "myQueue.dequeue()\n",
    "print(myQueue)\n",
    "print('Queue Size:',myQueue.getSize())"
   ]
  },
  {
   "cell_type": "code",
   "execution_count": null,
   "metadata": {},
   "outputs": [],
   "source": []
  }
 ],
 "metadata": {
  "kernelspec": {
   "display_name": "Python 3",
   "language": "python",
   "name": "python3"
  },
  "language_info": {
   "codemirror_mode": {
    "name": "ipython",
    "version": 3
   },
   "file_extension": ".py",
   "mimetype": "text/x-python",
   "name": "python",
   "nbconvert_exporter": "python",
   "pygments_lexer": "ipython3",
   "version": "3.7.6"
  }
 },
 "nbformat": 4,
 "nbformat_minor": 4
}
