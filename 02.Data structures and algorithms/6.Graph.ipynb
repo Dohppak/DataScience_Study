{
 "cells": [
  {
   "cell_type": "markdown",
   "metadata": {},
   "source": [
    "그래프는 Node와 Edge를 가지는 자료구조 입니다. Node는 finite set of vertices입니다. 그리고 Edge의 경우는 우리는 finte set of ordered pair (u,v)라고 말합니다. 이 Pair는 order를 가지면 Directed Graph라고 불리며 (u,v)는 (v,u)와는 같지 않습니다. \n",
    "\n",
    "### Graph Represented\n",
    "- Adjancency Matrix : 2차원의 매트릭스입니다. 일반적으로 rows는 source vertices 그리고 columns 는 destination vertices가 있습니다. Edge와 vertices 데이터는 반드시 externally 저장되어야합니다.\n",
    "- Adjancency List : Vertices는 연결되어 있는 모든 vetex를 함께 저장합니다. 데이터 구조 특성상 additional data를 잘 저장해줍니다. Additional Node는 edge 또한 저장해야합니다.\n",
    "\n",
    "### Time Complexities\n",
    "\n",
    "Adjacency List의 경우는 Verticies과 edges를 제거하는게 느립니다. 왜냐하면 모든 vertices와 edges를 찾아야 하기 때문이죠.\n",
    "\n",
    "Adjacency Matric의 경우는 Vertices를 추가하거나 제거하는게 느집니다. 왜냐면 Matrix를 copied하거나 resize해야하기 때문입니다.\n",
    "\n",
    "`NOTE: AL = Adjacency List, AM = Adjacency Matrix, V = Vertex, E = Edge`\n",
    "\n",
    "- Store Graph: AL: O(|V| + |E|), AM: O(|V| * |V|)\n",
    "- Add Vertex: AL: O(1), AM: O(|V| * |V|)\n",
    "- Add Edge: AL: O(1), AM: O(1)\n",
    "- Remove Vertex: AL: O(|E|), AM: O(|V| * |V|)\n",
    "- Remove Edge: AL: O(|V|), AM: O(1)\n",
    "\n",
    "### Application of Graphs\n",
    "- CS사이드에서는 graph는 network communcation, data organization\n",
    "- Graph theory는 화학이나 물리에서도 사용되고\n",
    "- 수학에서는 geometry에 사용됩니다.\n",
    "- Weighted graph는 pairwise connection을 표현하는데 사용됩니다.\n",
    "- Routing의 shortest path를 찾기도 합니다."
   ]
  },
  {
   "cell_type": "code",
   "execution_count": 4,
   "metadata": {},
   "outputs": [
    {
     "name": "stdout",
     "output_type": "stream",
     "text": [
      "104\n",
      "143\n",
      "0141312\n",
      "3\n",
      "4\n"
     ]
    }
   ],
   "source": [
    "class AdjacencyList(object):\n",
    "    def __init__(self):\n",
    "        self.List = {}\n",
    "        \n",
    "    def addEdge(self, fromVertex, toVertex):\n",
    "        if fromVertex in self.List.keys():\n",
    "            self.List[fromVertex].append(toVertex)\n",
    "        else:\n",
    "            self.List[fromVertex] = [toVertex]\n",
    "            \n",
    "    def printList(self):\n",
    "        for i in self.List:\n",
    "            print(str(i).join([str(j) for j in self.List[i]]))\n",
    "            \n",
    "al = AdjacencyList()\n",
    "al.addEdge(0, 1)\n",
    "al.addEdge(0, 4)\n",
    "al.addEdge(4, 1)\n",
    "al.addEdge(4, 3)\n",
    "al.addEdge(1, 0)\n",
    "al.addEdge(1, 4)\n",
    "al.addEdge(1, 3)\n",
    "al.addEdge(1, 2)\n",
    "al.addEdge(2, 3)\n",
    "al.addEdge(3, 4)\n",
    "\n",
    "al.printList()"
   ]
  },
  {
   "cell_type": "code",
   "execution_count": null,
   "metadata": {},
   "outputs": [],
   "source": []
  }
 ],
 "metadata": {
  "kernelspec": {
   "display_name": "Python 3",
   "language": "python",
   "name": "python3"
  },
  "language_info": {
   "codemirror_mode": {
    "name": "ipython",
    "version": 3
   },
   "file_extension": ".py",
   "mimetype": "text/x-python",
   "name": "python",
   "nbconvert_exporter": "python",
   "pygments_lexer": "ipython3",
   "version": "3.7.6"
  }
 },
 "nbformat": 4,
 "nbformat_minor": 4
}
