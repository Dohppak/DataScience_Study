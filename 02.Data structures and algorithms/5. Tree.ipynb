{
 "cells": [
  {
   "cell_type": "markdown",
   "metadata": {},
   "source": [
    "### Tree\n",
    "\n",
    "Tree는 non-linear 자료구조로, hierarchical한 형태를 딸게 됩니다. 때문에 우리는 이것이 graphical from이라고 부르게 됩니다. Tree의 root는 parents가 없는 node입니다. Tree형 자료구조는 적어도 하나의 노드가 존재해야합니다. Edge는 parent에서 child로 연결되는 link를 의미합니다. leaf node는 자식이 없는 node입니다. 같은 부모를 공유하는 자식들은 siblings라고 불립니다.\n",
    "\n",
    "### Binary Tree\n",
    "각각의 노드가 자식을 0,1,2만 가지게 된다면 우리는 그 Tree를 Binary tree라고 불릅니다. Empty tree는 역시 binary tree입니다.\n",
    "\n",
    "### Types of Binary tree\n",
    "\n",
    "- Full binary tree : Binary tree는 모든 노드가 0 or 2명의 Children을 가지게 되면 full binary tree라고 불립니다.\n",
    "- Complete binary tree\n",
    "- Perfect Binary tree\n",
    "- Balanced Binary tree\n",
    "- Degenerate tree"
   ]
  },
  {
   "cell_type": "code",
   "execution_count": 2,
   "metadata": {},
   "outputs": [],
   "source": [
    "class Node(object):\n",
    "    def __init__(self, data = None):\n",
    "        self.left = None\n",
    "        self.right = None\n",
    "        self.data = data\n",
    "        \n",
    "    def setLeft(self,node):\n",
    "        self.left = node\n",
    "        \n",
    "    def setRight(self, node):\n",
    "        self.right = node\n",
    "        \n",
    "    def getLeft(self):\n",
    "        return self.left\n",
    "        \n",
    "    def getRight(self):\n",
    "        return self.right\n",
    "    \n",
    "    def setData(self, data):\n",
    "        self.data = data\n",
    "        \n",
    "    def getData(self):\n",
    "        return self.data\n",
    "\n",
    "root = Node(1)\n",
    "root.setLeft(Node(2))\n",
    "root.setRight(Node(3))\n",
    "root.left.setLeft(Node(4))"
   ]
  },
  {
   "cell_type": "markdown",
   "metadata": {},
   "source": [
    "### Tree traversal\n",
    "\n",
    "tree는 non-linear자료구조이기 때문에, traversed가 다른 방식으로 이루어집니다.\n",
    "- Inorder (left, data, right)\n",
    "- Preorder (data, left, right)\n",
    "- Postorder (left, right, data)"
   ]
  },
  {
   "cell_type": "code",
   "execution_count": null,
   "metadata": {},
   "outputs": [],
   "source": []
  }
 ],
 "metadata": {
  "kernelspec": {
   "display_name": "Python 3",
   "language": "python",
   "name": "python3"
  },
  "language_info": {
   "codemirror_mode": {
    "name": "ipython",
    "version": 3
   },
   "file_extension": ".py",
   "mimetype": "text/x-python",
   "name": "python",
   "nbconvert_exporter": "python",
   "pygments_lexer": "ipython3",
   "version": "3.7.6"
  }
 },
 "nbformat": 4,
 "nbformat_minor": 4
}
