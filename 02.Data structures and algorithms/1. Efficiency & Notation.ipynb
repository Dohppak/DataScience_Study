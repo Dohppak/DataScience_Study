{
 "cells": [
  {
   "cell_type": "markdown",
   "metadata": {},
   "source": [
    "- https://ratsgo.github.io/data%20structure&algorithm/2017/09/07/algorithm/\n",
    "- https://grepsean.github.io/Algorithms-and-Data-Structures-with-Python-3/"
   ]
  },
  {
   "cell_type": "markdown",
   "metadata": {},
   "source": [
    "### Data Structure 란?\n",
    "\n",
    "자료구조는 데이터를 효율적으로 이용할 수 있도록 저장하는 방법이다. 데이터의 타입에 따라서 효율적인 자료구조를 선택할수 있어야한다.\n",
    "\n",
    "- 형태\n",
    "    - linear 자료구조\n",
    "        - 스택 Stack : 후입선출 구조의 자료구조이다. 데이터를 스택에 넣고 다시 꺼내면 역순으로 나온다\n",
    "        - 큐 Queue : 선입 선출의 자료구조이다\n",
    "        - 덱 Deque : 양쪽에서 넣고 뺼수 있는 자료구조이다. 스택과 큐가 합쳐져 있다.\n",
    "    - Non-linear 자료구조\n",
    "        - 트리 tree : 부모 노드와 N개의 자식 노드로 구성된 자료구조이며, 자식 노드도 재귀적으로 서브트리를 구성한다.\n",
    "        - 그래프 Graph : 트리 구조와 비슷하지만, 순환구조를 가진다."
   ]
  },
  {
   "cell_type": "markdown",
   "metadata": {},
   "source": [
    "### Algorithm (Definite Finite Automata)\n",
    "\n",
    "하나의 상태만을 가지게 되며, 어떤 사건에 의해 다른 사건으로 전이가 일어납니다. 전이가 결정적이고 유한상태입니다. \n",
    "<br>\n",
    "\n",
    "알고리즘은 자료구조에 저장되어 있는 데이터를 연산하여 어떠한 문제를 해결하는 과정이다. \n",
    "1. 입력 : 0개 이상의 입력을 받아야한다\n",
    "2. 출력 : 전달받는 입력에 대해서는 의도하는 결과가 반환되어야한다.\n",
    "3. 명확성 : 수행과정은 명확하고 모호하지 않는 명령어로 구성되어야한다.\n",
    "4. 유한성(종결성) : 유한 번의 명령어를 수행 한 후 종료한다\n",
    "5. 효율성 모든 과정은 명백하게 실행가능 및 검증 가능해야한다.\n"
   ]
  },
  {
   "cell_type": "markdown",
   "metadata": {},
   "source": [
    "### Conplexity & Notation BigO\n",
    "\n",
    "복작도는 공간과 시간으로 나눌 수 있다. 공간 복잡도는 알고리즘에 필요한 메모리 공간이 얼마인지, 시간 복잡도는 알고리즘이 동작하는 시간이 얼마인지 계산해 내는 것이다. 메모리는 충분히 보충가능하지만, 시간은 추가할 수 없는 절대적 가치이기 때문에 시간 복잡도가 더 우선시 된다. \n",
    "\n",
    "- http://bigocheatsheet.com/\n"
   ]
  },
  {
   "cell_type": "markdown",
   "metadata": {},
   "source": [
    "### Approximation\n",
    "\n",
    "임의의 함수에 대하여 \"함수의 입력값\"이 충분히 커짐에 따라 출력값이 얼마나 빠르게 커지는가로 된다. "
   ]
  },
  {
   "cell_type": "markdown",
   "metadata": {},
   "source": [
    "### Worst Case\n",
    "\n",
    "lower boundary of Efficiency"
   ]
  },
  {
   "cell_type": "code",
   "execution_count": null,
   "metadata": {},
   "outputs": [],
   "source": [
    "O(n),O(1),O(nm),O(n^2)"
   ]
  }
 ],
 "metadata": {
  "kernelspec": {
   "display_name": "Python 3",
   "language": "python",
   "name": "python3"
  },
  "language_info": {
   "codemirror_mode": {
    "name": "ipython",
    "version": 3
   },
   "file_extension": ".py",
   "mimetype": "text/x-python",
   "name": "python",
   "nbconvert_exporter": "python",
   "pygments_lexer": "ipython3",
   "version": "3.6.5"
  }
 },
 "nbformat": 4,
 "nbformat_minor": 2
}
