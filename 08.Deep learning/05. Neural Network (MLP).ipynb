{
 "cells": [
  {
   "cell_type": "markdown",
   "metadata": {},
   "source": [
    "## Non-linear data\n",
    "\n",
    "만약 현실세계의 데이터를 받아본다면, 선형 classifier가 결정되긴 매우 힘들다. 때문에 input 대신에 새로운 기저함수 $\\theta(x)$를 사용하면 XOR 문제 등 비선형 문제를 해결 가능하다.\n",
    "<br>\n",
    "\n",
    "이러한 input을 새로운 기저함수를 통해 변형시키는 것은 MLP(Multi-Layer Perceptron)과 같은 원리이다."
   ]
  },
  {
   "cell_type": "markdown",
   "metadata": {},
   "source": [
    "$$\n",
    "z = \\sigma \\left( \\sum_{j=1}^M w \\sigma \\left(w_{j}^{(1)} x + b_j^{(1)} \\right)  + b \\right)\n",
    "$$\n",
    "\n",
    "$$\n",
    "\\sigma(x) = \\frac{1}{1+e^{-x}}\n",
    "$$\n",
    "\n",
    "- $w_{j}^{(1)},b_j^{(1)}$ : 기저 함수의 모양 조절\n",
    "- $w,b$ 결정함수, 즉 classifier의 모양조절"
   ]
  },
  {
   "cell_type": "markdown",
   "metadata": {},
   "source": [
    "### Universal Approximation Theorem\n",
    "\n",
    "layer를 충분히 많이 사용하면, 어떠한 형태의 함수와도 유사한 형태의 함수 $z(x)$를 만들 수 있다고 한다."
   ]
  },
  {
   "cell_type": "markdown",
   "metadata": {},
   "source": [
    "### Neural Network Architecture\n",
    "\n",
    "이러한 뉴럴넷 아키텍처는 마치 모형들의 결합인, 앙상블 모형과도 같다. 각각의 기저함수가 적용된 모형을 새로운 input으로 생각하며, 그들의 weight를 결정한다. 즉 input layer 그리고 weight 가 적용하여 hidden layer를 구성하며, 마지막으로 activate function을 지나서 최종적인 ouput layer가 산출되는 구조이다."
   ]
  },
  {
   "cell_type": "markdown",
   "metadata": {},
   "source": [
    "![NN](./img/05.nn.png)"
   ]
  },
  {
   "cell_type": "markdown",
   "metadata": {},
   "source": [
    "출력 계층이 만약 복수개의 출력 뉴런을 가지게 된다면, 각 출력클래스는 조건부 확률을 반환하게 설계할수 있다는 점이다."
   ]
  },
  {
   "cell_type": "markdown",
   "metadata": {},
   "source": [
    "![DNN](./img/05.dnn.png)"
   ]
  },
  {
   "cell_type": "markdown",
   "metadata": {},
   "source": [
    "### FeedForward"
   ]
  },
  {
   "cell_type": "markdown",
   "metadata": {},
   "source": [
    "![ff](./img/05.ff.png)\n",
    "\n",
    "$$\n",
    "z^{(1)} = \\sigma \\left( {W^{(1)}} x + b^{(1)} \\right)\n",
    "$$"
   ]
  },
  {
   "cell_type": "markdown",
   "metadata": {},
   "source": [
    "![ff](./img/05.ff1.png)\n",
    "\n",
    "$$\n",
    "z^{(2)} = \\sigma \\left( {W^{(1)}}{z^{(1)}} + b^{(2)} \\right)\n",
    "$$"
   ]
  },
  {
   "cell_type": "markdown",
   "metadata": {},
   "source": [
    "![ff](./img/05.ff2.png)\n",
    "\n",
    "$$\n",
    "\\hat{y} = z^{(3)} = \\sigma \\left( {W^{(3)}} z^{(2)} + b^{(3)} \\right)\n",
    "$$"
   ]
  },
  {
   "cell_type": "code",
   "execution_count": 4,
   "metadata": {},
   "outputs": [
    {
     "data": {
      "text/plain": [
       "array([[-0.02341534, -0.0234137 ,  0.15792128],\n",
       "       [ 0.07674347, -0.04694744,  0.054256  ],\n",
       "       [-0.04634177, -0.04657298,  0.02419623],\n",
       "       [-0.19132802, -0.17249178, -0.05622875]])"
      ]
     },
     "execution_count": 4,
     "metadata": {},
     "output_type": "execute_result"
    }
   ],
   "source": [
    "weights_input_to_hidden"
   ]
  },
  {
   "cell_type": "code",
   "execution_count": 5,
   "metadata": {},
   "outputs": [],
   "source": [
    "import numpy as np\n",
    "\n",
    "def sigmoid(x):\n",
    "    \"\"\"\n",
    "    Calculate sigmoid\n",
    "    \"\"\"\n",
    "    return 1/(1+np.exp(-x))"
   ]
  },
  {
   "cell_type": "code",
   "execution_count": 6,
   "metadata": {},
   "outputs": [],
   "source": [
    "# Network size\n",
    "N_input = 4\n",
    "N_hidden = 3\n",
    "N_output = 2"
   ]
  },
  {
   "cell_type": "code",
   "execution_count": 16,
   "metadata": {},
   "outputs": [],
   "source": [
    "np.random.seed(42)\n",
    "# Make some fake data\n",
    "X = np.random.randn(4)\n",
    "\n",
    "# initalization\n",
    "weights_input_to_hidden = np.random.normal(0, scale=0.1, size=(N_input, N_hidden))\n",
    "weights_hidden_to_output = np.random.normal(0, scale=0.1, size=(N_hidden, N_output))"
   ]
  },
  {
   "cell_type": "code",
   "execution_count": 17,
   "metadata": {},
   "outputs": [
    {
     "name": "stdout",
     "output_type": "stream",
     "text": [
      "[[-0.02341534 -0.0234137   0.15792128]\n",
      " [ 0.07674347 -0.04694744  0.054256  ]\n",
      " [-0.04634177 -0.04657298  0.02419623]\n",
      " [-0.19132802 -0.17249178 -0.05622875]]\n",
      "======\n",
      "[[-0.10128311  0.03142473]\n",
      " [-0.09080241 -0.14123037]\n",
      " [ 0.14656488 -0.02257763]]\n"
     ]
    }
   ],
   "source": [
    "print(weights_input_to_hidden)\n",
    "print(\"======\")\n",
    "print(weights_hidden_to_output)"
   ]
  },
  {
   "cell_type": "code",
   "execution_count": 18,
   "metadata": {},
   "outputs": [
    {
     "name": "stdout",
     "output_type": "stream",
     "text": [
      "Hidden-layer Output: [0.41492192 0.42604313 0.5002434 ]\n"
     ]
    }
   ],
   "source": [
    "# TODO: Make a forward pass through the network\n",
    "hidden_layer_in = np.dot(X, weights_input_to_hidden)\n",
    "hidden_layer_out = sigmoid(hidden_layer_in)\n",
    "\n",
    "print('Hidden-layer Output:',hidden_layer_out)"
   ]
  },
  {
   "cell_type": "code",
   "execution_count": 19,
   "metadata": {},
   "outputs": [
    {
     "name": "stdout",
     "output_type": "stream",
     "text": [
      "Output-layer Output: [0.49815196 0.48539772]\n"
     ]
    }
   ],
   "source": [
    "output_layer_in = np.dot(hidden_layer_out, weights_hidden_to_output)\n",
    "output_layer_out = sigmoid(output_layer_in)\n",
    "\n",
    "print('Output-layer Output:',output_layer_out)"
   ]
  },
  {
   "cell_type": "markdown",
   "metadata": {},
   "source": [
    "### Error function in Multi-Class\n",
    "\n",
    "신경망의 오차함수는 조건부 확률이라는 실수 값을 출력해야한다. 따라서, 일반적으로 제곱합을 사용한다.\n",
    "\n",
    "$$\n",
    "\\begin{eqnarray}  E(w,b) = \\sum_{i=1}^N E_i(w,b) =  \\sum_{i=1}^N \\| y_i - z_i^{(L)}(w,b) \\|^2 \n",
    "\\end{eqnarray}\n",
    "$$\n",
    "\n",
    "$$\n",
    "\\begin{eqnarray}\n",
    "  w_{k+1}  &=& w_{k} - \\alpha \\frac{\\partial E}{\\partial w} \\\\\n",
    "  b_{k+1} &=& b_{k} - \\alpha \\frac{\\partial E}{\\partial b}\n",
    "\\end{eqnarray}\n",
    "$$\n",
    "\n",
    "\n",
    "\n",
    "$$\n",
    "\\begin{eqnarray}   \\frac{\\partial E}{\\partial w_{i}} = -(y-\\hat{y})f'(h)x_{i}\n",
    "\\end{eqnarray}\n",
    "$$\n",
    "\n",
    "$$\n",
    "\\begin{eqnarray}\n",
    "w_{k+1}  &=& w_{k} - \\alpha \\delta x_{i} \n",
    "\\end{eqnarray}\n",
    "$$\n"
   ]
  },
  {
   "cell_type": "markdown",
   "metadata": {},
   "source": [
    "### Define Error Term\n",
    "\n",
    "$$\n",
    "\\begin{eqnarray}  \\delta = (y-\\hat{y})f'(h)\n",
    "\\end{eqnarray}\n",
    "$$\n",
    "\n"
   ]
  },
  {
   "cell_type": "markdown",
   "metadata": {},
   "source": [
    "### 코드구현"
   ]
  },
  {
   "cell_type": "code",
   "execution_count": 6,
   "metadata": {},
   "outputs": [],
   "source": [
    "import numpy as np\n",
    "\n",
    "def sigmoid(x):\n",
    "    return 1/(1+np.exp(-x))\n",
    "\n",
    "def sigmoid_prime(x):\n",
    "    return sigmoid(x) * (1 - sigmoid(x))\n",
    "\n",
    "learnrate = 0.5\n",
    "x = np.array([1, 2, 3, 4])\n",
    "y = np.array(0.5)\n",
    "\n",
    "# Initial weights\n",
    "w = np.array([0.5, -0.5, 0.3, 0.1])"
   ]
  },
  {
   "cell_type": "code",
   "execution_count": 7,
   "metadata": {},
   "outputs": [
    {
     "name": "stdout",
     "output_type": "stream",
     "text": [
      "Neural Network output: 0.6899744811276125\n",
      "Amount of Error: -0.1899744811276125\n",
      "Change in Weights: [-0.02031869 -0.04063738 -0.06095608 -0.08127477]\n"
     ]
    }
   ],
   "source": [
    "h = np.dot(x, w)\n",
    "nn_output = sigmoid(h)\n",
    "error = y - nn_output\n",
    "error_term = error * sigmoid_prime(h)\n",
    "del_w = learnrate * error_term * x\n",
    "\n",
    "print('Neural Network output:',nn_output)\n",
    "print('Amount of Error:',error)\n",
    "print('Change in Weights:',del_w)"
   ]
  },
  {
   "cell_type": "markdown",
   "metadata": {},
   "source": [
    "### Backpropagation\n",
    "\n",
    "오차로부터 발견한 새로운 정보를 각 layer 에 전달해 주기 위해서는 hidden layer들의 weight를 업데이트 해주어야한다. \n",
    "\n",
    "만약 y = 1인 모형이 다음과 같다고 가정해보자"
   ]
  },
  {
   "cell_type": "markdown",
   "metadata": {},
   "source": [
    "![05.bp](./img/05.bp.png)"
   ]
  },
  {
   "cell_type": "markdown",
   "metadata": {},
   "source": [
    "input of hidden unit\n",
    "\n",
    "$$\n",
    "\\begin{eqnarray}  \n",
    "h = \\sum^{i} w_{i}x_{i} = 0.1*0.4-0.2*0.3=-0.02\n",
    "\\end{eqnarray}\n",
    "$$"
   ]
  },
  {
   "cell_type": "markdown",
   "metadata": {},
   "source": [
    "output of hidden unit\n",
    "\n",
    "$$\n",
    "\\begin{eqnarray}  \n",
    "a = f(h) = sigmoid(-0.02) = 0.495\n",
    "\\end{eqnarray}\n",
    "$$"
   ]
  },
  {
   "cell_type": "markdown",
   "metadata": {},
   "source": [
    "input of output unit\n",
    "\n",
    "$$\n",
    "\\begin{eqnarray}  \n",
    "\\hat{y} = f(W*a) = sigmoid(0.1*0.495) = 0.512\n",
    "\\end{eqnarray}\n",
    "$$"
   ]
  },
  {
   "cell_type": "markdown",
   "metadata": {},
   "source": [
    "---------------"
   ]
  },
  {
   "cell_type": "markdown",
   "metadata": {},
   "source": [
    "output error term\n",
    "$$\n",
    "\\begin{eqnarray}\n",
    "\\delta^{o} = (y-\\hat{y})f'(W*a)\n",
    "\\end{eqnarray}\n",
    "$$\n",
    "\n",
    "$$\n",
    "\\begin{eqnarray}\n",
    "\\delta^{o} = (1-0.512)*0.512*(1-0.512) = 0.122\n",
    "\\end{eqnarray}\n",
    "$$"
   ]
  },
  {
   "cell_type": "markdown",
   "metadata": {},
   "source": [
    "hidden unit error term\n",
    "\n",
    "$$\n",
    "\\begin{eqnarray}  \\delta_{j}^{h} = \\sum^{k} W_{j,k}\\delta_{k}^{o} f'(h_{j})\n",
    "\\end{eqnarray}\n",
    "$$\n",
    "\n",
    "$$\n",
    "\\delta_{j}^{h} = W\\delta^{o}f'(h) = 0.1*0.122*0.495*(1-0.495) = 0.003\n",
    "$$\n",
    "\n",
    "- $k$ = output unit\n",
    "- $j$ = hidden unit\n",
    "- $W_{j,k}$ = weight between output and hidden"
   ]
  },
  {
   "cell_type": "markdown",
   "metadata": {},
   "source": [
    "The hidden to output weight = wegith change\n",
    "\n",
    "$$\n",
    "\\Delta W = \\alpha * \\delta^{o}a\n",
    "$$\n",
    "\n",
    "- $\\alpha$ = LearningRate = 0.5 \n",
    "\n",
    "The input to hidden weight\n",
    "\n",
    "$$\n",
    "\\Delta w_i = \\alpha * \\delta^{h}x_{i}\n",
    "$$"
   ]
  },
  {
   "cell_type": "markdown",
   "metadata": {},
   "source": [
    "### 코드구현"
   ]
  },
  {
   "cell_type": "code",
   "execution_count": 20,
   "metadata": {},
   "outputs": [],
   "source": [
    "import numpy as np\n",
    "\n",
    "\n",
    "def sigmoid(x):\n",
    "    \"\"\"\n",
    "    Calculate sigmoid\n",
    "    \"\"\"\n",
    "    return 1 / (1 + np.exp(-x))\n"
   ]
  },
  {
   "cell_type": "code",
   "execution_count": 34,
   "metadata": {},
   "outputs": [],
   "source": [
    "#data set 정의\n",
    "x = np.array([0.5, 0.1, -0.2])\n",
    "target = 0.6\n",
    "learnrate = 0.5"
   ]
  },
  {
   "cell_type": "code",
   "execution_count": 35,
   "metadata": {},
   "outputs": [],
   "source": [
    "#initalization\n",
    "weights_input_hidden = np.array([[0.5, -0.6],\n",
    "                                 [0.1, -0.2],\n",
    "                                 [0.1, 0.7]])\n",
    "\n",
    "weights_hidden_output = np.array([0.1, -0.3])"
   ]
  },
  {
   "cell_type": "code",
   "execution_count": 36,
   "metadata": {},
   "outputs": [],
   "source": [
    "# Forward\n",
    "hidden_layer_input = np.dot(x, weights_input_hidden)\n",
    "hidden_layer_output = sigmoid(hidden_layer_input)\n",
    "\n",
    "output_layer_input = np.dot(hidden_layer_output, weights_hidden_output)\n",
    "output = sigmoid(output_layer_in)"
   ]
  },
  {
   "cell_type": "code",
   "execution_count": 37,
   "metadata": {},
   "outputs": [
    {
     "name": "stdout",
     "output_type": "stream",
     "text": [
      "[ 0.24 -0.46]\n",
      "[0.55971365 0.38698582]\n",
      "-0.06012438223148006\n",
      "[0.49815196 0.48539772]\n"
     ]
    }
   ],
   "source": [
    "print(hidden_layer_input)\n",
    "print(hidden_layer_output)\n",
    "print(output_layer_input)\n",
    "print(output)"
   ]
  },
  {
   "cell_type": "code",
   "execution_count": 39,
   "metadata": {},
   "outputs": [],
   "source": [
    "# error\n",
    "error = target - output\n",
    "\n",
    "# TODO: Calculate error term for output layer\n",
    "output_error_term = error * output * (1 - output)"
   ]
  },
  {
   "cell_type": "code",
   "execution_count": 10,
   "metadata": {},
   "outputs": [
    {
     "name": "stdout",
     "output_type": "stream",
     "text": [
      "Change in weights for hidden layer to output layer:\n",
      "[0.00804047 0.00555918]\n",
      "Change in weights for input layer to hidden layer:\n",
      "[[ 1.77005547e-04 -5.11178506e-04]\n",
      " [ 3.54011093e-05 -1.02235701e-04]\n",
      " [-7.08022187e-05  2.04471402e-04]]\n"
     ]
    }
   ],
   "source": [
    "## Backwards pass\n",
    "\n",
    "# TODO: Calculate error term for hidden layer\n",
    "hidden_error_term = np.dot(output_error_term, weights_hidden_output) * \\\n",
    "                    hidden_layer_output * (1 - hidden_layer_output)\n",
    "\n",
    "# TODO: Calculate change in weights for hidden layer to output layer\n",
    "delta_w_h_o = learnrate * output_error_term * hidden_layer_output\n",
    "\n",
    "# TODO: Calculate change in weights for input layer to hidden layer\n",
    "delta_w_i_h = learnrate * hidden_error_term * x[:, None]\n",
    "\n",
    "print('Change in weights for hidden layer to output layer:')\n",
    "print(delta_w_h_o)\n",
    "print('Change in weights for input layer to hidden layer:')\n",
    "print(delta_w_i_h)"
   ]
  },
  {
   "cell_type": "code",
   "execution_count": null,
   "metadata": {},
   "outputs": [],
   "source": []
  }
 ],
 "metadata": {
  "kernelspec": {
   "display_name": "Python 3",
   "language": "python",
   "name": "python3"
  },
  "language_info": {
   "codemirror_mode": {
    "name": "ipython",
    "version": 3
   },
   "file_extension": ".py",
   "mimetype": "text/x-python",
   "name": "python",
   "nbconvert_exporter": "python",
   "pygments_lexer": "ipython3",
   "version": "3.6.6"
  }
 },
 "nbformat": 4,
 "nbformat_minor": 2
}
