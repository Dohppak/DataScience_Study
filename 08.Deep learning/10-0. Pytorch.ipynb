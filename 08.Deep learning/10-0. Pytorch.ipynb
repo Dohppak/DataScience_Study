{
 "cells": [
  {
   "cell_type": "markdown",
   "metadata": {},
   "source": [
    "# Pytorch\n",
    "\n",
    "- Pytorch 는 Numpy를 대체하면서 GPU연산이 필요한 경우\n",
    "- 최대한의 유연성과 속도를 제공하는 딥러닝 연구 플랫폼이 필요한 경우 사용됩니다.\n",
    "\n",
    "### 장점\n",
    "- autograd 패키지는 Tensors의 모든 연산에 대해 자동 미분을 제공합니다. Define-by-run 프레임워크가 가능합니다.\n",
    "- Function 클래스를 활용하여, 모든 연산과정을 encode하여 Acyclic graph를 생성합니다.\n",
    "\n",
    "### Tensors\n",
    "Tensor는 Numpy의 ndarray와 유사할 뿐만 아니라, GPU를 사용한 연산 가속도 지원합니다.\n",
    "\n",
    "- empty : matrix를 생성합니다, 단 uninitalized되어있습니다.\n",
    "- rand : matrix를 생성합니다. initalize 되어있습니다.\n",
    "- zeros : 0으로 채워진 행렬을 생성합니다.\n",
    "- new_ones : 1으로 채워진 텐서행렬을 생성합니다.\n",
    "- tensor : tensor를 생성합니다.\n",
    "- randn_like : 존재하는 tensor를 바탕으로 tensor를 생성합니다."
   ]
  },
  {
   "cell_type": "code",
   "execution_count": 4,
   "metadata": {},
   "outputs": [],
   "source": [
    "from __future__ import print_function\n",
    "import torch"
   ]
  },
  {
   "cell_type": "code",
   "execution_count": 5,
   "metadata": {},
   "outputs": [
    {
     "name": "stdout",
     "output_type": "stream",
     "text": [
      "tensor([[ 0.0000e+00, -2.5244e-29, -3.1207e-32],\n",
      "        [-2.8615e-42,  1.8856e+31,  1.2712e+31],\n",
      "        [ 3.2745e-12,  2.6209e+20,  2.0530e-19],\n",
      "        [ 5.2938e-14,  1.6109e-19,  1.8888e+31],\n",
      "        [ 4.1051e-41,  0.0000e+00,  0.0000e+00]])\n"
     ]
    }
   ],
   "source": [
    "x = torch.empty(5,3)\n",
    "print(x)"
   ]
  },
  {
   "cell_type": "code",
   "execution_count": 6,
   "metadata": {},
   "outputs": [
    {
     "name": "stdout",
     "output_type": "stream",
     "text": [
      "tensor([[0.3747, 0.0120, 0.5899],\n",
      "        [0.5680, 0.2836, 0.4346],\n",
      "        [0.3247, 0.2029, 0.3046],\n",
      "        [0.7586, 0.9261, 0.7521],\n",
      "        [0.4574, 0.9215, 0.0388]])\n"
     ]
    }
   ],
   "source": [
    "x = torch.rand(5,3)\n",
    "print(x)"
   ]
  },
  {
   "cell_type": "code",
   "execution_count": 7,
   "metadata": {},
   "outputs": [
    {
     "name": "stdout",
     "output_type": "stream",
     "text": [
      "tensor([[0, 0, 0],\n",
      "        [0, 0, 0],\n",
      "        [0, 0, 0],\n",
      "        [0, 0, 0],\n",
      "        [0, 0, 0]])\n"
     ]
    }
   ],
   "source": [
    "x = torch.zeros(5,3, dtype= torch.long)\n",
    "print(x)"
   ]
  },
  {
   "cell_type": "code",
   "execution_count": 9,
   "metadata": {},
   "outputs": [
    {
     "name": "stdout",
     "output_type": "stream",
     "text": [
      "tensor([5.5000, 3.0000])\n"
     ]
    }
   ],
   "source": [
    "x = torch.tensor([5.5,3])\n",
    "print(x)"
   ]
  },
  {
   "cell_type": "code",
   "execution_count": 13,
   "metadata": {},
   "outputs": [
    {
     "name": "stdout",
     "output_type": "stream",
     "text": [
      "tensor([[1., 1., 1.],\n",
      "        [1., 1., 1.],\n",
      "        [1., 1., 1.],\n",
      "        [1., 1., 1.],\n",
      "        [1., 1., 1.]], dtype=torch.float64)\n"
     ]
    }
   ],
   "source": [
    "x = x.new_ones(5,3,dtype = torch.double)\n",
    "print(x)"
   ]
  },
  {
   "cell_type": "code",
   "execution_count": 14,
   "metadata": {},
   "outputs": [
    {
     "name": "stdout",
     "output_type": "stream",
     "text": [
      "tensor([[-0.4784, -0.8508,  0.1735],\n",
      "        [ 0.3379,  0.1394,  0.8387],\n",
      "        [-2.0567, -0.1658, -0.1046],\n",
      "        [ 0.1812, -1.0918,  2.0618],\n",
      "        [-0.2347, -0.8838, -2.0543]])\n"
     ]
    }
   ],
   "source": [
    "x = torch.randn_like(x, dtype=torch.float)\n",
    "print(x)"
   ]
  },
  {
   "cell_type": "code",
   "execution_count": 16,
   "metadata": {},
   "outputs": [
    {
     "name": "stdout",
     "output_type": "stream",
     "text": [
      "torch.Size([5, 3])\n"
     ]
    }
   ],
   "source": [
    "print(x.size())"
   ]
  },
  {
   "cell_type": "markdown",
   "metadata": {},
   "source": [
    "### Operations"
   ]
  },
  {
   "cell_type": "code",
   "execution_count": 17,
   "metadata": {},
   "outputs": [
    {
     "name": "stdout",
     "output_type": "stream",
     "text": [
      "tensor([[-0.2264, -0.1430,  0.7987],\n",
      "        [ 1.3360,  0.1834,  1.5521],\n",
      "        [-1.7841, -0.0012,  0.6704],\n",
      "        [ 1.1281, -0.6204,  3.0044],\n",
      "        [ 0.1940, -0.1261, -1.9656]])\n"
     ]
    }
   ],
   "source": [
    "y= torch.rand(5,3)\n",
    "print(x+y)"
   ]
  },
  {
   "cell_type": "code",
   "execution_count": 18,
   "metadata": {},
   "outputs": [
    {
     "name": "stdout",
     "output_type": "stream",
     "text": [
      "tensor([[-0.2264, -0.1430,  0.7987],\n",
      "        [ 1.3360,  0.1834,  1.5521],\n",
      "        [-1.7841, -0.0012,  0.6704],\n",
      "        [ 1.1281, -0.6204,  3.0044],\n",
      "        [ 0.1940, -0.1261, -1.9656]])\n"
     ]
    }
   ],
   "source": [
    "print(torch.add(x,y))"
   ]
  },
  {
   "cell_type": "code",
   "execution_count": 20,
   "metadata": {},
   "outputs": [
    {
     "data": {
      "text/plain": [
       "tensor([[-0.2264, -0.1430,  0.7987],\n",
       "        [ 1.3360,  0.1834,  1.5521],\n",
       "        [-1.7841, -0.0012,  0.6704],\n",
       "        [ 1.1281, -0.6204,  3.0044],\n",
       "        [ 0.1940, -0.1261, -1.9656]])"
      ]
     },
     "execution_count": 20,
     "metadata": {},
     "output_type": "execute_result"
    }
   ],
   "source": [
    "result = torch.empty(5,3)\n",
    "torch.add(x,y,out=result)\n",
    "result"
   ]
  },
  {
   "cell_type": "markdown",
   "metadata": {},
   "source": [
    "### Resizing\n",
    "\n",
    "tensor의 크기(size)나 모양(shape)을 변경하고 싶을 때, torch.view 를 사용합니다."
   ]
  },
  {
   "cell_type": "code",
   "execution_count": 25,
   "metadata": {},
   "outputs": [],
   "source": [
    "x = torch.randn(4,4)\n",
    "y = x.view(16)\n",
    "z = x.view(-1,8) "
   ]
  },
  {
   "cell_type": "code",
   "execution_count": 26,
   "metadata": {},
   "outputs": [
    {
     "name": "stdout",
     "output_type": "stream",
     "text": [
      "torch.Size([4, 4]) torch.Size([16]) torch.Size([2, 8])\n",
      "tensor([[-0.3328,  0.5744, -0.4984,  0.1375],\n",
      "        [-2.4637,  0.7506,  1.2706, -0.6597],\n",
      "        [-0.9510, -0.8928,  0.4991,  0.0880],\n",
      "        [-0.6641, -0.5307,  0.5105,  1.5683]])\n",
      "tensor([-0.3328,  0.5744, -0.4984,  0.1375, -2.4637,  0.7506,  1.2706, -0.6597,\n",
      "        -0.9510, -0.8928,  0.4991,  0.0880, -0.6641, -0.5307,  0.5105,  1.5683])\n",
      "tensor([[-0.3328,  0.5744, -0.4984,  0.1375, -2.4637,  0.7506,  1.2706, -0.6597],\n",
      "        [-0.9510, -0.8928,  0.4991,  0.0880, -0.6641, -0.5307,  0.5105,  1.5683]])\n"
     ]
    }
   ],
   "source": [
    "print(x.size(),y.size(),z.size())\n",
    "print(x)\n",
    "print(y)\n",
    "print(z)"
   ]
  },
  {
   "cell_type": "markdown",
   "metadata": {},
   "source": [
    "### Tensor to Numpy"
   ]
  },
  {
   "cell_type": "code",
   "execution_count": 28,
   "metadata": {},
   "outputs": [
    {
     "name": "stdout",
     "output_type": "stream",
     "text": [
      "tensor([1., 1., 1., 1., 1.])\n",
      "[1. 1. 1. 1. 1.]\n"
     ]
    }
   ],
   "source": [
    "a = torch.ones(5)\n",
    "print(a)\n",
    "b = a.numpy()\n",
    "print(b)"
   ]
  },
  {
   "cell_type": "markdown",
   "metadata": {},
   "source": [
    "### Numpy to Tensor"
   ]
  },
  {
   "cell_type": "code",
   "execution_count": 30,
   "metadata": {},
   "outputs": [
    {
     "name": "stdout",
     "output_type": "stream",
     "text": [
      "tensor([1., 1., 1., 1., 1.], dtype=torch.float64)\n"
     ]
    }
   ],
   "source": [
    "import numpy as np\n",
    "a = np.ones(5)\n",
    "b = torch.from_numpy(a)\n",
    "print(b)"
   ]
  },
  {
   "cell_type": "markdown",
   "metadata": {},
   "source": [
    "### Autograd\n",
    "\n",
    "도함수를 계산하기 위해서는, tensor의 .backword()를 호출하면 됩니다. tensor가 스칼라인 경우애눈 backward에 인자를 정해줄 필요가 없습니다."
   ]
  },
  {
   "cell_type": "code",
   "execution_count": 32,
   "metadata": {},
   "outputs": [
    {
     "name": "stdout",
     "output_type": "stream",
     "text": [
      "tensor([[1., 1.],\n",
      "        [1., 1.]], requires_grad=True)\n"
     ]
    }
   ],
   "source": [
    "x = torch.ones(2,2, requires_grad= True)\n",
    "print(x)"
   ]
  },
  {
   "cell_type": "code",
   "execution_count": 34,
   "metadata": {},
   "outputs": [
    {
     "name": "stdout",
     "output_type": "stream",
     "text": [
      "tensor([[3., 3.],\n",
      "        [3., 3.]], grad_fn=<AddBackward>)\n"
     ]
    }
   ],
   "source": [
    "y = x+2\n",
    "print(y)"
   ]
  },
  {
   "cell_type": "code",
   "execution_count": 35,
   "metadata": {},
   "outputs": [
    {
     "name": "stdout",
     "output_type": "stream",
     "text": [
      "<AddBackward object at 0x11f806400>\n"
     ]
    }
   ],
   "source": [
    "print(y.grad_fn)"
   ]
  },
  {
   "cell_type": "code",
   "execution_count": 36,
   "metadata": {},
   "outputs": [
    {
     "name": "stdout",
     "output_type": "stream",
     "text": [
      "tensor([[27., 27.],\n",
      "        [27., 27.]], grad_fn=<MulBackward>) tensor(27., grad_fn=<MeanBackward1>)\n"
     ]
    }
   ],
   "source": [
    "z = y*y*3\n",
    "out = z.mean()\n",
    "print(z,out)"
   ]
  },
  {
   "cell_type": "code",
   "execution_count": 38,
   "metadata": {},
   "outputs": [],
   "source": [
    "out.backward()"
   ]
  },
  {
   "cell_type": "code",
   "execution_count": 39,
   "metadata": {},
   "outputs": [
    {
     "name": "stdout",
     "output_type": "stream",
     "text": [
      "tensor([[4.5000, 4.5000],\n",
      "        [4.5000, 4.5000]])\n"
     ]
    }
   ],
   "source": [
    "print(x.grad)"
   ]
  },
  {
   "cell_type": "code",
   "execution_count": null,
   "metadata": {},
   "outputs": [],
   "source": []
  }
 ],
 "metadata": {
  "kernelspec": {
   "display_name": "python3.6",
   "language": "python",
   "name": "python3.6"
  },
  "language_info": {
   "codemirror_mode": {
    "name": "ipython",
    "version": 3
   },
   "file_extension": ".py",
   "mimetype": "text/x-python",
   "name": "python",
   "nbconvert_exporter": "python",
   "pygments_lexer": "ipython3",
   "version": "3.6.6"
  }
 },
 "nbformat": 4,
 "nbformat_minor": 2
}
