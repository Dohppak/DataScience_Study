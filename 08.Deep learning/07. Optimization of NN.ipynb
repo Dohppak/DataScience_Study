{
 "cells": [
  {
   "cell_type": "code",
   "execution_count": 43,
   "metadata": {},
   "outputs": [],
   "source": [
    "import numpy as np\n",
    "import matplotlib.pyplot as plt\n",
    "%matplotlib inline"
   ]
  },
  {
   "cell_type": "markdown",
   "metadata": {},
   "source": [
    "# Optimization of NN\n",
    "\n",
    "\n",
    "Beale Function을 이용하여 한번 다양한 NN optimzation 함수를 구현해보고 해결해 봅시다! 각 최적화 기법들의 특징들을 살펴봅시다.\n",
    "\n",
    "- Contents\n",
    "    - GD & SGD\n",
    "    - Momentum\n",
    "    - Adagrad\n",
    "    - RMSprop\n",
    "    - Adam"
   ]
  },
  {
   "cell_type": "markdown",
   "metadata": {},
   "source": [
    "## Gradient Descent\n",
    "\n",
    "\n",
    "Gradient descent는 제약조건이 없는 convex이고 differentiable한 function의 최적화 문제를 풀기위한 가장 단순한 알고리즘이다.    \n",
    "\n",
    "\n",
    "$$\n",
    "\\mathbf{w}_{t+1} = \\mathbf{w}_{t} - \\eta_{t} \\frac{\\partial \\mathcal{L}}{\\partial \\mathbf{w}_{t}}\n",
    "$$"
   ]
  },
  {
   "cell_type": "code",
   "execution_count": 65,
   "metadata": {},
   "outputs": [],
   "source": [
    "# setup function\n",
    "f = lambda x,y: (1.5 - x + x*y)**2 + (2.25 - x + x*y**2)**2 + (2.625 -x+x*y**3)**2\n",
    "minima = np.array([3., .5])\n",
    "minima_ = minima.reshape(-1, 1)\n",
    "\n",
    "def gradients(x, y):\n",
    "    dx = 2. * ( (1.5 - x + x * y) * (y - 1) + \\\n",
    "                (2.25 - x + x * y**2) * (y**2 - 1) + \\\n",
    "                (2.625 - x + x * y**3) * (y**3 - 1) )\n",
    "    dy = 2. * ( (1.5 - x + x * y) * x + \\\n",
    "              (2.25 - x + x * y**2) * 2. * x * y + \\\n",
    "              (2.625 - x + x * y**3) * 3. * x * y**2 )\n",
    "    grads = np.array([dx, dy])\n",
    "    return grads"
   ]
  },
  {
   "cell_type": "code",
   "execution_count": 73,
   "metadata": {},
   "outputs": [],
   "source": [
    "class GradientDesecnt():\n",
    "    def __init__(self, function, x_init=None, y_init=None, learning_rate=0.01):\n",
    "        self.f = function\n",
    "        scale = 3.0\n",
    "        if x_init is not None:\n",
    "            self.x = x_init\n",
    "        else:\n",
    "            self.x = np.random.uniform(low=-scale, high = scale)\n",
    "        if y_init is not None:\n",
    "            self.y = y_init\n",
    "        else:\n",
    "            self.y = np.random.uniform(low=-scale, high = scale)\n",
    "        print(\"x_init:{:.3f}\".format(self.x))\n",
    "        print(\"y_init:{:.3f}\".format(self.y))\n",
    "        \n",
    "        self.lr = learning_rate\n",
    "\n",
    "        self.z_history = []\n",
    "        self.x_history = []\n",
    "        self.y_history = []\n",
    "    \n",
    "    def func(self, x, y):\n",
    "        z = self.f(x,y)\n",
    "        return z\n",
    "\n",
    "    def gradient(self,x,y):\n",
    "        dx = 2. * ( (1.5 - x + x * y) * (y - 1) + \\\n",
    "                (2.25 - x + x * y**2) * (y**2 - 1) + \\\n",
    "                (2.625 - x + x * y**3) * (y**3 - 1) )\n",
    "        dy = 2. * ( (1.5 - x + x * y) * x + \\\n",
    "                (2.25 - x + x * y**2) * 2. * x * y + \\\n",
    "                (2.625 - x + x * y**3) * 3. * x * y**2 )\n",
    "        return dx, dy\n",
    "    \n",
    "    def weights_update(self):\n",
    "        self.x = self.x - self.lr * self.dx\n",
    "        self.y = self.y - self.lr * self.dy\n",
    "    \n",
    "    def history_update(self, z, x, y):\n",
    "        self.z_history.append(z)\n",
    "        self.x_history.append(x)\n",
    "        self.y_history.append(y)\n",
    "    \n",
    "    def train(self, max_steps):\n",
    "        self.z_history = []\n",
    "        self.x_history = []\n",
    "        self.y_history = []\n",
    "        pre_z = 0.0\n",
    "        print(\"steps:{} z:{:.6f} x:{:5f} y:{:.5f}\".format(0, self.func(self.x, self.y), self.x, self.y))\n",
    "        \n",
    "        # range의 변화를 \n",
    "        for step in range(max_steps):\n",
    "            self.z = self.func(self.x, self.y)\n",
    "            self.history_update(self.z, self.x, self.y)\n",
    "            \n",
    "            self.dx, self.dy = self.gradient(self.x, self.y)\n",
    "            \n",
    "            self.weights_update()\n",
    "            \n",
    "            if (step+1) % 100 == 0:\n",
    "                print(\"steps: {}  z: {:.6f}  x: {:.5f}  y: {:.5f}  dx: {:.5f}  dy: {:.5f}\".format(step+1, self.func(self.x, self.y), self.x, self.y, self.dx, self.dy))\n",
    "                \n",
    "            if np.abs(pre_z - self.z) < 1e-5:\n",
    "                print(\"Enough convergence\")\n",
    "                print(\"steps: {}  z: {:.6f}  x: {:.5f}  y: {:.5f}\".format(step+1, self.func(self.x, self.y), self.x, self.y))\n",
    "                self.z = self.func(self.x, self.y)\n",
    "                self.history_update(self.z, self.x, self.y)\n",
    "                break\n",
    "            \n",
    "            pre_z = self.z\n",
    "        \n",
    "        self.x_history = np.array(self.x_history)\n",
    "        self.y_history = np.array(self.y_history)\n",
    "        self.path = np.concatenate((np.expand_dims(self.x_history,1), np.expand_dims(self.y_history, 1)), axis =1).T"
   ]
  },
  {
   "cell_type": "code",
   "execution_count": 74,
   "metadata": {},
   "outputs": [
    {
     "name": "stdout",
     "output_type": "stream",
     "text": [
      "x_init:0.700\n",
      "y_init:1.400\n"
     ]
    }
   ],
   "source": [
    "gd = GradientDesecnt(f ,x_init=0.7, y_init=1.4, learning_rate=0.01)"
   ]
  },
  {
   "cell_type": "code",
   "execution_count": 75,
   "metadata": {},
   "outputs": [
    {
     "name": "stdout",
     "output_type": "stream",
     "text": [
      "steps:0 z:26.496662 x:0.700000 y:1.40000\n",
      "steps: 100  z: 0.096636  x: 2.44472  y: 0.32327  dx: -0.41345  dy: -0.16275\n",
      "steps: 200  z: 0.021728  x: 2.69244  y: 0.41208  dx: -0.15311  dy: -0.04974\n",
      "steps: 300  z: 0.007734  x: 2.80373  y: 0.44659  dx: -0.08138  dy: -0.02408\n",
      "steps: 400  z: 0.003281  x: 2.86728  y: 0.46488  dx: -0.04962  dy: -0.01390\n",
      "steps: 500  z: 0.001523  x: 2.90744  y: 0.47594  dx: -0.03243  dy: -0.00878\n",
      "Enough convergence\n",
      "steps: 516  z: 0.001355  x: 2.91246  y: 0.47730\n"
     ]
    }
   ],
   "source": [
    "gd.train(1000)"
   ]
  },
  {
   "cell_type": "code",
   "execution_count": 76,
   "metadata": {},
   "outputs": [
    {
     "name": "stdout",
     "output_type": "stream",
     "text": [
      "x: 2.9125  y: 0.4773\n"
     ]
    }
   ],
   "source": [
    "print(\"x: {:.4f}  y: {:.4f}\".format(gd.x, gd.y))"
   ]
  },
  {
   "cell_type": "code",
   "execution_count": 77,
   "metadata": {},
   "outputs": [
    {
     "data": {
      "image/png": "[encoded data removed]",
      "text/plain": [
       "<Figure size 432x288 with 1 Axes>"
      ]
     },
     "metadata": {
      "needs_background": "light"
     },
     "output_type": "display_data"
    }
   ],
   "source": [
    "#Plot the Beale function\n",
    "plt.title('Beale Function')\n",
    "plt.xlabel('Number of steps')\n",
    "plt.ylabel('Beale function value')\n",
    "plt.plot(gd.z_history)\n",
    "plt.show()"
   ]
  },
  {
   "cell_type": "markdown",
   "metadata": {},
   "source": [
    "## Stochastic Gradient Descent\n",
    "* 전체 데이터에서 구하지 않고 mini-batch로 랜덤하게 샘플링하여 loss를 구한다.\n",
    "    "
   ]
  },
  {
   "cell_type": "markdown",
   "metadata": {},
   "source": [
    "## Momentum method \n",
    "- Velocity variable : v를 도입해보자.\n",
    "- direction,speed(속력)은 파라미터의 space에서 파라미터의 움직임을 따른다.\n",
    "- 모멘텀은 물리학에서 mass(질량) x velocity(속도) 이다.\n",
    "- unit 을 mass로 생각해보자\n",
    "- hyperparameter γ∈[0,1) determines exponential decay\n",
    "\n",
    "$$\n",
    "\\begin{align}\n",
    "\\mathbf{v}_{t+1} &= \\gamma \\mathbf{v}_{t} + \\frac{\\partial \\mathcal{L}(\\mathbf{w}_{t})}{\\partial \\mathbf{w}_{t}}\\\\\n",
    "\\mathbf{w}_{t+1} &= \\mathbf{w}_{t} - \\eta \\mathbf{v}_{t+1}\\\\\n",
    "\\end{align}\n",
    "$$"
   ]
  },
  {
   "cell_type": "code",
   "execution_count": 110,
   "metadata": {},
   "outputs": [],
   "source": [
    "class MomentumOptimizer():\n",
    "    def __init__(self, function, gradients, x_init=None, y_init=None, learning_rate=0.01, momentum=0.9):\n",
    "        self.f = function\n",
    "        self.g = gradients\n",
    "        scale = 3.0\n",
    "        self.vars = np.zeros([2])\n",
    "        if x_init is not None:\n",
    "            self.vars[0] = x_init\n",
    "        else:\n",
    "            self.vars[0] = np.random.uniform(low=-scale, high=scale)\n",
    "        if y_init is not None:\n",
    "            self.vars[1] = y_init\n",
    "        else:\n",
    "            self.vars[1] = np.random.uniform(low=-scale, high=scale)\n",
    "        print(\"x_init: {:.3f}\".format(self.vars[0]))\n",
    "        print(\"y_init: {:.3f}\".format(self.vars[1]))\n",
    "        self.lr = learning_rate\n",
    "        self.momentum = momentum\n",
    "        self.velocity = np.zeros([2])\n",
    "        \n",
    "        # for accumulation of loss and path (w, b)\n",
    "        self.z_history = []\n",
    "        self.x_history = []\n",
    "        self.y_history = []\n",
    "  \n",
    "    def func(self, variables):\n",
    "        x, y = variables\n",
    "        z = self.f(x, y)\n",
    "        return z\n",
    "    \n",
    "    def gradients(self, variables):\n",
    "        x, y = variables\n",
    "        grads = self.g(x, y)\n",
    "        return grads\n",
    "    \n",
    "    def weights_update(self, grads):\n",
    "        \"\"\"\n",
    "          v' = gamma * v + dL/dw\n",
    "          w' = w - lr * v'\n",
    "        \"\"\"\n",
    "        self.velocity = self.momentum * self.velocity + grads\n",
    "        self.vars = self.vars - self.lr * self.velocity\n",
    "        \n",
    "    \n",
    "    def weights_update1(self, grads):\n",
    "        \"\"\"\n",
    "          Weights update using Momentum.\n",
    "\n",
    "          v' = gamma * v - lr * dL/dw\n",
    "          w' = w + v'\n",
    "        \"\"\"\n",
    "        self.velocity = self.momentum * self.velocity - self.lr * grads\n",
    "        self.vars = self.vars + self.velocity\n",
    "    \n",
    "    def history_update(self, z, x, y):\n",
    "        self.z_history.append(z)\n",
    "        self.x_history.append(x)\n",
    "        self.y_history.append(y)\n",
    "\n",
    "    \n",
    "    def train(self, max_steps):\n",
    "        pre_z = 0.0\n",
    "        print(\"steps: {}  z: {:.6f}  x: {:.5f}  y: {:.5f}\".format(0, self.func(self.vars), self.x, self.y))\n",
    "\n",
    "        for step in range(max_steps):\n",
    "            self.z = self.func(self.vars)\n",
    "            self.history_update(self.z, self.x, self.y)\n",
    "            \n",
    "            self.grads = self.gradients(self.vars)\n",
    "            self.weights_update1(self.grads)\n",
    "\n",
    "            if (step+1) % 100 == 0:\n",
    "                print(\"steps: {}  z: {:.6f}  x: {:.5f}  y: {:.5f}  dx: {:.5f}  dy: {:.5f}\".format(step+1, self.func(self.vars), self.x, self.y, self.dx, self.dy))\n",
    "\n",
    "            if np.abs(pre_z - self.z) < 1e-7:\n",
    "                print(\"Enough convergence\")\n",
    "                print(\"steps: {}  z: {:.6f}  x: {:.5f}  y: {:.5f}\".format(step+1, self.func(self.vars), self.x, self.y))\n",
    "                self.z = self.func(self.vars)\n",
    "                self.history_update(self.z, self.x, self.y)\n",
    "                break\n",
    "\n",
    "            pre_z = self.z\n",
    "\n",
    "        self.x_history = np.array(self.x_history)\n",
    "        self.y_history = np.array(self.y_history)\n",
    "        self.path = np.concatenate((np.expand_dims(self.x_history, 1), np.expand_dims(self.y_history, 1)), axis=1).T\n",
    "\n",
    "    \n",
    "    @property\n",
    "    def x(self):\n",
    "        return self.vars[0]\n",
    "\n",
    "    @property\n",
    "    def y(self):\n",
    "        return self.vars[1]\n",
    "\n",
    "    @property\n",
    "    def dx(self):\n",
    "        return self.grads[0]\n",
    "\n",
    "    @property\n",
    "    def dy(self):\n",
    "        return self.grads[1]"
   ]
  },
  {
   "cell_type": "code",
   "execution_count": 111,
   "metadata": {},
   "outputs": [
    {
     "name": "stdout",
     "output_type": "stream",
     "text": [
      "x_init: 0.700\n",
      "y_init: 1.400\n"
     ]
    }
   ],
   "source": [
    "Momentum = MomentumOptimizer(f, gradients, x_init=0.7, y_init=1.4, learning_rate=0.01, momentum=0.9)"
   ]
  },
  {
   "cell_type": "code",
   "execution_count": 112,
   "metadata": {},
   "outputs": [
    {
     "name": "stdout",
     "output_type": "stream",
     "text": [
      "steps: 0  z: 26.496662  x: 0.70000  y: 1.40000\n",
      "steps: 100  z: 0.099510  x: 4.46410  y: 0.71417  dx: 0.09680  dy: -0.29558\n",
      "steps: 200  z: 0.039972  x: 3.70210  y: 0.63209  dx: 0.07884  dy: 0.01149\n",
      "steps: 300  z: 0.001087  x: 3.08637  y: 0.52077  dx: 0.02342  dy: 0.00558\n",
      "Enough convergence\n",
      "steps: 379  z: 0.000001  x: 3.00194  y: 0.50048\n"
     ]
    }
   ],
   "source": [
    "Momentum.train(1000)"
   ]
  },
  {
   "cell_type": "code",
   "execution_count": 113,
   "metadata": {},
   "outputs": [
    {
     "name": "stdout",
     "output_type": "stream",
     "text": [
      "x: 3.0019  y: 0.5005\n"
     ]
    }
   ],
   "source": [
    "print(\"x: {:.4f}  y: {:.4f}\".format(Momentum.x, Momentum.y))"
   ]
  },
  {
   "cell_type": "code",
   "execution_count": 114,
   "metadata": {},
   "outputs": [
    {
     "data": {
      "image/png": "[encoded data removed]",
      "text/plain": [
       "<Figure size 432x288 with 1 Axes>"
      ]
     },
     "metadata": {
      "needs_background": "light"
     },
     "output_type": "display_data"
    }
   ],
   "source": [
    "#Plot the Beale function\n",
    "plt.title('Beale Function')\n",
    "plt.xlabel('Number of steps')\n",
    "plt.ylabel('Beale function value')\n",
    "plt.plot(Momentum.z_history)\n",
    "plt.show()"
   ]
  },
  {
   "cell_type": "markdown",
   "metadata": {},
   "source": [
    "## Adagrad\n",
    "* 경사에 따라서 learning rate를 조금 다르게 해보자. updates를 조절해보자. \n",
    "* 파라미터마다 다른 learning rate를 주자.\n",
    "* 큰 Variation (Gradient) 전에 많이 움직임 : 그렇다면 자주 업데이트 되는 파라미터와\n",
    "* 작은 Variation (Gradient) 전에 많이 안 움직임 : 자주 업데이트 안되는 파라미터는 무엇인가!\n",
    "* Learning rate를 Gradient Variation로 나눠서, 수식을 바꾼것이다.\n",
    "    * Problem : Decays to zero -> 학습속도가 매우 느려진다."
   ]
  },
  {
   "cell_type": "code",
   "execution_count": null,
   "metadata": {},
   "outputs": [],
   "source": []
  },
  {
   "cell_type": "markdown",
   "metadata": {},
   "source": [
    "### RMSprop\n",
    "* To resolve diminishing learning rate\n",
    "* Moving average of squared gradient : 무지하게 커지니까 앞에 있는걸, Learning rate의 패널티를 moving average 해준다.\n"
   ]
  },
  {
   "cell_type": "markdown",
   "metadata": {},
   "source": [
    "### Adam\n",
    "* RMSprop + Momentum\n",
    "* moving average of past and past squared gradients\n",
    "* Weight update"
   ]
  },
  {
   "cell_type": "code",
   "execution_count": null,
   "metadata": {},
   "outputs": [],
   "source": []
  },
  {
   "cell_type": "code",
   "execution_count": null,
   "metadata": {},
   "outputs": [],
   "source": []
  },
  {
   "cell_type": "code",
   "execution_count": null,
   "metadata": {},
   "outputs": [],
   "source": []
  },
  {
   "cell_type": "code",
   "execution_count": null,
   "metadata": {},
   "outputs": [],
   "source": []
  },
  {
   "cell_type": "markdown",
   "metadata": {},
   "source": []
  }
 ],
 "metadata": {
  "kernelspec": {
   "display_name": "Python 3",
   "language": "python",
   "name": "python3"
  },
  "language_info": {
   "codemirror_mode": {
    "name": "ipython",
    "version": 3
   },
   "file_extension": ".py",
   "mimetype": "text/x-python",
   "name": "python",
   "nbconvert_exporter": "python",
   "pygments_lexer": "ipython3",
   "version": "3.6.6"
  }
 },
 "nbformat": 4,
 "nbformat_minor": 2
}
