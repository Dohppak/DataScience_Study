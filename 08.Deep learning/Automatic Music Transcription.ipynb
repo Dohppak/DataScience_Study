{
 "cells": [
  {
   "cell_type": "markdown",
   "metadata": {},
   "source": [
    "## Socre and Audio Alignment by DTM\n",
    "\n",
    "음원과 오디오의 Alignment를 맞춰주기 위해 사용하게 됩니다."
   ]
  },
  {
   "cell_type": "markdown",
   "metadata": {},
   "source": [
    "## Dynamic Programming(DP)\n",
    "\n",
    "Observation\n",
    "- none P\n",
    "- Starting point A\n",
    "- End point K\n",
    "- We can use the cost computed from the previous nodes\n",
    "\n",
    "Similarity Matrix(C) -> Accumulated Cost(D)"
   ]
  },
  {
   "cell_type": "markdown",
   "metadata": {},
   "source": [
    "## Overview of Rhythm Transcription Systems\n",
    "\n",
    "Consists of serveral cascaded tasks that detect moments of musical stress and their regularity\n",
    "\n",
    "- Onset Detection\n",
    "- Tempo Estimation\n",
    "- Beat Tracking\n",
    "- Musical Knowledge\n",
    "\n",
    "### Onset Detection\n",
    "\n",
    "Musical events의 시작 시간을 측정하는 것입니다.\n",
    "- Pitched notes, drum sounds\n",
    "\n",
    "\n",
    "Oneset의 타입은 2가지로 나누어집니다.\n",
    "- Hard onsets : percussive sounds\n",
    "    - Piano, Plucked string, Marimba, Drums\n",
    "- Soft onsets : Source driven sounds \n",
    "    - Singing vioice, Woodwind, bowed strings\n",
    "    \n",
    "### Onset Detection Process\n",
    "\n",
    "- Audio Representations\n",
    "- Onset Detection Function\n",
    "    - Time-domain energy\n",
    "- Decision Alogorithm\n",
    "    - Ruled-based approach\n",
    "    - Learning-based approach\n",
    "\n",
    "\n",
    "#### Onset Detection Function\n",
    "\n",
    "__Time-Domain__\n",
    "- Local energy\n",
    "    - Usually have high energy at onsets\n",
    "    - Effective for percussive sounds\n",
    "- Various versions\n",
    "    - Frame-level energy\n",
    "    - Half-wave rectification\n",
    "    \n",
    "__Spectral Flux__\n",
    "- Sum of the positive differnces from log spectrogram\n",
    "- ODF changes depending on the amount of compression $p$\n",
    "\n",
    "#### Decision Alogorithm\n",
    "\n",
    "__Rule-based Approach__\n",
    "Peak Detection rule\n",
    "\n",
    "- Peaks above thresholds are determined as onsets\n",
    "- The threshold are often \"adaptively\" computed from the ODF\n",
    "- Avereage and median are popular choices to compute the thresholds\n",
    "\n",
    "$$\n",
    "\\text{threshold=}\\alpha + \\beta {*} \\text{ median }(ODF)\\\\\n",
    "\\alpha : \\text{offset} \\\\\n",
    "\\beta : \\text{scaling factor}\n",
    "$$\n"
   ]
  },
  {
   "cell_type": "markdown",
   "metadata": {},
   "source": [
    "### Tempo Estimate\n",
    "\n",
    "일반적으로 beats 사이의 정규적인 시간 interval을 측정하는 것입니다.\n",
    "- Tempo is often a global attribute of a song\n",
    "\n",
    "하지만 템포는 local하게 존재하고 계속 변하게 됩니다.\n",
    "\n",
    "__Methods__\n",
    "- Auto-Correlation\n",
    "    - Capture the periodicity\n",
    "- Comb-filter Banks\n",
    "    - Leverage the \"oscillating nature\" of musical beats\n",
    "    \n",
    "#### Auto Correlation\n",
    "\n",
    "템포는 이전 auto correlation의 곱으로 형성되게 됩니다.\n",
    "- Tempo prior 은 Beat annotation으로 부터 계산이 됩니다. (The Distribution fits to a log-normal distribution well)\n",
    "\n",
    "#### Comb-Filter Banks\n",
    "IIR 필터라고도 불리며, Resonant filter를 delay를 가지고 모델링한 필터입니다. Delay와 Decade를 가지고 설계가 됩니다. \n",
    "$$\n",
    "y(n)=x(n)+\\alpha y(n-\\gamma)\n",
    "$$\n",
    "\n",
    "- Scheirer's method\n",
    "    - Su-band ODFS(6 bands)\n",
    "    - 150 resonators for each band that cover tempo from 60 to 240 BPM\n",
    "    - Pick up the delay that provides the highes peak as a tempo"
   ]
  },
  {
   "cell_type": "markdown",
   "metadata": {},
   "source": [
    "### Beat Tracking\n",
    "\n",
    "음악의 beat를 찾아보는 것입니다. Usually a subset of detected onsets selected of tempo\n",
    "\n",
    "#### Dynamic Programming\n",
    "\n",
    "우리는 beat tracking을 optimization으로 풀어내고,\n",
    "- cost of the path\n",
    "- onset strength function\n",
    "- tempo consistency score"
   ]
  },
  {
   "cell_type": "code",
   "execution_count": null,
   "metadata": {},
   "outputs": [],
   "source": []
  }
 ],
 "metadata": {
  "kernelspec": {
   "display_name": "python3.6",
   "language": "python",
   "name": "python3.6"
  },
  "language_info": {
   "codemirror_mode": {
    "name": "ipython",
    "version": 3
   },
   "file_extension": ".py",
   "mimetype": "text/x-python",
   "name": "python",
   "nbconvert_exporter": "python",
   "pygments_lexer": "ipython3",
   "version": "3.6.8"
  }
 },
 "nbformat": 4,
 "nbformat_minor": 2
}
