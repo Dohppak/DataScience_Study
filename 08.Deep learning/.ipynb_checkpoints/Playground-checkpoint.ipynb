{
 "cells": [
  {
   "cell_type": "code",
   "execution_count": 1,
   "metadata": {},
   "outputs": [],
   "source": [
    "import torch\n",
    "import torch.nn as nn\n",
    "import torch.nn.functional as F"
   ]
  },
  {
   "cell_type": "code",
   "execution_count": 30,
   "metadata": {},
   "outputs": [],
   "source": [
    "import os\n",
    "import librosa\n",
    "import librosa.display\n",
    "import numpy as np\n",
    "train_audio_path = '../../Music_Genre_Classification/1DConv/gtzan/'\n",
    "feature_audio_path = '../../Music_Genre_Classification/1DConv/feature/'\n",
    "feature_name = 'train/hiphop/hiphop.00019.npy'\n",
    "filename = 'hiphop/hiphop.00000.wav'\n",
    "samples, sample_rate = librosa.load(str(train_audio_path)+filename)"
   ]
  },
  {
   "cell_type": "code",
   "execution_count": 31,
   "metadata": {},
   "outputs": [],
   "source": [
    "genres = ['pop', 'metal', 'disco', 'reggae', 'classical', 'hiphop', 'country', 'jazz']"
   ]
  },
  {
   "cell_type": "code",
   "execution_count": 32,
   "metadata": {},
   "outputs": [
    {
     "name": "stdout",
     "output_type": "stream",
     "text": [
      "pop 661504\n",
      "metal 661504\n",
      "disco 664180\n",
      "reggae 661794\n",
      "classical 661794\n",
      "hiphop 661504\n",
      "country 663300\n",
      "jazz 661794\n"
     ]
    }
   ],
   "source": [
    "for genre in genres:\n",
    "    temp = librosa.util.find_files(train_audio_path+genre)\n",
    "    for ttemp in temp:\n",
    "        samples, sample_rate = librosa.load(str(ttemp))\n",
    "        print(genre,len(samples))\n",
    "        break"
   ]
  },
  {
   "cell_type": "code",
   "execution_count": null,
   "metadata": {},
   "outputs": [],
   "source": [
    "import librosa\n",
    "import numpy as np\n",
    "import os\n",
    "from hparams import hparams\n",
    "\n",
    "def get_genre(hparams):\n",
    "    return hparams.genres\n",
    "\n",
    "def load_list(list_name, hparams):\n",
    "    with open(os.path.join(hparams.dataset_path, list_name)) as f:\n",
    "        file_names = f.read().splitlines()\n",
    "\n",
    "    return file_names\n",
    "\n",
    "def get_item(hparams, genre):\n",
    "    return librosa.util.find_files(hparams.dataset_path + '/' + str(genre))\n",
    "\n",
    "\n",
    "def readfile(file_name, hparams):\n",
    "    y, sr = librosa.load(file_name, hparams.sample_rate)\n",
    "    return y, sr\n",
    "\n",
    "\n",
    "def change_pitch_and_speed(data):\n",
    "    y_pitch_speed = data.copy()\n",
    "    # you can change low and high here\n",
    "    length_change = np.random.uniform(low=0.8, high=1)\n",
    "    speed_fac = 1.0 / length_change\n",
    "    tmp = np.interp(np.arange(0, len(y_pitch_speed), speed_fac), np.arange(0, len(y_pitch_speed)), y_pitch_speed)\n",
    "    minlen = min(y_pitch_speed.shape[0], tmp.shape[0])\n",
    "    y_pitch_speed *= 0\n",
    "    y_pitch_speed[0:minlen] = tmp[0:minlen]\n",
    "    return y_pitch_speed\n",
    "\n",
    "\n",
    "def change_pitch(data, sr):\n",
    "    y_pitch = data.copy()\n",
    "    bins_per_octave = 12\n",
    "    pitch_pm = 2\n",
    "    pitch_change = pitch_pm * 2 * (np.random.uniform())\n",
    "    y_pitch = librosa.effects.pitch_shift(y_pitch.astype('float64'), sr, n_steps=pitch_change,\n",
    "                                          bins_per_octave=bins_per_octave)\n",
    "    return y_pitch\n",
    "\n",
    "\n",
    "def change_speed(data):\n",
    "    y_speed = data.copy()\n",
    "    speed_change = np.random.uniform(low=0.9, high=1.1)\n",
    "    tmp = librosa.effects.time_stretch(y_speed.astype('float64'), speed_change)\n",
    "    minlen = min(y_speed.shape[0], tmp.shape[0])\n",
    "    y_speed *= 0\n",
    "    y_speed[0:minlen] = tmp[0:minlen]\n",
    "    return y_speed\n",
    "\n",
    "\n",
    "def value_aug(data):\n",
    "    y_aug = data.copy()\n",
    "    dyn_change = np.random.uniform(low=1.5, high=3)\n",
    "    y_aug = y_aug * dyn_change\n",
    "    return y_aug\n",
    "\n",
    "\n",
    "def add_noise(data):\n",
    "    noise = np.random.randn(len(data))\n",
    "    data_noise = data + 0.005 * noise\n",
    "    return data_noise\n",
    "\n",
    "\n",
    "def hpss(data):\n",
    "    y_harmonic, y_percussive = librosa.effects.hpss(data.astype('float64'))\n",
    "    return y_harmonic, y_percussive\n",
    "\n",
    "\n",
    "def shift(data):\n",
    "    return np.roll(data, 1600)\n",
    "\n",
    "\n",
    "def stretch(data, rate=1):\n",
    "    input_length = len(data)\n",
    "    streching = librosa.effects.time_stretch(data, rate)\n",
    "    if len(streching) > input_length:\n",
    "        streching = streching[:input_length]\n",
    "    else:\n",
    "        streching = np.pad(streching, (0, max(0, input_length - len(streching))), \"constant\")\n",
    "    return streching\n",
    "\n"
   ]
  }
 ],
 "metadata": {
  "kernelspec": {
   "display_name": "python3.6",
   "language": "python",
   "name": "python3.6"
  },
  "language_info": {
   "codemirror_mode": {
    "name": "ipython",
    "version": 3
   },
   "file_extension": ".py",
   "mimetype": "text/x-python",
   "name": "python",
   "nbconvert_exporter": "python",
   "pygments_lexer": "ipython3",
   "version": "3.6.8"
  }
 },
 "nbformat": 4,
 "nbformat_minor": 2
}
