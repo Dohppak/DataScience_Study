{
 "cells": [
  {
   "cell_type": "markdown",
   "metadata": {},
   "source": [
    "# Pytorch\n",
    "\n",
    "- Pytorch 는 Numpy를 대체하면서 GPU연산이 필요한 경우\n",
    "- 최대한의 유연성과 속도를 제공하는 딥러닝 연구 플랫폼이 필요한 경우 사용됩니다.\n",
    "\n",
    "### 장점\n",
    "- autograd 패키지는 Tensors의 모든 연산에 대해 자동 미분을 제공합니다. Define-by-run 프레임워크가 가능합니다.\n",
    "- Function 클래스를 활용하여, 모든 연산과정을 encode하여 Acyclic graph를 생성합니다.\n",
    "- Dynamic graph를 제공합니다. 그리고 Device controll하기도 쉽습니다.\n",
    "\n",
    "### Tensors\n",
    "Tensor는 Numpy의 ndarray와 유사할 뿐만 아니라, GPU를 사용한 연산 가속도 지원합니다.\n",
    "\n",
    "- empty : matrix를 생성합니다, 단 uninitalized되어있습니다.\n",
    "- rand : matrix를 생성합니다. initalize 되어있습니다.\n",
    "- zeros : 0으로 채워진 행렬을 생성합니다.\n",
    "- new_ones : 1으로 채워진 텐서행렬을 생성합니다.\n",
    "- tensor : tensor를 생성합니다.\n",
    "- randn_like : 존재하는 tensor를 바탕으로 tensor를 생성합니다."
   ]
  },
  {
   "cell_type": "code",
   "execution_count": 1,
   "metadata": {},
   "outputs": [],
   "source": [
    "from __future__ import print_function\n",
    "import torch"
   ]
  },
  {
   "cell_type": "code",
   "execution_count": 2,
   "metadata": {},
   "outputs": [
    {
     "name": "stdout",
     "output_type": "stream",
     "text": [
      "tensor([[0.0000e+00, 8.5899e+09, 0.0000e+00],\n",
      "        [8.5899e+09, 5.6052e-45, 0.0000e+00],\n",
      "        [0.0000e+00, 0.0000e+00, 0.0000e+00],\n",
      "        [0.0000e+00, 0.0000e+00, 0.0000e+00],\n",
      "        [0.0000e+00, 8.5899e+09, 3.5566e-09]])\n"
     ]
    }
   ],
   "source": [
    "x = torch.empty(5,3)\n",
    "print(x)"
   ]
  },
  {
   "cell_type": "code",
   "execution_count": 3,
   "metadata": {},
   "outputs": [
    {
     "name": "stdout",
     "output_type": "stream",
     "text": [
      "tensor([[0.9224, 0.1050, 0.6614],\n",
      "        [0.6773, 0.9408, 0.7300],\n",
      "        [0.9012, 0.1138, 0.9317],\n",
      "        [0.6614, 0.3419, 0.5728],\n",
      "        [0.3419, 0.8541, 0.3237]])\n"
     ]
    }
   ],
   "source": [
    "x = torch.rand(5,3)\n",
    "print(x)"
   ]
  },
  {
   "cell_type": "code",
   "execution_count": 4,
   "metadata": {},
   "outputs": [
    {
     "name": "stdout",
     "output_type": "stream",
     "text": [
      "tensor([[0, 0, 0],\n",
      "        [0, 0, 0],\n",
      "        [0, 0, 0],\n",
      "        [0, 0, 0],\n",
      "        [0, 0, 0]])\n"
     ]
    }
   ],
   "source": [
    "x = torch.zeros(5,3, dtype= torch.long)\n",
    "print(x)"
   ]
  },
  {
   "cell_type": "code",
   "execution_count": 5,
   "metadata": {},
   "outputs": [
    {
     "name": "stdout",
     "output_type": "stream",
     "text": [
      "tensor([5.5000, 3.0000])\n"
     ]
    }
   ],
   "source": [
    "x = torch.tensor([5.5,3])\n",
    "print(x)"
   ]
  },
  {
   "cell_type": "code",
   "execution_count": 6,
   "metadata": {},
   "outputs": [
    {
     "name": "stdout",
     "output_type": "stream",
     "text": [
      "tensor([[1., 1., 1.],\n",
      "        [1., 1., 1.],\n",
      "        [1., 1., 1.],\n",
      "        [1., 1., 1.],\n",
      "        [1., 1., 1.]], dtype=torch.float64)\n"
     ]
    }
   ],
   "source": [
    "x = x.new_ones(5,3,dtype = torch.double)\n",
    "print(x)"
   ]
  },
  {
   "cell_type": "code",
   "execution_count": 7,
   "metadata": {},
   "outputs": [
    {
     "name": "stdout",
     "output_type": "stream",
     "text": [
      "tensor([[ 0.4843, -0.2221,  0.2741],\n",
      "        [-1.9871, -1.6504, -0.6646],\n",
      "        [ 1.0557,  0.0565, -0.2571],\n",
      "        [-2.5493,  0.5218, -1.1862],\n",
      "        [ 0.0028,  0.6279,  0.5261]])\n"
     ]
    }
   ],
   "source": [
    "x = torch.randn_like(x, dtype=torch.float)\n",
    "print(x)"
   ]
  },
  {
   "cell_type": "code",
   "execution_count": 8,
   "metadata": {},
   "outputs": [
    {
     "name": "stdout",
     "output_type": "stream",
     "text": [
      "torch.Size([5, 3])\n"
     ]
    }
   ],
   "source": [
    "print(x.size())"
   ]
  },
  {
   "cell_type": "markdown",
   "metadata": {},
   "source": [
    "### Operations"
   ]
  },
  {
   "cell_type": "code",
   "execution_count": 99,
   "metadata": {},
   "outputs": [
    {
     "name": "stdout",
     "output_type": "stream",
     "text": [
      "tensor([[ 0.0990,  2.7889,  0.0682],\n",
      "        [ 1.7139,  0.9944,  0.2267],\n",
      "        [ 0.3033, -0.6519,  0.8762],\n",
      "        [ 1.3594,  2.4538, -0.1896],\n",
      "        [ 0.6345,  0.8023,  0.4416]])\n"
     ]
    }
   ],
   "source": [
    "y= torch.rand(5,3)\n",
    "print(x+y)"
   ]
  },
  {
   "cell_type": "code",
   "execution_count": 100,
   "metadata": {},
   "outputs": [
    {
     "name": "stdout",
     "output_type": "stream",
     "text": [
      "tensor([[ 0.0990,  2.7889,  0.0682],\n",
      "        [ 1.7139,  0.9944,  0.2267],\n",
      "        [ 0.3033, -0.6519,  0.8762],\n",
      "        [ 1.3594,  2.4538, -0.1896],\n",
      "        [ 0.6345,  0.8023,  0.4416]])\n"
     ]
    }
   ],
   "source": [
    "print(torch.add(x,y))"
   ]
  },
  {
   "cell_type": "code",
   "execution_count": 101,
   "metadata": {},
   "outputs": [
    {
     "data": {
      "text/plain": [
       "tensor([[ 0.0990,  2.7889,  0.0682],\n",
       "        [ 1.7139,  0.9944,  0.2267],\n",
       "        [ 0.3033, -0.6519,  0.8762],\n",
       "        [ 1.3594,  2.4538, -0.1896],\n",
       "        [ 0.6345,  0.8023,  0.4416]])"
      ]
     },
     "execution_count": 101,
     "metadata": {},
     "output_type": "execute_result"
    }
   ],
   "source": [
    "result = torch.empty(5,3)\n",
    "torch.add(x,y,out=result)\n",
    "result"
   ]
  },
  {
   "cell_type": "markdown",
   "metadata": {},
   "source": [
    "### Resizing\n",
    "\n",
    "tensor의 크기(size)나 모양(shape)을 변경하고 싶을 때, torch.view 를 사용합니다."
   ]
  },
  {
   "cell_type": "code",
   "execution_count": 102,
   "metadata": {},
   "outputs": [],
   "source": [
    "x = torch.randn(4,4)\n",
    "y = x.view(16)\n",
    "z = x.view(-1,8) "
   ]
  },
  {
   "cell_type": "code",
   "execution_count": 103,
   "metadata": {},
   "outputs": [
    {
     "name": "stdout",
     "output_type": "stream",
     "text": [
      "torch.Size([4, 4]) torch.Size([16]) torch.Size([2, 8])\n",
      "tensor([[-0.5043, -1.0265,  0.8260,  0.0506],\n",
      "        [-0.9811,  0.2439, -0.1774,  1.6554],\n",
      "        [ 1.3060,  1.3681,  1.0003,  2.6625],\n",
      "        [-0.2435, -2.0742, -1.4144,  1.0905]])\n",
      "tensor([-0.5043, -1.0265,  0.8260,  0.0506, -0.9811,  0.2439, -0.1774,  1.6554,\n",
      "         1.3060,  1.3681,  1.0003,  2.6625, -0.2435, -2.0742, -1.4144,  1.0905])\n",
      "tensor([[-0.5043, -1.0265,  0.8260,  0.0506, -0.9811,  0.2439, -0.1774,  1.6554],\n",
      "        [ 1.3060,  1.3681,  1.0003,  2.6625, -0.2435, -2.0742, -1.4144,  1.0905]])\n"
     ]
    }
   ],
   "source": [
    "print(x.size(),y.size(),z.size())\n",
    "print(x)\n",
    "print(y)\n",
    "print(z)"
   ]
  },
  {
   "cell_type": "markdown",
   "metadata": {},
   "source": [
    "### Tensor to Numpy"
   ]
  },
  {
   "cell_type": "code",
   "execution_count": 104,
   "metadata": {},
   "outputs": [
    {
     "name": "stdout",
     "output_type": "stream",
     "text": [
      "tensor([1., 1., 1., 1., 1.])\n",
      "[1. 1. 1. 1. 1.]\n"
     ]
    }
   ],
   "source": [
    "a = torch.ones(5)\n",
    "print(a)\n",
    "b = a.numpy()\n",
    "print(b)"
   ]
  },
  {
   "cell_type": "markdown",
   "metadata": {},
   "source": [
    "### Numpy to Tensor"
   ]
  },
  {
   "cell_type": "code",
   "execution_count": 105,
   "metadata": {},
   "outputs": [
    {
     "name": "stdout",
     "output_type": "stream",
     "text": [
      "tensor([1., 1., 1., 1., 1.], dtype=torch.float64)\n"
     ]
    }
   ],
   "source": [
    "import numpy as np\n",
    "a = np.ones(5)\n",
    "b = torch.from_numpy(a)\n",
    "print(b)"
   ]
  },
  {
   "cell_type": "markdown",
   "metadata": {},
   "source": [
    "### Autograd\n",
    "\n",
    "도함수를 계산하기 위해서는, tensor의 .backword()를 호출하면 됩니다. tensor가 스칼라인 경우애눈 backward에 인자를 정해줄 필요가 없습니다."
   ]
  },
  {
   "cell_type": "code",
   "execution_count": 106,
   "metadata": {},
   "outputs": [
    {
     "name": "stdout",
     "output_type": "stream",
     "text": [
      "tensor([[1., 1.],\n",
      "        [1., 1.]], requires_grad=True)\n"
     ]
    }
   ],
   "source": [
    "x = torch.ones(2,2, requires_grad= True)\n",
    "print(x)"
   ]
  },
  {
   "cell_type": "code",
   "execution_count": 107,
   "metadata": {},
   "outputs": [
    {
     "name": "stdout",
     "output_type": "stream",
     "text": [
      "tensor([[3., 3.],\n",
      "        [3., 3.]], grad_fn=<AddBackward>)\n"
     ]
    }
   ],
   "source": [
    "y = x+2\n",
    "print(y)"
   ]
  },
  {
   "cell_type": "code",
   "execution_count": 108,
   "metadata": {},
   "outputs": [
    {
     "name": "stdout",
     "output_type": "stream",
     "text": [
      "<AddBackward object at 0x1cd2cc65c0>\n"
     ]
    }
   ],
   "source": [
    "print(y.grad_fn)"
   ]
  },
  {
   "cell_type": "code",
   "execution_count": 109,
   "metadata": {},
   "outputs": [
    {
     "name": "stdout",
     "output_type": "stream",
     "text": [
      "tensor([[27., 27.],\n",
      "        [27., 27.]], grad_fn=<MulBackward>) tensor(27., grad_fn=<MeanBackward1>)\n"
     ]
    }
   ],
   "source": [
    "z = y*y*3\n",
    "out = z.mean()\n",
    "print(z,out)"
   ]
  },
  {
   "cell_type": "code",
   "execution_count": 110,
   "metadata": {},
   "outputs": [],
   "source": [
    "out.backward()"
   ]
  },
  {
   "cell_type": "code",
   "execution_count": 111,
   "metadata": {},
   "outputs": [
    {
     "name": "stdout",
     "output_type": "stream",
     "text": [
      "tensor([[4.5000, 4.5000],\n",
      "        [4.5000, 4.5000]])\n"
     ]
    }
   ],
   "source": [
    "print(x.grad)"
   ]
  },
  {
   "cell_type": "markdown",
   "metadata": {},
   "source": [
    "# Neural Networks\n",
    "\n",
    "신경망은 torch.nn 패키지를 사용하여 생성할 수 있습니다. 지금까지 autograd를 살펴봤는데요. nn은 모델을 정의하고 미분하는데 autograd를 사용합니다. nn.Module은 계층(layer)와 output을 반환하는 foraward(input) 메서드를 포함하고 있습니다.\n",
    "\n",
    "### Conv-net\n",
    "간단한 Feed-forward network입니다. 입력을 받아 여러계층에 전달한 후 ouput을 제공합니다.\n",
    "학습의 과정은 다음과 같습니다.\n",
    "- 학습 가능한 parameter를 갖는 신경망을 정의합니다.\n",
    "- 데이터셋(dataset) 입력을 반복합니다.\n",
    "- 입력을 신경망에서 처리합니다.\n",
    "- 손실을 계산합니다.\n",
    "- Gradient를 신경망의 배개변수들에 역으로 전파합니다.\n",
    "- 신경망의 가중치를 갱신합니다 : Weight* = Weight - (learnign rate x gradient)\n",
    "\n",
    "### torch.nn\n",
    "torch.nn은 미니배치만 지원합니다. 즉 torch.nn 패키지 전체는 하나의 샘플이 아닌, 샘플들의 미니매치만을 입력으로 받습니다. 예를들어 nnConv2D는 nsamples x nChannels x Height x Width 의 4차원 Tensor를 입력으로 합니다.\n",
    "\n",
    "만약 하나의 샘플만 있다면, input.unsqueeze(0)을 사용해서 가짜 차원을 추가해 봅시다.\n",
    "- torch.Tensor : backward() 같은 autograd 연산을 지원하는 다차원 배열입니다. tensor에 대한 gradient를 가지게 됩니다.\n",
    "- nn.Module : 신경망 모듈로 매개변수를 Encapsulation 하는 간단한 방법으로, GPU로 이동, exporting, loading 등의 작업을 위한 도움을 줍니다.\n",
    "- nn.Parameter : Tensor 의 한 종류로 Module에 속성으로 할당될 떄 자동으로 매개변수로 등록됩니다.\n",
    "- autograd.Function : autograd 연산의 전방향과 역방향 정의를 구현합니다. 모든 tensor 연산은 하나 이상의 Function 노드를 생성하며, 각 노드는 Tensor 를 생성하고 History를 encoding 하는 함수들과 연결되어 있습니다."
   ]
  },
  {
   "cell_type": "code",
   "execution_count": 112,
   "metadata": {},
   "outputs": [],
   "source": [
    "import torch\n",
    "import torch.nn as nn\n",
    "import torch.nn.functional as F"
   ]
  },
  {
   "cell_type": "code",
   "execution_count": 113,
   "metadata": {},
   "outputs": [],
   "source": [
    "class Net(nn.Module):\n",
    "    def __init__(self):\n",
    "        # super 은 일반적으로 부모 클래스의 init함수를 쓰고 싶을때다.\n",
    "        # __init__은 클래스 인스턴스 생성과 초기값 입력을 한번에 처리가 가능하지!\n",
    "        super(Net, self).__init__()\n",
    "        # 하나의 input image channel, 6개 output channels, 5x5 square convolution\n",
    "        self.conv1 = nn.Conv2d(1,6,5)\n",
    "        self.conv2 = nn.Conv2d(6,16,5)\n",
    "        # affine operation : y = Wx * b\n",
    "        self.fc1 = nn.Linear(16*5*5, 120)\n",
    "        self.fc2 = nn.Linear(120,84)\n",
    "        self.fc3 = nn.Linear(84,10)\n",
    "        \n",
    "    def forward(self,x):\n",
    "        #max pooling (2,2) window에 해주자\n",
    "        x = F.max_pool2d(F.relu(self.conv1(x)), (2,2))\n",
    "        x = F.max_pool2d(F.relu(self.conv2(x)), 2)\n",
    "        x = x.view(-1, self.num_flat_features(x))\n",
    "        x = F.relu(self.fc1(x))\n",
    "        x = F.relu(self.fc2(x))\n",
    "        x = self.fc3(x)\n",
    "        return x\n",
    "    \n",
    "    def num_flat_features(self, x):\n",
    "        # batch dimension을 빼고 모든 dimension을 호출한다.\n",
    "        size = x.size()[1:]\n",
    "        num_features = 1\n",
    "        for s in size:\n",
    "            num_features *= s\n",
    "        return num_features"
   ]
  },
  {
   "cell_type": "code",
   "execution_count": 114,
   "metadata": {},
   "outputs": [
    {
     "name": "stdout",
     "output_type": "stream",
     "text": [
      "Net(\n",
      "  (conv1): Conv2d(1, 6, kernel_size=(5, 5), stride=(1, 1))\n",
      "  (conv2): Conv2d(6, 16, kernel_size=(5, 5), stride=(1, 1))\n",
      "  (fc1): Linear(in_features=400, out_features=120, bias=True)\n",
      "  (fc2): Linear(in_features=120, out_features=84, bias=True)\n",
      "  (fc3): Linear(in_features=84, out_features=10, bias=True)\n",
      ")\n"
     ]
    }
   ],
   "source": [
    "net = Net()\n",
    "print(net)"
   ]
  },
  {
   "cell_type": "markdown",
   "metadata": {},
   "source": [
    "forward 함수만 정의하고 나면, 변화도를 계산하는 backward 함수는 autograd 를 사용하여 자동으로 정의됩니다. forward 함수에서는 어떠한 Tensor 연산을 사용해도 괜찮습니다."
   ]
  },
  {
   "cell_type": "code",
   "execution_count": 115,
   "metadata": {},
   "outputs": [
    {
     "name": "stdout",
     "output_type": "stream",
     "text": [
      "10 torch.Size([6, 1, 5, 5])\n"
     ]
    }
   ],
   "source": [
    "params = list(net.parameters())\n",
    "print(len(params), params[0].size())"
   ]
  },
  {
   "cell_type": "code",
   "execution_count": 116,
   "metadata": {},
   "outputs": [
    {
     "name": "stdout",
     "output_type": "stream",
     "text": [
      "tensor([[[[-0.8784,  0.4078, -2.8708,  ...,  0.3359, -0.1096,  0.8136],\n",
      "          [ 0.8840,  1.7133,  1.0598,  ...,  0.5818, -1.4923, -0.6673],\n",
      "          [ 0.6061,  0.2849, -0.0810,  ...,  1.0458,  2.3507,  1.6203],\n",
      "          ...,\n",
      "          [ 2.0897,  0.9537,  0.3685,  ...,  2.2787,  0.4818, -1.1274],\n",
      "          [ 1.1480,  1.9860, -0.0816,  ...,  0.6924, -0.3124, -1.2475],\n",
      "          [ 0.5004,  0.3684,  0.7623,  ...,  0.4964,  0.5886,  0.6396]]]])\n",
      "\n",
      "tensor([[-0.1328,  0.0522,  0.1381, -0.0128, -0.0110, -0.1656, -0.0469,  0.1008,\n",
      "         -0.0486,  0.0348]], grad_fn=<ThAddmmBackward>)\n"
     ]
    }
   ],
   "source": [
    "test_input = torch.randn(1,1,32,32)\n",
    "print(test_input)\n",
    "out = net(test_input)\n",
    "print(\"\")\n",
    "print(out)"
   ]
  },
  {
   "cell_type": "code",
   "execution_count": 117,
   "metadata": {},
   "outputs": [],
   "source": [
    "net.zero_grad()\n",
    "out.backward(torch.randn(1,10))"
   ]
  },
  {
   "cell_type": "code",
   "execution_count": 118,
   "metadata": {},
   "outputs": [
    {
     "data": {
      "text/plain": [
       "tensor([[-0.1328,  0.0522,  0.1381, -0.0128, -0.0110, -0.1656, -0.0469,  0.1008,\n",
       "         -0.0486,  0.0348]], grad_fn=<ThAddmmBackward>)"
      ]
     },
     "execution_count": 118,
     "metadata": {},
     "output_type": "execute_result"
    }
   ],
   "source": [
    "out"
   ]
  },
  {
   "cell_type": "markdown",
   "metadata": {},
   "source": [
    "### Loss Function\n",
    "\n",
    "손실합수는 (output, target)을 한 쌍으로 입력받아, output과 target의 distance를 계산합니다.\n",
    "- nn.MSEloss : mean-squared error"
   ]
  },
  {
   "cell_type": "code",
   "execution_count": 119,
   "metadata": {},
   "outputs": [
    {
     "name": "stdout",
     "output_type": "stream",
     "text": [
      "tensor(38.5735, grad_fn=<MseLossBackward>)\n"
     ]
    }
   ],
   "source": [
    "ouput = net(test_input)\n",
    "# dummy target을 만듭니다.\n",
    "target = torch.arange(1,11)\n",
    "# output과 같은 shape을 하나 만들어둡니다.\n",
    "target = target.view(1,-1)\n",
    "# LongTensor 에서 FloatTensor로 바꾸어줍니다.\n",
    "target = target.type(torch.FloatTensor)\n",
    "criterion = nn.MSELoss()\n",
    "\n",
    "loss = criterion(ouput, target)\n",
    "print(loss)"
   ]
  },
  {
   "cell_type": "markdown",
   "metadata": {},
   "source": [
    "이제 ``.grad_fn`` 속성을 사용하여 ``loss``를 역방향으로 따라가 봅시다.\n",
    "\n",
    "```\n",
    "    input -> conv2d -> relu -> maxpool2d -> conv2d -> relu -> maxpool2d\n",
    "          -> view -> linear -> relu -> linear -> relu -> linear\n",
    "          -> MSELoss\n",
    "          -> loss\n",
    "```\n",
    "\n",
    "따라서 ``loss.backward()``를 실행할 때, 전체 그래프는 손실(loss)에 대해 미분되며, 그래프 내의 ``requires_grad= True``인 모든 Tensor는 Gradient가 누적된 ``.grad`` Tensor를 갖게 됩니다.:\n"
   ]
  },
  {
   "cell_type": "code",
   "execution_count": 120,
   "metadata": {},
   "outputs": [
    {
     "name": "stdout",
     "output_type": "stream",
     "text": [
      "MSELoss: <MseLossBackward object at 0x1cd2e0fb38>\n",
      "linear: <ThAddmmBackward object at 0x1cd2e0fb00>\n",
      "ReLU: <ExpandBackward object at 0x1cd2e0fb38>\n"
     ]
    }
   ],
   "source": [
    "print(\"MSELoss:\", loss.grad_fn)\n",
    "print(\"linear:\", loss.grad_fn.next_functions[0][0])\n",
    "print(\"ReLU:\", loss.grad_fn.next_functions[0][0].next_functions[0][0])"
   ]
  },
  {
   "cell_type": "markdown",
   "metadata": {},
   "source": [
    "### 역전파 (BackProp)\n",
    "\n",
    "오차(error)를 역전파하기 위해 할 일은 loss.backword()가 전부입니다. 기존의 변화도를 지우는 작업이 필요합니다. 이제 loss.backward()를 호출하여, 역전파 전후의 bias gradient를 살펴봅시다."
   ]
  },
  {
   "cell_type": "code",
   "execution_count": 121,
   "metadata": {},
   "outputs": [
    {
     "name": "stdout",
     "output_type": "stream",
     "text": [
      "before backward:  tensor([0., 0., 0., 0., 0., 0.])\n",
      "after backward:  tensor([-0.1427,  0.0179, -0.0436,  0.0071,  0.0553, -0.0471])\n"
     ]
    }
   ],
   "source": [
    "net.zero_grad()\n",
    "print(\"before backward: \",net.conv1.bias.grad)\n",
    "loss.backward()\n",
    "print('after backward: ', net.conv1.bias.grad)"
   ]
  },
  {
   "cell_type": "markdown",
   "metadata": {},
   "source": [
    "### Weight 갱신\n",
    "\n",
    "```\n",
    "    weight* = wegiht - (learning rate * gradient)\n",
    "```\n"
   ]
  },
  {
   "cell_type": "code",
   "execution_count": 122,
   "metadata": {},
   "outputs": [],
   "source": [
    "learning_rate = 0.01\n",
    "for f in net.parameters():\n",
    "    f.data.sub_(f.grad.data * learning_rate)"
   ]
  },
  {
   "cell_type": "code",
   "execution_count": 123,
   "metadata": {},
   "outputs": [],
   "source": [
    "import torch.optim as optim\n",
    "\n",
    "optimizer = optim.SGD(net.parameters(), lr= 0.01)\n",
    "optimizer.zero_grad()\n",
    "output = net(test_input)\n",
    "loss = criterion(output, target)\n",
    "loss.backward()\n",
    "optimizer.step()"
   ]
  },
  {
   "cell_type": "code",
   "execution_count": 124,
   "metadata": {},
   "outputs": [],
   "source": [
    "def Flatten(self, x: torch.Tensor) -> torch.Tensor:\n",
    "    return x.view(x.size(0), -1)"
   ]
  },
  {
   "cell_type": "code",
   "execution_count": 285,
   "metadata": {},
   "outputs": [],
   "source": [
    "import os\n",
    "import librosa\n",
    "import librosa.display\n",
    "import numpy as np\n",
    "train_audio_path = '../../Music_Genre_Classification/1DConv/gtzan/'\n",
    "filename = 'hiphop/hiphop.00000.wav'\n",
    "samples, sample_rate = librosa.load(str(train_audio_path)+filename)"
   ]
  },
  {
   "cell_type": "code",
   "execution_count": 72,
   "metadata": {},
   "outputs": [],
   "source": [
    "genres = ['pop', 'metal', 'disco', 'reggae', 'classical', 'hiphop', 'country', 'jazz']"
   ]
  },
  {
   "cell_type": "code",
   "execution_count": 86,
   "metadata": {},
   "outputs": [
    {
     "name": "stdout",
     "output_type": "stream",
     "text": [
      "pop 661504\n",
      "metal 661504\n",
      "disco 664180\n",
      "reggae 661794\n",
      "classical 661794\n",
      "hiphop 661504\n",
      "country 663300\n",
      "jazz 661794\n"
     ]
    }
   ],
   "source": [
    "for genre in genres:\n",
    "    temp = librosa.util.find_files(train_audio_path+genre)\n",
    "    for ttemp in temp:\n",
    "        samples, sample_rate = librosa.load(str(ttemp))\n",
    "        print(genre,len(samples))\n",
    "        break"
   ]
  },
  {
   "cell_type": "code",
   "execution_count": 303,
   "metadata": {},
   "outputs": [],
   "source": [
    "temp_y = ['hiphop','hiphop','hiphop','hiphop','hiphop','hiphop','hiphop','hiphop','hiphop','hiphop']\n",
    "y = np.stack(temp_y)"
   ]
  },
  {
   "cell_type": "code",
   "execution_count": 293,
   "metadata": {},
   "outputs": [],
   "source": [
    "samples = samples[:661500]\n",
    "sample_list = np.split(samples,10)"
   ]
  },
  {
   "cell_type": "code",
   "execution_count": 295,
   "metadata": {},
   "outputs": [
    {
     "data": {
      "text/plain": [
       "66150"
      ]
     },
     "execution_count": 295,
     "metadata": {},
     "output_type": "execute_result"
    }
   ],
   "source": [
    "len(sample_list[0])"
   ]
  },
  {
   "cell_type": "code",
   "execution_count": 297,
   "metadata": {},
   "outputs": [
    {
     "data": {
      "text/plain": [
       "array([-0.16915894, -0.021698  ,  0.01956177, ...,  0.07229614,\n",
       "        0.11206055,  0.05499268], dtype=float32)"
      ]
     },
     "execution_count": 297,
     "metadata": {},
     "output_type": "execute_result"
    }
   ],
   "source": [
    "sample_list[0]"
   ]
  },
  {
   "cell_type": "code",
   "execution_count": 298,
   "metadata": {},
   "outputs": [],
   "source": [
    "temp = []\n",
    "for X in sample_list:\n",
    "    temp.append(X)"
   ]
  },
  {
   "cell_type": "code",
   "execution_count": 299,
   "metadata": {},
   "outputs": [],
   "source": [
    "x = np.stack(temp)"
   ]
  },
  {
   "cell_type": "code",
   "execution_count": 319,
   "metadata": {},
   "outputs": [
    {
     "data": {
      "text/plain": [
       "array([-0.16915894, -0.021698  ,  0.01956177, ...,  0.07229614,\n",
       "        0.11206055,  0.05499268], dtype=float32)"
      ]
     },
     "execution_count": 319,
     "metadata": {},
     "output_type": "execute_result"
    }
   ],
   "source": [
    "x[0]"
   ]
  },
  {
   "cell_type": "code",
   "execution_count": 302,
   "metadata": {},
   "outputs": [],
   "source": [
    "from torch.utils.data import Dataset, DataLoader"
   ]
  },
  {
   "cell_type": "code",
   "execution_count": 304,
   "metadata": {},
   "outputs": [],
   "source": [
    "class sampleDataset(Dataset):\n",
    "    def __init__(self,x,y):\n",
    "        self.x = x\n",
    "        self.y = y\n",
    "    def __getitem(self,index):\n",
    "        return self.x[index], self.y[index]\n",
    "    def __len__(self):\n",
    "        return self.x.shape[0]"
   ]
  },
  {
   "cell_type": "code",
   "execution_count": 305,
   "metadata": {},
   "outputs": [],
   "source": [
    "train_set = sampleDataset(x,y)"
   ]
  },
  {
   "cell_type": "code",
   "execution_count": 315,
   "metadata": {},
   "outputs": [
    {
     "data": {
      "text/plain": [
       "array([[-0.16915894, -0.021698  ,  0.01956177, ...,  0.07229614,\n",
       "         0.11206055,  0.05499268],\n",
       "       [ 0.03643799,  0.0725708 ,  0.09326172, ..., -0.19229126,\n",
       "        -0.13232422,  0.00460815],\n",
       "       [-0.01312256, -0.10766602, -0.07131958, ..., -0.14120483,\n",
       "        -0.02423096,  0.07196045],\n",
       "       ...,\n",
       "       [ 0.00939941, -0.0319519 , -0.01092529, ...,  0.13143921,\n",
       "         0.23727417,  0.17889404],\n",
       "       [ 0.19100952,  0.22451782,  0.18466187, ..., -0.02914429,\n",
       "         0.11608887,  0.24005127],\n",
       "       [ 0.28909302,  0.30187988,  0.38909912, ..., -0.08758545,\n",
       "         0.02758789,  0.05059814]], dtype=float32)"
      ]
     },
     "execution_count": 315,
     "metadata": {},
     "output_type": "execute_result"
    }
   ],
   "source": [
    "train_set.x"
   ]
  },
  {
   "cell_type": "code",
   "execution_count": 266,
   "metadata": {},
   "outputs": [],
   "source": [
    "import torch\n",
    "import torch.nn as nn"
   ]
  },
  {
   "cell_type": "code",
   "execution_count": 341,
   "metadata": {},
   "outputs": [
    {
     "data": {
      "text/plain": [
       "66150"
      ]
     },
     "execution_count": 341,
     "metadata": {},
     "output_type": "execute_result"
    }
   ],
   "source": [
    "22050*3"
   ]
  },
  {
   "cell_type": "code",
   "execution_count": 310,
   "metadata": {},
   "outputs": [],
   "source": [
    "class SampleCNN(nn.Module):\n",
    "    def __init__(self):\n",
    "        super(SampleCNN, self).__init__()\n",
    "        \n",
    "        self.conv1 = nn.Sequential(\n",
    "            nn.Conv1d(1,128, kernel_size=3, stride=3, padding=0),\n",
    "            nn.BatchNorm1d(128),\n",
    "            nn.ReLU()\n",
    "        )\n",
    "        self.conv2 = nn.Sequential(\n",
    "            nn.Conv1d(128,128, kernel_size=3, stride=1, padding=1),\n",
    "            nn.BatchNorm1d(128),\n",
    "            nn.ReLU(),\n",
    "            nn.MaxPool1d(3, stride=3)\n",
    "        )\n",
    "        self.conv3 = nn.Sequential(\n",
    "            nn.Conv1d(128,128, kernel_size=3, stride=1, padding=1),\n",
    "            nn.BatchNorm1d(128),\n",
    "            nn.ReLU(),\n",
    "            nn.MaxPool1d(3, stride=3)\n",
    "        )\n",
    "        \n",
    "        self.conv4 = nn.Sequential(\n",
    "            nn.Conv1d(128,256, kernel_size=3, stride=1, padding=1),\n",
    "            nn.BatchNorm1d(256),\n",
    "            nn.ReLU(),\n",
    "            nn.MaxPool1d(3, stride=3)\n",
    "        )\n",
    "        self.conv5 = nn.Sequential(\n",
    "            nn.Conv1d(256,256, kernel_size=3, stride=1, padding=1),\n",
    "            nn.BatchNorm1d(256),\n",
    "            nn.ReLU(),\n",
    "            nn.MaxPool1d(3, stride=3)\n",
    "        )\n",
    "        self.conv6 = nn.Sequential(\n",
    "            nn.Conv1d(256,256, kernel_size=3, stride=1, padding=1),\n",
    "            nn.BatchNorm1d(256),\n",
    "            nn.ReLU(),\n",
    "            nn.MaxPool1d(3, stride=3),\n",
    "            nn.Dropout()\n",
    "        )\n",
    "        self.conv7 = nn.Sequential(\n",
    "            nn.Conv1d(256,256, kernel_size=3, stride=1, padding=1),\n",
    "            nn.BatchNorm1d(256),\n",
    "            nn.ReLU(),\n",
    "            nn.MaxPool1d(3, stride=3),\n",
    "        )\n",
    "        self.conv8 = nn.Sequential(\n",
    "            nn.Conv1d(256,256, kernel_size=3, stride=1, padding=1),\n",
    "            nn.BatchNorm1d(256),\n",
    "            nn.ReLU(),\n",
    "            nn.MaxPool1d(3, stride=3),\n",
    "        )\n",
    "        self.conv9 = nn.Sequential(\n",
    "            nn.Conv1d(256,256, kernel_size=3, stride=1, padding=1),\n",
    "            nn.BatchNorm1d(256),\n",
    "            nn.ReLU(),\n",
    "            nn.MaxPool1d(3, stride=3),\n",
    "        )\n",
    "        self.conv10 = nn.Sequential(\n",
    "            nn.Conv1d(256,512, kernel_size=3, stride=1, padding=1),\n",
    "            nn.BatchNorm1d(512),\n",
    "            nn.ReLU(),\n",
    "            nn.MaxPool1d(3, stride=3),\n",
    "            nn.Dropout(),\n",
    "        )\n",
    "        \n",
    "        self.fc = nn.Linear(512,8)\n",
    "    \n",
    "    def forward(self,x):        \n",
    "        out = self.conv1(x)\n",
    "        print(out.shape)\n",
    "        out = self.conv2(out)\n",
    "        print(out.shape)\n",
    "        out = self.conv3(out)\n",
    "        print(out.shape)\n",
    "        out = self.conv4(out)\n",
    "        print(out.shape)\n",
    "        out = self.conv5(out)\n",
    "        print(out.shape)\n",
    "        out = self.conv6(out)\n",
    "        print(out.shape)\n",
    "        out = self.conv7(out)\n",
    "        print(out.shape)\n",
    "        out = self.conv8(out)\n",
    "        print(out.shape)\n",
    "        out = self.conv9(out)\n",
    "        print(out.shape)\n",
    "        out = self.conv10(out)\n",
    "        print(out.shape)\n",
    "\n",
    "        \n",
    "        out = out.view(x.shape[0], -1)\n",
    "        print(out.shape)\n",
    "        out = self.fc(out)\n",
    "        \n",
    "        return out"
   ]
  },
  {
   "cell_type": "code",
   "execution_count": 336,
   "metadata": {},
   "outputs": [],
   "source": [
    "net = SampleCNN()\n",
    "net = net"
   ]
  },
  {
   "cell_type": "code",
   "execution_count": 337,
   "metadata": {},
   "outputs": [
    {
     "name": "stdout",
     "output_type": "stream",
     "text": [
      "torch.Size([1, 1, 66150])\n",
      "torch.Size([1, 128, 22050])\n",
      "torch.Size([1, 128, 7350])\n",
      "torch.Size([1, 128, 2450])\n",
      "torch.Size([1, 256, 816])\n",
      "torch.Size([1, 256, 272])\n",
      "torch.Size([1, 256, 90])\n",
      "torch.Size([1, 256, 30])\n",
      "torch.Size([1, 256, 10])\n",
      "torch.Size([1, 256, 3])\n",
      "torch.Size([1, 512, 1])\n",
      "torch.Size([1, 512])\n",
      "torch.Size([1, 1, 66150])\n",
      "torch.Size([1, 128, 22050])\n",
      "torch.Size([1, 128, 7350])\n",
      "torch.Size([1, 128, 2450])\n",
      "torch.Size([1, 256, 816])\n",
      "torch.Size([1, 256, 272])\n",
      "torch.Size([1, 256, 90])\n",
      "torch.Size([1, 256, 30])\n",
      "torch.Size([1, 256, 10])\n",
      "torch.Size([1, 256, 3])\n",
      "torch.Size([1, 512, 1])\n",
      "torch.Size([1, 512])\n",
      "torch.Size([1, 1, 66150])\n",
      "torch.Size([1, 128, 22050])\n",
      "torch.Size([1, 128, 7350])\n",
      "torch.Size([1, 128, 2450])\n",
      "torch.Size([1, 256, 816])\n",
      "torch.Size([1, 256, 272])\n",
      "torch.Size([1, 256, 90])\n",
      "torch.Size([1, 256, 30])\n",
      "torch.Size([1, 256, 10])\n",
      "torch.Size([1, 256, 3])\n",
      "torch.Size([1, 512, 1])\n",
      "torch.Size([1, 512])\n",
      "torch.Size([1, 1, 66150])\n",
      "torch.Size([1, 128, 22050])\n",
      "torch.Size([1, 128, 7350])\n",
      "torch.Size([1, 128, 2450])\n",
      "torch.Size([1, 256, 816])\n",
      "torch.Size([1, 256, 272])\n",
      "torch.Size([1, 256, 90])\n",
      "torch.Size([1, 256, 30])\n",
      "torch.Size([1, 256, 10])\n",
      "torch.Size([1, 256, 3])\n",
      "torch.Size([1, 512, 1])\n",
      "torch.Size([1, 512])\n",
      "torch.Size([1, 1, 66150])\n",
      "torch.Size([1, 128, 22050])\n",
      "torch.Size([1, 128, 7350])\n",
      "torch.Size([1, 128, 2450])\n",
      "torch.Size([1, 256, 816])\n",
      "torch.Size([1, 256, 272])\n",
      "torch.Size([1, 256, 90])\n",
      "torch.Size([1, 256, 30])\n",
      "torch.Size([1, 256, 10])\n",
      "torch.Size([1, 256, 3])\n",
      "torch.Size([1, 512, 1])\n",
      "torch.Size([1, 512])\n",
      "torch.Size([1, 1, 66150])\n",
      "torch.Size([1, 128, 22050])\n",
      "torch.Size([1, 128, 7350])\n",
      "torch.Size([1, 128, 2450])\n",
      "torch.Size([1, 256, 816])\n",
      "torch.Size([1, 256, 272])\n",
      "torch.Size([1, 256, 90])\n",
      "torch.Size([1, 256, 30])\n",
      "torch.Size([1, 256, 10])\n",
      "torch.Size([1, 256, 3])\n",
      "torch.Size([1, 512, 1])\n",
      "torch.Size([1, 512])\n",
      "torch.Size([1, 1, 66150])\n",
      "torch.Size([1, 128, 22050])\n",
      "torch.Size([1, 128, 7350])\n",
      "torch.Size([1, 128, 2450])\n",
      "torch.Size([1, 256, 816])\n",
      "torch.Size([1, 256, 272])\n",
      "torch.Size([1, 256, 90])\n",
      "torch.Size([1, 256, 30])\n",
      "torch.Size([1, 256, 10])\n",
      "torch.Size([1, 256, 3])\n",
      "torch.Size([1, 512, 1])\n",
      "torch.Size([1, 512])\n",
      "torch.Size([1, 1, 66150])\n",
      "torch.Size([1, 128, 22050])\n",
      "torch.Size([1, 128, 7350])\n",
      "torch.Size([1, 128, 2450])\n",
      "torch.Size([1, 256, 816])\n",
      "torch.Size([1, 256, 272])\n",
      "torch.Size([1, 256, 90])\n",
      "torch.Size([1, 256, 30])\n",
      "torch.Size([1, 256, 10])\n",
      "torch.Size([1, 256, 3])\n",
      "torch.Size([1, 512, 1])\n",
      "torch.Size([1, 512])\n",
      "torch.Size([1, 1, 66150])\n",
      "torch.Size([1, 128, 22050])\n",
      "torch.Size([1, 128, 7350])\n",
      "torch.Size([1, 128, 2450])\n",
      "torch.Size([1, 256, 816])\n",
      "torch.Size([1, 256, 272])\n",
      "torch.Size([1, 256, 90])\n",
      "torch.Size([1, 256, 30])\n",
      "torch.Size([1, 256, 10])\n",
      "torch.Size([1, 256, 3])\n",
      "torch.Size([1, 512, 1])\n",
      "torch.Size([1, 512])\n",
      "torch.Size([1, 1, 66150])\n",
      "torch.Size([1, 128, 22050])\n",
      "torch.Size([1, 128, 7350])\n",
      "torch.Size([1, 128, 2450])\n",
      "torch.Size([1, 256, 816])\n",
      "torch.Size([1, 256, 272])\n",
      "torch.Size([1, 256, 90])\n",
      "torch.Size([1, 256, 30])\n",
      "torch.Size([1, 256, 10])\n",
      "torch.Size([1, 256, 3])\n",
      "torch.Size([1, 512, 1])\n",
      "torch.Size([1, 512])\n"
     ]
    }
   ],
   "source": [
    "returnval =[]\n",
    "for i in x:\n",
    "    i = torch.tensor(i)\n",
    "    i = torch.unsqueeze(i,0)\n",
    "    i = torch.unsqueeze(i,0)\n",
    "    print(i.shape)\n",
    "    returnval.append(net(i))"
   ]
  },
  {
   "cell_type": "code",
   "execution_count": 340,
   "metadata": {},
   "outputs": [
    {
     "data": {
      "text/plain": [
       "[tensor([[-0.4222,  0.2320, -0.7943,  0.8741, -0.6898, -0.3004,  0.8019,  0.0081]],\n",
       "        grad_fn=<ThAddmmBackward>),\n",
       " tensor([[-1.0420,  0.4026, -0.0350,  0.5759,  0.1433, -0.1466, -0.5642,  0.3010]],\n",
       "        grad_fn=<ThAddmmBackward>),\n",
       " tensor([[-0.5491, -0.0107, -0.1381, -0.6070, -0.7052,  0.4244, -0.5731,  0.4963]],\n",
       "        grad_fn=<ThAddmmBackward>),\n",
       " tensor([[ 0.0578,  0.6801, -0.4243, -0.7034, -0.6450,  0.0586, -0.0703,  0.7356]],\n",
       "        grad_fn=<ThAddmmBackward>),\n",
       " tensor([[-0.9408,  0.2535, -0.1181, -0.4663, -0.5898,  0.3850,  0.4338,  0.4985]],\n",
       "        grad_fn=<ThAddmmBackward>),\n",
       " tensor([[-0.5821,  0.7450, -0.4027, -0.1331, -1.0143, -0.4056,  0.5895,  0.1177]],\n",
       "        grad_fn=<ThAddmmBackward>),\n",
       " tensor([[-1.1407,  0.6481, -0.7338, -0.1182, -0.2705, -0.7569,  0.0660,  0.5495]],\n",
       "        grad_fn=<ThAddmmBackward>),\n",
       " tensor([[-0.6897,  0.0410, -0.3927, -0.5081, -0.6213, -0.2804,  0.4090, -0.0670]],\n",
       "        grad_fn=<ThAddmmBackward>),\n",
       " tensor([[-0.2041, -0.1265, -0.8923, -0.5956, -0.1450, -0.2541,  0.3045,  0.5801]],\n",
       "        grad_fn=<ThAddmmBackward>),\n",
       " tensor([[ 0.2085,  0.1824, -0.2570, -0.3491, -0.7343, -0.7849,  0.2518,  0.2785]],\n",
       "        grad_fn=<ThAddmmBackward>)]"
      ]
     },
     "execution_count": 340,
     "metadata": {},
     "output_type": "execute_result"
    }
   ],
   "source": [
    "returnval"
   ]
  },
  {
   "cell_type": "code",
   "execution_count": null,
   "metadata": {},
   "outputs": [],
   "source": []
  }
 ],
 "metadata": {
  "kernelspec": {
   "display_name": "python3.6",
   "language": "python",
   "name": "python3.6"
  },
  "language_info": {
   "codemirror_mode": {
    "name": "ipython",
    "version": 3
   },
   "file_extension": ".py",
   "mimetype": "text/x-python",
   "name": "python",
   "nbconvert_exporter": "python",
   "pygments_lexer": "ipython3",
   "version": "3.6.8"
  }
 },
 "nbformat": 4,
 "nbformat_minor": 2
}
