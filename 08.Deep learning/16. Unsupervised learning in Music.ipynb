{
 "cells": [
  {
   "cell_type": "markdown",
   "metadata": {},
   "source": [
    "### Clustering / Dictionary Learning\n",
    "- K-means\n",
    "- NMF\n",
    "\n",
    "### Density estimation / Likelihood Estimation\n",
    "- GMM\n",
    "- HMM\n",
    "\n",
    "### Dimensionality Reduction\n",
    "- PCA"
   ]
  },
  {
   "cell_type": "markdown",
   "metadata": {},
   "source": [
    "## Deep Learning in Unsupervised learning\n",
    "\n",
    "### Auto-Encoder(AE)\n",
    "일반적으로 많은 layer를 가지고 deeper layer를 설계하게 됩니다. 가장 가운데에 latent vector를 아주 squeeze한 형태로 저장해 두었다가, Decoder에 태워서 표현하게 됩니다. \n",
    "- Neural networks configured to reconstruct the input\n",
    "    - Encoder : transform the input into a latent vector\n",
    "    - Decoder : Reconstruct the input from the latent vector\n",
    "\n",
    "- Dimensionality reduction & Data compresion\n",
    "    - When the latent vector is set to be low-dimensional, AE can be used for data compression\n",
    "    - AE can learn complex manifold of data better than linear models\n",
    "    \n",
    "- De-noising auto-encoder : nosiy input and clean output\n",
    "    - Robust feature learning\n",
    "        - Adding noise by corrupting input with with noise, removing random bits or other non-linear transformation\n",
    "        \n",
    "- Feature Learning\n",
    "\n",
    "### Convolutional Auto-Encoder\n",
    "- Decoder has up-sampling layers; also called transposed convolution\n",
    "\n",
    "\n",
    "### Variational Auto Encoder\n",
    "- Can we use the AE as a generative model?\n",
    "- AE's latent space may not be continuous\n",
    "\n",
    "Modeling the latent space using randomly sampled latent vectors with a probabilistic model\n",
    "- Make the encoder yield two vectors for mean and standard deviation\n",
    "\n",
    "We optimize the network using maximum likeilhood estimation\n",
    "\n",
    "### Sequence Generation\n",
    "- The generated data at current time is dependent on the generated data at previous times\n",
    "$$\n",
    "P(x_{t}|x_{1},x_{2},x_{3}...,x_{t-1})\n",
    "$$\n",
    "\n",
    "### Auto-Regressive Model\n",
    "\n",
    "$$\n",
    "P(X;\\theta) = \\Pi{P(x_{t}|x_{<t};\\theta)}\n",
    "$$\n",
    "- Markov Models\n",
    "    - Initial probability distribution, transition probability\n",
    "- Learning Predictive coding (LPC)\n",
    "    - Represents the spectral envelope (formant)\n",
    "    - Computed in a frame-by-frame manner\n",
    "    \n",
    "### Sequence Generation Using RNN\n",
    "- Train RNN to predict the current data from previous data\n",
    "- Sampling the data randomly every time step"
   ]
  },
  {
   "cell_type": "code",
   "execution_count": null,
   "metadata": {},
   "outputs": [],
   "source": []
  }
 ],
 "metadata": {
  "kernelspec": {
   "display_name": "python3.6",
   "language": "python",
   "name": "python3.6"
  },
  "language_info": {
   "codemirror_mode": {
    "name": "ipython",
    "version": 3
   },
   "file_extension": ".py",
   "mimetype": "text/x-python",
   "name": "python",
   "nbconvert_exporter": "python",
   "pygments_lexer": "ipython3",
   "version": "3.6.8"
  }
 },
 "nbformat": 4,
 "nbformat_minor": 2
}
