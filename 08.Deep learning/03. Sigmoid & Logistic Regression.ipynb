{
 "cells": [
  {
   "cell_type": "code",
   "execution_count": 1,
   "metadata": {},
   "outputs": [],
   "source": [
    "import numpy as np\n",
    "import pandas as pd\n",
    "import matplotlib.pyplot as plt\n",
    "import scipy as sp\n",
    "%matplotlib inline"
   ]
  },
  {
   "cell_type": "markdown",
   "metadata": {},
   "source": [
    "# 로지스틱 회귀 분석\n",
    "\n",
    "로지스틱 회귀분석에서 binary case에서는 종속변수가 이항분포를 따르고, 그 모수 $\\theta$ 가 독립 변수 $x$에 의존한다고 가정한다."
   ]
  },
  {
   "cell_type": "markdown",
   "metadata": {},
   "source": [
    "## Sigmoid 함수\n",
    "\n",
    "모수 $\\theta$는 x의 함수 $\\theta(x)$이다. x에 대한 선형 함수로 0부터 1사이의 값이 나오도록 sigmoid함수로 구성되어있다.\n",
    "$$\n",
    "\\theta = f(w^Tx)\n",
    "$$\n",
    "\n",
    "- 시그모이드 함수는 유한한 구간 사이의 한정된(bounded)값과\n",
    "- 항상 0 또는 양의 기울기를 가지는 함수이다.\n",
    "<br>\n",
    "\n",
    "\n",
    "1. 로지스틱함수 (Logistic function)\n",
    "$$\n",
    "\\text{logitstic}(z) = \\sigma(z) = \\dfrac{1}{1+\\exp{(-z)}}\n",
    "$$\n",
    "\n",
    "2. Hyperbolic tangent\n",
    "$$\n",
    "\\tanh(z) = \\frac{\\sinh z}{\\cosh z} = \\frac {e^z - e^{-z}} {e^z + e^{-z}} = 2 \\sigma(2x) - 1\n",
    "$$\n",
    "\n",
    "3. Error function\n",
    "$$\n",
    "\\text{erf}(z) = \\frac{2}{\\sqrt\\pi}\\int_0^z e^{-t^2}\\,dt\n",
    "$$\n",
    "\n"
   ]
  },
  {
   "cell_type": "code",
   "execution_count": 3,
   "metadata": {},
   "outputs": [
    {
     "data": {
      "image/png": "[encoded data removed]",
      "text/plain": [
       "<Figure size 432x288 with 1 Axes>"
      ]
     },
     "metadata": {
      "needs_background": "light"
     },
     "output_type": "display_data"
    }
   ],
   "source": [
    "xx = np.linspace(-5, 5, 1000)\n",
    "plt.plot(xx, 1/(1+np.exp(-xx)), 'r-', label=\"logistic\")\n",
    "plt.plot(xx, sp.erf(0.5*np.sqrt(np.pi)*xx), 'g:', label=\"erf\")\n",
    "plt.plot(xx, np.tanh(xx), 'b--', label=\"tanh\")\n",
    "plt.ylim([-1.1, 1.1])\n",
    "plt.legend(loc=2)\n",
    "plt.xlabel(\"x\")\n",
    "plt.ylabel(\"sigmoid\")\n",
    "plt.show()"
   ]
  },
  {
   "cell_type": "markdown",
   "metadata": {},
   "source": [
    "## 로지스틱 함수\n",
    "\n",
    "여러가지 시그모이드 중 로지스틱 함수는 다음과 같은 물리적인 의미를 가지고 있다.\n",
    "\n",
    "__$-\\infty$에서 $\\infty$사이의 값을 가지는 변수를 0 부터 1사이의 값으로 변환시킬 수 있다.__\n",
    "\n",
    "$$\n",
    "\\text{logitstic}(z) = \\theta(z) = \\dfrac{1}{1+\\exp{(-z)}}\n",
    "$$\n",
    "\n",
    "- odds ratio \n",
    "베르누이 시행에서 1이 나올 $\\theta$ 와 0이 나올 1-$\\theta$의 비를 odds ratio 라고합니다.\n",
    "$$\n",
    "\\text{odds ratio} = \\dfrac{\\theta}{1-\\theta}\n",
    "$$\n",
    "\n",
    "- logit function\n",
    "odds ration에 로그를 취한것이, logit 함수입니다. 비율은 0부터 1사이의 값인데, 이 확률값이 로그에 들어가면서 범위가 $-\\infty$에서 $\\infty$가 됩니다. 이를 역수치 시킨다면? 바로 로지스틱 함수가 나옵니다.\n",
    "$$\n",
    "z = \\text{logit}(\\text{odds ratio}) = \\log \\left(\\dfrac{\\theta}{1-\\theta}\\right)\n",
    "$$"
   ]
  },
  {
   "cell_type": "code",
   "execution_count": 27,
   "metadata": {},
   "outputs": [],
   "source": [
    "def sigmoid(x):\n",
    "    return 1/(1+np.exp(-x))"
   ]
  },
  {
   "cell_type": "markdown",
   "metadata": {},
   "source": [
    "## Logistic regression Cost function\n",
    "\n"
   ]
  },
  {
   "cell_type": "code",
   "execution_count": null,
   "metadata": {},
   "outputs": [],
   "source": []
  }
 ],
 "metadata": {
  "kernelspec": {
   "display_name": "Python 3",
   "language": "python",
   "name": "python3"
  },
  "language_info": {
   "codemirror_mode": {
    "name": "ipython",
    "version": 3
   },
   "file_extension": ".py",
   "mimetype": "text/x-python",
   "name": "python",
   "nbconvert_exporter": "python",
   "pygments_lexer": "ipython3",
   "version": "3.6.6"
  }
 },
 "nbformat": 4,
 "nbformat_minor": 2
}
