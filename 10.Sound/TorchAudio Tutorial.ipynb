{
 "cells": [
  {
   "cell_type": "markdown",
   "metadata": {},
   "source": [
    "### Torch Audio\n",
    "\n",
    "이번 pytorch 1.2 버전과 함께 나온 torchaudio라이브러리의 튜토리얼 문서의 번역버전입니다."
   ]
  },
  {
   "cell_type": "code",
   "execution_count": 12,
   "metadata": {},
   "outputs": [
    {
     "data": {
      "text/plain": [
       "(tensor([[-0.0762, -0.0574, -0.0203,  ...,  0.3599, -0.0361,  0.2102]]),\n",
       " torch.Size([1, 661504]))"
      ]
     },
     "execution_count": 12,
     "metadata": {},
     "output_type": "execute_result"
    }
   ],
   "source": [
    "import torch\n",
    "import torchaudio\n",
    "import matplotlib.pyplot as plt\n",
    "# 파일디렉토리에 음성, 음악 파일을 넣어줍시다.\n",
    "filename = \"input/pop.wav\"\n",
    "# 데이터를 load하면 바로 torch 파일로 올라가게 됩니다.\n",
    "waveform, sample_rate = torchaudio.load(filename)\n",
    "waveform, waveform.size()"
   ]
  },
  {
   "cell_type": "markdown",
   "metadata": {},
   "source": [
    "시각화를 할때는 Shape을 고려해서 Transpose를 해야합니다. [1,661504] -> [661504,1] 로 바꾸어줍시다."
   ]
  },
  {
   "cell_type": "code",
   "execution_count": 13,
   "metadata": {},
   "outputs": [
    {
     "data": {
      "text/plain": [
       "[<matplotlib.lines.Line2D at 0x129abe1d0>]"
      ]
     },
     "execution_count": 13,
     "metadata": {},
     "output_type": "execute_result"
    },
    {
     "data": {
      "image/png": "[encoded data removed]",
      "text/plain": [
       "<Figure size 432x288 with 1 Axes>"
      ]
     },
     "metadata": {
      "needs_background": "light"
     },
     "output_type": "display_data"
    }
   ],
   "source": [
    "plt.figure()\n",
    "plt.plot(waveform.t().numpy())"
   ]
  },
  {
   "cell_type": "markdown",
   "metadata": {},
   "source": [
    "### Normalize"
   ]
  },
  {
   "cell_type": "code",
   "execution_count": 14,
   "metadata": {},
   "outputs": [],
   "source": [
    "def normalize(tensor):\n",
    "    # Subtract the mean, and scale to the interval [-1,1]\n",
    "    tensor_minusmean = tensor - tensor.mean()\n",
    "    return tensor_minusmean/tensor_minusmean.abs().max()"
   ]
  },
  {
   "cell_type": "code",
   "execution_count": 15,
   "metadata": {},
   "outputs": [],
   "source": [
    "waveform = normalize(waveform)"
   ]
  },
  {
   "cell_type": "code",
   "execution_count": 16,
   "metadata": {},
   "outputs": [
    {
     "data": {
      "text/plain": [
       "tensor([[-0.0762, -0.0574, -0.0203,  ...,  0.3599, -0.0361,  0.2102]])"
      ]
     },
     "execution_count": 16,
     "metadata": {},
     "output_type": "execute_result"
    }
   ],
   "source": [
    "waveform"
   ]
  },
  {
   "cell_type": "markdown",
   "metadata": {},
   "source": [
    "### 데이터 전처리\n",
    "\n",
    "- Resample: 샘플링 레이트를 변경해서 다시 샘플링을 진행합니다.\n",
    "- Spectrogram: STFT를 통해 Frequency영역대를 가지게 되는 Spectrogram을 만들어냅니다.\n",
    "- MelScale: normal STFT을 Mel-frequency STFT로 튜닝합니다. Conversion matrix를 활용합니다.\n",
    "- AmplitudeToDB: Spectrogram을 power/amplitude scale에서 decibel scale로 변경합니다.\n",
    "- MFCC: Waveform에서 Mel-frequency cepstrum coefficients을 추출해 냅니다.\n",
    "- MelSpectrogram: MEL Spectrograms울 STFT를 기반으로 만들어 냅니다.\n",
    "- MuLawEncoding: mu-law companding 기반으로 Waveform을 인코딩합니다.\n",
    "- MuLawDecoding: mu-law companding 기반으로 Waveform을 디코딩합니다."
   ]
  },
  {
   "cell_type": "code",
   "execution_count": 17,
   "metadata": {},
   "outputs": [],
   "source": [
    "function = torchaudio.transforms.Spectrogram()"
   ]
  },
  {
   "cell_type": "code",
   "execution_count": 18,
   "metadata": {},
   "outputs": [
    {
     "data": {
      "text/plain": [
       "tensor([ 18.0268,   0.8016,   5.5313,  ...,  78.8201, 221.1348, 560.2722])"
      ]
     },
     "execution_count": 18,
     "metadata": {},
     "output_type": "execute_result"
    }
   ],
   "source": [
    "specgram = torchaudio.transforms.Spectrogram()(waveform)\n",
    "specgram[0][0]"
   ]
  },
  {
   "cell_type": "code",
   "execution_count": 19,
   "metadata": {},
   "outputs": [
    {
     "data": {
      "text/plain": [
       "tensor([[[0.0000e+00, 0.0000e+00, 0.0000e+00,  ..., 0.0000e+00,\n",
       "          0.0000e+00, 0.0000e+00],\n",
       "         [4.2857e-01, 3.9033e+00, 2.4807e-01,  ..., 5.4908e+00,\n",
       "          2.7099e+01, 4.6406e+01],\n",
       "         [2.3075e+00, 2.1016e+01, 1.3357e+00,  ..., 2.9564e+01,\n",
       "          1.4591e+02, 2.4986e+02],\n",
       "         ...,\n",
       "         [9.0652e-01, 4.2713e-01, 6.2436e-01,  ..., 8.1188e+01,\n",
       "          1.7948e+02, 8.9671e+01],\n",
       "         [5.8029e-01, 4.4933e-01, 3.4214e-01,  ..., 9.4590e+01,\n",
       "          1.5563e+02, 5.7165e+01],\n",
       "         [1.2833e+00, 5.9669e-01, 4.9794e-01,  ..., 9.2971e+01,\n",
       "          6.1467e+01, 9.0621e+01]]], grad_fn=<DifferentiableGraphBackward>)"
      ]
     },
     "execution_count": 19,
     "metadata": {},
     "output_type": "execute_result"
    }
   ],
   "source": [
    "melspecgram = torchaudio.transforms.MelSpectrogram()(waveform)\n",
    "melspecgram"
   ]
  },
  {
   "cell_type": "code",
   "execution_count": 20,
   "metadata": {},
   "outputs": [
    {
     "data": {
      "text/plain": [
       "torch.Size([1, 128, 3308])"
      ]
     },
     "execution_count": 20,
     "metadata": {},
     "output_type": "execute_result"
    }
   ],
   "source": [
    "melspecgram.shape"
   ]
  },
  {
   "cell_type": "code",
   "execution_count": null,
   "metadata": {},
   "outputs": [],
   "source": []
  }
 ],
 "metadata": {
  "kernelspec": {
   "display_name": "Python 3",
   "language": "python",
   "name": "python3"
  },
  "language_info": {
   "codemirror_mode": {
    "name": "ipython",
    "version": 3
   },
   "file_extension": ".py",
   "mimetype": "text/x-python",
   "name": "python",
   "nbconvert_exporter": "python",
   "pygments_lexer": "ipython3",
   "version": "3.7.3"
  }
 },
 "nbformat": 4,
 "nbformat_minor": 2
}
