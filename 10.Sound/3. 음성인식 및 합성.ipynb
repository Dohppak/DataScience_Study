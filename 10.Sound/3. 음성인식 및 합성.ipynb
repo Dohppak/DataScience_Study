{
 "cells": [
  {
   "cell_type": "markdown",
   "metadata": {},
   "source": [
    "- https://www.korean.go.kr/nkview/nklife/2017_4/27_0405.pdf\n",
    "- https://www.kakaobrain.com/blog/16\n",
    "- https://arxiv.org/pdf/1703.10135.pdf"
   ]
  },
  {
   "cell_type": "markdown",
   "metadata": {},
   "source": [
    "## 음성인식 , 음성합성, 음성변환\n",
    "\n",
    "음성 인식(Speech Recognition)은 발화자가 말한 내용을 텍스트 형태로 이해하는 것이다. 음성 합성(Voice Synthesis)은 텍스트를 음성으로 변환합을 의미합니다. 그리고 음성 변환(Audio Style Transfer)은 음성을 다른 스타일로 표현하는 것입니다.\n",
    "\n",
    "<img src=\"./img/audio.png\">"
   ]
  },
  {
   "cell_type": "markdown",
   "metadata": {},
   "source": [
    "## 1. 음성 인식\n",
    "음성인식은 음향학적 관점과 언어학적 관점의 방향으로 나누어진다. 음향학적 관점에는 화자, 배경 잡음, 마이크로폰 등의 다양한 환경을 나타내는 데이터를 활용할 수 있고, 언어학적 관점에서는 어휘, 문법, 문맥 등을 모델링하기 위한 많은 데이터 및 언어 정보를 정확하게 추출하여 지식 정보를 활용할 수 있다."
   ]
  },
  {
   "cell_type": "markdown",
   "metadata": {},
   "source": [
    "### 1.1. 인식과 탐색\n",
    "음성 인식 시스템은 크게 음성/언어 데이터로부터 인식 네트워크 모델을 생성하는 오프라인 학습 단계와 사용자가 발성한 음성을 인식하는 온라인 탐색 단계로 나눠 볼 수 있다. 음성 인식 엔진은 크게 음성과 언어 정보라는 중요한 사전 지식을 사용해 음성 신호로부터 문자 정보를 출력하게 되는데, 이때 개념적으로 음성 신호를 문자 기호로 해석한다는 차원에서 음성인식 알고리즘을 디코더(Decoder)라고 부르기도 한다. 디코딩 단계에서는 학습 단계인 음향모델(AM; Acustic Model), 언어모델(LM; Lanaguage Model) 그리고 발음 사전(Pronunciation Lexicon)을 이용하여 입력된 특징 벡터를 모델과 비교, 스코어링을 하여 단어 열을 최종 결정하게 된다.\n"
   ]
  },
  {
   "cell_type": "markdown",
   "metadata": {},
   "source": [
    "### 1.2. 음향 모델링 (AM; Acoustic Model)\n",
    "음향 모델링은 해당 언어의 움운 환경별 발음의 음향적인 특성을 확률 모델로 대표 패턴을 생성하는 과정이다\n",
    "\n",
    "### 1.3. 언어 모델링 (LM; Language Model)\n",
    "언어 모델은 어휘 선택, 문장, 구문 구조등 언어의 문법 체계를 통계적으로 학습하는 것이다.\n",
    "\n",
    "### 1.4. 음소 변환 (G2P; Grapheme-to-Phoneme)\n",
    "표준 발음을 대상으로 하는 발음 변환 규칙을 사용하며, 또한 방언이나 사용자의 발화 습관과 어투에 따른 다양한 패턴을 반영해야한다"
   ]
  },
  {
   "cell_type": "markdown",
   "metadata": {},
   "source": [
    "## CTC(Connectionist Temporal Classification)\n",
    "\n",
    "CTC모델은 아주 간단합니다. Direction RNN을 여러층으로 쌓고 인코더로 들어오는 입력 데이터를 SoftMax를 통과해서 출력합니다. \n",
    "<img src=\"./img/CTC.png\">"
   ]
  },
  {
   "cell_type": "code",
   "execution_count": null,
   "metadata": {},
   "outputs": [],
   "source": []
  }
 ],
 "metadata": {
  "kernelspec": {
   "display_name": "Python 3",
   "language": "python",
   "name": "python3"
  },
  "language_info": {
   "codemirror_mode": {
    "name": "ipython",
    "version": 3
   },
   "file_extension": ".py",
   "mimetype": "text/x-python",
   "name": "python",
   "nbconvert_exporter": "python",
   "pygments_lexer": "ipython3",
   "version": "3.7.4"
  }
 },
 "nbformat": 4,
 "nbformat_minor": 2
}
