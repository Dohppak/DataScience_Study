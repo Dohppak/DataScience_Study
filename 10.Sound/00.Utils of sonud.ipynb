{
 "cells": [
  {
   "cell_type": "markdown",
   "metadata": {},
   "source": [
    "- Sound\n",
    "- Hearing\n",
    "- Digital Audio\n",
    "    - Sampling\n",
    "- Sound Representation\n",
    "- Fourier\n",
    "- Musical Feature\n",
    "    - Tonality\n",
    "    - Pitch\n",
    "    - Timbre\n",
    "    - Temporal"
   ]
  },
  {
   "cell_type": "code",
   "execution_count": null,
   "metadata": {},
   "outputs": [],
   "source": []
  }
 ],
 "metadata": {
  "kernelspec": {
   "display_name": "Python 3",
   "language": "python",
   "name": "python3"
  },
  "language_info": {
   "codemirror_mode": {
    "name": "ipython",
    "version": 3
   },
   "file_extension": ".py",
   "mimetype": "text/x-python",
   "name": "python",
   "nbconvert_exporter": "python",
   "pygments_lexer": "ipython3",
   "version": "3.7.3"
  }
 },
 "nbformat": 4,
 "nbformat_minor": 2
}
