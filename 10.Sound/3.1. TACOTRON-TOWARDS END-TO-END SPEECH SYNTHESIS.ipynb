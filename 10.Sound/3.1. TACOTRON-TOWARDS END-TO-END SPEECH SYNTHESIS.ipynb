{
 "cells": [
  {
   "cell_type": "markdown",
   "metadata": {},
   "source": [
    "## Tacotron\n",
    "문자열을 입력으로, 음성의 스펙트럼 벡터열을 출력으로 지정하여, 문자열이 스펙트럼으로 변환되는 중간 과정을 자동으로 학습합니다. 이때 입력과 출력의 길이의 차이가 발생합니다. 이때 Attention을 도입하여 입력과 출력 사이의 관계를 학습하게 됩니다.\n",
    "\n",
    "### CBHG\n",
    "2017년 구글이 발표한 TTS 논문인 타코트론에서 사용한 신경망 블록입니다. Convolutional 1D filters, bank, highway networks, gated recurrent unit bidirectional의 첫 글자를 따서 지어진 이름입니다. 단어가 나열된 순서대로 각 블록을 쌓아 만든 구조이기 때문입니다.\n",
    "\n",
    "<img src=\"./img/CBHG.png\">"
   ]
  },
  {
   "cell_type": "markdown",
   "metadata": {},
   "source": []
  }
 ],
 "metadata": {
  "kernelspec": {
   "display_name": "python3.7",
   "language": "python",
   "name": "python3.7"
  },
  "language_info": {
   "codemirror_mode": {
    "name": "ipython",
    "version": 3
   },
   "file_extension": ".py",
   "mimetype": "text/x-python",
   "name": "python",
   "nbconvert_exporter": "python",
   "pygments_lexer": "ipython3",
   "version": "3.7.4"
  }
 },
 "nbformat": 4,
 "nbformat_minor": 2
}
