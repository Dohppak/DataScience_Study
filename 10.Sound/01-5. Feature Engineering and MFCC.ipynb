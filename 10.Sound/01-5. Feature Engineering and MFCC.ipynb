{
 "cells": [
  {
   "cell_type": "markdown",
   "metadata": {},
   "source": [
    "### STFT (Short-Time Fourier Transform)\n",
    "\n",
    "- Timbral texture features\n",
    "    - Spectral centroid, spectral roll-off, spectral flux\n",
    "    - Zero-crossing rate, Low-energy features\n",
    "    - MFCC\n",
    "- Pitch / Tonal features\n",
    "    - Chroma STFT\n",
    "    - Three dominant peaks in the SACF that correspond to pitch values are accumulated as a histogram (pitch histogram)\n",
    "- Rhythmic features\n",
    "    - Beat histogram\n",
    "    - Tempo"
   ]
  },
  {
   "cell_type": "markdown",
   "metadata": {},
   "source": [
    "ADSR"
   ]
  },
  {
   "cell_type": "code",
   "execution_count": null,
   "metadata": {},
   "outputs": [],
   "source": []
  }
 ],
 "metadata": {
  "kernelspec": {
   "display_name": "Python 3",
   "language": "python",
   "name": "python3"
  },
  "language_info": {
   "codemirror_mode": {
    "name": "ipython",
    "version": 3
   },
   "file_extension": ".py",
   "mimetype": "text/x-python",
   "name": "python",
   "nbconvert_exporter": "python",
   "pygments_lexer": "ipython3",
   "version": "3.7.3"
  }
 },
 "nbformat": 4,
 "nbformat_minor": 2
}
