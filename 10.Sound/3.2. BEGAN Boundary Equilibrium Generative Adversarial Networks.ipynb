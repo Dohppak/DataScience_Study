{
 "cells": [
  {
   "cell_type": "markdown",
   "metadata": {},
   "source": [
    "- https://hulk89.github.io/machine%20learning/2017/11/15/BEGAN/\n",
    "- https://github.com/YBIGTA/Deep_learning/blob/master/GAN/2017-09-23-BEGAN-review.markdown\n",
    "- https://www.alexirpan.com/2017/02/22/wasserstein-gan.html\n",
    "- https://www.slideshare.net/ssuser7e10e4/wasserstein-gan-i\n",
    "- http://jaejunyoo.blogspot.com/2017/04/began-boundary-equilibrium-gan-1.html\n"
   ]
  },
  {
   "cell_type": "code",
   "execution_count": 1,
   "metadata": {},
   "outputs": [],
   "source": [
    "import torch\n",
    "from torch.autograd import Variable\n",
    "from torch import nn\n",
    "from torch.nn import functional as F"
   ]
  },
  {
   "cell_type": "markdown",
   "metadata": {},
   "source": [
    "## BEGAN: Boundary Equilibrium Generative Adversarial Networks\n",
    "\n",
    "- 단순하지만 강력한 구조와 빠르고 안정적인 학습과 수렴이 가능한 GAN\n",
    "- Discriminator와 Generator사이의 균형을 조정해주는 Equilibrium contept\n",
    "- 이미지의 다양성과 질(Quality) 사이의 trade-off를 조정하는 것이 가능한 새로운 방법\n",
    "- 수렴의 Approximate measure\n",
    "\n",
    "GEGAN은 EBGAN과 상당히 닮은 뼈대를 가지고 있습니다. BEGAN은 auto-encoder를 사용합니다. 한가지 중요한 점은 일반적인 GAN이 data distribution을 맞추기 위해 학습하는 것에 반해 BEGAN은 auto-encoder loss distribution을 맞추려고 합니다. 이 때 Wasserstein distance를 사용합니다. per-pixel Euclidean distance을 사용합니다.\n",
    "\n",
    "### Related Works\n",
    "__DCGAN__<br>\n",
    "- Convolutional Architecture를 활용한 안정적인 GAN\n",
    "\n",
    "__EBGAN__<br>\n",
    "- Discriminator의 개념을 에너지 함수로 적용했다고 합니다. \n",
    "- Discriminator가 Classifier가 아니라 Auto-encoder입니다.\n",
    "\n",
    "__WGAN__<br>\n",
    "- Wasserstein을 활용하여 학습의 안정성을 높이는데 기여합니다.\n",
    "- Loss가 모델 수렴에 대한 척도가 됩니다.\n",
    "\n",
    "### Proposed Method\n",
    "\n",
    "1. Discriminator를 분류기가 아니라 AutoEncoder로 만든다.\n",
    "    - Sample들이 AE-loss의 distribution을 매칭하도록 합니다.\n",
    "2. 실제 이미지와 가짜 이미지를 Discriminator에 넣어 pixel-wise reconstruction loss를 구합니다.\n",
    "    - Wasserstein distance의 lower bound를 계산하게 합니다.\n",
    "3. 실제 데이터 분포가 아닌, Reconstruction Loss를 학습 시킵니다.\n",
    "    - 데이터의 분포가 아니라 Loss의 분포에 집중하는 방식입니다. \n",
    "4. Discriminator와 Generator간의 밸런스를 맞추는 equilibrium concept을 제안합니다\n",
    "    - image의 diversity와 quality간의 trade-off를 조정하는 방법이 됩니다.\n",
    "5. Convergence에 대한 approximate measure를 제안합니다.\n",
    "\n",
    "### Process\n",
    "\n",
    "\n",
    "### Wassertein Distance for auto-encoders\n",
    "BEGAN은 data distribution이 아닌 loss function에 더 집중합니다. 이를 통해서 우리는 loss 분포에 대해서 알수 있습니다. Pixel wise loss혹은 error들이 서로 independent하고 identically distributed라고 할 때, CLT에 의해서 image-wise loss는 정규분포에 근사한다고 할 수 있습니다. \n"
   ]
  },
  {
   "cell_type": "code",
   "execution_count": null,
   "metadata": {},
   "outputs": [],
   "source": []
  }
 ],
 "metadata": {
  "kernelspec": {
   "display_name": "Python 3",
   "language": "python",
   "name": "python3"
  },
  "language_info": {
   "codemirror_mode": {
    "name": "ipython",
    "version": 3
   },
   "file_extension": ".py",
   "mimetype": "text/x-python",
   "name": "python",
   "nbconvert_exporter": "python",
   "pygments_lexer": "ipython3",
   "version": "3.7.4"
  }
 },
 "nbformat": 4,
 "nbformat_minor": 2
}
