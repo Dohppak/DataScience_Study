{
 "cells": [
  {
   "cell_type": "markdown",
   "metadata": {},
   "source": [
    "### STFT (Short-Time Fourier Transform)\n",
    "\n",
    "FFT는 시간에 흐름에 따라 신호의 수파수가 변했을때, 어느 시간대에 주파수가 변하는지 모르게 됩니다. 이러한 한계를 극복하기 위해서, STFT는 시간의 길이를 나눠서 이제 퓨리에 변환을 하게 됩니다. 즉 FFT를 했을때는 Time domina에 대한 정보가 날아가게 되는 것이죠.\n",
    "\n",
    "주파수의 특성이 시간에 따라 달라지는 사운드를 분석하는 방법입니다. 일반적으로 우리가 사용하는 signal 데이터에 적합하다. 시계열 데이터를 일정한 시간 구간 (window size)로 나누고, 각 구간에 대해서 스펙트럼을 구하는 데이터이다. 이는 Time-frequency 2차원 데이터로 표현이 됩니다.\n",
    "\n",
    "$$\n",
    "X(l,k) = \\sum_{n=0}^{N-1} w(n) x(n+lH)\\exp^{\\frac{-2\\pi k n}{N}}\n",
    "$$\n",
    "\n",
    "- $N$ : FFT size\n",
    "    - Window를 얼마나 많은 주파수 밴드로 나누는가 입니다.\n",
    "\n",
    "- Duration\n",
    "    - 샘플링 레이트를 window로 나눈 값입니다.\n",
    "    - $T= window/SR$\n",
    "    - T(Window) = 5T(Signal), duration은 신호주기보다 5배 이상 길게 잡아야한다.\n",
    "    - 440Hz 신호의 window size는 5*(1/440)이 됩니다.\n",
    "\n",
    "- $w(n)$ : Window function\n",
    "    - 일반적으로 Hann window가 쓰입니다.\n",
    "\n",
    "- $n$ : Window size\n",
    "    - Window 함수에 들어가는 Sample의 양입니다.\n",
    "    - 작을수록 Low-frequency resolution을 가지게 되고, high-time resolution을 가집니다.\n",
    "    - 길수록 High-frequency, low time resolution을 가집니다.\n",
    "    \n",
    "- $H$ : Hop size\n",
    "    - 윈도우가 겹치는 사이즈입니다. 일반적으로는 1/4정도를 겹치게 합니다.\n",
    "\n",
    "STFT의 결과는 즉 시간의 흐름(Window)에 따른 Frequency영역별 Amplitude를 반환합니다."
   ]
  },
  {
   "cell_type": "code",
   "execution_count": 1,
   "metadata": {},
   "outputs": [],
   "source": [
    "import numpy as np\n",
    "import matplotlib.pyplot as plt\n",
    "from scipy.fftpack import fft\n",
    "%matplotlib inline\n",
    "import librosa\n",
    "train_audio_path = 'input/train/audio'\n",
    "filename = '/yes/ffd2ba2f_nohash_0.wav'\n",
    "samples, sample_rate = librosa.load(str(train_audio_path)+filename)"
   ]
  },
  {
   "cell_type": "markdown",
   "metadata": {},
   "source": [
    "위 스펙트럼은 44 Hz의 폭으로 513개의 bin으로 분할되어 있습니다.\n",
    "\n",
    "여기서 실수부를 제거하면서 magnitude에 대한 데이터만 받아와봅시다."
   ]
  },
  {
   "cell_type": "code",
   "execution_count": 2,
   "metadata": {},
   "outputs": [],
   "source": [
    "# STFT\n",
    "S = librosa.core.stft(samples, n_fft=1024, hop_length=512, win_length=1024)"
   ]
  },
  {
   "cell_type": "code",
   "execution_count": 3,
   "metadata": {},
   "outputs": [
    {
     "data": {
      "text/plain": [
       "((513, 44), 44, (-0.2504628+0j))"
      ]
     },
     "execution_count": 3,
     "metadata": {},
     "output_type": "execute_result"
    }
   ],
   "source": [
    "S.shape, len(S[0]), S[0][0]"
   ]
  },
  {
   "cell_type": "code",
   "execution_count": 4,
   "metadata": {},
   "outputs": [
    {
     "data": {
      "text/plain": [
       "43.06640625"
      ]
     },
     "execution_count": 4,
     "metadata": {},
     "output_type": "execute_result"
    }
   ],
   "source": [
    "sample_rate/512"
   ]
  },
  {
   "cell_type": "code",
   "execution_count": 5,
   "metadata": {},
   "outputs": [],
   "source": [
    "# phase 에 대한 정보를 날린다.\n",
    "D = np.abs(S)**2"
   ]
  },
  {
   "cell_type": "code",
   "execution_count": null,
   "metadata": {},
   "outputs": [],
   "source": [
    "D.shape"
   ]
  }
 ],
 "metadata": {
  "kernelspec": {
   "display_name": "python3.6",
   "language": "python",
   "name": "python3.6"
  },
  "language_info": {
   "codemirror_mode": {
    "name": "ipython",
    "version": 3
   },
   "file_extension": ".py",
   "mimetype": "text/x-python",
   "name": "python",
   "nbconvert_exporter": "python",
   "pygments_lexer": "ipython3",
   "version": "3.6.8"
  }
 },
 "nbformat": 4,
 "nbformat_minor": 2
}
