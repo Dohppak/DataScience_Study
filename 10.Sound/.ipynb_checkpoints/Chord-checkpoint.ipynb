{
 "cells": [
  {
   "cell_type": "markdown",
   "metadata": {},
   "source": [
    "## Introduction to Chord\n",
    "\n",
    "- Harmonic sets of multiple notes accompanying the melody\n",
    "- Make the sound richer\n",
    "- A sequence of chords forms musical progress\n",
    "    - Cadence, Tension (sus2, sus4)\n",
    "\n",
    "## Basic Theory of Music\n",
    "- The absolute majority of music that we listen to is tonal\n",
    "- Tonal Music\n",
    "    - Key : 12 key\n",
    "    - Scale : Major/Minor\n",
    "    - Tonic, \n",
    "    \n",
    "## Consonance and Dissonance\n",
    "- Consonance and Dissonance\n",
    "    - If two sinusoidal tones are within 3ST(minor 3rd) in frequency, they become dissonant\n",
    "    - Most dissonant when they are apart about one quarter of the critical band\n",
    "    - Critical bands become wider below 500Hz, two low note can sound dissonant\n",
    "- Consonance of two harmonics tones\n",
    "\n",
    "## Scales in Tonal Harmony\n",
    "\n"
   ]
  },
  {
   "cell_type": "markdown",
   "metadata": {},
   "source": [
    "## Automatic Chord Recognition\n",
    "\n",
    "- Estimate Chord progression from audio\n",
    "- General Framework\n",
    "    - Audio Representation\n",
    "    - Chroma representation\n",
    "    - PreFiltering\n",
    "        - Compression\n",
    "        - Overtones\n",
    "        - Smoothing\n",
    "    - Pattern machting\n",
    "    - PostFiltering\n",
    "        - Smoothing\n",
    "        - Transition\n",
    "        - HMM\n",
    "    - Recogntion result\n",
    "    \n",
    "## Template-based Pattern Matching\n",
    "- User the similarity between chord vector and binary templates for each chord\n",
    "- Use correlation (inner product) between chroma vectors and templates\n",
    "- Frame-based prediction from the maximum correlation values\n",
    "    - Chord predictions can be not continuous\n",
    "    - Does not consider temporal dependency of chord progressions (window의 majority를 찾아서 smoothing의 기능을 하게 됩니다. )\n",
    "- Beat-Synchronous Chroma Features\n",
    "    - Make chroma features homogeneous within a beat\n",
    "    - Log-freq specgram, Onset envelope beat times, Beat synchronize chroma\n",
    "- Limitation\n",
    "    - Temporal Dependency를 반영하지 못하는 단점이 있다.\n",
    " "
   ]
  },
  {
   "cell_type": "markdown",
   "metadata": {},
   "source": [
    "## Hidden Markov Model (HMM)\n",
    "- A probabilistic model for times series data\n",
    "    - Speech, gesture, DNA sequence, financial data...\n",
    "- A random variables $q$ has $N$ states and, at each time step, one of the states are randomly chosen: $q_{t}$\n",
    "- The probability distribution for the current state is determined by the previous states\n",
    "- Generate a chord sequence\n",
    "\n",
    "__Computation__\n",
    "- Naive method : Count all paths that have C Chord at time T\n",
    "- Clever method : use a recursive induction\n",
    "\n",
    "- Count Chord\n",
    "- If chord labels are not aligned with audio, we should do the maximum-likelihood estimation\n",
    "- HMM 40page paper를 dlfrdjfk.\n",
    "\n",
    "## Evaluating HMM for Chord Recognition\n",
    "- Find the most likely sequence of hidden states given observations and HMM model parameters\n",
    "\n",
    "__Viterbi algorithm__ Based on Dynamic Programming\n",
    "- DP : optimize the sum of local cost and transition cost\n",
    "- Viterbi : maximizing the joint probability from the observation probability and transition probability"
   ]
  },
  {
   "cell_type": "code",
   "execution_count": null,
   "metadata": {},
   "outputs": [],
   "source": []
  }
 ],
 "metadata": {
  "kernelspec": {
   "display_name": "python3.6",
   "language": "python",
   "name": "python3.6"
  },
  "language_info": {
   "codemirror_mode": {
    "name": "ipython",
    "version": 3
   },
   "file_extension": ".py",
   "mimetype": "text/x-python",
   "name": "python",
   "nbconvert_exporter": "python",
   "pygments_lexer": "ipython3",
   "version": "3.6.8"
  }
 },
 "nbformat": 4,
 "nbformat_minor": 2
}
