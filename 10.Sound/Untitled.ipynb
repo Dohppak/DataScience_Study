{
 "cells": [
  {
   "cell_type": "code",
   "execution_count": 9,
   "metadata": {},
   "outputs": [],
   "source": [
    "import os\n",
    "import numpy as np\n",
    "import matplotlib.pyplot as plt\n",
    "from scipy.fftpack import fft\n",
    "%matplotlib inline\n",
    "import librosa\n",
    "filename = \"input/pop.wav\"\n",
    "samples, sample_rate = librosa.load(filename, 12000)"
   ]
  },
  {
   "cell_type": "code",
   "execution_count": 30,
   "metadata": {},
   "outputs": [],
   "source": [
    "class HParams(object):\n",
    "    def __init__(self):\n",
    "        # Feature Parameters\n",
    "        self.sample_rate= 12000\n",
    "        self.fft_size = 1024\n",
    "        self.win_size = 1024\n",
    "        self.hop_size = 256\n",
    "        self.num_mels = 96\n",
    "        self.feature_length = 1366\n",
    "\n",
    "        # Training Parameters\n",
    "        self.device = 1  # 0: CPU, 1: GPU0, 2: GPU1, ...\n",
    "        self.batch_size = 128\n",
    "        self.num_epochs = 26\n",
    "        self.learning_rate = 1e-2\n",
    "        self.stopping_rate = 1e-5\n",
    "        self.weight_decay = 1e-6\n",
    "        self.momentum = 0.9\n",
    "        self.factor = 0.2\n",
    "        self.patience = 5"
   ]
  },
  {
   "cell_type": "code",
   "execution_count": 31,
   "metadata": {},
   "outputs": [],
   "source": [
    "def melspectrogram(file_name, hparams):\n",
    "    y, sr = librosa.load(file_name, hparams.sample_rate)\n",
    "    S = librosa.stft(y, n_fft=hparams.fft_size, hop_length=hparams.hop_size, win_length=hparams.win_size)\n",
    "\n",
    "    mel_basis = librosa.filters.mel(hparams.sample_rate, n_fft=hparams.fft_size, n_mels=hparams.num_mels)\n",
    "    mel_S = np.dot(mel_basis, np.abs(S))\n",
    "    mel_S = np.log10(1+10*mel_S)\n",
    "    mel_S = mel_S.T\n",
    "    return mel_S"
   ]
  },
  {
   "cell_type": "code",
   "execution_count": 32,
   "metadata": {},
   "outputs": [],
   "source": [
    "hparams = HParams()"
   ]
  },
  {
   "cell_type": "code",
   "execution_count": 33,
   "metadata": {},
   "outputs": [],
   "source": [
    "a = melspectrogram(filename, hparams)"
   ]
  },
  {
   "cell_type": "code",
   "execution_count": 34,
   "metadata": {},
   "outputs": [
    {
     "data": {
      "text/plain": [
       "(1407, 96)"
      ]
     },
     "execution_count": 34,
     "metadata": {},
     "output_type": "execute_result"
    }
   ],
   "source": [
    "a.shape"
   ]
  },
  {
   "cell_type": "code",
   "execution_count": null,
   "metadata": {},
   "outputs": [],
   "source": []
  }
 ],
 "metadata": {
  "kernelspec": {
   "display_name": "python3.7",
   "language": "python",
   "name": "python3.7"
  },
  "language_info": {
   "codemirror_mode": {
    "name": "ipython",
    "version": 3
   },
   "file_extension": ".py",
   "mimetype": "text/x-python",
   "name": "python",
   "nbconvert_exporter": "python",
   "pygments_lexer": "ipython3",
   "version": "3.7.4"
  }
 },
 "nbformat": 4,
 "nbformat_minor": 2
}
