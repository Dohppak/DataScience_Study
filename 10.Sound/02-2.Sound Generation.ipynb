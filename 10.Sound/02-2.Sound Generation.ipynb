{
 "cells": [
  {
   "cell_type": "markdown",
   "id": "metallic-mortgage",
   "metadata": {},
   "source": [
    "# Sound Generation\n",
    "\n",
    "그렇다면 소리는 어떻게 생성이 될까요? 일반적으로 우리는 Motion이 어떤 object를 떨리게 만들어서 이 진동으로 소리가 생성되는 시스템을 떠올릴수 있습니다. 이것을 음악적인 악기에 비교한다면, Motion은 우리가 악기를 연주하는 것이 되고, String, Pipe, Membrane, Bar과 같은 악기에서 특정한 소리를 생성하는 것이라고 떠올릴 수 있습니다. 그렇다면 연주하는 것은 무엇일까요? 보통 Plucking이나 Striking등의 momentary force와, 혹은 Bowing, Blowing등의 contunuous force로 나누어 질수 있습니다. 이러한 연주의 특징도 또한 음악에 영향을 끼치게 됩니다. \n",
    "\n",
    "\n",
    "### Propertiy of Waves\n",
    "1-dimensional ideal string vibration 케이스를 떠올려봅시다. 그렇다면 우리는 하나의 기타줄을 팅겨서 소리가 나오는 현상을 살펴볼수 있습니다. 여기서 우리는 두가지 컨디션을 가지고 시작하게 되는데 바로 Boundary Condition과 Inital Condition이 그것입니다. Boundary Condition의 경우는 줄의 길이고, Inital Condition은 우리가 Plucking을 하는 위치라고 생각하면 됩니다. 이 컨디션으로 소리의 파형은 Wave Equation에 의해서 진행됩니다. 정리해보면 파형의 property는 크게 Wave Equation, Boundary Condtion, Inital Condition으로 정의될수 있으면 이것들은 각각 Propagation, Reflection and Superpostion, 그리고 Modes와 Standing Waves들을 표현합니다.\n",
    "\n",
    "Mathematics | Properties of Waves\n",
    ":---:|:---:\n",
    "Wave Equation | Propagation\n",
    "Boundary Condition | Reflection and Superposition\n",
    "Initial Condition | Modes and Standing Waves\n",
    "\n",
    "\n",
    "### Wave Equation\n",
    "우리가 1D String의 파형을 $x$와 시간 $t$에 대한 식 $y(x,t)$라고 정의할때:\n",
    "$$\n",
    "K \\frac{\\delta^2 y}{\\delta^2 x^2} = \\epsilon \\frac{\\delta^2 y}{\\delta^2 t^2}\n",
    "$$\n",
    "\n",
    "위 Wave equation은 물리학에서 가장 일반적인 공식인 $F=ma$에 의해서 파생되었습니다. 정확히 위 식의 좌변과 우변이라고 생각하시면 됩니다. 위 식에서 $K$는 Stiffness입니다. 즉 String의 재료가 무엇인지에 따라서 결정되는 변수죠. $\\delta$는 얼마나 String이 구부러지는지에 대한 식입니다. 이러한 힘 $F$는 Kinatic Motion으로 설명됩니다. 바로 Linear mass density인 $\\epsilon$과 Acceleration을 나타내는 식에 의해서죠. 이때 Wave의 속도는 $\\sqrt{\\frac{K}{\\epsilon}}$ 로 결정됩니다. "
   ]
  },
  {
   "cell_type": "markdown",
   "id": "authentic-compromise",
   "metadata": {},
   "source": [
    "### General Solution of Wave Equation\n",
    "\n",
    "가장 일반적인 Wave Equation의 해석 방식은 leftward-moving waveform 과 rightward-moving waveform 의 결합입니다. 이 두개는 travling wave 성질을 가집니다. 즉 파형의 성질은 유지된다는 것입니다. 가장한 중요한 것은 이 wave equation은 propagation을 설명해준다는 것입니다.\n",
    "$$\n",
    "y(x,t+\\Delta t) = y(x-\\Delta x, t)\n",
    "$$"
   ]
  },
  {
   "cell_type": "markdown",
   "id": "adapted-cross",
   "metadata": {},
   "source": [
    "### Wave Reflection\n",
    "\n",
    "Reflection은 momentum and energy로 표현이 가능합니다. 만약에 기타줄의 Wave Pulse가 쭉 진행되다가 기타의 bridge를 만나게 된다면, incident wave가 flipped 되거나, mirror됩니다.\n",
    "\n",
    "### Wave Superposition\n",
    "\n",
    "두개의 Traveling wave가 "
   ]
  },
  {
   "cell_type": "code",
   "execution_count": null,
   "id": "static-lindsay",
   "metadata": {},
   "outputs": [],
   "source": []
  }
 ],
 "metadata": {
  "kernelspec": {
   "display_name": "Python 3",
   "language": "python",
   "name": "python3"
  },
  "language_info": {
   "codemirror_mode": {
    "name": "ipython",
    "version": 3
   },
   "file_extension": ".py",
   "mimetype": "text/x-python",
   "name": "python",
   "nbconvert_exporter": "python",
   "pygments_lexer": "ipython3",
   "version": "3.9.1"
  }
 },
 "nbformat": 4,
 "nbformat_minor": 5
}
