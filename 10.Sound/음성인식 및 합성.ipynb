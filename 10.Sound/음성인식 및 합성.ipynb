{
 "cells": [
  {
   "cell_type": "markdown",
   "metadata": {},
   "source": [
    "- https://www.korean.go.kr/nkview/nklife/2017_4/27_0405.pdf\n",
    "- https://www.kakaobrain.com/blog/16\n",
    "- https://arxiv.org/pdf/1703.10135.pdf"
   ]
  },
  {
   "cell_type": "markdown",
   "metadata": {},
   "source": [
    "### 음성 인식 요소 기술\n",
    "\n",
    "음성인식은 음향학적 관점과 언어학적 관점의 방향으로 나누어진다. 음향학적 관점에는 화자, 배경 잡음, 마이크로폰 등의 다양한 환경을 나타내는 데이터를 활용할 수 있고, 언어학적 관점에서는 어휘, 문법, 문맥 등을 모델링하기 위한 많은 데이터 및 언어 정보를 정확하게 추출하여 지식 정보를 활용할 수 있다.\n",
    "\n",
    "음성 인식 시스템은 크게 음성/언어 데이터로부터 인식 네트워크 모델을 생성하는 오프라인 학습 단계와 사용자가 발성한 음성을 인식하는 온라인 탐색 단계로 나눠 볼 수 있다. 음성 인식 엔진은 크게 음성과 언어 정보라는 중요한 사전 지식을 사용해 음성 신호로부터 문자 정보를 출력하게 되는데, 이때 개념적으로 음성 신호를 문자 기호로 해석한다는 차원에서 음성인식 알고리즘을 디코더라고 부르기도 한다. 디코딩 단계에서는 학습 단계인 음향모델, 언어모델 그리고 발음 사전을 이용하여 입력된 특징 벡터를 모델과 비교, 스코어링을 하여 단어 열을 최종 결정하게 된다.\n"
   ]
  },
  {
   "cell_type": "code",
   "execution_count": null,
   "metadata": {},
   "outputs": [],
   "source": []
  }
 ],
 "metadata": {
  "kernelspec": {
   "display_name": "Python 3",
   "language": "python",
   "name": "python3"
  },
  "language_info": {
   "codemirror_mode": {
    "name": "ipython",
    "version": 3
   },
   "file_extension": ".py",
   "mimetype": "text/x-python",
   "name": "python",
   "nbconvert_exporter": "python",
   "pygments_lexer": "ipython3",
   "version": "3.7.4"
  }
 },
 "nbformat": 4,
 "nbformat_minor": 2
}
