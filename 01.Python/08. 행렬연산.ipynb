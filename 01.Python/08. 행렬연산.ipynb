{
 "cells": [
  {
   "cell_type": "markdown",
   "metadata": {},
   "source": [
    "- http://isystems.unist.ac.kr/teaching/machine-learning/\n",
    "- http://darkpgmr.tistory.com/105\n",
    "- https://wikidocs.net/4050"
   ]
  },
  {
   "cell_type": "markdown",
   "metadata": {},
   "source": [
    "## Matrix(행렬)\n",
    "\n",
    "행렬은 같은 차원의 백터를 모아둔 것입니다. 기하학적 의미에서는 두개의 백터를 한번에 표현한 것이기도 합니다. 또한 nxn 행렬은 n차원 공간에서 선형변환을 이야기하기도 하죠. \n",
    "\n",
    "$$\n",
    "A =\n",
    "\\begin{bmatrix}\n",
    "\\mid&\\mid&&\\mid\\\\\n",
    "a_{1} & a_{2} & \\cdots & a_{n}\\\\\n",
    "\\mid&\\mid&&\\mid\\\\\n",
    "\\end{bmatrix}\n",
    "$$\n"
   ]
  },
  {
   "cell_type": "markdown",
   "metadata": {},
   "source": [
    "## Matrix-Vector Product\n",
    "$$\n",
    "A \\in \\mathbb{R}^{m \\times n}, x \\in \\mathbb{R}^{n} \\Longleftrightarrow Ax \\in \\mathbb{R}^{m}\n",
    "$$\n",
    "\n",
    "<br/>\n",
    "Writing $A$ by rows, each entry of $Ax$ is an inner product between $x$ and a row of $A$\n",
    "<br/>\n",
    "\n",
    "$$\n",
    "A =\n",
    "\\begin{bmatrix}\n",
    "- &b_{1}^{T} & - \\\\\n",
    "-& b_{2}^{T}&-  \\\\\n",
    "&\\vdots& \\\\\n",
    "-& b_{m}^{T}&- \n",
    "\\end{bmatrix}\n",
    ",\\qquad\n",
    "Ax \\in \\mathbb{R}^{m} =\n",
    "\\begin{bmatrix}\n",
    "b_{1}^{T}x \\\\\n",
    "b_{2}^{T}x \\\\\n",
    "\\vdots \\\\\n",
    "b_{m}^{T}x\n",
    "\\end{bmatrix}\n",
    "$$\n",
    "\n",
    "<br/>\n",
    "Writing $A$ by columns, $Ax$ is a linear combination of the columns of $A$, with coefficients given by $x$\n",
    "<br/>\n",
    "\n",
    "$$\n",
    "A =\n",
    "\\begin{bmatrix}\n",
    "\\mid&\\mid&&\\mid\\\\\n",
    "a_{1} & a_{2} & \\cdots & a_{n}\\\\\n",
    "\\mid&\\mid&&\\mid\\\\\n",
    "\\end{bmatrix}\n",
    ",\\qquad\n",
    "Ax \\in \\mathbb{R}^{m} = \\sum\\limits_{i=1}^{n}a_{i}x_{i}\n",
    "$$"
   ]
  },
  {
   "cell_type": "code",
   "execution_count": 3,
   "metadata": {},
   "outputs": [],
   "source": [
    "import numpy as np"
   ]
  },
  {
   "cell_type": "code",
   "execution_count": 4,
   "metadata": {},
   "outputs": [
    {
     "name": "stdout",
     "output_type": "stream",
     "text": [
      "[[ 70  80  90]\n",
      " [158 184 210]]\n",
      "[[ 70  80  90]\n",
      " [158 184 210]]\n"
     ]
    }
   ],
   "source": [
    "a = np.array([[1,2,3,4,],[5,6,7,8]])\n",
    "b = np.array([[1,2,3],[4,5,6],[7,8,9],[10,11,12]])\n",
    "print(np.matmul(a,b))\n",
    "print(np.dot(a,b))"
   ]
  },
  {
   "cell_type": "markdown",
   "metadata": {},
   "source": [
    "## Element-wise Multiplication\n",
    "\n",
    "- element-wise 곱셈입니다.\n",
    "- multiply function and * operator"
   ]
  },
  {
   "cell_type": "code",
   "execution_count": 5,
   "metadata": {},
   "outputs": [
    {
     "name": "stdout",
     "output_type": "stream",
     "text": [
      "[[1 2 3]\n",
      " [4 5 6]]\n",
      "[[0.25 0.5  0.75]\n",
      " [1.   1.25 1.5 ]]\n",
      "-------------------\n",
      "[[0.25 1.   2.25]\n",
      " [4.   6.25 9.  ]]\n",
      "[[0.25 1.   2.25]\n",
      " [4.   6.25 9.  ]]\n",
      "===================\n",
      "[[ 4.25  5.5   6.75]\n",
      " [ 5.5   7.25  9.  ]\n",
      " [ 6.75  9.   11.25]]\n"
     ]
    }
   ],
   "source": [
    "m = np.array([[1,2,3],[4,5,6]])\n",
    "print(m)\n",
    "n = m*0.25\n",
    "print(n)\n",
    "print(\"-------------------\")\n",
    "print(m*n)\n",
    "print(np.multiply(m,n))\n",
    "print(\"===================\")\n",
    "print(m.T.dot(n))"
   ]
  },
  {
   "cell_type": "markdown",
   "metadata": {},
   "source": [
    "## Transpose\n",
    "\n",
    ".T 가능을 이용해서 전치행렬을 계산 가능합니다.\n",
    "\n",
    "- remember modified both the transpose and the original matrix, too!\n",
    "- remember to condisder the transpose just as a different view of your matrix, rather than a different matrix entirely"
   ]
  },
  {
   "cell_type": "code",
   "execution_count": 6,
   "metadata": {},
   "outputs": [],
   "source": [
    "m = np.array([[1,2,3,4],[5,6,7,8],[9,10,11,12]])\n",
    "m_t = m.T"
   ]
  },
  {
   "cell_type": "code",
   "execution_count": 7,
   "metadata": {},
   "outputs": [
    {
     "data": {
      "text/plain": [
       "array([[ 1,  2,  3,  4],\n",
       "       [ 5,  6,  7,  8],\n",
       "       [ 9, 10, 11, 12]])"
      ]
     },
     "execution_count": 7,
     "metadata": {},
     "output_type": "execute_result"
    }
   ],
   "source": [
    "m"
   ]
  },
  {
   "cell_type": "code",
   "execution_count": 8,
   "metadata": {},
   "outputs": [
    {
     "data": {
      "text/plain": [
       "array([[ 1,  5,  9],\n",
       "       [ 2,  6, 10],\n",
       "       [ 3,  7, 11],\n",
       "       [ 4,  8, 12]])"
      ]
     },
     "execution_count": 8,
     "metadata": {},
     "output_type": "execute_result"
    }
   ],
   "source": [
    "m.T"
   ]
  },
  {
   "cell_type": "markdown",
   "metadata": {},
   "source": [
    "## Diagonal Matrix \n",
    "\n",
    "- For $d = \\left[d_1,\\cdots,d_n\\right]^T\\in \\mathbb{R}^{n}$\n",
    "\n",
    "$$\n",
    "\\text{diag}(d) = \\mathbb{R}^{n \\times n} \n",
    "= \\begin{bmatrix}\n",
    "d_{1}&0&\\cdots&0 \\\\\n",
    "0&d_{2}&\\cdots&0 \\\\\n",
    "\\vdots&\\vdots&\\ddots&\\vdots\\\\\n",
    "0&0&\\cdots&d_{n} \\\\\n",
    "\\end{bmatrix}\n",
    "$$\n",
    "\n",
    "- Multiplying  $A∈\\mathbb{R}^{m \\times n}$  by a diagonal matrix  $D∈\\mathbb{R}^{n \\times n}$  on the right scales the columns of  A  \n",
    "\n",
    "$$\n",
    "AD = \n",
    "\\begin{bmatrix}\n",
    "\\mid&\\mid&&\\mid\\\\\n",
    "d_{1}a_{1} & d_{2}a_{2} & \\cdots & d_{n}a_{n}\\\\\n",
    "\\mid&\\mid&&\\mid\\\\\n",
    "\\end{bmatrix}\n",
    "$$"
   ]
  },
  {
   "cell_type": "code",
   "execution_count": 13,
   "metadata": {},
   "outputs": [
    {
     "data": {
      "text/plain": [
       "array([[10,  0,  0],\n",
       "       [ 0, 12,  0],\n",
       "       [ 0,  0, 33]])"
      ]
     },
     "execution_count": 13,
     "metadata": {},
     "output_type": "execute_result"
    }
   ],
   "source": [
    "d = np.array([10, 12, 33])\n",
    "D = np.diag(d)\n",
    "D"
   ]
  },
  {
   "cell_type": "code",
   "execution_count": 9,
   "metadata": {},
   "outputs": [
    {
     "data": {
      "text/plain": [
       "array([[1., 0.],\n",
       "       [0., 1.]])"
      ]
     },
     "execution_count": 9,
     "metadata": {},
     "output_type": "execute_result"
    }
   ],
   "source": [
    "I = np.eye(2)\n",
    "I"
   ]
  },
  {
   "cell_type": "markdown",
   "metadata": {},
   "source": [
    "## 역행렬\n",
    "\n",
    "$$\n",
    "A =\n",
    "\\begin{bmatrix}\n",
    "4 & -5 \\\\\n",
    "-2 & 3\n",
    "\\end{bmatrix}\n",
    ", \\quad\n",
    "x =\n",
    "\\begin{bmatrix}\n",
    "x_{1} \\\\\n",
    "x_{2}\n",
    "\\end{bmatrix}\n",
    ", \\quad\n",
    "b =\n",
    "\\begin{bmatrix}\n",
    "-13 \\\\\n",
    "9\n",
    "\\end{bmatrix}\n",
    "$$\n",
    "<br>\n",
    "\n",
    "\n",
    "$$\n",
    "\\begin{align*}\n",
    "Ax &= b \\\\\n",
    "A^{-1}Ax &= A^{-1}b \\\\\n",
    "x &= A^{-1}b\n",
    "\\end{align*}\n",
    "$$"
   ]
  },
  {
   "cell_type": "code",
   "execution_count": 12,
   "metadata": {},
   "outputs": [],
   "source": [
    "A = np.array([[4, -5],\n",
    "              [-2, 3]])\n",
    "b = np.array([[-13],\n",
    "              [9]])"
   ]
  },
  {
   "cell_type": "code",
   "execution_count": 13,
   "metadata": {},
   "outputs": [
    {
     "data": {
      "text/plain": [
       "array([[1.5, 2.5],\n",
       "       [1. , 2. ]])"
      ]
     },
     "execution_count": 13,
     "metadata": {},
     "output_type": "execute_result"
    }
   ],
   "source": [
    "np.linalg.inv(A)"
   ]
  },
  {
   "cell_type": "code",
   "execution_count": 11,
   "metadata": {},
   "outputs": [
    {
     "data": {
      "text/plain": [
       "array([[3.],\n",
       "       [5.]])"
      ]
     },
     "execution_count": 11,
     "metadata": {},
     "output_type": "execute_result"
    }
   ],
   "source": [
    "x = np.linalg.inv(A).dot(b)\n",
    "x"
   ]
  },
  {
   "cell_type": "markdown",
   "metadata": {},
   "source": [
    "## Linear Transformation\n",
    "\n",
    "아래 조건을 만족하는 매핑 함수 $T$를 Linear하다고 정의합니다.\n",
    "\n",
    "- 임의의 두 벡터 $v,w$에 대해 $T(v+w)=T(v)+T(w)$\n",
    "- 임의의 스칼라 $a$와 벡터 $v$에 대해 $T(av) = aT(v)$\n",
    "- 임의의 스칼라 $c,d$와 벡터 $u,v$에 대해 $T(cu+dv) = cT(u) + dT(v)$\n",
    "\n",
    "이는 $Ax=b$를 선형변환으로 이해할 수도 있습니다. 행렬 $A$ 가 $m$x$n$ 크기이고, $x$가 $n$차원, $b$가 $m$차원 벡터라고 할 때, 행렬 $A$는 $n$차원 벡터 $x$를 $m$차원 벡터 $b$로 변환하는 함수인 것입니다"
   ]
  },
  {
   "cell_type": "markdown",
   "metadata": {},
   "source": [
    "<img src=\"png/19.2.png\" width=\"500px\">"
   ]
  },
  {
   "cell_type": "markdown",
   "metadata": {},
   "source": [
    "<img style =\"float:left\" src=\"png/19.3.png\" width=\"200px\">\n",
    "\n",
    "$\n",
    "T(x)=\\begin{bmatrix} 1 & -3 \\\\ 3 & 5 \\\\ -1 & 7 \\end{bmatrix}\\begin{bmatrix} { x }_{ 1 } \\\\ { x }_{ 2 } \\end{bmatrix}\n",
    "$\n",
    "\n",
    "2차원 벡터 (2,-1)은 3차원 벡터 5,1,-9로 변환되는 것입니다."
   ]
  },
  {
   "cell_type": "markdown",
   "metadata": {},
   "source": [
    "## Matrix and Transformation\n",
    "\n",
    "원점을 이동하지 않는 선형 좌표 변환은 행렬을 곱하여 구할 수 있다.\n",
    "\n",
    "\n",
    "$$\n",
    "M=\n",
    "\\begin{bmatrix}\n",
    "m_{11} & m_{12} & m_{13}\\\\\n",
    "m_{21} & m_{22} & m_{23}\\\\\n",
    "m_{31} & m_{32} & m_{33}\\\\\n",
    "\\end{bmatrix}\n",
    "$$\n",
    "<br/>\n",
    "\n",
    "$$\n",
    "\\begin{array}\\\n",
    "\\text{Given} & & \\text{Interpret}\\\\\n",
    "\\text{Transformation} & \\longrightarrow & \\text{matrix}\\\\\n",
    "\\text{matrix} & \\longrightarrow & \\text{Transformation}\\\\\n",
    "\\end{array}\n",
    "$$\n",
    "<br/>\n",
    "\n",
    "$$\n",
    "\\begin{array}{c}\\\n",
    "\\vec x\\\\\n",
    "\\text{input}\n",
    "\\end{array}\n",
    "\\begin{array}{c}\\\n",
    "\\quad\n",
    "\\text{transformation}\\\\\n",
    "\\implies\n",
    "\\end{array}\n",
    "\\quad\n",
    "\\begin{array}{l}\n",
    "\\vec y\\\\\n",
    "\\text{output}\n",
    "\\end{array}\n",
    "$$\n",
    "<br/>\n",
    "\n",
    "$$\n",
    "\\text{Transformation = rotate + stretch/compress}\n",
    "$$"
   ]
  },
  {
   "cell_type": "markdown",
   "metadata": {},
   "source": [
    "##### Rotation\n",
    "$\n",
    "\\vec y = R(\\theta) \\vec x\n",
    "$\n",
    "<br/>\n",
    "<img style=\"float:left;\" src=\"png/linear_transform02.png\" width=\"200px\">\n",
    "<br/>\n",
    "\n",
    "<img style=\"float:left;\" src=\"png/linear_transform03.png\" width=\"200px\">\n",
    "\n",
    "\n",
    "$\n",
    "\\begin{bmatrix}\n",
    "\\cos(\\theta)\\\\\n",
    "\\sin(\\theta)\n",
    "\\end{bmatrix}=\n",
    "R(\\theta)\n",
    "\\begin{bmatrix}\n",
    "1\\\\\n",
    "0\n",
    "\\end{bmatrix}\\\\\n",
    "$\n"
   ]
  },
  {
   "cell_type": "markdown",
   "metadata": {},
   "source": [
    "##### Stretch & Compress\n",
    "<img style=\"float:left;\" src=\"png/linear_transform05.png\" width=\"300px\">\n",
    "$$\n",
    "\\begin{array}\\\\\n",
    "\\vec y = &k\\vec x\\\\\n",
    "& \\uparrow\\\\ \n",
    "& \\text{scalar (not matrix)}\\\\ \\\\\n",
    "\\vec y = &k I \\vec x  & \\text{where } I = \\text{ Identity martix}\\\\ \\\\\n",
    "\\vec y = &\\begin{bmatrix}k&0\\\\0&k\\end{bmatrix}\\vec x\n",
    "\\end{array}\n",
    "$$\n"
   ]
  },
  {
   "cell_type": "markdown",
   "metadata": {},
   "source": [
    "##### Stretch & Compress\n",
    "<img style=\"float:left;\" src=\"png/linear_transform08.png\" width=\"400px\">\n",
    "$$\n",
    "\\begin{array}{c}\\\\\n",
    "& P & \\\\\n",
    "\\begin{bmatrix}x_1\\\\x_2\\end{bmatrix} & \\implies & \\begin{bmatrix}x_1\\\\ 0\\end{bmatrix}\\\\\n",
    "\\vec x & & \\vec y\n",
    "\\end{array}\n",
    "$$\n",
    "\n",
    "$$\n",
    "\\vec y = P\\vec x = \\begin{bmatrix} 1 & 0 \\\\ 0 & 0 \\end{bmatrix}\\begin{bmatrix} x_1 \\\\ x_2 \\end{bmatrix} = \\begin{bmatrix} x_1 \\\\ 0 \\end{bmatrix}\n",
    "$$\n",
    "\n",
    "$$\n",
    "\\begin{array}\\\\\n",
    "P \\begin{bmatrix} 1 \\\\ 0 \\end{bmatrix} & = \\begin{bmatrix} 1 \\\\ 0 \\end{bmatrix}\\\\\n",
    "P \\begin{bmatrix} 0 \\\\ 1 \\end{bmatrix} & = \\begin{bmatrix} 0 \\\\ 0 \\end{bmatrix}\\\\\n",
    "P \\begin{bmatrix} 1 & 0 \\\\ 0 & 1 \\end{bmatrix} & = \\begin{bmatrix} 1 & 0 \\\\ 0 & 0 \\end{bmatrix}\n",
    "\\end{array}\n",
    "$$\n"
   ]
  },
  {
   "cell_type": "markdown",
   "metadata": {},
   "source": [
    "## 고윳값과 고유백터\n",
    "\n",
    "고유백터 : 어떠한 선형변환 A를 했을때, 그 크기만 변하고 방향이 변하지않는 벡터가 있나요?\n",
    "<br>\n",
    "고유값 : 그렇다면 그 크기는 얼마나 변한건가요?"
   ]
  },
  {
   "cell_type": "code",
   "execution_count": null,
   "metadata": {},
   "outputs": [],
   "source": []
  }
 ],
 "metadata": {
  "kernelspec": {
   "display_name": "Python 3",
   "language": "python",
   "name": "python3"
  },
  "language_info": {
   "codemirror_mode": {
    "name": "ipython",
    "version": 3
   },
   "file_extension": ".py",
   "mimetype": "text/x-python",
   "name": "python",
   "nbconvert_exporter": "python",
   "pygments_lexer": "ipython3",
   "version": "3.6.6"
  }
 },
 "nbformat": 4,
 "nbformat_minor": 2
}
