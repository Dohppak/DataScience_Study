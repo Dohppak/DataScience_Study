{
 "cells": [
  {
   "cell_type": "markdown",
   "metadata": {},
   "source": [
    "http://blog.saltfactory.net/upgrade-latest-docker-using-with-homebrew/\n",
    "<br/>\n",
    "https://hub.docker.com/r/datascienceschool/rpython/"
   ]
  },
  {
   "cell_type": "markdown",
   "metadata": {},
   "source": [
    "### 1. Docker 란?\n",
    "\n",
    "docker는 리눅스 컨테이너 환경으로 리눅스 자원을 나누어 사용하는 시스템입니다.\n",
    "<br/>\n",
    "\n",
    "필요한 모듈을 블럭처럼 만들어서 관리 및 설치, 확장들을 용이하게 하기 위함입니다.\n",
    "어느 환경에서 불러들여서 쉽게 재사용이 가능하고, 어느 환경에서도 동일한 결과를 만들어 냅니다.\n",
    "<br/>\n",
    "\n",
    "ex) 서버 작업시 설치하는 어파치, php, db설치 등등"
   ]
  },
  {
   "cell_type": "markdown",
   "metadata": {},
   "source": [
    "### 2. 셀 & 터미널\n",
    "\n",
    "- 셸 : 사용자가 글짜를 입력하여 컴퓨터에 명령할 수 있도록 하는 프로그램\n",
    "- 터미널 & 콘솔 : 셀을 실행하기 위해 글자 입력을 받아 컴퓨터에 전달하거나, 출력을 글자 화면에 쓰는 프로그램\n",
    "\n",
    "- 셸 명령\n",
    "    - ctrl + l : 화면지우기\n",
    "    - pwd : 현재 디렉토리\n",
    "    - ls -al : 디렉토리 파일명\n",
    "    - cd .. : tkddnl elfprxhfl\n",
    "    - cd ~ : 하위 디렉토리\n",
    "    - rm : 파일 지우기\n",
    "    - mkdir : 디렉토리 만들기\n",
    "    - rmdir : 디렉토리 지우기\n",
    "    - exit : 나가기"
   ]
  },
  {
   "cell_type": "code",
   "execution_count": null,
   "metadata": {},
   "outputs": [],
   "source": []
  }
 ],
 "metadata": {
  "kernelspec": {
   "display_name": "Python 3",
   "language": "python",
   "name": "python3"
  },
  "language_info": {
   "codemirror_mode": {
    "name": "ipython",
    "version": 3
   },
   "file_extension": ".py",
   "mimetype": "text/x-python",
   "name": "python",
   "nbconvert_exporter": "python",
   "pygments_lexer": "ipython3",
   "version": "3.6.5"
  }
 },
 "nbformat": 4,
 "nbformat_minor": 2
}
