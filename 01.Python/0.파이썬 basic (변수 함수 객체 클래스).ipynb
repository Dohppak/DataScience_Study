{
 "cells": [
  {
   "cell_type": "markdown",
   "metadata": {},
   "source": [
    "# 0. 파이썬 Basic\n",
    "\n",
    "- 스크립트 기반의 언어이고 플랫폼과 독립적이므로 어떤 운영체제에서도 사용가능하며, 객체 지향 및 동적 타입이라는 특성이 있습니다.\n",
    "- 수치해석 및 데이터 분석 라이브러리를 가지고 있으며, 독립실행 어플리케이션, 웹서버등 개발이 쉽고, 연동이 편하다.\n",
    "\n",
    "### 인간 다운 언어\n",
    "- 영어의 문법과 가장 유서한 언어이다.\n",
    "- 문법 자체가 사람의 사고 체계와 매우 닮아 있다.\n",
    "\n",
    "### 동적 타이핑\n",
    "- 자바는 정적 타이핑이라, 변수의 데이터 타입을 먼저 지정해야하며, 변수 타입을 바꿀 수 없다.\n",
    "- 파이썬은 동적 타이핑으로 언어나 변수의 데이터 타입을 선언할 필요가 없으며, 선언 이후에도 타입을 바꿀수 있습니다.\n"
   ]
  },
  {
   "cell_type": "markdown",
   "metadata": {},
   "source": [
    "---------------------------------------------------------------------------------------------"
   ]
  },
  {
   "cell_type": "markdown",
   "metadata": {},
   "source": [
    "## 파이썬으로 할 수 있는것?\n",
    "\n",
    "- 시스템 유틸리티 제작\n",
    "- GUI 프로그래밍\n",
    "    -  wxPython, PyQT, PyGTK, Tkinter\n",
    "- C/C++ 과 결합 가능\n",
    "    - C, C++ 의 프로그램을 파이썬에서 사용가능, 파이썬을 C, C++에서 사용가능\n",
    "- 웹 프로그래밍\n",
    "    - 장고, 플라스크를 통해 웹 어플리케이션을 만들수 있다.\n",
    "- 수치 연산 프로그래밍\n",
    "- 데이터베이스 프로그래밍\n",
    "    - 데이터베이스에 접근 가능한 도구들을 제공한다.\n",
    "- 데이터 분석, 사물 인터넷\n",
    "    - Raspberry Pi 등 리눅스 기반의 컴퓨터를 제어할때도 파이썬이 사용된다.\n",
    "\n",
    "## 파이썬으로 할 수 없는것?\n",
    "- 시스템과 밀접한 프로그램이 영역\n",
    "    - 도스나 리눅스 같은 운영체제나 엄청난 횟수나 반복과 연산을 필요로 하는 프로그램 또는 데이터 압축 알고리즘 개발 같은 것에는 어울리지 않다.\n",
    "- 모바일 프로그래밍\n",
    "    - App 개발은 불가능하다"
   ]
  },
  {
   "cell_type": "markdown",
   "metadata": {},
   "source": [
    "---------------------------------------------------------------------------------------------"
   ]
  },
  {
   "cell_type": "markdown",
   "metadata": {},
   "source": [
    "## 첫 프로그래밍 언어\n",
    "\n",
    "여러분들이 프로그래밍을 배울 때는, 언어를 통쨰로 이해하려 하지 말고,\n",
    "> 프로그래밍을 통해 해결해야 할 과제를 접근하는 방법에 대해서 알려드릴려고 합니다."
   ]
  },
  {
   "cell_type": "markdown",
   "metadata": {},
   "source": [
    "# 개발 환경\n",
    "\n",
    "#### 1. 아나콘다 설치\n",
    "아나콘다는 파이썬 배포판중 하나로 455개 정도의 기본 파이썬 패키지를 포함하고 있습니다.\n",
    "\n",
    "#### 2. Pycharm 설치\n",
    "파이참은 가장 유명한 파이썬 에디터 중 하나로 코드 작성 시 자동 완성, 문법 체크 등 편리한 기능들을 많이 제공합니다\n",
    "\n",
    "#### 3. Virtualenv 설치\n",
    "가상환경은 각각 독립적인 python 환경을 제공함으로써, 다른 python 인터 프리터 및 패키지로 사용가능합니다.\n",
    "<br/>\n",
    "1. pycharm에서 conda env 생성\n",
    "> conda create -n 가상환경이름 --clone root \n",
    "<br/>\n",
    "2. 가상환경으로 접속\n",
    "> source activate 가상환경이름\n",
    "<br>\n",
    "> conda activate python3.6\n",
    "<br/>\n",
    "> pip install 패키지 이름\n",
    "<br/>\n",
    "3. deactivate로 가상환경 나가기\n",
    "\n",
    "#### 4. Jupyter notebook & IPython\n",
    "데이터분석 시 코드블록 단위로 실행하고 결과를 확인 하면 더 좋다 (REPL(Read–Eval–Print Loop) 방식, 레플이라 읽는다)\n",
    "<br/>\n",
    "웹 브라우저를 이용하여 문서와 코드를 동시에 지원하는 개발도구 입니다. 웹서버의 형태로 구현되어있음!\n",
    "<br/>\n",
    "이렇게 마크다운 문법도 지원하여 문서 구성이 편하다, 또한 Latex 문법을 통해 수학수식또 쓸 수 있다.\n",
    "\n",
    "$$\n",
    "f\n",
    "\\begin{cases}\n",
    "abc\\\\\n",
    "cde\n",
    "\\end{cases}\n",
    "$$\n",
    "\n",
    "\n",
    "Based on the probability mass function of each source symbol to be communicated, the Shannon entropy H, in units of bits (per symbol), is given by\n",
    "\n",
    "$$\n",
    "{\\displaystyle H=-\\sum _{i}p_{i}\\log _{2}(p_{i})} {\\displaystyle H=-\\sum _{i}p_{i}\\log _{2}(p_{i})}\n",
    "$$\n"
   ]
  },
  {
   "cell_type": "markdown",
   "metadata": {},
   "source": [
    "----------------"
   ]
  },
  {
   "cell_type": "markdown",
   "metadata": {},
   "source": [
    "# 마크다운과 주석\n",
    "\n",
    "- 코드문에서 # 는 주석처리를 위해 쓰인다.\n",
    "- 마크다운은 #####을 통해 문서의 위계를 나타낼수 있게 해준다\n",
    "- 그외 특징은 다음과 같다\n",
    "\n",
    "    - commend mode 가는법 : ESC\n",
    "        - Enter : edit\n",
    "        - P : open the command palette\n",
    "        - F : Find and replace\n",
    "        - A : add cell\n",
    "        - DD : Delect sell\n",
    "        - M : Markdown\n",
    "        - Y : code mode\n",
    "        - Z : undo\n",
    "        - C : copy\n",
    "        - V : paste\n",
    "        - Shift M : Merge select cell\n",
    "    <br>\n",
    "    \n",
    "    - edit mode 가는법 :enter\n",
    "    - 줄 나누기 <br>\n",
    "    "
   ]
  },
  {
   "cell_type": "markdown",
   "metadata": {},
   "source": [
    "    빈칸 4개로 코드블럭 시작"
   ]
  },
  {
   "cell_type": "markdown",
   "metadata": {},
   "source": [
    "# h1\n",
    "## h2\n",
    "### h3\n",
    "#### h4\n",
    "##### h5\n",
    "###### h6\n",
    "\n",
    "p 태그 같은 그냥 글씨가 된다.\n",
    "\n",
    "-----------------\n",
    "\n",
    "- 1\n",
    "    - 1.1\n",
    "        - 1.1.1\n",
    "-    \n",
    "-----------------\n",
    "> 이놈들은\n",
    ">> 인용구를\n",
    ">>> 쓰는 방식입니다!\n",
    "---------------\n",
    "\n",
    "> # this is h1!\n",
    "> * list\n",
    "> `textbox`"
   ]
  },
  {
   "cell_type": "markdown",
   "metadata": {},
   "source": [
    "머리1 | 머리2 | 머리3 | 테이블 \n",
    "---- | ---- | ---- | ----\n",
    "다리 | 다리1 | 다리2 | 만들기\n",
    "금 | 의 | 환 | 향"
   ]
  },
  {
   "cell_type": "markdown",
   "metadata": {},
   "source": [
    "-------------------"
   ]
  },
  {
   "cell_type": "markdown",
   "metadata": {},
   "source": [
    "# 0.Pythonic code?\n",
    "\n",
    "파이썬의 특징은 바로, 다른 사람의 코드를 이해하기가 쉽고, 특유의 문법을 활용하여 효율적인 코드를 표현하는 기법이 있습니다.\n",
    "\n",
    "좋은 내장함수와, 짧은 표현이 가능하다. \n",
    "\n",
    "    \n",
    "- 효율\n",
    "    - 짧은 표현을 써보자\n",
    "\n",
    "- 남의 코드 이해\n",
    "    - 나와 비슷한 연구를 하는 사람들의 repository를 이해해보자.\n",
    "    \n",
    "파이썬 튜토리얼의 핵심 : 기본 코딩 개념 ++ 파이써닉 코드에 집중합니다\n"
   ]
  },
  {
   "cell_type": "code",
   "execution_count": 8,
   "metadata": {},
   "outputs": [
    {
     "data": {
      "text/plain": [
       "'abcde'"
      ]
     },
     "execution_count": 8,
     "metadata": {},
     "output_type": "execute_result"
    }
   ],
   "source": [
    "color = [\"a\",\"b\",\"c\",\"d\",\"e\"]\n",
    "result = \"\"\n",
    "\n",
    "for s in color:\n",
    "    result += s\n",
    "    \n",
    "result"
   ]
  },
  {
   "cell_type": "code",
   "execution_count": 9,
   "metadata": {},
   "outputs": [
    {
     "data": {
      "text/plain": [
       "'abcde'"
      ]
     },
     "execution_count": 9,
     "metadata": {},
     "output_type": "execute_result"
    }
   ],
   "source": [
    "result = \"\".join(color)\n",
    "result"
   ]
  },
  {
   "cell_type": "code",
   "execution_count": 2,
   "metadata": {},
   "outputs": [
    {
     "data": {
      "text/html": [
       "<iframe width=\"1000\" height=\"552\" src=\"https://www.youtube.com/embed/OOT3UIXZztE\" frameborder=\"0\" allow=\"accelerometer; autoplay; encrypted-media; gyroscope; picture-in-picture\" allowfullscreen></iframe>"
      ],
      "text/plain": [
       "<IPython.core.display.HTML object>"
      ]
     },
     "execution_count": 2,
     "metadata": {},
     "output_type": "execute_result"
    }
   ],
   "source": [
    "from IPython.display import HTML\n",
    "# Youtube\n",
    "HTML('<iframe width=\"1000\" height=\"552\" src=\"https://www.youtube.com/embed/OOT3UIXZztE\" frameborder=\"0\" allow=\"accelerometer; autoplay; encrypted-media; gyroscope; picture-in-picture\" allowfullscreen></iframe>')"
   ]
  },
  {
   "cell_type": "markdown",
   "metadata": {},
   "source": [
    "[링크넣는법](https://github.com/tensorflow/models/blob/master/research/object_detection/models/feature_map_generators.py)"
   ]
  },
  {
   "cell_type": "markdown",
   "metadata": {},
   "source": [
    "----"
   ]
  },
  {
   "cell_type": "markdown",
   "metadata": {},
   "source": [
    "# 1. 객체 (Object)\n",
    "\n",
    "#### 메모리에 저장된 자료를 객체라고 합니다\n",
    "- 프로그램이 어떤 작업을 수행하기 위해서는 두가지가 필요하다\n",
    "    - 데이터와\n",
    "    - 데이터를 조작하는 행위\n",
    "- 일반적으로 데이터는 변수(variable)에 넣어서 사용하고 데이터의 조작은 함수(function)로 구성해서 쉽게 실행시긴다.\n",
    "<br/>\n",
    "- 객체란 서로 연관된 데이터와 그 데이터 조작하기 위한 함수를 하나의 집합에 모아놓는 것을 말한다.\n",
    "\n",
    "객체지향 프로그레밍을 사용하며 우리의 일상과 비슷한 논리로 프로그램을 작성하기 떄문에 개발과 유지보수가 간편하다"
   ]
  },
  {
   "cell_type": "markdown",
   "metadata": {},
   "source": [
    "# 2. 변수(Variables)\n",
    "\n",
    "#### 객체를 저장한 공간을 변수라고 합니다. 변수의 이름이 변수명입니다\n",
    "- 프로그래밍 언어의 가장 강력한 기능은 변수를 다루는 능력이다\n",
    "- 어떠한 값을 사용할 때는 그 변수를 담아 두었다가 사용할 수 있다. 이를 할당 (Assigment)라고 한다.\n",
    "- 변수값을 할당할 때는 등호 기호를 사용하고, 좌변에는 변수를 우변에는 할당 값을 쓴다\n",
    "> 변수이름 = 할당값"
   ]
  },
  {
   "cell_type": "code",
   "execution_count": 16,
   "metadata": {},
   "outputs": [
    {
     "name": "stdout",
     "output_type": "stream",
     "text": [
      "2 지구인\n"
     ]
    }
   ],
   "source": [
    "# 주석을 쓸떄는!\n",
    "\n",
    "identity = '지구인'\n",
    "number_of_leg = 2\n",
    "\n",
    "print(number_of_leg, identity)"
   ]
  },
  {
   "cell_type": "code",
   "execution_count": 9,
   "metadata": {},
   "outputs": [
    {
     "name": "stdout",
     "output_type": "stream",
     "text": [
      "<class 'str'> python life\n",
      "life python\n"
     ]
    }
   ],
   "source": [
    "a,b =('python','life')\n",
    "print(type(a),a,b)\n",
    "\n",
    "a , b = b , a\n",
    "print(a,b)"
   ]
  },
  {
   "cell_type": "code",
   "execution_count": 10,
   "metadata": {},
   "outputs": [
    {
     "name": "stdout",
     "output_type": "stream",
     "text": [
      "a,b: [1, 4, 3] [1, 4, 3]\n"
     ]
    }
   ],
   "source": [
    "a = [1,2,3]\n",
    "b = a\n",
    "a[1]=4\n",
    "print('a,b:',a,b)"
   ]
  },
  {
   "cell_type": "markdown",
   "metadata": {},
   "source": [
    "<img src='./png/first.png' width=80%>"
   ]
  },
  {
   "cell_type": "code",
   "execution_count": 17,
   "metadata": {},
   "outputs": [
    {
     "name": "stdout",
     "output_type": "stream",
     "text": [
      "a,b: [1, 4, 3] [1, 2, 3]\n"
     ]
    }
   ],
   "source": [
    "a = [1,2,3]\n",
    "b=a.copy()\n",
    "a[1]=4\n",
    "print('a,b:',a,b)"
   ]
  },
  {
   "cell_type": "markdown",
   "metadata": {},
   "source": [
    "<img src='./png/second.png' width=50%>"
   ]
  },
  {
   "cell_type": "markdown",
   "metadata": {},
   "source": [
    "둘의 차이를 알아야한다!, 객체를 넣는 것인가? 값을 넣는 것인가?"
   ]
  },
  {
   "cell_type": "markdown",
   "metadata": {},
   "source": [
    "### 2.1. None\n",
    "\n",
    "- none 은 파이썬에서 사용하는 널값이다. 어떤 함수에서 명시적으로 값을 반환하지 않으면 묵시적으로 None 을 반환한다.\n",
    "- None은 예약어가 아니라 Nonetype의 유일한 인스턴스이다"
   ]
  }
 ],
 "metadata": {
  "kernelspec": {
   "display_name": "Python 3",
   "language": "python",
   "name": "python3"
  },
  "language_info": {
   "codemirror_mode": {
    "name": "ipython",
    "version": 3
   },
   "file_extension": ".py",
   "mimetype": "text/x-python",
   "name": "python",
   "nbconvert_exporter": "python",
   "pygments_lexer": "ipython3",
   "version": "3.6.8"
  }
 },
 "nbformat": 4,
 "nbformat_minor": 2
}
