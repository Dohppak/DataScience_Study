{
 "cells": [
  {
   "cell_type": "markdown",
   "metadata": {},
   "source": [
    "# 웹 크롤링의 이해\n",
    "\n",
    "### 1. Get 과 Post의 차이\n",
    "\n",
    "Get과 Post는 HTTP 프로토콜을 이용해서 서버에 무언가를 전달할 때 사용하는 방식입니다. \n",
    "- Get : 주소줄에 값이 ? 뒤에 쌍으로 이어붙고\n",
    "        - Body없이 Header만으로 전송된다\n",
    "        - 링크/북마크가 가능하다\n",
    "        - 요청에 길이 제한이 있다.\n",
    "        - ? 뒤에 쿼리 문자열이 온다\n",
    "        - 쿼리는 key와 value가 있으며 &로 각 쿼리를 구분한다.\n",
    "- Post : 쿼리데이터가 숨겨져서 body안에 보내진다.\n",
    "        - 링크/북마크가 불가능하다\n",
    "        - 데이터 길이에 제한이 없다\n",
    "        - URL이 없으므로 중요한 데이터를 다룰때 사용한다.\n",
    "    <br/>\n",
    "    \n",
    "- Get은 URL에 이어붙기 때문에 길이 제한이 있어서 많은 양의 데이터를 보내기 어렵고 Post는 많은 양을 보내기에도 적합하다.\n",
    "- Get은 가져오는 것이고 Post는 수행하는 것입니다.\n",
    "- Get은 Select적인 성향을 가지고 있습니다 : 서버에서 어떤 데이터를 가져와서 보여준다거나 하는 용도이지 서버의 값이나 상태등을 바꾸지 않습니다.\n",
    "- Post는 서버의 값이나 상태를 바꾸기 위해서 사용합니다."
   ]
  },
  {
   "cell_type": "markdown",
   "metadata": {},
   "source": [
    "### 2. Python 으로 HTTP request보내기\n",
    "- urlib\n",
    "        - Python built-in module\n",
    "        - 간편하게 Http request를 보낼수 있음\n",
    "        - 로그인 및 세션유지가 번거로움\n",
    "\n",
    "- Mechanize\n",
    "        - urlib 기반\n",
    "        - 세션 유지하기가 용이함\n",
    "        - 간편하게 html form을 채우고 submit올 보낼 수 있음\n",
    "        - python2 만 지원\n",
    "- Request\n",
    "        - 간편하게 http request를 보낼 수 있음\n",
    "        - 세션을 유지하기가 용이함\n",
    "        - python2 / python3 완벽지원\n",
    "        - 코드 간결하고 documentation이 잘 되어 있음"
   ]
  },
  {
   "cell_type": "markdown",
   "metadata": {},
   "source": [
    "### 3. 가공\n",
    "\n",
    "- 파싱 : 가공되지 않은 문자열에서 필요한 부분을 추출하여 의미있는 데이터로 만드는 과정\n",
    "        - 정규 표현식\n",
    "        - Beautiful soup\n",
    "        "
   ]
  },
  {
   "cell_type": "code",
   "execution_count": 2,
   "metadata": {},
   "outputs": [],
   "source": [
    "import urllib.request"
   ]
  },
  {
   "cell_type": "code",
   "execution_count": null,
   "metadata": {},
   "outputs": [],
   "source": [
    "url = 'http://konanacademy.github.io/da/'"
   ]
  }
 ],
 "metadata": {
  "kernelspec": {
   "display_name": "Python 3",
   "language": "python",
   "name": "python3"
  },
  "language_info": {
   "codemirror_mode": {
    "name": "ipython",
    "version": 3
   },
   "file_extension": ".py",
   "mimetype": "text/x-python",
   "name": "python",
   "nbconvert_exporter": "python",
   "pygments_lexer": "ipython3",
   "version": "3.6.5"
  }
 },
 "nbformat": 4,
 "nbformat_minor": 2
}
