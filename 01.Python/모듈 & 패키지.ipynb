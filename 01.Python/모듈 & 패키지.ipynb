{
 "cells": [
  {
   "cell_type": "markdown",
   "metadata": {},
   "source": [
    "### Module \n",
    "\n",
    "\n",
    "- a file containing python definitions and statements\n",
    "\n",
    "- A module can be imported in a python shell or other python scripts"
   ]
  },
  {
   "cell_type": "markdown",
   "metadata": {},
   "source": [
    "### Package \n",
    "\n",
    "\n",
    "- a way of structuring module namespance with \"dotted module names\"\n",
    "- Python package may have a hierarchical strucure"
   ]
  },
  {
   "cell_type": "markdown",
   "metadata": {},
   "source": [
    "### sys package\n",
    "- provide system-specific parameters and functions\n",
    "- Varaiable used or maintained by the python interpreter\n",
    "- functions that interact with interpreter\n",
    "\n",
    "#### Standard streams\n",
    "- Standard streams are provided by operating systems for each process\n",
    "- File objects for standard streams provided by sy\n",
    "    - stdin : used for interactive inputs\n",
    "    - stdout : used for the output of print\n",
    "    - stderr : interpreter's prompts and error messages"
   ]
  },
  {
   "cell_type": "code",
   "execution_count": 1,
   "metadata": {
    "collapsed": true
   },
   "outputs": [],
   "source": [
    "import sys\n",
    "\n",
    "for line in sys.stdin:\n",
    "    line = line.rstrip()\n",
    "    print(line)"
   ]
  },
  {
   "cell_type": "markdown",
   "metadata": {},
   "source": [
    "## How to create a module"
   ]
  },
  {
   "cell_type": "code",
   "execution_count": 2,
   "metadata": {
    "collapsed": true
   },
   "outputs": [],
   "source": [
    "def factorial(n):\n",
    "    \"\"\"Return n factorial\"\"\"\n",
    "    if n < 0 :\n",
    "        raise ValueError('factorial() is not defined for negative values')\n",
    "    \n",
    "    value = 1\n",
    "    for i in range(1, n+1):\n",
    "        value *= i\n",
    "    return value\n",
    "\n",
    "# Fibonacci Factorial Constants\n",
    "Fibonacci_factorial_constant = 1.226742010720"
   ]
  },
  {
   "cell_type": "code",
   "execution_count": 6,
   "metadata": {},
   "outputs": [
    {
     "data": {
      "text/plain": [
       "120"
      ]
     },
     "execution_count": 6,
     "metadata": {},
     "output_type": "execute_result"
    }
   ],
   "source": [
    "factorial(5)"
   ]
  },
  {
   "cell_type": "code",
   "execution_count": null,
   "metadata": {
    "collapsed": true
   },
   "outputs": [],
   "source": []
  }
 ],
 "metadata": {
  "kernelspec": {
   "display_name": "Python 3",
   "language": "python",
   "name": "python3"
  },
  "language_info": {
   "codemirror_mode": {
    "name": "ipython",
    "version": 3
   },
   "file_extension": ".py",
   "mimetype": "text/x-python",
   "name": "python",
   "nbconvert_exporter": "python",
   "pygments_lexer": "ipython3",
   "version": "3.6.3"
  }
 },
 "nbformat": 4,
 "nbformat_minor": 2
}
