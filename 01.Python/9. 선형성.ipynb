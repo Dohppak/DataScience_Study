{
 "cells": [
  {
   "cell_type": "markdown",
   "metadata": {},
   "source": [
    "# Linearity\n",
    "\n",
    "선형성이란 직선처럼 똑바른 도형, 또는 비슷한 성질을 갖는 대상입니다. 1차 다항함수, 미분, 적분 연상 등이 있습니다. 행렬과 벡터의 곱셈또한 선형성을 가지게 됩니다. \n",
    "\n",
    "\n",
    "$$ \n",
    "\\text{superposition} : f(x+y) = f(x)+ f(y)\n",
    "$$\n",
    "\n",
    "$$\n",
    "\\text{homogeneity} : f(ax) = af(x)\n",
    "$$"
   ]
  },
  {
   "cell_type": "markdown",
   "metadata": {},
   "source": [
    "##### Linear Combination?\n",
    "\n",
    "백터/행렬에 스칼라값을 곱한 후 더하거나 뺀 것을 말한다. 백터나 행렬을 선형 조합해도 크기는 변하지 않는다."
   ]
  },
  {
   "cell_type": "markdown",
   "metadata": {},
   "source": [
    "##### Linear Independence??\n",
    "\n",
    "유한한 n 개의 벡터는 선형 종속이라고 합니다\n",
    "\n",
    "<img style=\"float:left;\" src=\"png/19.1.png\" width=\"200px\">\n",
    "$\n",
    "\\text{선형 종속이란}\\quad S=\\left\\{ { v }_{ 1 },{ v }_{ 2 },...,{ v }_{ n } \\right\\} 에\\quad 대해\\\\{ c }_{ 1 }{ v }_{ 1 }+{ c }_{ 2 }{ v }_{ 2 }+...+{ c }_{ n }=0을\\quad만족하는\\\\0이\\quad 아닌\\quad { c }_{ 1 },{ c }_{ 2 },...,{ c }_{ n }이\\quad존재한다\\\\\n",
    "$\n",
    "\n",
    "$\n",
    "\\text{선형 독립이란}\\quad 반대로\\quad c가\\quad 모두\\quad0일\\quad때\n",
    "$\n",
    "<br/>\n",
    "\n",
    "그 정의에 의해 동차선형방정식(homogeneous linear equation) Ax=0가 자명해(x=0)를 유일한 해로 가질 때 계수행렬(coefficient matrix) A의 열벡터(column vector)들은 서로 선형독립입니다."
   ]
  },
  {
   "cell_type": "markdown",
   "metadata": {},
   "source": [
    "##### Linear Transformation\n",
    "\n",
    "아래 조건을 만족하는 매핑 함수 $T$를 Linear하다고 정의합니다.\n",
    "\n",
    "- 임의의 두 벡터 $v,w$에 대해 $T(v+w)=T(v)+T(w)$\n",
    "- 임의의 스칼라 $a$와 벡터 $v$에 대해 $T(av) = aT(v)$\n",
    "- 임의의 스칼라 $c,d$와 벡터 $u,v$에 대해 $T(cu+dv) = cT(u) + dT(v)$\n",
    "\n",
    "이는 $Ax=b$를 선형변환으로 이해할 수도 있습니다. 행렬 $A$ 가 $m$x$n$ 크기이고, $x$가 $n$차원, $b$가 $m$차원 벡터라고 할 때, 행렬 $A$는 $n$차원 벡터 $x$를 $m$차원 벡터 $b$로 변환하는 함수인 것입니다"
   ]
  },
  {
   "cell_type": "markdown",
   "metadata": {},
   "source": [
    "<img src=\"png/19.2.png\" width=\"500px\">"
   ]
  },
  {
   "cell_type": "markdown",
   "metadata": {},
   "source": [
    "<img style =\"float:left\" src=\"png/19.3.png\" width=\"200px\">\n",
    "\n",
    "$\n",
    "T(x)=\\begin{bmatrix} 1 & -3 \\\\ 3 & 5 \\\\ -1 & 7 \\end{bmatrix}\\begin{bmatrix} { x }_{ 1 } \\\\ { x }_{ 2 } \\end{bmatrix}\n",
    "$\n",
    "\n",
    "2차원 벡터 (2,-1)은 3차원 벡터 5,1,-9로 변환되는 것입니다."
   ]
  },
  {
   "cell_type": "markdown",
   "metadata": {},
   "source": [
    "##### Matrix and Transformation\n",
    "\n",
    "> 원점을 이동하지 않는 선형 좌표 변환은 행렬을 곱하여 구할 수 있다.\n",
    "\n",
    "\n",
    "$$\n",
    "M=\n",
    "\\begin{bmatrix}\n",
    "m_{11} & m_{12} & m_{13}\\\\\n",
    "m_{21} & m_{22} & m_{23}\\\\\n",
    "m_{31} & m_{32} & m_{33}\\\\\n",
    "\\end{bmatrix}\n",
    "$$\n",
    "<br/>\n",
    "\n",
    "$$\n",
    "\\begin{array}\\\n",
    "\\vec y& = &M \\vec x\\\\\n",
    "\\begin{bmatrix}\\space \\\\ \\space \\\\ \\space \\end{bmatrix} & = &\\begin{bmatrix} &  & \\\\ &  & \\\\ &  &\\end{bmatrix}\\begin{bmatrix} \\space \\\\ \\space \\\\ \\space \\end{bmatrix}\n",
    "\\end{array}\n",
    "$$\n",
    "<br/>\n",
    "\n",
    "$$\n",
    "\\begin{array}\\\n",
    "\\text{Given} & & \\text{Interpret}\\\\\n",
    "\\text{Transformation} & \\longrightarrow & \\text{matrix}\\\\\n",
    "\\text{matrix} & \\longrightarrow & \\text{Transformation}\\\\\n",
    "\\end{array}\n",
    "$$\n",
    "<br/>\n",
    "\n",
    "$$\n",
    "\\begin{array}{c}\\\n",
    "\\vec x\\\\\n",
    "\\text{input}\n",
    "\\end{array}\n",
    "\\begin{array}{c}\\\n",
    "\\quad\n",
    "\\text{transformation}\\\\\n",
    "\\implies\n",
    "\\end{array}\n",
    "\\quad\n",
    "\\begin{array}{l}\n",
    "\\vec y\\\\\n",
    "\\text{output}\n",
    "\\end{array}\n",
    "$$\n",
    "<br/>\n",
    "\n",
    "$$\n",
    "\\text{Transformation = rotate + stretch/compress}\n",
    "$$"
   ]
  },
  {
   "cell_type": "markdown",
   "metadata": {},
   "source": [
    "##### Rotation\n",
    "$\n",
    "\\vec y = R(\\theta) \\vec x\n",
    "$\n",
    "<br/>\n",
    "<img style=\"float:left;\" src=\"png/linear_transform02.png\" width=\"200px\">\n",
    "<br/>\n",
    "\n",
    "<img style=\"float:left;\" src=\"png/linear_transform03.png\" width=\"200px\">\n",
    "\n",
    "\n",
    "$\n",
    "\\begin{bmatrix}\n",
    "\\cos(\\theta)\\\\\n",
    "\\sin(\\theta)\n",
    "\\end{bmatrix}=\n",
    "R(\\theta)\n",
    "\\begin{bmatrix}\n",
    "1\\\\\n",
    "0\n",
    "\\end{bmatrix}\\\\\n",
    "$\n"
   ]
  },
  {
   "cell_type": "markdown",
   "metadata": {},
   "source": [
    "##### Stretch & Compress\n",
    "<img style=\"float:left;\" src=\"png/linear_transform05.png\" width=\"300px\">\n",
    "$$\n",
    "\\begin{array}\\\\\n",
    "\\vec y = &k\\vec x\\\\\n",
    "& \\uparrow\\\\ \n",
    "& \\text{scalar (not matrix)}\\\\ \\\\\n",
    "\\vec y = &k I \\vec x  & \\text{where } I = \\text{ Identity martix}\\\\ \\\\\n",
    "\\vec y = &\\begin{bmatrix}k&0\\\\0&k\\end{bmatrix}\\vec x\n",
    "\\end{array}\n",
    "$$\n"
   ]
  },
  {
   "cell_type": "markdown",
   "metadata": {},
   "source": [
    "##### Stretch & Compress\n",
    "<img style=\"float:left;\" src=\"png/linear_transform08.png\" width=\"400px\">\n",
    "$$\n",
    "\\begin{array}{c}\\\\\n",
    "& P & \\\\\n",
    "\\begin{bmatrix}x_1\\\\x_2\\end{bmatrix} & \\implies & \\begin{bmatrix}x_1\\\\ 0\\end{bmatrix}\\\\\n",
    "\\vec x & & \\vec y\n",
    "\\end{array}\n",
    "$$\n",
    "\n",
    "$$\n",
    "\\vec y = P\\vec x = \\begin{bmatrix} 1 & 0 \\\\ 0 & 0 \\end{bmatrix}\\begin{bmatrix} x_1 \\\\ x_2 \\end{bmatrix} = \\begin{bmatrix} x_1 \\\\ 0 \\end{bmatrix}\n",
    "$$\n",
    "\n",
    "$$\n",
    "\\begin{array}\\\\\n",
    "P \\begin{bmatrix} 1 \\\\ 0 \\end{bmatrix} & = \\begin{bmatrix} 1 \\\\ 0 \\end{bmatrix}\\\\\n",
    "P \\begin{bmatrix} 0 \\\\ 1 \\end{bmatrix} & = \\begin{bmatrix} 0 \\\\ 0 \\end{bmatrix}\\\\\n",
    "P \\begin{bmatrix} 1 & 0 \\\\ 0 & 1 \\end{bmatrix} & = \\begin{bmatrix} 1 & 0 \\\\ 0 & 0 \\end{bmatrix}\n",
    "\\end{array}\n",
    "$$\n"
   ]
  },
  {
   "cell_type": "markdown",
   "metadata": {},
   "source": [
    "##### Multiple Transformations\n",
    "\n",
    "$T_1$  : transformation 1 : $M_1$\n",
    "<br/>\n",
    "\n",
    "$T_2$ : transformation 2 : $M_2$\n",
    "<br/>\n",
    "\n",
    "$T$ : Do transforamtion 1, followed by transformation 2 \n",
    "<br/>\n",
    "$$\n",
    "\\therefore \\; M = M_2 M_1\n",
    "$$\n",
    "\n",
    "$$\n",
    "\\begin{array}{c}\\\\\n",
    "&T_1&&T_2\\\\\n",
    "\\vec x & \\longrightarrow & \\vec y & \\longrightarrow & \\vec z\\\\\n",
    "\\end{array}\n",
    "$$\n",
    "<br/>\n",
    "\n",
    "$$\n",
    "\\begin{array}\\\\\n",
    "\\vec y & = M_1\\vec x\\\\\n",
    "\\vec z & = M_2\\vec y & = M_2M_1\\vec x\\\\\n",
    "& & = M \\vec x\n",
    "\\end{array}\n",
    "$$\n"
   ]
  },
  {
   "cell_type": "code",
   "execution_count": null,
   "metadata": {},
   "outputs": [],
   "source": []
  }
 ],
 "metadata": {
  "kernelspec": {
   "display_name": "Python 3",
   "language": "python",
   "name": "python3"
  },
  "language_info": {
   "codemirror_mode": {
    "name": "ipython",
    "version": 3
   },
   "file_extension": ".py",
   "mimetype": "text/x-python",
   "name": "python",
   "nbconvert_exporter": "python",
   "pygments_lexer": "ipython3",
   "version": "3.6.6"
  }
 },
 "nbformat": 4,
 "nbformat_minor": 2
}
