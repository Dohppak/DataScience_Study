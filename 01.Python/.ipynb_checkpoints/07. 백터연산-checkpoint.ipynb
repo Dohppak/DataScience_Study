{
 "cells": [
  {
   "cell_type": "markdown",
   "metadata": {},
   "source": [
    "- https://ratsgo.github.io/linear%20algebra/2017/03/14/operations/\n",
    "- https://datascienceschool.net/view-notebook/35099ac4aea146c69cc4b3f50aec736f/"
   ]
  },
  {
   "cell_type": "code",
   "execution_count": 1,
   "metadata": {},
   "outputs": [],
   "source": [
    "import numpy as np\n",
    "import pandas as pd\n",
    "from sklearn.datasets import load_boston"
   ]
  },
  {
   "cell_type": "markdown",
   "metadata": {},
   "source": [
    "## 백터\n",
    "\n",
    "백터는 어떤 형태의 데이터를 여러개 담아논 것이라고 생각하시면 됩니다. 백터를 표현하는 방식은 행백터와 열 백터가 있습니다. 일반적으로 데이터분석에서는 행백터는 하나의 record에 대한 feature 데이터를, 열백터에서는 하나의 feature에 대한 record 데이터를 보여줍니다.\n",
    "\n",
    "$$\n",
    "X=\\begin{pmatrix} { 1 } \\\\ 3 \\\\ 5 \\end{pmatrix},\\quad Y=\\begin{pmatrix} 2 \\\\ -1 \\\\ 0 \\end{pmatrix}\n",
    "$$\n",
    "\n",
    "$$\n",
    "X+Y=\\begin{pmatrix} { 1 } \\\\ 3 \\\\ 5 \\end{pmatrix}+\\begin{pmatrix} 2 \\\\ -1 \\\\ 0 \\end{pmatrix}=\\begin{pmatrix} 3 \\\\ -2 \\\\ 5 \\end{pmatrix}\n",
    "$$"
   ]
  },
  {
   "cell_type": "markdown",
   "metadata": {},
   "source": [
    "## 백터를 도와주는 Numpy 배열\n",
    "\n",
    "넘파이는 수치해석용 파이썬 패키지이다. 다차원 배열 구조클래스인 ndarray 글래스를 지원하여 백터와 행렬을 사용하는 선형대수 계산에 주로 사용된다. 내부적으로 BLAS 와 LAPACK 라이브러리를 사용하고 있다. Numpy 배열연산은 C로 구현된 내부 반복문을 사용하기 때문에, 파이썬 반복문에 비해 속도가 빠르며 벡터화 연산을 이용하여 간단한 연산을 수행할 수 있다."
   ]
  },
  {
   "cell_type": "code",
   "execution_count": 26,
   "metadata": {},
   "outputs": [
    {
     "data": {
      "text/plain": [
       "array([1, 3, 5])"
      ]
     },
     "execution_count": 26,
     "metadata": {},
     "output_type": "execute_result"
    }
   ],
   "source": [
    "X = np.array([1,3,5])\n",
    "X"
   ]
  },
  {
   "cell_type": "code",
   "execution_count": 27,
   "metadata": {},
   "outputs": [
    {
     "data": {
      "text/plain": [
       "array([ 2, -1,  0])"
      ]
     },
     "execution_count": 27,
     "metadata": {},
     "output_type": "execute_result"
    }
   ],
   "source": [
    "Y = np.array([2,-1,0])\n",
    "Y"
   ]
  },
  {
   "cell_type": "code",
   "execution_count": 28,
   "metadata": {},
   "outputs": [
    {
     "data": {
      "text/plain": [
       "array([ 5, 10, 15])"
      ]
     },
     "execution_count": 28,
     "metadata": {},
     "output_type": "execute_result"
    }
   ],
   "source": [
    "#스칼라 곱\n",
    "X*5"
   ]
  },
  {
   "cell_type": "code",
   "execution_count": 30,
   "metadata": {},
   "outputs": [
    {
     "data": {
      "text/plain": [
       "array([3, 2, 5])"
      ]
     },
     "execution_count": 30,
     "metadata": {},
     "output_type": "execute_result"
    }
   ],
   "source": [
    "#백터 합\n",
    "X + Y"
   ]
  },
  {
   "cell_type": "markdown",
   "metadata": {},
   "source": [
    "## 데이터 분석에서 백터가 필요한 이유\n",
    "\n",
    "일반적으로 하나의 데이터 포인트를 표현할때 다양한 변수들로 표현이 됩니다(다변수). 위 데이터는 본인 소유의 주택가격을, 범죄율, 면적, 상업지구, 강가, 이산화탄소, 방의 개수, 나이, 거리, 도로 접근성, 재산세율, 학생과 교사비율, 흑인 비율, 하층계급의 비율등으로 표현하고 있습니다. \n",
    "\n",
    "- CRIM\t자치시(town) 별 1인당 범죄율\n",
    "- ZN\t25,000 평방피트를 초과하는 거주지역의 비율\n",
    "- INDUS\t비소매상업지역이 점유하고 있는 토지의 비율\n",
    "- CHAS\t찰스강에 대한 더미변수(강의 경계에 위치한 경우는 1, 아니면 0)\n",
    "- NOX\t10ppm 당 농축 일산화질소\n",
    "- RM\t주택 1가구당 평균 방의 개수\n",
    "- AGE\t1940년 이전에 건축된 소유주택\n",
    "- DIS\t5개의 보스턴 직업센터까지의 접근성 지수\n",
    "- RAD\t방사형 도로까지의 접근성 지수\n",
    "- TAX\t10,000 달러 당 재산세율\n",
    "- PTRATIO\t자치시(town)별 학생/교사 비율\n",
    "- B\t1000(Bk-0.63)^2, 여기서 Bk는 자치시별 흑인의 비율을 말함.\n",
    "- LSTAT\t모집단의 하위계층의 비율(%)\n",
    "- MEDV\t본인 소유의 주택가격(중앙값) (단위: $1,000)"
   ]
  },
  {
   "cell_type": "code",
   "execution_count": 3,
   "metadata": {},
   "outputs": [
    {
     "data": {
      "text/html": [
       "<div>\n",
       "<style scoped>\n",
       "    .dataframe tbody tr th:only-of-type {\n",
       "        vertical-align: middle;\n",
       "    }\n",
       "\n",
       "    .dataframe tbody tr th {\n",
       "        vertical-align: top;\n",
       "    }\n",
       "\n",
       "    .dataframe thead th {\n",
       "        text-align: right;\n",
       "    }\n",
       "</style>\n",
       "<table border=\"1\" class=\"dataframe\">\n",
       "  <thead>\n",
       "    <tr style=\"text-align: right;\">\n",
       "      <th></th>\n",
       "      <th>CRIM</th>\n",
       "      <th>ZN</th>\n",
       "      <th>INDUS</th>\n",
       "      <th>CHAS</th>\n",
       "      <th>NOX</th>\n",
       "      <th>RM</th>\n",
       "      <th>AGE</th>\n",
       "      <th>DIS</th>\n",
       "      <th>RAD</th>\n",
       "      <th>TAX</th>\n",
       "      <th>PTRATIO</th>\n",
       "      <th>B</th>\n",
       "      <th>LSTAT</th>\n",
       "      <th>MEDV</th>\n",
       "    </tr>\n",
       "  </thead>\n",
       "  <tbody>\n",
       "    <tr>\n",
       "      <th>0</th>\n",
       "      <td>0.00632</td>\n",
       "      <td>18.0</td>\n",
       "      <td>2.31</td>\n",
       "      <td>0.0</td>\n",
       "      <td>0.538</td>\n",
       "      <td>6.575</td>\n",
       "      <td>65.2</td>\n",
       "      <td>4.0900</td>\n",
       "      <td>1.0</td>\n",
       "      <td>296.0</td>\n",
       "      <td>15.3</td>\n",
       "      <td>396.90</td>\n",
       "      <td>4.98</td>\n",
       "      <td>24.0</td>\n",
       "    </tr>\n",
       "    <tr>\n",
       "      <th>1</th>\n",
       "      <td>0.02731</td>\n",
       "      <td>0.0</td>\n",
       "      <td>7.07</td>\n",
       "      <td>0.0</td>\n",
       "      <td>0.469</td>\n",
       "      <td>6.421</td>\n",
       "      <td>78.9</td>\n",
       "      <td>4.9671</td>\n",
       "      <td>2.0</td>\n",
       "      <td>242.0</td>\n",
       "      <td>17.8</td>\n",
       "      <td>396.90</td>\n",
       "      <td>9.14</td>\n",
       "      <td>21.6</td>\n",
       "    </tr>\n",
       "    <tr>\n",
       "      <th>2</th>\n",
       "      <td>0.02729</td>\n",
       "      <td>0.0</td>\n",
       "      <td>7.07</td>\n",
       "      <td>0.0</td>\n",
       "      <td>0.469</td>\n",
       "      <td>7.185</td>\n",
       "      <td>61.1</td>\n",
       "      <td>4.9671</td>\n",
       "      <td>2.0</td>\n",
       "      <td>242.0</td>\n",
       "      <td>17.8</td>\n",
       "      <td>392.83</td>\n",
       "      <td>4.03</td>\n",
       "      <td>34.7</td>\n",
       "    </tr>\n",
       "    <tr>\n",
       "      <th>3</th>\n",
       "      <td>0.03237</td>\n",
       "      <td>0.0</td>\n",
       "      <td>2.18</td>\n",
       "      <td>0.0</td>\n",
       "      <td>0.458</td>\n",
       "      <td>6.998</td>\n",
       "      <td>45.8</td>\n",
       "      <td>6.0622</td>\n",
       "      <td>3.0</td>\n",
       "      <td>222.0</td>\n",
       "      <td>18.7</td>\n",
       "      <td>394.63</td>\n",
       "      <td>2.94</td>\n",
       "      <td>33.4</td>\n",
       "    </tr>\n",
       "    <tr>\n",
       "      <th>4</th>\n",
       "      <td>0.06905</td>\n",
       "      <td>0.0</td>\n",
       "      <td>2.18</td>\n",
       "      <td>0.0</td>\n",
       "      <td>0.458</td>\n",
       "      <td>7.147</td>\n",
       "      <td>54.2</td>\n",
       "      <td>6.0622</td>\n",
       "      <td>3.0</td>\n",
       "      <td>222.0</td>\n",
       "      <td>18.7</td>\n",
       "      <td>396.90</td>\n",
       "      <td>5.33</td>\n",
       "      <td>36.2</td>\n",
       "    </tr>\n",
       "  </tbody>\n",
       "</table>\n",
       "</div>"
      ],
      "text/plain": [
       "      CRIM    ZN  INDUS  CHAS    NOX     RM   AGE     DIS  RAD    TAX  \\\n",
       "0  0.00632  18.0   2.31   0.0  0.538  6.575  65.2  4.0900  1.0  296.0   \n",
       "1  0.02731   0.0   7.07   0.0  0.469  6.421  78.9  4.9671  2.0  242.0   \n",
       "2  0.02729   0.0   7.07   0.0  0.469  7.185  61.1  4.9671  2.0  242.0   \n",
       "3  0.03237   0.0   2.18   0.0  0.458  6.998  45.8  6.0622  3.0  222.0   \n",
       "4  0.06905   0.0   2.18   0.0  0.458  7.147  54.2  6.0622  3.0  222.0   \n",
       "\n",
       "   PTRATIO       B  LSTAT  MEDV  \n",
       "0     15.3  396.90   4.98  24.0  \n",
       "1     17.8  396.90   9.14  21.6  \n",
       "2     17.8  392.83   4.03  34.7  \n",
       "3     18.7  394.63   2.94  33.4  \n",
       "4     18.7  396.90   5.33  36.2  "
      ]
     },
     "execution_count": 3,
     "metadata": {},
     "output_type": "execute_result"
    }
   ],
   "source": [
    "boston = load_boston()\n",
    "\n",
    "# 설명변수들을 DataFrame으로 변환\n",
    "df = pd.DataFrame(boston.data, columns = boston.feature_names)\n",
    "\n",
    "# 목적변수를 DataFrame에 추가\n",
    "df['MEDV'] = np.array(boston.target)\n",
    "df.head()"
   ]
  },
  {
   "cell_type": "code",
   "execution_count": 9,
   "metadata": {},
   "outputs": [
    {
     "data": {
      "text/plain": [
       "array([  0,  18,   2,   0,   0,   6,  65,   4,   1, 296,  15, 396,   4])"
      ]
     },
     "execution_count": 9,
     "metadata": {},
     "output_type": "execute_result"
    }
   ],
   "source": [
    "boston.data[0].astype(int)"
   ]
  },
  {
   "cell_type": "markdown",
   "metadata": {},
   "source": [
    "## 백터의 내적 (inner product)\n",
    "\n",
    "백터에서 서로 대응하는 성분끼리 곱한 다음 그것들을 모두 더한 값입니다. 내적의 기호로는 $<a,b>$ 로 나타냅니다.\n",
    "\n",
    "$$\n",
    "X=({ x }_{ 1 },{ x }_{ 2 },...,{ x }_{ n }{ ) }^{ T }\\\\ Y=({ y }_{ 1 },y_{ 2 },...,{ y }_{ n }{ ) }^{ T }\\\\ <X,Y>={ X }^{ T }Y=\\sum _{ i=1 }^{ n }{ { x }_{ i }{ y }_{ i }= } { x }_{ 1 }{ y }_{ 1 }+{ x }_{ 2 }{ y }_{ 2 }+...+{ x }_{ n }{ y }_{ n }\n",
    "$$"
   ]
  },
  {
   "cell_type": "code",
   "execution_count": 35,
   "metadata": {},
   "outputs": [
    {
     "data": {
      "text/plain": [
       "-1"
      ]
     },
     "execution_count": 35,
     "metadata": {},
     "output_type": "execute_result"
    }
   ],
   "source": [
    "np.dot(X,Y.T)"
   ]
  },
  {
   "cell_type": "markdown",
   "metadata": {},
   "source": [
    "## 백터의 길이 (norm, Length)\n",
    "\n",
    "2차원 공간에서, 삼각형의 빗변을 구하는 거리를 떠올리시면 더 쉽게 이해하실수 있습니다.\n",
    "\n",
    "$$\n",
    "Lx=\\sqrt { { x }_{ 1 }^{ 2 }+{ x }_{ 2 }^{ 2 }+...+{ x }_{ n }^{ 2 } } =\\sqrt { { X }^{ T }X }\n",
    "$$"
   ]
  },
  {
   "cell_type": "code",
   "execution_count": 46,
   "metadata": {},
   "outputs": [
    {
     "data": {
      "text/plain": [
       "array([1, 3, 5])"
      ]
     },
     "execution_count": 46,
     "metadata": {},
     "output_type": "execute_result"
    }
   ],
   "source": [
    "X"
   ]
  },
  {
   "cell_type": "code",
   "execution_count": 44,
   "metadata": {},
   "outputs": [
    {
     "data": {
      "text/plain": [
       "5.916079783099616"
      ]
     },
     "execution_count": 44,
     "metadata": {},
     "output_type": "execute_result"
    }
   ],
   "source": [
    "np.sqrt(np.dot(X.T,X))"
   ]
  },
  {
   "cell_type": "code",
   "execution_count": 36,
   "metadata": {},
   "outputs": [
    {
     "data": {
      "text/plain": [
       "5.916079783099616"
      ]
     },
     "execution_count": 36,
     "metadata": {},
     "output_type": "execute_result"
    }
   ],
   "source": [
    "#Euclidian distance\n",
    "np.linalg.norm(X, 2)"
   ]
  },
  {
   "cell_type": "code",
   "execution_count": 45,
   "metadata": {},
   "outputs": [
    {
     "data": {
      "text/plain": [
       "9.0"
      ]
     },
     "execution_count": 45,
     "metadata": {},
     "output_type": "execute_result"
    }
   ],
   "source": [
    "# L1 norm\n",
    "np.linalg.norm(X,1)"
   ]
  },
  {
   "cell_type": "code",
   "execution_count": 42,
   "metadata": {},
   "outputs": [
    {
     "data": {
      "text/plain": [
       "5.0"
      ]
     },
     "execution_count": 42,
     "metadata": {},
     "output_type": "execute_result"
    }
   ],
   "source": [
    "x = np.array([[4],\n",
    "             [3]])\n",
    "#Euclidian distance\n",
    "np.linalg.norm(x, 2)"
   ]
  },
  {
   "cell_type": "code",
   "execution_count": 43,
   "metadata": {},
   "outputs": [
    {
     "data": {
      "text/plain": [
       "7.0"
      ]
     },
     "execution_count": 43,
     "metadata": {},
     "output_type": "execute_result"
    }
   ],
   "source": [
    "# L1 norm\n",
    "np.linalg.norm(x,1)"
   ]
  },
  {
   "cell_type": "markdown",
   "metadata": {},
   "source": [
    "## 백터간 각도(Angle, theta)\n",
    "\n",
    "$$\n",
    "cos(X,Y)=\\frac { ({ x }_{ 1 }{ y }_{ 1 }+{ x }_{ 2 }{ y }_{ 2 }+...+{ x }_{ n }{ y }_{ n }) }{ Lx\\cdot Ly } =\\frac { { x }^{ T }y }{ \\sqrt { { x }^{ T }x } \\cdot \\sqrt { { y }^{ T }y }  }\n",
    "$$\n",
    "\n",
    "$$\n",
    "\\begin{align*}\n",
    "x^Ty &= \\lVert x \\rVert \\lVert y\\rVert \\cos\\theta\n",
    "\\end{align*}\n",
    "$$\n",
    "\n",
    "코사인 값은 기하학적인 의미는 x,y가 서로를 설명하는 양이라고 할 수 있다."
   ]
  },
  {
   "cell_type": "code",
   "execution_count": 57,
   "metadata": {},
   "outputs": [
    {
     "data": {
      "text/plain": [
       "(array([1, 3, 5]), array([ 2, -1,  0]))"
      ]
     },
     "execution_count": 57,
     "metadata": {},
     "output_type": "execute_result"
    }
   ],
   "source": [
    "X,Y"
   ]
  },
  {
   "cell_type": "code",
   "execution_count": 55,
   "metadata": {},
   "outputs": [
    {
     "name": "stdout",
     "output_type": "stream",
     "text": [
      "-1 5.916079783099616 2.23606797749979\n"
     ]
    }
   ],
   "source": [
    "inner = np.dot(X.T,Y)\n",
    "X_norm = np.linalg.norm(X, 2)\n",
    "Y_norm = np.linalg.norm(Y, 2)\n",
    "print(inner,X_norm,Y_norm)"
   ]
  },
  {
   "cell_type": "code",
   "execution_count": 58,
   "metadata": {},
   "outputs": [
    {
     "data": {
      "text/plain": [
       "-0.07559289460184544"
      ]
     },
     "execution_count": 58,
     "metadata": {},
     "output_type": "execute_result"
    }
   ],
   "source": [
    "cos = inner/(X_norm*Y_norm)\n",
    "cos"
   ]
  },
  {
   "cell_type": "markdown",
   "metadata": {},
   "source": [
    "## 백터의 사영(Projection)\n",
    "\n",
    "백터 x를 y에 사영한 결과는 다음과 같습니다. 백터의 내적은 기하학적으로 x의 y로의 projection에 y의 크기를 곱한것 이라고도 해석이 가능하다.\n",
    "<br>\n",
    "\n",
    "이는 다르게 해석하면 x의 변화를 y가 얼마나 설명해 줄 수 있는가?\n",
    "$$\n",
    "y=\\frac { { x }^{ T }y }{ { y }^{ T }y } \\cdot y\n",
    "$$"
   ]
  },
  {
   "cell_type": "markdown",
   "metadata": {},
   "source": [
    "![png](png/theta.png)"
   ]
  },
  {
   "cell_type": "code",
   "execution_count": null,
   "metadata": {},
   "outputs": [],
   "source": []
  }
 ],
 "metadata": {
  "kernelspec": {
   "display_name": "python3.6",
   "language": "python",
   "name": "python3.6"
  },
  "language_info": {
   "codemirror_mode": {
    "name": "ipython",
    "version": 3
   },
   "file_extension": ".py",
   "mimetype": "text/x-python",
   "name": "python",
   "nbconvert_exporter": "python",
   "pygments_lexer": "ipython3",
   "version": "3.6.6"
  }
 },
 "nbformat": 4,
 "nbformat_minor": 2
}
