{
 "cells": [
  {
   "cell_type": "markdown",
   "metadata": {},
   "source": [
    "인공지능을 위한 기초수학 코드 튜토리얼 (작성자 도승헌)\n",
    "\n",
    "참고 레퍼런스\n",
    "- http://codepractice.tistory.com/75?category=885676\n",
    "- https://wikidocs.net/6998\n",
    "- http://studymake.tistory.com/29\n",
    "- https://datascienceschool.net/view-notebook/5f5f4a966f9042efa43d711008df9c0b/"
   ]
  },
  {
   "cell_type": "markdown",
   "metadata": {},
   "source": [
    "## Sympy 란?\n",
    "\n",
    "\n",
    "CAS (Computer Algebra System)의 일종으로, 미적분을 지원하는 라이브러리로 유명하다.\n",
    "\n",
    "컴퓨터는 원래 수치 계산(numerical calcuation)을 빠르고 정확하게 수행할 목적으로 개발되었다. 수치 계산과는 다르게 기호식 계산(symbolic calculation)은 대수 기호가 들어간 수식을 다루는 것으로서 유한수로 정확히 표현되지 못하는 무리수를 기호로 표현하거나 또는 대수 기호가 포함된 방정식 등을 다루는 것이다. "
   ]
  },
  {
   "cell_type": "markdown",
   "metadata": {},
   "source": [
    "## 1. 함수의 극한\n",
    "\n",
    "Limit() 함수 파라미터 소개\n",
    "- 극한을 구하기 위한 함수, $\\dfrac{1}{x}$\n",
    "- 두번째는 변수 $x$\n",
    "- 세번째는 변수가 다가가는 값이다. $\\infty$\n",
    "\n",
    "Sympy 의 심볼릭 연산\n",
    "\n",
    "- a = symbols(‘a’, integer = True) #정수\n",
    "- b = symbols(‘b’, real = True) #실수\n",
    "- c = symbols(‘c’, complex = True) #복소수\n",
    "- d = symbols(‘d’, positive = True) #양수로 정의\n",
    "- f, g, h = symbols(‘f g h’, cls=Function) #함수 기호로 정의"
   ]
  },
  {
   "cell_type": "code",
   "execution_count": 2,
   "metadata": {},
   "outputs": [],
   "source": [
    "from sympy import Limit, S, Symbol"
   ]
  },
  {
   "cell_type": "code",
   "execution_count": 3,
   "metadata": {},
   "outputs": [
    {
     "data": {
      "text/plain": [
       "Limit(1/x, x, oo, dir='-')"
      ]
     },
     "execution_count": 3,
     "metadata": {},
     "output_type": "execute_result"
    }
   ],
   "source": [
    "x= Symbol('x')\n",
    "Limit(1/x, x, S.Infinity)"
   ]
  },
  {
   "cell_type": "code",
   "execution_count": 4,
   "metadata": {},
   "outputs": [
    {
     "data": {
      "text/plain": [
       "0"
      ]
     },
     "execution_count": 4,
     "metadata": {},
     "output_type": "execute_result"
    }
   ],
   "source": [
    "Limit(1/x, x, S.Infinity).doit()"
   ]
  },
  {
   "cell_type": "code",
   "execution_count": 5,
   "metadata": {},
   "outputs": [
    {
     "data": {
      "text/plain": [
       "oo"
      ]
     },
     "execution_count": 5,
     "metadata": {},
     "output_type": "execute_result"
    }
   ],
   "source": [
    "# 우극한\n",
    "Limit(1/x, x, 0).doit()"
   ]
  },
  {
   "cell_type": "code",
   "execution_count": 6,
   "metadata": {},
   "outputs": [
    {
     "data": {
      "text/plain": [
       "-oo"
      ]
     },
     "execution_count": 6,
     "metadata": {},
     "output_type": "execute_result"
    }
   ],
   "source": [
    "# 좌극한\n",
    "Limit(1/x, x, 0, dir='-').doit()"
   ]
  },
  {
   "cell_type": "markdown",
   "metadata": {},
   "source": [
    "# 2. 미분계수와 함수의 미분\n",
    "\n",
    "\n",
    "함수 $f(x)$의 $x=a$ 에서의 순간변화율(=미분계수)를 $f'(a)$구해보자.\n",
    "\n",
    "$$\n",
    "\\begin{split} f'(a) &= \\lim \\limits_{x \\to a} \\dfrac{f(x)-f(a)}{x-a} \\\\ &= \\lim \\limits_{h \\to 0} \\dfrac{f(a+h)-f(a)}{h} \\end{split}\n",
    "$$"
   ]
  },
  {
   "cell_type": "markdown",
   "metadata": {},
   "source": [
    "### 기본 미분 공식\n",
    "\n",
    "- 상수를 미분하면 0이 된다\n",
    "$$\n",
    "\\dfrac{d}{dx}(c) = 0\n",
    "$$\n",
    "- 거듭제곱을 미분하면, 제곱수가 감소하고, 계수에 제곱수가 붙는다.\n",
    "$$\n",
    "\\dfrac{d}{dx}(x^n) = n x^{n-1}\n",
    "$$\n",
    "- 로그를 미분하면 1/x가 된다\n",
    "$$\n",
    "\\dfrac{d}{dx}(\\log x) = \\dfrac{1}{x}\n",
    "$$\n",
    "- 지수함수는 미분해도 변하는 값이 없다\n",
    "$$\n",
    "\\dfrac{d}{dx}(e^x) = e^x\n",
    "$$\n",
    "- 함수의 선형조합의 미분은, 도함수의 선형조합과 같다\n",
    "$$\n",
    "\\dfrac{d}{dx}\\left(c_1 f_1 + c_2 f_2 \\right) = c_1 \\dfrac{df_1}{dx} + c_2 \\dfrac{df_2}{dx}\n",
    "$$\n",
    "- 곱셈법칙\n",
    "$$\n",
    "\\dfrac{d}{dx}\\left( f  \\cdot g \\right) = f \\cdot  \\dfrac{dg}{dx} + \\dfrac{df}{dx} \\cdot g\n",
    "$$\n",
    "- Chain rule\n",
    "<br>\n",
    "미분하고자 하는 함수의 힙력변수가 다른 함수의 출력 변수 인 경우 적용이 가능하다.\n",
    "$$\n",
    "f(x) = h(g(x))\n",
    "$$\n",
    "\n",
    "$$\n",
    "\\dfrac{df}{dx} = \\dfrac{dh}{dg} \\cdot \\dfrac{dg}{dx}\n",
    "$$\n"
   ]
  },
  {
   "cell_type": "markdown",
   "metadata": {},
   "source": [
    "또한 Derivative() 클래스를 이용하여 클래스 객체를 먼저 생성한 후 .doit() 메소드로 실행할 수 있다. 다음가 같은 예제로 풀어보자\n",
    "\n",
    "$$\n",
    "f(x)=3x^2-4x+1\n",
    "$$"
   ]
  },
  {
   "cell_type": "code",
   "execution_count": 7,
   "metadata": {},
   "outputs": [],
   "source": [
    "from sympy import symbols, Limit \n",
    "x, a, h = symbols('x, a, h')\n",
    "fx = 3 * x ** 2 - 4 * x + 1 "
   ]
  },
  {
   "cell_type": "code",
   "execution_count": 8,
   "metadata": {},
   "outputs": [],
   "source": [
    "# 함수 f(x) 를 정의 \n",
    "fxa = fx.subs({x:a}) "
   ]
  },
  {
   "cell_type": "code",
   "execution_count": 9,
   "metadata": {},
   "outputs": [],
   "source": [
    "# 함수 f(x) 에 x=a 를 대입\n",
    "fxh = fx.subs({x: a+h}) "
   ]
  },
  {
   "cell_type": "code",
   "execution_count": 78,
   "metadata": {},
   "outputs": [
    {
     "data": {
      "text/plain": [
       "6*a - 4"
      ]
     },
     "execution_count": 78,
     "metadata": {},
     "output_type": "execute_result"
    }
   ],
   "source": [
    "# 함수 f(x) 에 x=a+h 를 대입 \n",
    "Limit((fxh-fxa)/h, h, 0).doit() "
   ]
  },
  {
   "cell_type": "code",
   "execution_count": 12,
   "metadata": {},
   "outputs": [],
   "source": [
    "from sympy import Derivative\n",
    "\n",
    "derivative = Derivative(fx, x).doit()"
   ]
  },
  {
   "cell_type": "code",
   "execution_count": 13,
   "metadata": {},
   "outputs": [
    {
     "data": {
      "text/plain": [
       "6*x - 4"
      ]
     },
     "execution_count": 13,
     "metadata": {},
     "output_type": "execute_result"
    }
   ],
   "source": [
    "derivative"
   ]
  },
  {
   "cell_type": "markdown",
   "metadata": {},
   "source": [
    "Derivative 객체로 할수 있는 것!\n",
    "\n",
    "- Derivative(함수, 변수, 계도)\n",
    "- Subs() 매서드를 활용하여, 특정 x 포인트에서의 미분계수를 구할 수 있다."
   ]
  },
  {
   "cell_type": "code",
   "execution_count": 14,
   "metadata": {},
   "outputs": [],
   "source": [
    "x, a, h = symbols('x, a, h') \n",
    "fx = 3 * x ** 2 - 4 * x + 1 "
   ]
  },
  {
   "cell_type": "code",
   "execution_count": 15,
   "metadata": {},
   "outputs": [
    {
     "data": {
      "text/plain": [
       "8"
      ]
     },
     "execution_count": 15,
     "metadata": {},
     "output_type": "execute_result"
    }
   ],
   "source": [
    "derivative = Derivative(fx, x).doit()\n",
    "derivative.doit().subs({x:2})"
   ]
  },
  {
   "cell_type": "markdown",
   "metadata": {},
   "source": [
    "__diff__ 를 활용한 미분\n",
    "\n",
    "class를 호출하지않고 빠르게 할 수 있다."
   ]
  },
  {
   "cell_type": "code",
   "execution_count": 16,
   "metadata": {},
   "outputs": [],
   "source": [
    "from sympy import *"
   ]
  },
  {
   "cell_type": "code",
   "execution_count": 17,
   "metadata": {},
   "outputs": [],
   "source": [
    "x, y, z, t=symbols('x, y, z, t') \n",
    "k, m, n=symbols('k, m, n', integer=True)\n",
    "f, g, h=symbols('f,g,h', cls=Function)"
   ]
  },
  {
   "cell_type": "code",
   "execution_count": 22,
   "metadata": {},
   "outputs": [
    {
     "data": {
      "text/plain": [
       "exp(x)"
      ]
     },
     "execution_count": 22,
     "metadata": {},
     "output_type": "execute_result"
    }
   ],
   "source": [
    "cosdiff = diff(exp(x), x)\n",
    "cosdiff"
   ]
  },
  {
   "cell_type": "markdown",
   "metadata": {},
   "source": [
    "## 3. 2차도함수와 Optimization\n",
    "\n",
    "2차 도함수는 도함수의 기울기이다. 즉 도함수의 값이 증가하면, 2차 도함수의 값은 양수이고, 도함수 값이 감소하면 2차 도함수 값은 음수이다. 2차 도함수 값이 양수인 경우 볼록(convex) 케이스라고 하며, 2차도함수 값이 음수인 경우 오목(concave)하다고 한다. 2차 도함수 값은 일반적으로 convexity라고 불린다."
   ]
  },
  {
   "cell_type": "code",
   "execution_count": 56,
   "metadata": {},
   "outputs": [],
   "source": [
    "from sympy import solve"
   ]
  },
  {
   "cell_type": "code",
   "execution_count": 57,
   "metadata": {},
   "outputs": [],
   "source": [
    "# 함수를 정의\n",
    "f = 3 * x**3 + 2*x**2 - 5*x + 1"
   ]
  },
  {
   "cell_type": "code",
   "execution_count": 59,
   "metadata": {},
   "outputs": [
    {
     "data": {
      "text/plain": [
       "9*x**2 + 4*x - 5"
      ]
     },
     "execution_count": 59,
     "metadata": {},
     "output_type": "execute_result"
    }
   ],
   "source": [
    "# 도함수를 정의\n",
    "derivartivel = Derivative(f,x).doit()\n",
    "derivartivel"
   ]
  },
  {
   "cell_type": "code",
   "execution_count": 36,
   "metadata": {},
   "outputs": [
    {
     "data": {
      "text/plain": [
       "[-1, 5/9]"
      ]
     },
     "execution_count": 36,
     "metadata": {},
     "output_type": "execute_result"
    }
   ],
   "source": [
    "# f'(x)의 근을 구함 list 형태\n",
    "critical = solve(derivartivel)\n",
    "critical"
   ]
  },
  {
   "cell_type": "code",
   "execution_count": 40,
   "metadata": {},
   "outputs": [],
   "source": [
    "# 2차 도함수 함수를 정의\n",
    "derivative2 = Derivative(f, x, 2).doit() \n",
    "# 도함수의 첫번째 근을 조회, 해서 부호를 파악\n",
    "derivative2sol = []\n",
    "for i in critical:\n",
    "    derivative2sol.append(derivative2.subs({x:i}))"
   ]
  },
  {
   "cell_type": "code",
   "execution_count": 41,
   "metadata": {},
   "outputs": [
    {
     "data": {
      "text/plain": [
       "[-14, 14]"
      ]
     },
     "execution_count": 41,
     "metadata": {},
     "output_type": "execute_result"
    }
   ],
   "source": [
    "# 도함수의 근을 조회\n",
    "derivative2sol"
   ]
  },
  {
   "cell_type": "code",
   "execution_count": 42,
   "metadata": {},
   "outputs": [],
   "source": [
    "sol = []\n",
    "for i in critical:\n",
    "    sol.append(f.subs({x:i}))"
   ]
  },
  {
   "cell_type": "code",
   "execution_count": 44,
   "metadata": {},
   "outputs": [
    {
     "data": {
      "text/plain": [
       "[5, -157/243]"
      ]
     },
     "execution_count": 44,
     "metadata": {},
     "output_type": "execute_result"
    }
   ],
   "source": [
    "sol"
   ]
  },
  {
   "cell_type": "markdown",
   "metadata": {},
   "source": [
    "만약 근이 무리수가 나온다면?\n",
    "\n",
    "- evalf() 매서드를 호출하면 근사값을 보여준다"
   ]
  },
  {
   "cell_type": "code",
   "execution_count": 45,
   "metadata": {},
   "outputs": [
    {
     "data": {
      "text/plain": [
       "[-2/3 + sqrt(13)/3, -sqrt(13)/3 - 2/3]"
      ]
     },
     "execution_count": 45,
     "metadata": {},
     "output_type": "execute_result"
    }
   ],
   "source": [
    "f = x**3 + 2 * x**2 - 3 * x + 1 \n",
    "derivative1 = Derivative(f, x).doit()\n",
    "critical=solve(derivative1, x) \n",
    "critical"
   ]
  },
  {
   "cell_type": "code",
   "execution_count": 46,
   "metadata": {},
   "outputs": [
    {
     "data": {
      "text/plain": [
       "0.120580253256899"
      ]
     },
     "execution_count": 46,
     "metadata": {},
     "output_type": "execute_result"
    }
   ],
   "source": [
    "f.subs({x:critical[0]}).evalf()"
   ]
  },
  {
   "cell_type": "markdown",
   "metadata": {},
   "source": [
    "## 인공지능에는 이렇게 사용된다\n",
    "\n",
    "$$\n",
    "\\begin{align}\\frac{d}{dx}sigmoid(x) & = \\frac{d}{dx}\\frac{1}{1+e^{-x}} \\\\& = \\frac{d}{dx}(1+e^{-x})^{-1} \\\\& = -(1+e^{-x})^{-2}\\cdot-e^{-x} \\\\& = \\frac{e^{-x}}{(1+e^{-x})(1+e^{-x})} \\\\& = \\frac{1}{(1+e^{-x})}\\cdot\\frac{1-1+e^{-x}}{(1+e^{-x})} \\\\& = \\frac{1}{(1+e^{-})}\\cdot[\\frac{(1+e^{-x})}{(1+e^{-x})}-\\frac{1}{(1+e^{-x})}] \\\\& = sigmoid(x)\\cdot(1-sigmoid(x))\\end{align}\n",
    "$$"
   ]
  },
  {
   "cell_type": "code",
   "execution_count": 82,
   "metadata": {},
   "outputs": [],
   "source": [
    "x, y = symbols(\"x, y\")"
   ]
  },
  {
   "cell_type": "code",
   "execution_count": 84,
   "metadata": {},
   "outputs": [
    {
     "data": {
      "text/plain": [
       "Derivative(1/(1 + exp(-x)), x)"
      ]
     },
     "execution_count": 84,
     "metadata": {},
     "output_type": "execute_result"
    }
   ],
   "source": [
    "sigmoid =1/(1+exp(-x))\n",
    "der=Derivative(sigmoid, x)\n",
    "der"
   ]
  },
  {
   "cell_type": "code",
   "execution_count": 85,
   "metadata": {},
   "outputs": [
    {
     "data": {
      "text/plain": [
       "exp(-x)/(1 + exp(-x))**2"
      ]
     },
     "execution_count": 85,
     "metadata": {},
     "output_type": "execute_result"
    }
   ],
   "source": [
    "der.doit()"
   ]
  },
  {
   "cell_type": "markdown",
   "metadata": {},
   "source": [
    "하지만 저희는 저희가 미분할일이 거의 없습니다. 논문에서 엄밀하게 검증된 모델들을 구현하고 이해하는게 목적이기 때문이죠.\n",
    "<br>\n",
    "일반적으로는 sympy를 쓰기보다는 numpy로 바로 호출시킵니다."
   ]
  },
  {
   "cell_type": "code",
   "execution_count": 23,
   "metadata": {},
   "outputs": [],
   "source": [
    "import numpy as np\n",
    "\n",
    "def sigmoid(x):\n",
    "    return 1/(1+np.exp(-x))\n",
    "\n",
    "def sigmoid_prime(x):\n",
    "    return sigmoid(x) * (1 - sigmoid(x))"
   ]
  },
  {
   "cell_type": "code",
   "execution_count": 30,
   "metadata": {},
   "outputs": [
    {
     "data": {
      "text/plain": [
       "0.9999546021312976"
      ]
     },
     "execution_count": 30,
     "metadata": {},
     "output_type": "execute_result"
    }
   ],
   "source": [
    "sigmoid(10)"
   ]
  },
  {
   "cell_type": "markdown",
   "metadata": {},
   "source": [
    "## 편미분에 대하여(multivariate calculus)\n",
    "\n",
    "지금까지는 독립변수 하나에 종속변수가 하나인 함수를 미분했지만, 편미분에서는 독립변수가 여러개에 종속변수도 여러 개일 수 있다."
   ]
  },
  {
   "cell_type": "markdown",
   "metadata": {},
   "source": [
    "![img](png/06.partial.png)"
   ]
  },
  {
   "cell_type": "markdown",
   "metadata": {},
   "source": [
    "## Gradient \n",
    "\n",
    "함수에서 미분의 개념은 기울기를 의미했습니다. 하지만 차원이 확장될 수록 이제, 그래프에게는 하나의 유일한 기울기만 존재하지 않는 경우가 발생합니다.\n",
    "<br>\n",
    "\n",
    "편미분이라는 개념이 필요한 이유는 이러한 상황에서 수직인 두 방향으로만 기울기를 구하고 싶다는 이유에서 출발한다고 합니다.\n",
    "<br>\n",
    "\n",
    "즉, f(x,y)의 x방향 만으로의 기울기와 y방향 만으로의 기울기는 각각 구할 수 는 있기 때문에 y 또는 x를 상수로 놓고 미분함으로써 x 방향 만으로의 기울기와 y 방향 만으로의 기울기를 구할 수 있습니다.\n",
    "<br>\n",
    "\n",
    "함수의 Gradient 기울기란, Scalar 로 표현되어 있는 함수에서 어떤 벡터값을 얻어내게 되어있습니다. 이는 각 독립변수의 편미분 값을 백터로 표현한 것입니다."
   ]
  },
  {
   "cell_type": "code",
   "execution_count": 72,
   "metadata": {},
   "outputs": [
    {
     "data": {
      "text/plain": [
       "x*y + exp(x)"
      ]
     },
     "execution_count": 72,
     "metadata": {},
     "output_type": "execute_result"
    }
   ],
   "source": [
    "x, y = sympy.symbols(\"x y\")\n",
    "f = sympy.exp(x) + x*y\n",
    "f"
   ]
  },
  {
   "cell_type": "code",
   "execution_count": 73,
   "metadata": {},
   "outputs": [
    {
     "data": {
      "text/plain": [
       "y + exp(x)"
      ]
     },
     "execution_count": 73,
     "metadata": {},
     "output_type": "execute_result"
    }
   ],
   "source": [
    "sympy.diff(f, x)"
   ]
  },
  {
   "cell_type": "code",
   "execution_count": 74,
   "metadata": {},
   "outputs": [
    {
     "data": {
      "text/plain": [
       "x"
      ]
     },
     "execution_count": 74,
     "metadata": {},
     "output_type": "execute_result"
    }
   ],
   "source": [
    "sympy.diff(f, y)"
   ]
  },
  {
   "cell_type": "markdown",
   "metadata": {},
   "source": [
    "### Gradient Vector\n",
    "\n",
    "일반작으로 데이터 분석할때는 함수의 출력변수가 스칼라고, 입력변수 x 가 백터인 다변수 함수를 많이 사용합니다. 이렇듯 스칼라를 백터로 미분하는 경우에 우리는 Gradient Vector를 출력하며, 이때 편미분이 사용된다."
   ]
  },
  {
   "cell_type": "markdown",
   "metadata": {},
   "source": [
    "$$\n",
    "\\nabla f = \n",
    "\\frac{\\partial f}{\\partial {x}} =\n",
    "\\begin{bmatrix}\n",
    "\\dfrac{\\partial f}{\\partial x_1}\\\\\n",
    "\\dfrac{\\partial f}{\\partial x_2}\\\\\n",
    "\\vdots\\\\\n",
    "\\dfrac{\\partial f}{\\partial x_N}\\\\\n",
    "\\end{bmatrix}\n",
    "$$"
   ]
  },
  {
   "cell_type": "markdown",
   "metadata": {},
   "source": [
    "__Tips!__\n",
    "<br>\n",
    "\n",
    "위 결과에서  $x$ 로 먼저 미분하고 나중에  $y$ 로 미분한 2차 도함수  $f_{x,y}$ 는  $y$ 로 먼저 미분하고 나중에  $x$ 로 미분한 2차 도함수  $f_{y,x}$ 와 같다. 만약 함수가 연속이고 미분가능하면 미분의 순서는 상관없다. 이를 슈와르츠 정리(Schwarz's theorem)라고 한다."
   ]
  }
 ],
 "metadata": {
  "kernelspec": {
   "display_name": "python3.6",
   "language": "python",
   "name": "python3.6"
  },
  "language_info": {
   "codemirror_mode": {
    "name": "ipython",
    "version": 3
   },
   "file_extension": ".py",
   "mimetype": "text/x-python",
   "name": "python",
   "nbconvert_exporter": "python",
   "pygments_lexer": "ipython3",
   "version": "3.6.6"
  }
 },
 "nbformat": 4,
 "nbformat_minor": 2
}
