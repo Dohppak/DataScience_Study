{
 "cells": [
  {
   "cell_type": "markdown",
   "metadata": {},
   "source": [
    "- https://wikidocs.net/4308 를 참고했음을 밝힙니다\n",
    "- https://code.i-harness.com/ko/q/188b1dc 유용한 문장분할"
   ]
  },
  {
   "cell_type": "markdown",
   "metadata": {},
   "source": [
    "### 1. 정규표현식의 기초 메타문자\n",
    "\n",
    "정규 표현식(正規表現式, 영어: regular expression, 간단히 regexp 또는 regex) 또는 정규식(正規式)은 특정한 규칙을 가진 문자열의 집합을 표현하는 데 사용하는 형식 언어이다.\n",
    "\n",
    "> . ^ $ * + ? { } [ ] \\ | ( )"
   ]
  },
  {
   "cell_type": "markdown",
   "metadata": {},
   "source": [
    "### 문자 클래스 []\n",
    "\n",
    "정규표현식이 [abc] 이라면 표현식의 의미는 \"a,b,c 중 하나의 문자와의 매치\"를 뜻한다.\n",
    "<br/>\n",
    "\n",
    "Ex) [abc], \"a\", \"before\", \"dude\"\n",
    "\n",
    "- \"a\"는 정규식과 일치하는 문자인 \"a\"가 있으므로 매치\n",
    "- \"b\"는 정규식과 일치하는 문자인 \"b\"가 있으므로 매치\n",
    "- \"dude\"는 정규식과 일치하는 문자인 a,b,c중 어느 하나도 포함하고 있지 않으므로 매치되지 않음"
   ]
  },
  {
   "cell_type": "markdown",
   "metadata": {},
   "source": [
    "### 문자 클래스 [ - ]\n",
    "\n",
    "[] 안의 두 문자 사이에 하이픈을 사용하게 되면 두 문자 사이의 범위(From-To)를 의미한다. 예를들어 [a-c]라는 정규표현식은 [abc]와 동이랗고 [0-5]는 [012345] 와 동일하다.\n",
    "</br>\n",
    "\n",
    "다음은 하이픈을 이용한 문자클래스의 예이다.\n",
    "- [a-zA-Z] : 알파벳 모두\n",
    "- [0-9] : 숫자\n"
   ]
  },
  {
   "cell_type": "markdown",
   "metadata": {},
   "source": [
    "### 자주 사용하는 문자 클래스\n",
    "\n",
    "[0-9], [a-zA-Z] 등은 무척 자주 사용하는 정규 표현식이다. 이러한 정규표현식들은 별도의 표기법으로 표현할 수 있다.\n",
    "\n",
    "- \\d : 숫자와 매치, [0-9]와 동일한 표현식이다.\n",
    "- \\D : 숫자 아닌것과 매치, [^0-9]와 동일한 표현식이다\n",
    "- \\s : whitespace 문자와 매치, [ \\t\\n\\r\\f\\v] 와 동일한 표현식이다. 맨 앞의 빈칸은 공백문자 (space)를 의미한다.\n",
    "- \\S : whitespace 문자와 아닌것과 매치, [^ \\t\\n\\r\\f\\v]와 동일한 표현식이다. 맨 앞의 빈칸은 공백문자를 의미한다.\n",
    "- \\w : 문자 + 숫자와 매치, [a-zA-Z0-9]와 동일한 표현식이다.\n",
    "- \\W : 문자 + 숫자가 아닌 문자와 매치 [^a-zA-Z0-9]와 동일한 표현식이다.\n"
   ]
  },
  {
   "cell_type": "markdown",
   "metadata": {},
   "source": [
    "### 기본 베타문자\n",
    "\n",
    "\n",
    "- . : 모든 문자와 일치합니다\n",
    "- [] : 대괄호 사이에 존재하는 문자들중 하나와 일치합니다\n",
    "- [^] : 대괄호 사이의 가장 첫번쨰 문자로 ^가 있을때 not 이라는 의미를 가지게 됩니다.\n",
    "- ^ : 대괄호 사이에 존재할 떄는 부정을 나타내지만, 대괄호 밖에서는 문자열의 시작과 일치합니다.\n",
    "- $ : ^와 반대로 문자열의 끝과 일치합니다\n",
    "- * : 앞에 존재하는 문자가 0번 혹은 그 이상 반복되는 문자를 찾을 때 사용합니다\n",
    "- + : 앞에 존재하는 문자가 1번 혹은 그 이상 반복되는 문자를 찾을 떄 사용합니다.\n",
    "- ? : 앞에 존재하는 문자가 있을 수도 없을 수 도 있을 때, 사용합니다."
   ]
  },
  {
   "cell_type": "markdown",
   "metadata": {},
   "source": [
    "### 간단한 표현들\n",
    "\n",
    "- Dot : \\n을 제외한 모든 문자와 매칭됨\n",
    "        - a.b = \"a+모든문자+b\"\n",
    "        - a와 b라는 문자 사이에 어떤 문자가 들어가도 모두 매치된다는 것이다.\n",
    "        - \"aab\" 가운데 문자 a는 모든 문자를 의미하는 . 과 일치함\n",
    "        - \"a0b\" 가운데 문자 0이 모든 문자를 의미하는 . 과 일치함\n",
    "        - \"abc\"는 a문자와 b문자 사이에 어떤 문자라도 있어야하므로 일치하지 않는다.\n",
    "        - a[.]b = \"a.b\"\n",
    "- \\* : 반복을 의미한다. 0번 이상 반복한다.\n",
    "        - ca*t = \"c+a*n+t\" (n>=0)\n",
    "- \\+ : +역시 반복을 의미한다. 단 1번 이상 반복한다.\n",
    "- {} : {m,n} 정규식을 사용하면 반복 횟수가 m부터 n까지 인 것을 매치할 수 있고, m 또는 n을 생략 할 수도 있다. 만약 {3,}처럼 사용한다면 3 이상인 경우고, {,3}처럼 사용하면 반복이 3이하인 것을 의미한다.\n",
    "        - ca{2}t = \"c+aa(반드시 2번 반복)+t\"\n",
    "- ? : {0,1}의 개념으로 있어도 되고 없어도 된다는 의미가 된다.\n",
    "        - ab?c = abc, ac일 경우 매치가 된다"
   ]
  },
  {
   "cell_type": "markdown",
   "metadata": {},
   "source": [
    "### 정규식을 이용한 문자열 검색\n",
    "\n",
    "이제 컴파일 된 패턴 객체를 이용하여 검색을 해보자. \n",
    "</br>\n",
    "\n",
    "패턴 객체 생성 관련, 각 개체는 모두 함수를 포함하고 있다\n",
    "\n",
    "- Match() : 문자열의 처음부터 정규식과 매치되는지 조사한다.\n",
    "- Search() : 문자열 전체를 검색하여 정규식과 매치되는지 조사한다\n",
    "- findall() : 정규식과 매치되는 모든 문자열(substring)을 리스트로 리턴한다.\n",
    "- finditer() : 정규식과 매치되는 모든 문자열(substring)을 iterator 객체로 리턴한다."
   ]
  },
  {
   "cell_type": "markdown",
   "metadata": {},
   "source": [
    "#### Match"
   ]
  },
  {
   "cell_type": "code",
   "execution_count": 3,
   "metadata": {
    "collapsed": true
   },
   "outputs": [],
   "source": [
    "import re\n",
    "p = re.compile('[a-z]+')"
   ]
  },
  {
   "cell_type": "code",
   "execution_count": 4,
   "metadata": {},
   "outputs": [
    {
     "name": "stdout",
     "output_type": "stream",
     "text": [
      "<_sre.SRE_Match object; span=(0, 6), match='python'>\n"
     ]
    }
   ],
   "source": [
    "m = p.match(\"python\")\n",
    "print(m)"
   ]
  },
  {
   "cell_type": "code",
   "execution_count": 5,
   "metadata": {},
   "outputs": [
    {
     "name": "stdout",
     "output_type": "stream",
     "text": [
      "None\n"
     ]
    }
   ],
   "source": [
    "m = p.match(\"3 python\")\n",
    "print(m)"
   ]
  },
  {
   "cell_type": "markdown",
   "metadata": {},
   "source": [
    "python 과 달리 3 python은 앞에 나오는 문자열이 [a-z]+에 부합하지않으므로 None이 리턴된다. match의 결과로 match객체 또는 None이 리턴된다"
   ]
  },
  {
   "cell_type": "markdown",
   "metadata": {},
   "source": [
    "#### Search"
   ]
  },
  {
   "cell_type": "code",
   "execution_count": 7,
   "metadata": {},
   "outputs": [
    {
     "name": "stdout",
     "output_type": "stream",
     "text": [
      "<_sre.SRE_Match object; span=(0, 6), match='python'>\n"
     ]
    }
   ],
   "source": [
    "m = p.search(\"python\")\n",
    "print(m)"
   ]
  },
  {
   "cell_type": "code",
   "execution_count": 8,
   "metadata": {},
   "outputs": [
    {
     "name": "stdout",
     "output_type": "stream",
     "text": [
      "<_sre.SRE_Match object; span=(2, 8), match='python'>\n"
     ]
    }
   ],
   "source": [
    "m = p.search(\"3 python\")\n",
    "print(m)"
   ]
  },
  {
   "cell_type": "markdown",
   "metadata": {},
   "source": [
    "Search의 경우 문자열의 처음부터 검색하는것이 아니라 문자열 전체를 검색하기 때문에 3 이후의 python이라는 문자열과 매치된다"
   ]
  },
  {
   "cell_type": "markdown",
   "metadata": {},
   "source": [
    "#### Findall & Finditer"
   ]
  },
  {
   "cell_type": "code",
   "execution_count": 10,
   "metadata": {},
   "outputs": [
    {
     "name": "stdout",
     "output_type": "stream",
     "text": [
      "['life', 'is', 'too', 'short']\n"
     ]
    }
   ],
   "source": [
    "result = p.findall(\"life is too short\")\n",
    "print(result)"
   ]
  },
  {
   "cell_type": "markdown",
   "metadata": {},
   "source": [
    "life is too short 라는 문자열의 life is too short 라는 단어들이 각각 [a-z]+ 정규식과 매치되어 리스트로 리턴된다"
   ]
  },
  {
   "cell_type": "code",
   "execution_count": 11,
   "metadata": {},
   "outputs": [
    {
     "name": "stdout",
     "output_type": "stream",
     "text": [
      "<callable_iterator object at 0x10c706be0>\n"
     ]
    }
   ],
   "source": [
    "result = p.finditer(\"life is too short\")\n",
    "print(result)"
   ]
  },
  {
   "cell_type": "code",
   "execution_count": 12,
   "metadata": {},
   "outputs": [
    {
     "name": "stdout",
     "output_type": "stream",
     "text": [
      "<_sre.SRE_Match object; span=(0, 4), match='life'>\n",
      "<_sre.SRE_Match object; span=(5, 7), match='is'>\n",
      "<_sre.SRE_Match object; span=(8, 11), match='too'>\n",
      "<_sre.SRE_Match object; span=(12, 17), match='short'>\n"
     ]
    }
   ],
   "source": [
    "for r in result:\n",
    "    print(r)"
   ]
  },
  {
   "cell_type": "markdown",
   "metadata": {},
   "source": [
    "finditer 는 findall과 동일하지만 그 결과로 반복 가능한 객체 iterator object를 리턴한다. 반복 가능한 객체가 포함되는 각가의 요소는 match 객체이다"
   ]
  },
  {
   "cell_type": "markdown",
   "metadata": {},
   "source": [
    "### Match 객체의 메서드\n",
    "\n",
    "- 어떤 문자열이 매치되었는가\n",
    "- 매치된 문자열의 인덱스는 어디서부터 어디까지인가?\n",
    "    - group() : 매치된 문자열을 리턴한다.\n",
    "    - start() : 매치된 문자열의 시작 위치를 리턴한다.\n",
    "    - end() : 매치된 문자열의 끝 위치를 리턴한다.\n",
    "    - span() : 매치된 문자열의 (시작, 끝)에 해당되는 튜플을 리턴한다."
   ]
  },
  {
   "cell_type": "code",
   "execution_count": 23,
   "metadata": {},
   "outputs": [
    {
     "data": {
      "text/plain": [
       "'python'"
      ]
     },
     "execution_count": 23,
     "metadata": {},
     "output_type": "execute_result"
    }
   ],
   "source": [
    "m = p.match(\"python\")\n",
    "m.group()"
   ]
  },
  {
   "cell_type": "code",
   "execution_count": 24,
   "metadata": {},
   "outputs": [
    {
     "data": {
      "text/plain": [
       "0"
      ]
     },
     "execution_count": 24,
     "metadata": {},
     "output_type": "execute_result"
    }
   ],
   "source": [
    "m.start()"
   ]
  },
  {
   "cell_type": "code",
   "execution_count": 25,
   "metadata": {},
   "outputs": [
    {
     "data": {
      "text/plain": [
       "6"
      ]
     },
     "execution_count": 25,
     "metadata": {},
     "output_type": "execute_result"
    }
   ],
   "source": [
    "m.end()"
   ]
  },
  {
   "cell_type": "code",
   "execution_count": 26,
   "metadata": {},
   "outputs": [
    {
     "data": {
      "text/plain": [
       "(0, 6)"
      ]
     },
     "execution_count": 26,
     "metadata": {},
     "output_type": "execute_result"
    }
   ],
   "source": [
    "m.span()"
   ]
  },
  {
   "cell_type": "code",
   "execution_count": 31,
   "metadata": {},
   "outputs": [
    {
     "data": {
      "text/plain": [
       "'python'"
      ]
     },
     "execution_count": 31,
     "metadata": {},
     "output_type": "execute_result"
    }
   ],
   "source": [
    "m = p.search(\"3 python\")\n",
    "m.group()"
   ]
  },
  {
   "cell_type": "code",
   "execution_count": 32,
   "metadata": {},
   "outputs": [
    {
     "data": {
      "text/plain": [
       "2"
      ]
     },
     "execution_count": 32,
     "metadata": {},
     "output_type": "execute_result"
    }
   ],
   "source": [
    "m.start()"
   ]
  },
  {
   "cell_type": "code",
   "execution_count": 34,
   "metadata": {},
   "outputs": [
    {
     "data": {
      "text/plain": [
       "8"
      ]
     },
     "execution_count": 34,
     "metadata": {},
     "output_type": "execute_result"
    }
   ],
   "source": [
    "m.end()"
   ]
  },
  {
   "cell_type": "code",
   "execution_count": 35,
   "metadata": {},
   "outputs": [
    {
     "data": {
      "text/plain": [
       "(2, 8)"
      ]
     },
     "execution_count": 35,
     "metadata": {},
     "output_type": "execute_result"
    }
   ],
   "source": [
    "m.span()"
   ]
  },
  {
   "cell_type": "markdown",
   "metadata": {},
   "source": [
    "### 컴파일 옵션\n",
    "\n",
    "- DOTALL : . 이 줄바꿈 문자를 포함하여 모든 문자와 매치하게 한다\n",
    "- IGNORECASE(I) : 대소문자에 관계없이 매치할 수 있도록 한다\n",
    "- MULTILINE(M) : 여러줄과 매치할수 있도록한다\n",
    "- VERBOSE(X) : verbose 모드를 사용할 수 있도록 한다."
   ]
  },
  {
   "cell_type": "code",
   "execution_count": 36,
   "metadata": {},
   "outputs": [
    {
     "name": "stdout",
     "output_type": "stream",
     "text": [
      "None\n"
     ]
    }
   ],
   "source": [
    "import re\n",
    "p =re.compile('a.b')\n",
    "m = p.match('a\\nb')\n",
    "print(m)"
   ]
  },
  {
   "cell_type": "code",
   "execution_count": 37,
   "metadata": {},
   "outputs": [
    {
     "name": "stdout",
     "output_type": "stream",
     "text": [
      "<_sre.SRE_Match object; span=(0, 3), match='a\\nb'>\n"
     ]
    }
   ],
   "source": [
    "p = re.compile('a.b', re.DOTALL)\n",
    "m = p.match('a\\nb')\n",
    "print(m)"
   ]
  },
  {
   "cell_type": "markdown",
   "metadata": {},
   "source": [
    "re.DOTALL 은 여러줄로 이루어진 문자열에서 \\n에 상관없이 검색하고자 할 경우에 많이 사용한다."
   ]
  },
  {
   "cell_type": "code",
   "execution_count": 39,
   "metadata": {},
   "outputs": [
    {
     "data": {
      "text/plain": [
       "<_sre.SRE_Match object; span=(0, 1), match='P'>"
      ]
     },
     "execution_count": 39,
     "metadata": {},
     "output_type": "execute_result"
    }
   ],
   "source": [
    "p = re.compile('[a-z]',re.I)\n",
    "p.match('PYTHON')"
   ]
  },
  {
   "cell_type": "code",
   "execution_count": 41,
   "metadata": {},
   "outputs": [
    {
     "name": "stdout",
     "output_type": "stream",
     "text": [
      "['python one']\n"
     ]
    }
   ],
   "source": [
    "p = re.compile(\"^python\\s\\w+\")\n",
    "# python 이라는 문자열로 시작하고 그 후에 whitespace, 그 후에 단어가 와야한다는 의미이다.\n",
    "# \\s 는 whitespace와 일치, \\w는 문자 + 숫자와 일치\n",
    "data = \"\"\"python one\n",
    "life is too short\n",
    "python two\n",
    "you need python\n",
    "python three\"\"\"\n",
    "\n",
    "print(p.findall(data))"
   ]
  },
  {
   "cell_type": "code",
   "execution_count": 45,
   "metadata": {},
   "outputs": [
    {
     "name": "stdout",
     "output_type": "stream",
     "text": [
      "['python one', 'python two', 'python three']\n"
     ]
    }
   ],
   "source": [
    "#re.M 에서 ^메타문자가 문자열 전체가 아닌 각 라인의 처음이라는 의미를 가지게 되었다.\n",
    "p = re.compile(\"^python\\s\\w+\", re.M)\n",
    "data = \"\"\"python one\n",
    "life is too short\n",
    "python two\n",
    "you need python\n",
    "python three\"\"\"\n",
    "print(p.findall(data))"
   ]
  },
  {
   "cell_type": "markdown",
   "metadata": {},
   "source": [
    "### Zero-width assertions 메타문자\n",
    "\n",
    "+, *, [], {}"
   ]
  },
  {
   "cell_type": "code",
   "execution_count": 48,
   "metadata": {},
   "outputs": [
    {
     "name": "stdout",
     "output_type": "stream",
     "text": [
      "Crow\n"
     ]
    }
   ],
   "source": [
    "# |는 or 의 의미\n",
    "p = re.compile('Crow|Servo')\n",
    "m = p.match('CrowHello and Servo')\n",
    "print(m.group())"
   ]
  },
  {
   "cell_type": "code",
   "execution_count": 50,
   "metadata": {},
   "outputs": [
    {
     "data": {
      "text/plain": [
       "'Life'"
      ]
     },
     "execution_count": 50,
     "metadata": {},
     "output_type": "execute_result"
    }
   ],
   "source": [
    "# [^]아닌 ^는 문자열의 맨 처음과 일치함을 의미한다\n",
    "re.search('^Life', 'Life is too short').group()"
   ]
  },
  {
   "cell_type": "code",
   "execution_count": 51,
   "metadata": {},
   "outputs": [
    {
     "data": {
      "text/plain": [
       "<_sre.SRE_Match object; span=(12, 17), match='short'>"
      ]
     },
     "execution_count": 51,
     "metadata": {},
     "output_type": "execute_result"
    }
   ],
   "source": [
    "# $는 문자열의 끝과 일치할때 이다.\n",
    "re.search('short$','life is too short')"
   ]
  },
  {
   "cell_type": "code",
   "execution_count": 53,
   "metadata": {},
   "outputs": [
    {
     "name": "stdout",
     "output_type": "stream",
     "text": [
      "None\n"
     ]
    }
   ],
   "source": [
    "print(re.search('short$','life is too short,you need python'))"
   ]
  },
  {
   "cell_type": "code",
   "execution_count": 55,
   "metadata": {},
   "outputs": [
    {
     "data": {
      "text/plain": [
       "<_sre.SRE_Match object; span=(3, 8), match='class'>"
      ]
     },
     "execution_count": 55,
     "metadata": {},
     "output_type": "execute_result"
    }
   ],
   "source": [
    "# r'\\bclass\\b 정규식은 class라는 단어와 매치됨을 의미한다.\n",
    "p = re.compile(r'\\bclass\\b')\n",
    "p.search('no class at all')"
   ]
  },
  {
   "cell_type": "code",
   "execution_count": 56,
   "metadata": {},
   "outputs": [
    {
     "name": "stdout",
     "output_type": "stream",
     "text": [
      "<_sre.SRE_Match object; span=(0, 9), match='ABCABCABC'>\n"
     ]
    }
   ],
   "source": [
    "p = re.compile('(ABC)+')\n",
    "m = p.search('ABCABCABC OK?')\n",
    "print(m)"
   ]
  },
  {
   "cell_type": "code",
   "execution_count": 57,
   "metadata": {},
   "outputs": [
    {
     "data": {
      "text/plain": [
       "'ABCABCABC'"
      ]
     },
     "execution_count": 57,
     "metadata": {},
     "output_type": "execute_result"
    }
   ],
   "source": [
    "m.group()"
   ]
  },
  {
   "cell_type": "code",
   "execution_count": 63,
   "metadata": {
    "collapsed": true
   },
   "outputs": [],
   "source": [
    "# r = row string\n",
    "# \\w+ 문자 & 숫자와 일치\n",
    "# \\s+ white space와일치\n",
    "# \\d 숫자와 일치\n",
    "# [-] 하이픈\n",
    "# \\d 숫자와 일치\n",
    "# [-] 하이픈\n",
    "# \\d 숫자와 일치\n",
    "p = re.compile(r\"\\w+\\s+\\d+[-]\\d[-]\\d+\")\n",
    "m = p.search(\"park 010-1234-1234\")"
   ]
  },
  {
   "cell_type": "code",
   "execution_count": 65,
   "metadata": {},
   "outputs": [
    {
     "name": "stdout",
     "output_type": "stream",
     "text": [
      "park\n"
     ]
    }
   ],
   "source": [
    "# (\\w+)로 만듬으로 인하여 match object의 group(index) 메서드를 이용하여 그룹핑된 부분의 문자열만 뽑아낼 수 있다.\n",
    "p = re.compile(r\"(\\w+)\\s+\\d+[-]\\d+[-]\\d+\")\n",
    "m = p.search(\"park 010-1234-1234\")\n",
    "print(m.group(1))"
   ]
  },
  {
   "cell_type": "code",
   "execution_count": 68,
   "metadata": {},
   "outputs": [
    {
     "name": "stdout",
     "output_type": "stream",
     "text": [
      "010-1234-1234\n"
     ]
    }
   ],
   "source": [
    "p = re.compile(r\"\\w+\\s+(\\d+[-]\\d+[-]\\d+)\")\n",
    "m = p.search(\"park 010-1234-1234\")\n",
    "print(m.group(1))"
   ]
  },
  {
   "cell_type": "code",
   "execution_count": 70,
   "metadata": {},
   "outputs": [
    {
     "name": "stdout",
     "output_type": "stream",
     "text": [
      "010\n"
     ]
    }
   ],
   "source": [
    "p = re.compile(r\"(\\w+)\\s+((\\d+)[-]\\d+[-]\\d+)\")\n",
    "m = p.search(\"park 010-1234-1234\")\n",
    "print(m.group(3))\n",
    "# 인덱스는 바깥쪽부터 시작하여 안쪽으로 들어갈수록 인덱스가 증가한다."
   ]
  },
  {
   "cell_type": "code",
   "execution_count": 3,
   "metadata": {
    "collapsed": true
   },
   "outputs": [],
   "source": [
    "import re"
   ]
  },
  {
   "cell_type": "code",
   "execution_count": 15,
   "metadata": {},
   "outputs": [],
   "source": [
    "p = re.compile(r'[a-d] + \\ d {5,7}')\n",
    "m = p.findall(\"12356abc\")"
   ]
  },
  {
   "cell_type": "code",
   "execution_count": 16,
   "metadata": {},
   "outputs": [
    {
     "data": {
      "text/plain": [
       "[]"
      ]
     },
     "execution_count": 16,
     "metadata": {},
     "output_type": "execute_result"
    }
   ],
   "source": [
    "m"
   ]
  },
  {
   "cell_type": "code",
   "execution_count": 1,
   "metadata": {},
   "outputs": [
    {
     "name": "stdout",
     "output_type": "stream",
     "text": [
      "Mr. Smith bought cheapsite.com for 1.5 million dollars, i.e. he paid a lot for it. \n",
      "Did he mind? \n",
      "Adam Jones Jr. thinks he didn't. \n",
      "In any case, this isn't true... \n",
      "Well, with a probability of .9 it isn't.\n",
      "\n"
     ]
    }
   ],
   "source": [
    "import re\n",
    "text = \"\"\"\\\n",
    "Mr. Smith bought cheapsite.com for 1.5 million dollars, i.e. he paid a lot for it. Did he mind? Adam Jones Jr. thinks he didn't. In any case, this isn't true... Well, with a probability of .9 it isn't.\n",
    "\"\"\"\n",
    "EndPunctuation = re.compile(r'([\\.\\?\\!]\\s+)')\n",
    "NonEndings = re.compile(r'(Mrs?|Jr|i\\.e)\\.\\s*$')\n",
    "parts = EndPunctuation.split(text)\n",
    "sentence = []\n",
    "for part in parts:\n",
    "    if len(part) and len(sentence) and EndPunctuation.match(sentence[-1]) and not NonEndings.search(''.join(sentence)):\n",
    "        print(''.join(sentence))\n",
    "        sentence = []\n",
    "    if len(part):\n",
    "        sentence.append(part)\n",
    "if len(sentence):\n",
    "    print(''.join(sentence))"
   ]
  },
  {
   "cell_type": "code",
   "execution_count": null,
   "metadata": {},
   "outputs": [],
   "source": []
  }
 ],
 "metadata": {
  "kernelspec": {
   "display_name": "Python 3",
   "language": "python",
   "name": "python3"
  },
  "language_info": {
   "codemirror_mode": {
    "name": "ipython",
    "version": 3
   },
   "file_extension": ".py",
   "mimetype": "text/x-python",
   "name": "python",
   "nbconvert_exporter": "python",
   "pygments_lexer": "ipython3",
   "version": "3.6.6"
  }
 },
 "nbformat": 4,
 "nbformat_minor": 2
}
