{
 "cells": [
  {
   "cell_type": "markdown",
   "metadata": {},
   "source": [
    "# 01-2. Control Flows \n",
    "\n",
    "### Statement : 파이썬의 코드 단위\n",
    "- 언어의 실행단위\n",
    "- 한줄로 표현되나, 두줄이상일 수도 있음\n",
    "- 한줄한줄 실행되는 구조이다.\n",
    "\n",
    "### Control flow : 한줄한줄 실행 일 필요는 없다!\n",
    "- 조건문 : 특정 요건에서 발동하게 만든다!\n",
    "- 루프 : 명령문을 반복\n",
    "- 함수 : 특정 포맷을 저장해둠, 호출!\n",
    "\n",
    "Loops have iteration variables that change each time trough a loop. \n",
    "- While : indefinite loop 불확정 루프\n",
    "- Break statement : end current loop and jumps to the statement immediately following the loop\n",
    "- continue : statement ends the current iteration and jump to the top of loop and starts the next iteration\n",
    "\n",
    "- for : finite loop 확정 루프, iteration variable : [sequence]"
   ]
  },
  {
   "cell_type": "markdown",
   "metadata": {},
   "source": [
    "### if : Conditional Statements and Boolean expressions\n",
    "\n",
    "- 조건문은 조건이 참일때 표시되는 문서이다\n",
    "- 코드블럭을 통해 이루어진다 :\n",
    "    - 들여쓰기를 통해 이루어진다 4칸\n",
    "    - 동등한 위계를 형성해 준다\n",
    "#### comparison operators \n",
    "- $<$\n",
    "- $>$\n",
    "- $<=$\n",
    "- $>=$\n",
    "- $==$\n",
    "- $!=$"
   ]
  },
  {
   "cell_type": "code",
   "execution_count": 9,
   "metadata": {},
   "outputs": [
    {
     "name": "stdout",
     "output_type": "stream",
     "text": [
      "10 is large than 5\n"
     ]
    }
   ],
   "source": [
    "n = 10\n",
    "if n <5:\n",
    "    print(n, \"is less than 5\")\n",
    "else:\n",
    "    print(n,\"is large than 5\")"
   ]
  },
  {
   "cell_type": "code",
   "execution_count": 10,
   "metadata": {},
   "outputs": [
    {
     "name": "stdout",
     "output_type": "stream",
     "text": [
      "A single digit number\n"
     ]
    }
   ],
   "source": [
    "n = 5\n",
    "if n < 0:\n",
    "    print('A negative number')\n",
    "elif n ==0:\n",
    "    print('zero')\n",
    "elif n < 10:\n",
    "    print('A single digit number')\n",
    "else:\n",
    "    print('A number with two or more digits')"
   ]
  },
  {
   "cell_type": "code",
   "execution_count": 11,
   "metadata": {},
   "outputs": [
    {
     "name": "stdout",
     "output_type": "stream",
     "text": [
      "number here:21\n",
      "C\n"
     ]
    }
   ],
   "source": [
    "number = int(input('number here:'))\n",
    "if number <11:\n",
    "    if number % 3 ==0:\n",
    "        print('A')\n",
    "    else:\n",
    "        print('B')\n",
    "else:\n",
    "    if number % 3 ==0:\n",
    "        print('C')\n",
    "    else:\n",
    "        print('D')"
   ]
  },
  {
   "cell_type": "markdown",
   "metadata": {},
   "source": [
    "### For Loop\n",
    "- Repeat for each item in the given sequence\n",
    "- Typically used when we know how many time we need to repeat\n",
    "\n",
    "- input : sequence\n",
    "- 정확한 반복횟수를 알때 주로 사용합니다\n",
    "- 될수 있으면 for문 사용하자"
   ]
  },
  {
   "cell_type": "code",
   "execution_count": 3,
   "metadata": {},
   "outputs": [
    {
     "name": "stdout",
     "output_type": "stream",
     "text": [
      "42\n",
      "1024\n",
      "23\n"
     ]
    }
   ],
   "source": [
    "for value in [42,1024,23]:\n",
    "    print(value)"
   ]
  },
  {
   "cell_type": "code",
   "execution_count": 5,
   "metadata": {},
   "outputs": [
    {
     "name": "stdout",
     "output_type": "stream",
     "text": [
      "D\n",
      "o\n",
      "h\n"
     ]
    }
   ],
   "source": [
    "s = \"Doh\"\n",
    "for letter in s:\n",
    "    print(letter)"
   ]
  },
  {
   "cell_type": "code",
   "execution_count": 6,
   "metadata": {},
   "outputs": [
    {
     "name": "stdout",
     "output_type": "stream",
     "text": [
      "0\n",
      "1\n",
      "2\n",
      "3\n",
      "4\n"
     ]
    }
   ],
   "source": [
    "for index in range(5):\n",
    "    print(index)"
   ]
  },
  {
   "cell_type": "code",
   "execution_count": 12,
   "metadata": {},
   "outputs": [
    {
     "name": "stdout",
     "output_type": "stream",
     "text": [
      "False\n",
      "True\n",
      "True\n",
      "True\n",
      "True\n",
      "62\n"
     ]
    }
   ],
   "source": [
    "sum = 0\n",
    "for i in [2,4,8,16,32,64,128]:\n",
    "    if i > 32:\n",
    "        break\n",
    "    sum = sum + i\n",
    "    print(i%4 == 0)\n",
    "print(sum)"
   ]
  },
  {
   "cell_type": "markdown",
   "metadata": {},
   "source": [
    "### While Loop\n",
    "- Repeat while the given condition holds\n",
    "- 사용자들로 부터 입력을 받거나 파일을 읽거나, 네트웤에서 데이터를 받을때 사용합니다.\n",
    "\n",
    "- input : sequence\n",
    "- 정확한 반복횟수를 모를때 주로 사용합니다."
   ]
  },
  {
   "cell_type": "code",
   "execution_count": 2,
   "metadata": {},
   "outputs": [
    {
     "name": "stdout",
     "output_type": "stream",
     "text": [
      "0\n",
      "1\n",
      "2\n"
     ]
    }
   ],
   "source": [
    "counter = 0\n",
    "while counter <3:\n",
    "    print(counter)\n",
    "    counter += 1"
   ]
  },
  {
   "cell_type": "markdown",
   "metadata": {},
   "source": [
    "### Function(Subroutine) : Method\n",
    "\n",
    "- Abstraction or Structures to a programming\n",
    "- 수학에서의 함수를 생각해보자!, input에 따라 output이 나오는 형식이 아니였던가?\n",
    "- 프로그래밍에서도 같은 개념이다. input과 output사이의 관계를 정의하는게 함수다!\n",
    "- 수학 함수와 다른 개념은, 음 processing 결과값과 output이 다를수도 있고, output값을 안보여줄수도 있다.\n",
    "\n",
    "### 함수기초 \n",
    "- 함수를 선언한다\n",
    "    - def 함수이름 (Parameter) :\n",
    "        - Statements1\n",
    "        - Statements2\n",
    "        - Statements3\n",
    "        - return 출력변수 이름\n",
    "\n",
    "<br/>\n",
    "- 함수를 호출한다\n",
    "    - 함수이름(arguments)"
   ]
  },
  {
   "cell_type": "code",
   "execution_count": 12,
   "metadata": {
    "collapsed": true
   },
   "outputs": [],
   "source": [
    "def twotimes(x) :\n",
    "    y = 2*x\n",
    "    return y"
   ]
  },
  {
   "cell_type": "code",
   "execution_count": 13,
   "metadata": {},
   "outputs": [
    {
     "data": {
      "text/plain": [
       "20"
      ]
     },
     "execution_count": 13,
     "metadata": {},
     "output_type": "execute_result"
    }
   ],
   "source": [
    "twotimes(10)"
   ]
  },
  {
   "cell_type": "code",
   "execution_count": 14,
   "metadata": {
    "collapsed": true
   },
   "outputs": [],
   "source": [
    "def f(x):\n",
    "    return 2*x"
   ]
  },
  {
   "cell_type": "code",
   "execution_count": 15,
   "metadata": {},
   "outputs": [
    {
     "data": {
      "text/plain": [
       "<function __main__.<lambda>>"
      ]
     },
     "execution_count": 15,
     "metadata": {},
     "output_type": "execute_result"
    }
   ],
   "source": [
    "lambda x : 2*x"
   ]
  },
  {
   "cell_type": "code",
   "execution_count": 16,
   "metadata": {
    "collapsed": true
   },
   "outputs": [],
   "source": [
    "x = 10"
   ]
  },
  {
   "cell_type": "code",
   "execution_count": 17,
   "metadata": {},
   "outputs": [
    {
     "data": {
      "text/plain": [
       "20"
      ]
     },
     "execution_count": 17,
     "metadata": {},
     "output_type": "execute_result"
    }
   ],
   "source": [
    "f(x)"
   ]
  },
  {
   "cell_type": "markdown",
   "metadata": {},
   "source": [
    "### Function types\n",
    "\n",
    "- 내장함수 : Built-in functions\n",
    "- 유저 정의 함수 : User-defined functions\n",
    "- 라이브러리 : Library function\n",
    "\n",
    "------------\n",
    "\n",
    "### Function 구성요소\n",
    "- parameters : name of input variables within this function\n",
    "- Arguments : Real Input, Values passed to a function, 파라미터라고 생각해시면 됩니다.\n",
    "- Return value : a value returned by a function\n"
   ]
  },
  {
   "cell_type": "markdown",
   "metadata": {},
   "source": [
    "### Default argument values\n",
    "\n",
    "- 기본값을 매개변수 뒤에 더할 수 있습니다."
   ]
  },
  {
   "cell_type": "code",
   "execution_count": 18,
   "metadata": {},
   "outputs": [
    {
     "name": "stdout",
     "output_type": "stream",
     "text": [
      "Hello , Alice\n"
     ]
    }
   ],
   "source": [
    "def greeting(person, word=\"Hello\"):\n",
    "    print(word,',',person)\n",
    "greeting(\"Alice\")"
   ]
  },
  {
   "cell_type": "markdown",
   "metadata": {},
   "source": [
    "#### 다음중 파이썬 함수에 대해 참이 아닌것은?\n",
    "\n",
    "1. 함수는 하나 이상의 선언문으로 구성되어있다.\n",
    "2. 당신 만약 다른 parameter를 넣었다면, 다른 return value를 얻는다\n",
    "3. 파이썬에는 많은 built-in function이 있다.\n",
    "4. 당신은 당신만의 함수를 정의할 수 있다.\n",
    "5. 함수의 마지막에 평가된 값은, 리턴값으로 사용된다."
   ]
  },
  {
   "cell_type": "code",
   "execution_count": 21,
   "metadata": {},
   "outputs": [
    {
     "name": "stdout",
     "output_type": "stream",
     "text": [
      "Hey James ,try Python !\n",
      "Tried!\n"
     ]
    }
   ],
   "source": [
    "def proposal(name, laguage='something'):\n",
    "    print('Hey',name,',try',laguage,'!')\n",
    "    return \"Tried!\"\n",
    "print(proposal('James','Python'))"
   ]
  },
  {
   "cell_type": "code",
   "execution_count": 22,
   "metadata": {
    "collapsed": true
   },
   "outputs": [],
   "source": [
    "def foo():\n",
    "    pass\n",
    "def bar():\n",
    "    return"
   ]
  },
  {
   "cell_type": "code",
   "execution_count": 25,
   "metadata": {},
   "outputs": [
    {
     "name": "stdout",
     "output_type": "stream",
     "text": [
      "33\n",
      "33\n",
      "33\n",
      "34\n",
      "33\n"
     ]
    }
   ],
   "source": [
    "def inc(x):\n",
    "    x = x+1\n",
    "    return x\n",
    "x = 33\n",
    "print(x)\n",
    "inc(x)\n",
    "print(x)\n",
    "print(inc(x-1))\n",
    "print(inc(x))\n",
    "x = 32\n",
    "print(inc(x))"
   ]
  },
  {
   "cell_type": "markdown",
   "metadata": {},
   "source": [
    "\n",
    "### Find the Largest Value\n",
    "\n",
    "If the current number we are looking at is larger, it is the new largest value we have seen so far."
   ]
  },
  {
   "cell_type": "code",
   "execution_count": 1,
   "metadata": {},
   "outputs": [
    {
     "name": "stdout",
     "output_type": "stream",
     "text": [
      "before -1\n",
      "9 9\n",
      "41 41\n",
      "74 74\n",
      "after 74\n"
     ]
    }
   ],
   "source": [
    "largest_so_far = -1\n",
    "print('before',largest_so_far)\n",
    "for the_num in [9,41,12,3,74,15]:\n",
    "    if the_num > largest_so_far :\n",
    "        largest_so_far = the_num\n",
    "        print(largest_so_far, the_num);\n",
    "print('after', largest_so_far)"
   ]
  },
  {
   "cell_type": "code",
   "execution_count": 2,
   "metadata": {},
   "outputs": [
    {
     "name": "stdout",
     "output_type": "stream",
     "text": [
      "Before 0\n",
      "1 9\n",
      "2 41\n",
      "3 12\n",
      "4 3\n",
      "5 74\n",
      "6 15\n",
      "After 6\n"
     ]
    }
   ],
   "source": [
    "### Counting in a loop\n",
    "\n",
    "zork = 0\n",
    "print('Before', zork)\n",
    "for thing in [9,41,12,3,74,15]:\n",
    "    zork = zork + 1\n",
    "    print(zork, thing);\n",
    "print('After',zork)"
   ]
  },
  {
   "cell_type": "code",
   "execution_count": 3,
   "metadata": {},
   "outputs": [
    {
     "name": "stdout",
     "output_type": "stream",
     "text": [
      "before False\n",
      "False 9\n",
      "False 41\n",
      "False 12\n",
      "After True\n"
     ]
    }
   ],
   "source": [
    "### search value\n",
    "\n",
    "found = False\n",
    "print('before',found)\n",
    "for value in [9,41,12,3,74,15]:\n",
    "    if value == 3:\n",
    "        found = True\n",
    "        break\n",
    "    print(found, value);\n",
    "print('After',found)"
   ]
  },
  {
   "cell_type": "code",
   "execution_count": 4,
   "metadata": {},
   "outputs": [
    {
     "name": "stdout",
     "output_type": "stream",
     "text": [
      "Before\n",
      "9 9\n",
      "9 41\n",
      "9 12\n",
      "3 3\n",
      "3 74\n",
      "3 15\n",
      "After 3\n"
     ]
    }
   ],
   "source": [
    "### smallest value\n",
    "### is mean is the same as, stronger than ==\n",
    "\n",
    "smallest = None\n",
    "print('Before')\n",
    "for value in [9,41,12,3,74,15]:\n",
    "    if smallest is None :\n",
    "        smallest = value\n",
    "    elif value < smallest :\n",
    "        smallest = value\n",
    "    print(smallest,value)\n",
    "print('After',smallest)"
   ]
  },
  {
   "cell_type": "markdown",
   "metadata": {
    "collapsed": true
   },
   "source": [
    "# List에서 꼭 기억하고 갈 함수\n",
    "\n",
    "- list[인덱스] : list안에 있는 원소를 호출한다\n",
    "- len : 길이를 잰다\n",
    "- append : 새로운 변수를 더한다\n",
    "- extend : 새로운 리스트를 더한다\n",
    "- remove : 값으로 기존 개체를 뺸다\n",
    "- pop : 인덱스로 기존 개체를 뺀다.\n",
    "\n",
    "__[for문 사용문제!]__ 리스트에서 반복문을 사용해보자 만약 11번의 시험 성적을 담고있는 a라는 변수가 있을때, 시험 평균은?"
   ]
  },
  {
   "cell_type": "markdown",
   "metadata": {},
   "source": [
    "1. 하나씩 원소를 더한다\n",
    "2. 다 더한것을 갯수로 나눈다\n",
    "\n",
    "- for 원소 10개 a, 다 더한것 b = b + a[i], 갯수 = len(a)"
   ]
  },
  {
   "cell_type": "code",
   "execution_count": 46,
   "metadata": {},
   "outputs": [
    {
     "data": {
      "text/plain": [
       "75.9090909090909"
      ]
     },
     "execution_count": 46,
     "metadata": {},
     "output_type": "execute_result"
    }
   ],
   "source": [
    "b = 0\n",
    "for i in a:\n",
    "    b = b + i\n",
    "b/len(a)"
   ]
  },
  {
   "cell_type": "code",
   "execution_count": 32,
   "metadata": {},
   "outputs": [
    {
     "data": {
      "text/plain": [
       "[90, 85, 95, 80, 90, 85, 75, 85, 80]"
      ]
     },
     "execution_count": 32,
     "metadata": {},
     "output_type": "execute_result"
    }
   ],
   "source": [
    "a"
   ]
  },
  {
   "cell_type": "code",
   "execution_count": 33,
   "metadata": {
    "collapsed": true
   },
   "outputs": [],
   "source": [
    "add_sub = [50, 20]"
   ]
  },
  {
   "cell_type": "code",
   "execution_count": 34,
   "metadata": {},
   "outputs": [
    {
     "data": {
      "text/plain": [
       "[90, 85, 95, 80, 90, 85, 75, 85, 80, [50, 20]]"
      ]
     },
     "execution_count": 34,
     "metadata": {},
     "output_type": "execute_result"
    }
   ],
   "source": [
    "a.append(add_sub)\n",
    "a"
   ]
  },
  {
   "cell_type": "code",
   "execution_count": 35,
   "metadata": {},
   "outputs": [
    {
     "data": {
      "text/plain": [
       "[50, 20]"
      ]
     },
     "execution_count": 35,
     "metadata": {},
     "output_type": "execute_result"
    }
   ],
   "source": [
    "a.pop(-1)"
   ]
  },
  {
   "cell_type": "code",
   "execution_count": 36,
   "metadata": {},
   "outputs": [
    {
     "data": {
      "text/plain": [
       "[90, 85, 95, 80, 90, 85, 75, 85, 80, 50, 20]"
      ]
     },
     "execution_count": 36,
     "metadata": {},
     "output_type": "execute_result"
    }
   ],
   "source": [
    "a.extend(add_sub)\n",
    "a"
   ]
  },
  {
   "cell_type": "code",
   "execution_count": 14,
   "metadata": {},
   "outputs": [
    {
     "data": {
      "text/plain": [
       "10"
      ]
     },
     "execution_count": 14,
     "metadata": {},
     "output_type": "execute_result"
    }
   ],
   "source": [
    "a = [90,85,95,80,90,100,85,75,85,80]\n",
    "len(a)"
   ]
  },
  {
   "cell_type": "code",
   "execution_count": 48,
   "metadata": {},
   "outputs": [
    {
     "data": {
      "text/plain": [
       "75.9090909090909"
      ]
     },
     "execution_count": 48,
     "metadata": {},
     "output_type": "execute_result"
    }
   ],
   "source": [
    "total = 0\n",
    "for i in range(len(a)):\n",
    "    total = total + a[i]\n",
    "    average = total / len(a)\n",
    "average"
   ]
  },
  {
   "cell_type": "code",
   "execution_count": 51,
   "metadata": {},
   "outputs": [
    {
     "name": "stdout",
     "output_type": "stream",
     "text": [
      "[90, 85, 95, 80, 90, 85, 75, 85, 80, 50, 20] 75.9090909090909\n"
     ]
    }
   ],
   "source": [
    "print(a, average)"
   ]
  },
  {
   "cell_type": "markdown",
   "metadata": {},
   "source": [
    "__학생이 두명이고 각 과목별로 토탈 점수를 알고싶다면?__\n",
    "<br/>\n",
    "a1 = [90, 85, 95, 80, 90, 100, 85, 75, 85, 80]\n",
    "<br/>\n",
    "a2 = [95, 90, 90, 90, 95, 100, 90, 80, 95, 90]\n",
    "<br/>\n",
    "__만약 둘의 평균을 각각 구하고 싶다면?__"
   ]
  },
  {
   "cell_type": "code",
   "execution_count": 52,
   "metadata": {},
   "outputs": [
    {
     "data": {
      "text/plain": [
       "[185, 175, 185, 170, 185, 200, 175, 155, 180, 170]"
      ]
     },
     "execution_count": 52,
     "metadata": {},
     "output_type": "execute_result"
    }
   ],
   "source": [
    "s = []\n",
    "a1 = [90, 85, 95, 80, 90, 100, 85, 75, 85, 80]\n",
    "a2 = [95, 90, 90, 90, 95, 100, 90, 80, 95, 90]\n",
    "\n",
    "for i in range(len(a1)):\n",
    "    s.append(a1[i] + a2[i])\n",
    "s"
   ]
  },
  {
   "cell_type": "code",
   "execution_count": 73,
   "metadata": {},
   "outputs": [
    {
     "name": "stdout",
     "output_type": "stream",
     "text": [
      "92.5\n",
      "87.5\n",
      "92.5\n",
      "85.0\n",
      "92.5\n",
      "100.0\n",
      "87.5\n",
      "77.5\n",
      "90.0\n",
      "85.0\n"
     ]
    }
   ],
   "source": [
    "for i in range(len(s)):\n",
    "    print(s[i]/2)"
   ]
  },
  {
   "cell_type": "code",
   "execution_count": 58,
   "metadata": {
    "collapsed": true
   },
   "outputs": [],
   "source": [
    "student = [a1, a2]"
   ]
  },
  {
   "cell_type": "code",
   "execution_count": 61,
   "metadata": {},
   "outputs": [
    {
     "data": {
      "text/plain": [
       "[90, 85, 95, 80, 90, 100, 85, 75, 85, 80]"
      ]
     },
     "execution_count": 61,
     "metadata": {},
     "output_type": "execute_result"
    }
   ],
   "source": [
    "a1"
   ]
  },
  {
   "cell_type": "code",
   "execution_count": 65,
   "metadata": {},
   "outputs": [
    {
     "name": "stdout",
     "output_type": "stream",
     "text": [
      "86.5\n",
      "91.5\n"
     ]
    }
   ],
   "source": [
    "# a1 의 평균, a2 의 평균\n",
    "student = [a1, a2]\n",
    "for i in student:\n",
    "    total = 0 \n",
    "    avaerage = 0\n",
    "    for j in range(len(i)):\n",
    "        total = total + i[j]\n",
    "        average = total / len(i)\n",
    "    print(average)"
   ]
  },
  {
   "cell_type": "markdown",
   "metadata": {},
   "source": [
    "# Sequence 자료형에서 꼭 기억해야할 내장함수\n",
    "\n",
    "- zip : 만약 내가 row 기반이 아닌 column 기반으로 연산을 하고 싶다면?\n",
    "- enumerate : 자료의 인덱스 번호를 알아야한다면? (index 왜 중요하냐? 누군가의 고유값을 지정한다고 생각하면 된다!)"
   ]
  },
  {
   "cell_type": "code",
   "execution_count": 80,
   "metadata": {},
   "outputs": [
    {
     "data": {
      "text/plain": [
       "[(90, 95),\n",
       " (85, 90),\n",
       " (95, 90),\n",
       " (80, 90),\n",
       " (90, 95),\n",
       " (100, 100),\n",
       " (85, 90),\n",
       " (75, 80),\n",
       " (85, 95),\n",
       " (80, 90)]"
      ]
     },
     "execution_count": 80,
     "metadata": {},
     "output_type": "execute_result"
    }
   ],
   "source": [
    "b = list(zip(a1,a2))\n",
    "b"
   ]
  },
  {
   "cell_type": "markdown",
   "metadata": {},
   "source": [
    "__각각 과목,학생 2개의 성적을 합하는 list를 만들어라__"
   ]
  },
  {
   "cell_type": "code",
   "execution_count": 85,
   "metadata": {},
   "outputs": [
    {
     "name": "stdout",
     "output_type": "stream",
     "text": [
      "0 185\n",
      "1 175\n",
      "2 185\n",
      "3 170\n",
      "4 185\n",
      "5 200\n",
      "6 175\n",
      "7 155\n",
      "8 180\n",
      "9 170\n"
     ]
    }
   ],
   "source": [
    "for idx, i in enumerate(range(len(s))):\n",
    "    print(idx, s[i])"
   ]
  },
  {
   "cell_type": "code",
   "execution_count": 18,
   "metadata": {},
   "outputs": [
    {
     "data": {
      "text/plain": [
       "[185, 175, 185, 170, 185, 200, 175, 155, 180, 170]"
      ]
     },
     "execution_count": 18,
     "metadata": {},
     "output_type": "execute_result"
    }
   ],
   "source": [
    "s = list(range(10))\n",
    "a1 = [90, 85, 95, 80, 90, 100, 85, 75, 85, 80]\n",
    "a2 = [95, 90, 90, 90, 95, 100, 90, 80, 95, 90]\n",
    "for i, (a1i, a2i) in enumerate(zip(a1, a2)):\n",
    "    s[i] = a1i + a2i\n",
    "s    "
   ]
  },
  {
   "cell_type": "markdown",
   "metadata": {},
   "source": [
    "## 연습문제!\n",
    "\n",
    "그렇다면 학생이 5명이 되었다!\n",
    "\n",
    "[ 85,  90,  20],\n",
    "<br/>\n",
    "[ 70, 100,  70],\n",
    "<br/>\n",
    "[ 25,  65,  15],\n",
    "<br/>\n",
    "[ 80,  45,  80],\n",
    "<br/>\n",
    "[ 35,  50,  75]\n",
    "\n",
    "\n",
    "이들의 평균과 각 과목별 평균은?"
   ]
  },
  {
   "cell_type": "markdown",
   "metadata": {},
   "source": [
    "## 복습문제!\n",
    "\n",
    "피보나치 수열 문제를 만들어보자!\n",
    "a(x) = ?,\n",
    "<br/>\n",
    "𝑎(1) = 1, \n",
    "<br/>\n",
    "𝑎(2) = 1\n",
    "<br/>\n",
    "𝑎(𝑛+2) = 𝑎(𝑛) + 𝑎(𝑛+1) (n = 1, 2, … )\n"
   ]
  },
  {
   "cell_type": "markdown",
   "metadata": {},
   "source": [
    "n 이 1부터 30 까지 호출해보시오!"
   ]
  },
  {
   "cell_type": "code",
   "execution_count": 1,
   "metadata": {
    "collapsed": true
   },
   "outputs": [],
   "source": [
    "def F(n):\n",
    "    if n == 0:\n",
    "        return 0\n",
    "    elif n ==1:\n",
    "        return 1\n",
    "    else:\n",
    "        return F(n-1)+F(n-2)"
   ]
  },
  {
   "cell_type": "code",
   "execution_count": 4,
   "metadata": {},
   "outputs": [],
   "source": [
    "import time"
   ]
  },
  {
   "cell_type": "code",
   "execution_count": null,
   "metadata": {
    "collapsed": true
   },
   "outputs": [],
   "source": [
    "tic = time.time()\n",
    "\n",
    "for i in range(1, 1285+1):\n",
    "    get_Isterm(i)\n",
    "    \n",
    "    if i % 100 == 0:\n",
    "        print(i)\n",
    "\n",
    "toc = time.time()\n",
    "print(toc-tic)"
   ]
  },
  {
   "cell_type": "code",
   "execution_count": 10,
   "metadata": {},
   "outputs": [
    {
     "name": "stdout",
     "output_type": "stream",
     "text": [
      "1\n",
      "1\n",
      "2\n",
      "3\n",
      "5\n",
      "8\n",
      "13\n",
      "21\n",
      "34\n",
      "55\n",
      "====\n",
      "10\n",
      "====\n",
      "89\n",
      "144\n",
      "233\n",
      "377\n",
      "610\n",
      "987\n",
      "1597\n",
      "2584\n",
      "4181\n",
      "6765\n",
      "====\n",
      "20\n",
      "====\n",
      "10946\n",
      "17711\n",
      "28657\n",
      "46368\n",
      "75025\n",
      "121393\n",
      "196418\n",
      "317811\n",
      "514229\n",
      "832040\n",
      "====\n",
      "30\n",
      "====\n"
     ]
    }
   ],
   "source": [
    "for i in range(6100):\n",
    "    i = i+1\n",
    "    print(F(i))\n",
    "    if i % 10 == 0:\n",
    "        print('====')\n",
    "        print(i)\n",
    "        print(\"====\")\n",
    "    "
   ]
  },
  {
   "cell_type": "code",
   "execution_count": null,
   "metadata": {
    "collapsed": true
   },
   "outputs": [],
   "source": []
  }
 ],
 "metadata": {
  "kernelspec": {
   "display_name": "Python 3",
   "language": "python",
   "name": "python3"
  },
  "language_info": {
   "codemirror_mode": {
    "name": "ipython",
    "version": 3
   },
   "file_extension": ".py",
   "mimetype": "text/x-python",
   "name": "python",
   "nbconvert_exporter": "python",
   "pygments_lexer": "ipython3",
   "version": "3.6.6"
  }
 },
 "nbformat": 4,
 "nbformat_minor": 2
}
