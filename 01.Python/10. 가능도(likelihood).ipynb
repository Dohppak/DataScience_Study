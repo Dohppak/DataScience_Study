{
 "cells": [
  {
   "cell_type": "markdown",
   "metadata": {},
   "source": [
    "- http://rpubs.com/Statdoc/204928\n",
    "- https://datascienceschool.net/view-notebook/79140e6a9e364bcbb04cb8e525b9dba4/"
   ]
  },
  {
   "cell_type": "markdown",
   "metadata": {},
   "source": [
    "## Likelihood\n",
    "\n",
    "샘플값을 알고 있지만, 모수 $\\theta$를 모르는 경우가 있다. 일반적으로 데이터가 있지만 분포가 없는 경우라고 생각하면 편하다. \n",
    "- 확률 밀도 함수를 랜덤변수의 값  𝑥 의 함수가 아닌 파라미터  𝜃 의 함수로 보는 것\n",
    "- 확률 분포로부터 특정한 샘플 값  𝑥 가 발생하였을 때, 이 샘플 값  𝑥 가 나오게 하는 파라미터  𝜃 의 가능성\n",
    "- 확률 분포로부터 특정한 샘플 값  𝑥 가 발생하였을 때, 샘플 값  𝑥 와 변수  𝜃 에서의는 확률(밀도함수)"
   ]
  },
  {
   "cell_type": "markdown",
   "metadata": {},
   "source": [
    "### 확률 밀도 함수  \n",
    "\n",
    "$𝑓_{X}(𝑥;𝜃)$\n",
    "\n",
    "- 𝜃  값을 이미 알고 있음\n",
    "- 𝜃 는 상수,  𝑥 는 변수\n",
    "- 𝜃 가 이미 정해져 있는 상황에서의  𝑥  값의 상대적 가능성\n",
    "\n",
    "### Likelihood  \n",
    "\n",
    "$𝐿(𝜃)=𝑓_{𝑋}(𝑥|𝜃)$\n",
    "\n",
    "- 𝑥 가 이미 발생. 값을 이미 알고 있음\n",
    "- 𝑥 는 상수,  𝜃 는 변수\n",
    "- 𝑥 가 이미 정해져 있는 상황에서의  𝜃  값의 상대적 가능성"
   ]
  },
  {
   "cell_type": "markdown",
   "metadata": {},
   "source": [
    "예를 들어 정규 분포를 가지는 확률 변수의 분산  $𝜎_2=1$ 은 알고 있으나 평균 $𝜇$ 를 모르고 있어 이를 추정해야 하는 문제를 생각해 보자.\n",
    "\n",
    "이 때 이 확률 변수의 샘플 하나  $𝑥_0=1$ 를 가지고 있다. 이  $𝑥_0$  값에서 어떤  $𝜇$  값이 가장 가능성(우도: likelihood)이 있어보는가? 다음 그림에는  𝜇=−1 ,  𝜇=0 ,  𝜇=1 ,세가지 후보를 제시한다. 이 세가지  𝜇  값에 대해  $𝑥_0$ 이 나올 확률이 바로 우도이다. 그림에서 볼 수 있듯이  𝜇=1 일 경우의 우도가 가장 크다. 따라서 최대 우도 추정법에 의한 추정값은  $𝜇̂_{MLE}=1$ 이다."
   ]
  },
  {
   "cell_type": "markdown",
   "metadata": {},
   "source": [
    "## 최대가능도 추정\n",
    "\n",
    "$$\n",
    "\\hat\\theta_{\\text{MLE}} = \\arg \\max_{\\theta} L(\\theta; \\{x_i\\})\n",
    "$$"
   ]
  },
  {
   "cell_type": "code",
   "execution_count": null,
   "metadata": {},
   "outputs": [],
   "source": []
  }
 ],
 "metadata": {
  "kernelspec": {
   "display_name": "python3.6",
   "language": "python",
   "name": "python3.6"
  },
  "language_info": {
   "codemirror_mode": {
    "name": "ipython",
    "version": 3
   },
   "file_extension": ".py",
   "mimetype": "text/x-python",
   "name": "python",
   "nbconvert_exporter": "python",
   "pygments_lexer": "ipython3",
   "version": "3.6.6"
  }
 },
 "nbformat": 4,
 "nbformat_minor": 2
}
