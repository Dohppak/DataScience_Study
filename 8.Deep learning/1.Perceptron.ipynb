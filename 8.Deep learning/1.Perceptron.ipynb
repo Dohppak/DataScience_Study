{
 "cells": [
  {
   "cell_type": "markdown",
   "metadata": {},
   "source": [
    "### Perceptron과 logical Operation"
   ]
  },
  {
   "cell_type": "markdown",
   "metadata": {},
   "source": [
    "Perceptron에 논리적인 operation을 적용해 볼 수 있다. And, Or, Not 과 같은 operation은 사용이 가능하다."
   ]
  },
  {
   "cell_type": "code",
   "execution_count": 7,
   "metadata": {},
   "outputs": [
    {
     "name": "stdout",
     "output_type": "stream",
     "text": [
      "Nice!  You got it all correct.\n",
      "\n",
      "Input 1    Input 2    Linear Combination    Activation Output   Is Correct\n",
      "      0          0                    -4                    0          Yes\n",
      "      0          1                    -2                    0          Yes\n",
      "      1          0                    -1                    0          Yes\n",
      "      1          1                     1                    1          Yes\n"
     ]
    }
   ],
   "source": [
    "import pandas as pd\n",
    "\n",
    "# TODO: Set weight1, weight2, and bias\n",
    "weight1 = 3\n",
    "weight2 = 2\n",
    "bias = -4\n",
    "\n",
    "\n",
    "# DON'T CHANGE ANYTHING BELOW\n",
    "# Inputs and outputs\n",
    "test_inputs = [(0, 0), (0, 1), (1, 0), (1, 1)]\n",
    "correct_outputs = [False, False, False, True]\n",
    "outputs = []\n",
    "\n",
    "# Generate and check output\n",
    "for test_input, correct_output in zip(test_inputs, correct_outputs):\n",
    "    linear_combination = weight1 * test_input[0] + weight2 * test_input[1] + bias\n",
    "    output = int(linear_combination >= 0)\n",
    "    is_correct_string = 'Yes' if output == correct_output else 'No'\n",
    "    outputs.append([test_input[0], test_input[1], linear_combination, output, is_correct_string])\n",
    "\n",
    "# Print output\n",
    "num_wrong = len([output[4] for output in outputs if output[4] == 'No'])\n",
    "output_frame = pd.DataFrame(outputs, columns=['Input 1', '  Input 2', '  Linear Combination', '  Activation Output', '  Is Correct'])\n",
    "if not num_wrong:\n",
    "    print('Nice!  You got it all correct.\\n')\n",
    "else:\n",
    "    print('You got {} wrong.  Keep trying!\\n'.format(num_wrong))\n",
    "print(output_frame.to_string(index=False))\n"
   ]
  },
  {
   "cell_type": "markdown",
   "metadata": {},
   "source": [
    "##### Q. The way to go from an __AND__ perceptron to an __OR__ perceptron\n",
    "\n",
    "- Decrease the magnitude of the bias\n",
    "- Increase the weights"
   ]
  },
  {
   "cell_type": "code",
   "execution_count": 8,
   "metadata": {},
   "outputs": [
    {
     "name": "stdout",
     "output_type": "stream",
     "text": [
      "-3.0\n",
      "-2.7000000000000006\n",
      "-2.3999999999999995\n",
      "-2.1000000000000005\n",
      "-1.7999999999999994\n",
      "-1.5\n",
      "-1.2000000000000006\n",
      "-0.8999999999999996\n",
      "-0.6000000000000003\n",
      "-0.29999999999999927\n",
      "0.0\n",
      "0.2999999999999994\n",
      "0.5999999999999988\n",
      "0.9000000000000015\n",
      "1.2000000000000008\n",
      "1.5\n",
      "1.7999999999999994\n",
      "2.0999999999999988\n",
      "2.4000000000000012\n",
      "2.700000000000001\n",
      "3.0\n",
      "3.2999999999999994\n",
      "3.5999999999999988\n",
      "3.9000000000000017\n",
      "4.200000000000001\n",
      "4.5\n",
      "4.799999999999999\n",
      "5.099999999999999\n",
      "5.400000000000002\n",
      "5.700000000000001\n"
     ]
    }
   ],
   "source": []
  },
  {
   "cell_type": "code",
   "execution_count": null,
   "metadata": {},
   "outputs": [],
   "source": []
  }
 ],
 "metadata": {
  "kernelspec": {
   "display_name": "Python 3",
   "language": "python",
   "name": "python3"
  },
  "language_info": {
   "codemirror_mode": {
    "name": "ipython",
    "version": 3
   },
   "file_extension": ".py",
   "mimetype": "text/x-python",
   "name": "python",
   "nbconvert_exporter": "python",
   "pygments_lexer": "ipython3",
   "version": "3.6.5"
  }
 },
 "nbformat": 4,
 "nbformat_minor": 2
}
