{
 "cells": [
  {
   "cell_type": "markdown",
   "metadata": {},
   "source": [
    "## Convolutional Neural Network\n",
    "\n",
    "이미지 분류를 위한 신경망 구조, 세상의 실제 이미지들은 생각보다 정형화 되어있지 않습니다. 따라서 컴퓨터가 다른 구도의 같은 이미지를 이해하려면 많은 학습량이 필요하게 됩니다. 이 뜻은 파라미터의 크기가 엄청나게 커진다는 것입니다.\n",
    "<br>\n",
    "\n",
    "이러한 문제를 해결하기 위해서, 처음에는 가장 기초가 되는 특징을 확인하고, 그 특징들을 조합하여, 복잡한 특징이 존재하는지를 살펴본 뒤, 마지막으로 물체를 분류하고자 했습니다."
   ]
  },
  {
   "cell_type": "markdown",
   "metadata": {},
   "source": [
    "- local receptive fields"
   ]
  },
  {
   "cell_type": "markdown",
   "metadata": {},
   "source": [
    "- shared weights"
   ]
  },
  {
   "cell_type": "markdown",
   "metadata": {},
   "source": [
    "- convolution : 특징을 찾는 과정"
   ]
  },
  {
   "cell_type": "markdown",
   "metadata": {},
   "source": [
    "- pooling : 왜곡의 영향을 축하는 과정"
   ]
  },
  {
   "cell_type": "markdown",
   "metadata": {},
   "source": [
    "기본적으로 Filter 라는 이미지 패턴을 활용하여, filter image로 내적하면서 스캐닝하여 새로운 이미지를 생성한다."
   ]
  }
 ],
 "metadata": {
  "kernelspec": {
   "display_name": "python3.6",
   "language": "python",
   "name": "python3.6"
  },
  "language_info": {
   "codemirror_mode": {
    "name": "ipython",
    "version": 3
   },
   "file_extension": ".py",
   "mimetype": "text/x-python",
   "name": "python",
   "nbconvert_exporter": "python",
   "pygments_lexer": "ipython3",
   "version": "3.6.6"
  }
 },
 "nbformat": 4,
 "nbformat_minor": 2
}
