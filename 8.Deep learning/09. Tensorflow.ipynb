{
 "cells": [
  {
   "cell_type": "markdown",
   "metadata": {},
   "source": [
    "# Tensorflow"
   ]
  },
  {
   "cell_type": "markdown",
   "metadata": {},
   "source": [
    "텐서 플로우에서는 데이터는 integers,floats,strings으로 저장되지 않습니다. 데이터들은 tensor라는 객체에 encapsulated 하게 됩니다."
   ]
  },
  {
   "cell_type": "code",
   "execution_count": 2,
   "metadata": {},
   "outputs": [],
   "source": [
    "import tensorflow as tf"
   ]
  },
  {
   "cell_type": "markdown",
   "metadata": {},
   "source": [
    "### tf.Session()\n",
    "\n",
    "텐서플로우의 api는 computational graph의 형태로 설계가 되었습니다. 이것은 mathematical process를 시각화시킵니다. Session은 환경속에 있는 모든 그래프들을 작동하게 합니다. Session은 GPU나 CPU를 작동시킨다고 생각하시면 됩니다."
   ]
  },
  {
   "cell_type": "code",
   "execution_count": 3,
   "metadata": {},
   "outputs": [
    {
     "name": "stdout",
     "output_type": "stream",
     "text": [
      "b'Hello World!'\n"
     ]
    }
   ],
   "source": [
    "hello_constant = tf.constant('Hello World!')\n",
    "with tf.Session() as sess:\n",
    "    output = sess.run(hello_constant)\n",
    "    print(output)"
   ]
  },
  {
   "cell_type": "markdown",
   "metadata": {},
   "source": [
    "### tf.constant()\n",
    "\n",
    "여기서 hello constant는 0-차원의 string tensor입니다. 그러나 tensor는 다양한 사이즈로 변화가 가능합니다.\n",
    "<br>\n",
    "\n",
    "constant tensor는 tensro의 값이 바뀌지 않기 때문에 constant라는 이름이 붙게 됩니다."
   ]
  },
  {
   "cell_type": "code",
   "execution_count": 9,
   "metadata": {},
   "outputs": [],
   "source": [
    "A = tf.constant(1234)\n",
    "B = tf.constant([123,456,789]) \n",
    "C = tf.constant([ [123,456,789], [222,333,444]])"
   ]
  },
  {
   "cell_type": "markdown",
   "metadata": {},
   "source": [
    "### tf.variables\n",
    "\n",
    "뉴럴넷을 학습시킬려면 일반적으로 weights와 variable들을 가지고 학습을 시키게 됩니다. 하지만 이들은 변수입니다. 이러한 변하는 값을들 저장하는 방식을 알아봅시다.\n",
    "<br>\n",
    "\n",
    "tf.Variable은 tensor를 생성한다. 이는 일반적인 동적인 파이썬 변수와 유사하다. 이 텐서는 session에 상태를 가지고 저장된다. 따라서 반드시 init의 상태를 지정해 주어야한다."
   ]
  },
  {
   "cell_type": "code",
   "execution_count": 10,
   "metadata": {},
   "outputs": [
    {
     "data": {
      "text/plain": [
       "<tf.Variable 'Variable_2:0' shape=() dtype=int32_ref>"
      ]
     },
     "execution_count": 10,
     "metadata": {},
     "output_type": "execute_result"
    }
   ],
   "source": [
    "x = tf.Variable(5)\n",
    "x"
   ]
  },
  {
   "cell_type": "markdown",
   "metadata": {},
   "source": [
    "### tf.global_variables_initalizer()\n",
    "global variables initalizer 는 텐서플로우 변수들을 그래프로부터 모두 initalize시킨다. initalizing하는 weights 는 normal distribution으로부터 랜덤하게 부여된다. Randomizing 된 weights는 학습을 통해서 개선되게 된다."
   ]
  },
  {
   "cell_type": "code",
   "execution_count": 11,
   "metadata": {},
   "outputs": [],
   "source": [
    "init = tf.global_variables_initializer()\n",
    "with tf.Session() as sess:\n",
    "    sess.run(init)"
   ]
  },
  {
   "cell_type": "markdown",
   "metadata": {},
   "source": [
    "### tf.truncated_normal()\n",
    "\n",
    "Weight를 초기화 시킬때, 다른 weight값이 overwhelming되는것을 막아준다. 역시 normal distribution에서 값을 지정한다.\n",
    "<br>\n",
    "\n",
    "variation을 2standard deviations으로 제한하여 뽑기때문에 그렇게 큰 값이 나오지 않는다."
   ]
  },
  {
   "cell_type": "code",
   "execution_count": 12,
   "metadata": {},
   "outputs": [],
   "source": [
    "n_features = 120\n",
    "n_labels = 5\n",
    "weights = tf.Variable(tf.truncated_normal((n_features,n_labels)))"
   ]
  },
  {
   "cell_type": "code",
   "execution_count": 13,
   "metadata": {},
   "outputs": [
    {
     "data": {
      "text/plain": [
       "<tf.Variable 'Variable_3:0' shape=(120, 5) dtype=float32_ref>"
      ]
     },
     "execution_count": 13,
     "metadata": {},
     "output_type": "execute_result"
    }
   ],
   "source": [
    "weights"
   ]
  },
  {
   "cell_type": "markdown",
   "metadata": {},
   "source": [
    "### tf.zeros()\n",
    "\n",
    "일반적으로 bais 를 0 으로 놓고 시작하는 경우가 많다 이떄 사용한다."
   ]
  },
  {
   "cell_type": "code",
   "execution_count": 14,
   "metadata": {},
   "outputs": [],
   "source": [
    "n_labels = 5\n",
    "bias = tf.Variable(tf.zeros(n_labels))"
   ]
  },
  {
   "cell_type": "code",
   "execution_count": null,
   "metadata": {},
   "outputs": [],
   "source": []
  }
 ],
 "metadata": {
  "kernelspec": {
   "display_name": "python3.6",
   "language": "python",
   "name": "python3.6"
  },
  "language_info": {
   "codemirror_mode": {
    "name": "ipython",
    "version": 3
   },
   "file_extension": ".py",
   "mimetype": "text/x-python",
   "name": "python",
   "nbconvert_exporter": "python",
   "pygments_lexer": "ipython3",
   "version": "3.6.6"
  }
 },
 "nbformat": 4,
 "nbformat_minor": 2
}
