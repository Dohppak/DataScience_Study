{
 "cells": [
  {
   "cell_type": "code",
   "execution_count": 33,
   "metadata": {},
   "outputs": [],
   "source": [
    "from keras.models import Sequential\n",
    "from keras.datasets import mnist\n",
    "from keras.layers.core import Dense, Activation\n",
    "from keras.optimizers import SGD\n",
    "from keras.utils import np_utils\n",
    "import tensorflow as tf\n",
    "\n",
    "import matplotlib.pyplot as plt\n",
    "%matplotlib inline"
   ]
  },
  {
   "cell_type": "markdown",
   "metadata": {},
   "source": [
    "## Keras\n",
    "\n",
    "케라스는 tensorflow를 계산 엔진으로 사용하는 파이썬 패키지이다. 신경망 구성순서는 다음과 같다.\n",
    "1. Sequential 모형 클래스 객체 생성\n",
    "2. add 매서드로 layer 추가\n",
    "    - Dense layer 가 가장 일반적인 신경망이다\n",
    "    - 입력단부터 순차적으로 추가한다.\n",
    "    - 레이어는 출력 뉴런 갯수를 첫번째 인수로 받는다.\n",
    "    - 최초의 레이어는 input_dim 인수로 입력 크기를 설정해야한다.\n",
    "    - activate 인수로 activate 함수설정\n",
    "3. complie 매서드로 모형완성\n",
    "    - loss 인수로 loss 함수 설정\n",
    "    - optimizer 인수로 최적화 알고림즘 서렂ㅇ\n",
    "    - me†rics 인수로 트레이닝 단계에서 기록할 성능 기준 설정\n",
    "4. fit 매서드로 트레이닝\n",
    "    - epochs (nb_epoch) 로 epoch 횟수 설정\n",
    "    - batch_size를 통해 mini batch size 설정\n",
    "    - mertrics 인수로 설정 기준 기록을 출력으로 변환\n",
    "    - jupyter notebook 을 사용한다면 verbose =2 로 설정하여 progress bar가 나오지 않도록 설정한다."
   ]
  },
  {
   "cell_type": "markdown",
   "metadata": {},
   "source": [
    "__Keras.models.Seqeuntial__\n",
    "\n",
    "이 class는 wrapper 역할을 해줍니다. 신경망 구조에서 layer의 sequence를 하나의 networks로 다루게 해줍니다.\n",
    "<br>\n",
    "\n",
    "__Keras.datasets__\n",
    "\n",
    "케라스의 기본 데이터샘플입니다."
   ]
  },
  {
   "cell_type": "code",
   "execution_count": 29,
   "metadata": {},
   "outputs": [
    {
     "name": "stdout",
     "output_type": "stream",
     "text": [
      "(60000, 28, 28) (10000, 28, 28)\n"
     ]
    }
   ],
   "source": [
    "(X_train0, y_train0), (X_test0, y_test0) = mnist.load_data()\n",
    "print(X_train0.shape, X_test0.shape)"
   ]
  },
  {
   "cell_type": "code",
   "execution_count": 30,
   "metadata": {},
   "outputs": [
    {
     "data": {
      "image/png": "[encoded data removed]",
      "text/plain": [
       "<Figure size 144x144 with 1 Axes>"
      ]
     },
     "metadata": {
      "needs_background": "light"
     },
     "output_type": "display_data"
    }
   ],
   "source": [
    "plt.figure(figsize=(2,2))\n",
    "plt.imshow(X_train0[2])\n",
    "plt.show()"
   ]
  },
  {
   "cell_type": "code",
   "execution_count": 31,
   "metadata": {},
   "outputs": [
    {
     "name": "stdout",
     "output_type": "stream",
     "text": [
      "(60000, 784) (10000, 784)\n"
     ]
    }
   ],
   "source": [
    "# change data type and Scaling\n",
    "X_train = X_train0.reshape(60000, 784).astype('float32') /255.0\n",
    "X_test = X_test0.reshape(10000, 784).astype('float32') /255.0\n",
    "print( X_train.shape, X_test.shape)"
   ]
  },
  {
   "cell_type": "code",
   "execution_count": 32,
   "metadata": {},
   "outputs": [
    {
     "data": {
      "text/plain": [
       "array([[0., 0., 0., 0., 0., 1., 0., 0., 0., 0.],\n",
       "       [1., 0., 0., 0., 0., 0., 0., 0., 0., 0.],\n",
       "       [0., 0., 0., 0., 1., 0., 0., 0., 0., 0.],\n",
       "       [0., 1., 0., 0., 0., 0., 0., 0., 0., 0.],\n",
       "       [0., 0., 0., 0., 0., 0., 0., 0., 0., 1.]], dtype=float32)"
      ]
     },
     "execution_count": 32,
     "metadata": {},
     "output_type": "execute_result"
    }
   ],
   "source": [
    "# one_hot encoding\n",
    "\n",
    "Y_train = np_utils.to_categorical(y_train0,10)\n",
    "Y_test = np_utils.to_categorical(y_test0,10)\n",
    "Y_train[0:5]"
   ]
  },
  {
   "cell_type": "markdown",
   "metadata": {},
   "source": [
    "####  layer 설계\n",
    "\n",
    "케라스에서 NN networks layers에 대한 인터페이스 제공은 다양합니다. fully connected layers, max pool layers, activate layers 등등 사용이 가능하며, __add()__ 함수를 통해 추가가 가능합니다."
   ]
  },
  {
   "cell_type": "code",
   "execution_count": 37,
   "metadata": {},
   "outputs": [],
   "source": [
    "np.random.seed(0)\n",
    "\n",
    "# Create the Sequential model\n",
    "model = Sequential()\n",
    "\n",
    "# addd layers\n",
    "\n",
    "model.add(Dense(15, input_dim = X_train.shape[1], activation=\"sigmoid\"))\n",
    "model.add(Dense(10, activation=\"sigmoid\"))\n",
    "model.compile(optimizer=SGD(lr=0.2), loss='mean_squared_error', metrics=[\"accuracy\"])"
   ]
  },
  {
   "cell_type": "code",
   "execution_count": 38,
   "metadata": {},
   "outputs": [
    {
     "name": "stdout",
     "output_type": "stream",
     "text": [
      "_________________________________________________________________\n",
      "Layer (type)                 Output Shape              Param #   \n",
      "=================================================================\n",
      "dense_7 (Dense)              (None, 15)                11775     \n",
      "_________________________________________________________________\n",
      "dense_8 (Dense)              (None, 10)                160       \n",
      "=================================================================\n",
      "Total params: 11,935\n",
      "Trainable params: 11,935\n",
      "Non-trainable params: 0\n",
      "_________________________________________________________________\n"
     ]
    }
   ],
   "source": [
    "model.summary()"
   ]
  },
  {
   "cell_type": "code",
   "execution_count": 41,
   "metadata": {
    "scrolled": true
   },
   "outputs": [
    {
     "name": "stdout",
     "output_type": "stream",
     "text": [
      "Train on 60000 samples, validate on 10000 samples\n",
      "Epoch 1/30\n",
      " - 1s - loss: 0.0263 - acc: 0.8821 - val_loss: 0.0253 - val_acc: 0.8880\n",
      "Epoch 2/30\n",
      " - 1s - loss: 0.0258 - acc: 0.8834 - val_loss: 0.0248 - val_acc: 0.8905\n",
      "Epoch 3/30\n",
      " - 1s - loss: 0.0253 - acc: 0.8851 - val_loss: 0.0243 - val_acc: 0.8909\n",
      "Epoch 4/30\n",
      " - 1s - loss: 0.0249 - acc: 0.8866 - val_loss: 0.0239 - val_acc: 0.8922\n",
      "Epoch 5/30\n",
      " - 1s - loss: 0.0244 - acc: 0.8878 - val_loss: 0.0234 - val_acc: 0.8940\n",
      "Epoch 6/30\n",
      " - 1s - loss: 0.0240 - acc: 0.8893 - val_loss: 0.0231 - val_acc: 0.8946\n",
      "Epoch 7/30\n",
      " - 1s - loss: 0.0236 - acc: 0.8904 - val_loss: 0.0227 - val_acc: 0.8961\n",
      "Epoch 8/30\n",
      " - 1s - loss: 0.0233 - acc: 0.8915 - val_loss: 0.0224 - val_acc: 0.8966\n",
      "Epoch 9/30\n",
      " - 1s - loss: 0.0229 - acc: 0.8925 - val_loss: 0.0220 - val_acc: 0.8980\n",
      "Epoch 10/30\n",
      " - 1s - loss: 0.0226 - acc: 0.8932 - val_loss: 0.0217 - val_acc: 0.8994\n",
      "Epoch 11/30\n",
      " - 1s - loss: 0.0223 - acc: 0.8943 - val_loss: 0.0214 - val_acc: 0.9002\n",
      "Epoch 12/30\n",
      " - 1s - loss: 0.0220 - acc: 0.8949 - val_loss: 0.0212 - val_acc: 0.9008\n",
      "Epoch 13/30\n",
      " - 1s - loss: 0.0217 - acc: 0.8958 - val_loss: 0.0209 - val_acc: 0.9015\n",
      "Epoch 14/30\n",
      " - 1s - loss: 0.0215 - acc: 0.8966 - val_loss: 0.0207 - val_acc: 0.9017\n",
      "Epoch 15/30\n",
      " - 1s - loss: 0.0212 - acc: 0.8973 - val_loss: 0.0204 - val_acc: 0.9024\n",
      "Epoch 16/30\n",
      " - 1s - loss: 0.0210 - acc: 0.8982 - val_loss: 0.0202 - val_acc: 0.9030\n",
      "Epoch 17/30\n",
      " - 1s - loss: 0.0208 - acc: 0.8991 - val_loss: 0.0200 - val_acc: 0.9026\n",
      "Epoch 18/30\n",
      " - 1s - loss: 0.0206 - acc: 0.8996 - val_loss: 0.0198 - val_acc: 0.9028\n",
      "Epoch 19/30\n",
      " - 1s - loss: 0.0204 - acc: 0.9005 - val_loss: 0.0196 - val_acc: 0.9038\n",
      "Epoch 20/30\n",
      " - 1s - loss: 0.0202 - acc: 0.9010 - val_loss: 0.0194 - val_acc: 0.9045\n",
      "Epoch 21/30\n",
      " - 1s - loss: 0.0200 - acc: 0.9016 - val_loss: 0.0192 - val_acc: 0.9045\n",
      "Epoch 22/30\n",
      " - 1s - loss: 0.0198 - acc: 0.9021 - val_loss: 0.0191 - val_acc: 0.9048\n",
      "Epoch 23/30\n",
      " - 1s - loss: 0.0196 - acc: 0.9027 - val_loss: 0.0189 - val_acc: 0.9058\n",
      "Epoch 24/30\n",
      " - 1s - loss: 0.0195 - acc: 0.9034 - val_loss: 0.0187 - val_acc: 0.9059\n",
      "Epoch 25/30\n",
      " - 1s - loss: 0.0193 - acc: 0.9037 - val_loss: 0.0186 - val_acc: 0.9069\n",
      "Epoch 26/30\n",
      " - 1s - loss: 0.0191 - acc: 0.9042 - val_loss: 0.0184 - val_acc: 0.9070\n",
      "Epoch 27/30\n",
      " - 1s - loss: 0.0190 - acc: 0.9044 - val_loss: 0.0183 - val_acc: 0.9078\n",
      "Epoch 28/30\n",
      " - 1s - loss: 0.0188 - acc: 0.9050 - val_loss: 0.0182 - val_acc: 0.9080\n",
      "Epoch 29/30\n",
      " - 1s - loss: 0.0187 - acc: 0.9053 - val_loss: 0.0180 - val_acc: 0.9083\n",
      "Epoch 30/30\n",
      " - 1s - loss: 0.0186 - acc: 0.9059 - val_loss: 0.0179 - val_acc: 0.9084\n"
     ]
    }
   ],
   "source": [
    "# Fitting the model\n",
    "history = model.fit(X_train, Y_train, epochs=30, batch_size=100, \\\n",
    "                    validation_data=(X_test, Y_test), verbose=2)"
   ]
  },
  {
   "cell_type": "code",
   "execution_count": 43,
   "metadata": {},
   "outputs": [
    {
     "data": {
      "text/plain": [
       "[<matplotlib.lines.Line2D at 0xb2fc65b00>]"
      ]
     },
     "execution_count": 43,
     "metadata": {},
     "output_type": "execute_result"
    },
    {
     "data": {
      "image/png": "[encoded data removed]",
      "text/plain": [
       "<Figure size 432x288 with 1 Axes>"
      ]
     },
     "metadata": {
      "needs_background": "light"
     },
     "output_type": "display_data"
    }
   ],
   "source": [
    "plt.plot(history.history['loss'])"
   ]
  },
  {
   "cell_type": "code",
   "execution_count": 44,
   "metadata": {},
   "outputs": [
    {
     "data": {
      "image/png": "[encoded data removed]",
      "text/plain": [
       "<Figure size 432x288 with 1 Axes>"
      ]
     },
     "metadata": {
      "needs_background": "light"
     },
     "output_type": "display_data"
    }
   ],
   "source": [
    "plt.plot(history.history['acc'], 'b-', label=\"training\")\n",
    "plt.plot(history.history['val_acc'], 'r:', label=\"test\")\n",
    "plt.show()"
   ]
  },
  {
   "cell_type": "code",
   "execution_count": 50,
   "metadata": {},
   "outputs": [
    {
     "data": {
      "text/plain": [
       "<matplotlib.image.AxesImage at 0xb2fdd0860>"
      ]
     },
     "execution_count": 50,
     "metadata": {},
     "output_type": "execute_result"
    },
    {
     "data": {
      "image/png": "[encoded data removed]",
      "text/plain": [
       "<Figure size 432x288 with 1 Axes>"
      ]
     },
     "metadata": {
      "needs_background": "light"
     },
     "output_type": "display_data"
    }
   ],
   "source": [
    "plt.imshow(X_test0[0])"
   ]
  },
  {
   "cell_type": "code",
   "execution_count": 52,
   "metadata": {},
   "outputs": [
    {
     "data": {
      "text/plain": [
       "array([[0.00682016, 0.00597485, 0.00914746, 0.0222273 , 0.0048939 ,\n",
       "        0.03155379, 0.00646906, 0.96634233, 0.00233015, 0.01812094]],\n",
       "      dtype=float32)"
      ]
     },
     "execution_count": 52,
     "metadata": {},
     "output_type": "execute_result"
    }
   ],
   "source": [
    "model.predict(X_test[:1,:])"
   ]
  },
  {
   "cell_type": "code",
   "execution_count": 53,
   "metadata": {},
   "outputs": [
    {
     "data": {
      "text/plain": [
       "array([7])"
      ]
     },
     "execution_count": 53,
     "metadata": {},
     "output_type": "execute_result"
    }
   ],
   "source": [
    "model.predict_classes(X_test[:1,:])"
   ]
  },
  {
   "cell_type": "code",
   "execution_count": null,
   "metadata": {},
   "outputs": [],
   "source": []
  }
 ],
 "metadata": {
  "kernelspec": {
   "display_name": "python3.6",
   "language": "python",
   "name": "python3.6"
  },
  "language_info": {
   "codemirror_mode": {
    "name": "ipython",
    "version": 3
   },
   "file_extension": ".py",
   "mimetype": "text/x-python",
   "name": "python",
   "nbconvert_exporter": "python",
   "pygments_lexer": "ipython3",
   "version": "3.6.6"
  }
 },
 "nbformat": 4,
 "nbformat_minor": 2
}
