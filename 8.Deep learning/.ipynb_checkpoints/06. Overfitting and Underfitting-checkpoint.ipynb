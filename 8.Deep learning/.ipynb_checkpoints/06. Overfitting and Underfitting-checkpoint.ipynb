{
 "cells": [
  {
   "cell_type": "markdown",
   "metadata": {},
   "source": [
    "## Overfitting과 Underfitting"
   ]
  },
  {
   "cell_type": "markdown",
   "metadata": {},
   "source": [
    "overfitting과 underfitting은 모형에 Justright하지않은 모형의 복잡도 혹은 모형의 학습횟수에 따라서 결정이 된다.\n",
    "\n",
    "#### Question\n",
    "- 애초에 모형이 너무 복잡하게 설계 되었기 떄문에 발생한 것이다?\n",
    "- Epoch가 증가에 따라서 판별함수가 너무 fit해졌다?"
   ]
  },
  {
   "cell_type": "markdown",
   "metadata": {},
   "source": [
    "![of1](img/06.of1.png)"
   ]
  },
  {
   "cell_type": "markdown",
   "metadata": {},
   "source": [
    "### Epoch 증가의 경우\n",
    "\n",
    "- Underfitting : Training Error, Test Error의 차이가 거의 적고, Error의 크기가 매우 크다. (High Bias)\n",
    "- Just right : Training error 는 작고, test error 역시 작다 매우 이상적인 상태이다. \n",
    "- Overfitting : Training error는 작고, test error 는 큰 상태이다. (High Variance)"
   ]
  },
  {
   "cell_type": "markdown",
   "metadata": {},
   "source": [
    "![of2](img/06.of2.png)"
   ]
  },
  {
   "cell_type": "markdown",
   "metadata": {},
   "source": [
    "### More about Error\n",
    "\n",
    "- Noise : 관측에서 오는 에러 (통제 불가), 확률프로세스이거나, 관측이 안된 무언가가 있거나\n",
    "- Bias : 타겟 함수($y$) - 추정함수($\\hat{y}$)의 평균의 차이이다.\n",
    "- Variance : 추정 평균과 추정값의 차이이다."
   ]
  },
  {
   "cell_type": "markdown",
   "metadata": {},
   "source": [
    "### How we detact Over & Underfitting\n",
    "\n",
    "전체 데이터 셋을 Test, Train, Validation set으로 나누어서 cross validation을 진행한다.\n",
    "\n",
    "- 3개의 데이터셋 분포를 파악해야한다. Sampling에 따른 모집단의 추종여부를 확인할 것!\n",
    "\n",
    "- High Bias : Underfitting, 모델의 퍼포먼스가 좋지않다.\n",
    "    - Sol : 모델의 복잡도를 높이거나 Epoch를 증가시킨다.\n",
    "- High Variance : Overfitting, Train set에 fit하다.\n",
    "    - Overfitting이 발생하는 곳에서 Early stopping을 한다.\n",
    "    - Sol : 데이터의 갯수를 늘리거나, Regulariazation을 사용한다."
   ]
  },
  {
   "cell_type": "markdown",
   "metadata": {},
   "source": [
    "### Large Weight & Overfitting\n",
    "\n",
    "- Large Weight 가 overfitting을 만든다.\n",
    "- Regularization을 해주자!"
   ]
  },
  {
   "cell_type": "markdown",
   "metadata": {},
   "source": [
    "![LW](img/06.LW.png)"
   ]
  },
  {
   "cell_type": "markdown",
   "metadata": {},
   "source": [
    "![RG](img/06.RG.png)"
   ]
  },
  {
   "cell_type": "markdown",
   "metadata": {},
   "source": [
    "### How we solve Over & Underfitting"
   ]
  },
  {
   "cell_type": "markdown",
   "metadata": {},
   "source": [
    "- Regluarlization\n",
    "- Dropout\n",
    "- Random Restart\n",
    "- Stocastic Gradient Decsent & Batch Size"
   ]
  },
  {
   "cell_type": "markdown",
   "metadata": {},
   "source": [
    "- Decay : 스텝 사이즈를 감소\n",
    "- Momentum : 진행하던 방향으로 좀더 진행 (local을 피해보자)\n",
    "- Nesterov Momentum : 모멘텀으로 이동한 후 다시 그레디언티를\n",
    "\n",
    "### Optimization\n",
    "\n",
    "- RMSProp : 누적 변화를 지수평균으로 계산\n",
    "- AdaDelta : \n",
    "- Adagrad(adaptive grdient) : 많이 이동한 가중치는 적게 변화"
   ]
  }
 ],
 "metadata": {
  "kernelspec": {
   "display_name": "Python 3",
   "language": "python",
   "name": "python3"
  },
  "language_info": {
   "codemirror_mode": {
    "name": "ipython",
    "version": 3
   },
   "file_extension": ".py",
   "mimetype": "text/x-python",
   "name": "python",
   "nbconvert_exporter": "python",
   "pygments_lexer": "ipython3",
   "version": "3.6.6"
  }
 },
 "nbformat": 4,
 "nbformat_minor": 2
}
