{
 "cells": [
  {
   "cell_type": "markdown",
   "metadata": {},
   "source": [
    "reference\n",
    "- http://taewan.kim/post/cnn/\n",
    "- http://bcho.tistory.com/1149"
   ]
  },
  {
   "cell_type": "markdown",
   "metadata": {},
   "source": [
    "## Convolutional Neural Network\n",
    "\n",
    "이미지 분류를 위한 신경망 구조, 세상의 실제 이미지들은 생각보다 정형화 되어있지 않습니다. 따라서 컴퓨터가 다른 구도의 같은 이미지를 이해하려면 많은 학습량이 필요하게 됩니다. 이 뜻은 파라미터의 크기가 엄청나게 커진다는 것입니다.\n",
    "<br>\n",
    "\n",
    "이러한 문제를 해결하기 위해서, 처음에는 가장 기초가 되는 특징을 확인하고, 그 특징들을 조합하여, 복잡한 특징이 존재하는지를 살펴본 뒤, 마지막으로 물체를 분류하고자 했습니다.\n",
    "<br>\n",
    "\n",
    "CNN은 기존의 Fully Connected NerualNetwork와 비교하여 다음과 같은 차별성을 갖습니다.\n",
    "- 각 레이어의 입출력 데이터의 형상 유지\n",
    "- 이미지의 공간 정보를 유지하면서 인접 이미지와의 특징을 효과적으로 인식\n",
    "- 복수의 필터로 이미지의 특징 추출 및 학습\n",
    "- 추출한 이미지의 특징을 모으고 강화하는 Pooling 레이어\n",
    "- 필터를 공유 파라미터로 사용하기 때문에, 일반 신공망에 비해 학습 파라미터가 매우 적음\n",
    "<br>"
   ]
  },
  {
   "cell_type": "markdown",
   "metadata": {},
   "source": [
    "![img](img/10.CNN.png)"
   ]
  },
  {
   "cell_type": "markdown",
   "metadata": {},
   "source": [
    "CNN 은 이미지의 __특징을 추출__ 하는 부분과 __클래스를 분류__ 하는 부분으로 나눌 수 있습니다. \n",
    "\n",
    "<br>\n",
    "\n",
    "__특징 추출__ : Convolution Layer,Pooling Layer\n",
    "\n",
    "입력 데이터를 필터가 순회하며 합성곱을 계산하고, 그 계산 결과를 이용하여 Feature map을 만듭니다. Convolution Layer는 Filter 크기, Stride, Padding 적용여부, Max Pooling의 크기에 따라서 출력 데이터의 Shape이 결정됩니다. \n",
    "\n",
    "- Convolution Layer : 입력데이터에 필터를 적용 후 확성함수를 반영하는 필수 요소입니다.\n",
    "- Pooling Layer :\n",
    "\n",
    "<br>\n",
    "\n",
    "__클래스 분류__ : Fully Connected 레이어\n"
   ]
  },
  {
   "cell_type": "markdown",
   "metadata": {},
   "source": [
    "### 1.Convolution\n",
    "\n",
    "> 합성곱은 두 함수 f,g가운데 하나의 함수를 reverse, shift 시킨 다음에 다른 하나의 함수와 곱한 결과를 적분하는 것을 의미한다.\n",
    "\n",
    "컨볼루션 레이어는 입력데이터로부터 특징을 추출하는 역할을 합니다. 컨볼루션 레이어는 특징을 추출하는 필터(Fliter)와, 값을 비선형 값으로 바꾸어주는 확성함수로 이루어져 있습니다."
   ]
  },
  {
   "cell_type": "markdown",
   "metadata": {},
   "source": [
    "![img](img/10.CNN1.png)"
   ]
  },
  {
   "cell_type": "markdown",
   "metadata": {},
   "source": [
    "### 2. Filter\n",
    "\n",
    "필터는 그 특징이 데이터에 있는지 없는지를 검출해주는 함수이다. 필터는 행렬로서 정의가 된다. 필터는 입력받은 데이터에서 그 특성을 가지고 있으면 큰값이 나오고, 특성이 없다면 결과값이 0에 가까운 값이 나오게 되서, 해당 특성이 있는지를 파악하게 해준다.\n",
    "<br>\n",
    "\n",
    "__Filter & Kernel?__\n",
    "<br>\n",
    "또한 필터는 이미지의 특징을 찾아내기 위한 공용 파라미터이기도 합니다. CNN에서 Filter와 Kernel 은 비슷한 의미로 사용됩니다. 필터는 지정된 간격으로 이동하면서, 전체 입력데이터와의 합성곱으로 하여 Feature Map을 만듭니다. "
   ]
  },
  {
   "cell_type": "markdown",
   "metadata": {},
   "source": [
    "![img](img/10.CNN2.png)"
   ]
  },
  {
   "cell_type": "markdown",
   "metadata": {},
   "source": [
    "__Stride__\n",
    "<br>\n",
    "필터는 입력데이터를 지정한 간격으로 순회하면서 합성곱을 계산합니다. 이때 필터를 순회하는 간격을 Stride라고 합니다.\n",
    "<br>\n",
    "\n",
    "__Padding__\n",
    "<br>\n",
    "패딩은 Feature Map의 크기가 입력데이터보다 작아지는 현상을 방지하는 방법입니다. 출력데이터와 입력데이터의 크기를 갖게 만들기 위해, 입력 데이터의 외각에 지정된 픽셀만큼 특정 값으로 채워 넣는 것을 의미합니다.\n",
    "<br>\n",
    "만약 입력 데이터가 여러 채널을 갖을 경우, 필터는 각 채널을 순회하며, 합성곱을 계산한 후, 채널별 피처 맵을 만듭니다. 각 채널별 피처 맵을 합산하여, 최종 피처 맵을 반환합니다. 따라서 입력 데이터는 채널 수와 상관없이 필터 별로 하나의 피처맵을 구성합니다."
   ]
  },
  {
   "cell_type": "markdown",
   "metadata": {},
   "source": [
    "__Activation Function__\n",
    "<br>\n",
    "Feature Map이 추출된 이후에는, Activation function 이 적용하게 된다. 정량적으로 나와있는 Feautre Map을 \"있다, 없다\"와 같은 비선형 값으로 바꿔주는 과정이 들어간다."
   ]
  },
  {
   "cell_type": "markdown",
   "metadata": {},
   "source": [
    "![img](img/10.CNN3.jpg)"
   ]
  },
  {
   "cell_type": "markdown",
   "metadata": {},
   "source": [
    "각 Convolution Layer 의 입력 데이터를 필터가 순회하며 합성곱을 통해서 만든 출력을 Feature Map 또는 Activation Map 이라고 합니다. "
   ]
  },
  {
   "cell_type": "markdown",
   "metadata": {},
   "source": [
    "### 3. Pooling Layer\n",
    "\n",
    "풀링레이어는 컨폴루션 레이어의 출력데이터를 입력으로 받아서 출력 데이터(Feature Map)의 크기를 줄이거나 특정 데이터를 강조하는 용도로 사용합니다. \n",
    "- Max Pooling\n",
    "- Average Pooling\n",
    "- Min Pooling\n",
    "\n",
    "위 풀링 레이어들은 Convolution layer 와 비교하여 다음과 같은 특징이 있습니다.\n",
    "- 학습대상 파라미터가 없음\n",
    "- 풀링 레이어를 통과하면 행렬의 크기가 감소\n",
    "- Pooling 레이어를 통해서 채널의 수 변경이 없음"
   ]
  },
  {
   "cell_type": "markdown",
   "metadata": {},
   "source": [
    "![img](img/10.CNN3.png)"
   ]
  },
  {
   "cell_type": "markdown",
   "metadata": {},
   "source": [
    "### 5. 레이어별 출력 데이터의 크기를 계산해보자.\n",
    "\n",
    "__Convolution layer 의 크기에 따른 Feature Map__\n",
    "<br>\n",
    "주요용어\n",
    "\n",
    "- 입력 데이터 높이: H\n",
    "- 입력 데이터 폭: W\n",
    "- 필터 높이: FH\n",
    "- 필터 폭: FW\n",
    "- Strid 크기: S\n",
    "- 패딩 사이즈: P\n",
    "\n",
    "$$\n",
    "\\begin{align}\n",
    "OutputHeight & = OH = \\frac{(H + 2P - FH)}{S} + 1 \\\\ \n",
    "OutputWeight & = OW = \\frac{(W + 2P - FW)}{S} + 1\n",
    "\\end{align}\n",
    "$$\n",
    "\n",
    "Convolution layer 다음에 Pooling layer가 온다면 , Feature Map의 행ㄷ과 열의 크기는 Pooling 크기의 배수여야합니다. \n",
    "\n",
    "<br>\n",
    "\n",
    "__Pooling layer 의 사이즈를 결정__\n",
    "\n",
    "pooling layer 는 정사각형의 사이즈입니다. Pooling 사이즈를 Stride 사이즈와 같은 크기로 만든다면, 모든 요소가 Pooling 에 관여할 수 있습니다. \n",
    "\n",
    "$$\n",
    "\\begin{align}\n",
    "OutputRowSize & = \\frac{InputRowSize}{PoolingSize} \\\\ \n",
    "OutputColumnSize & = \\frac{InputColumnSize}{PoolingSize}\n",
    "\\end{align}\n",
    "$$"
   ]
  },
  {
   "cell_type": "markdown",
   "metadata": {},
   "source": [
    "### Fully Connected Layer\n",
    "\n",
    "컨볼류션 계층에서 특징이 추출되었다면, 추출된 값을 기존의 뉴럴 넷에 넣어서 분류를 한다.\n",
    "<br>\n",
    "\n",
    "__SoftMax__\n",
    "<br>\n",
    "Activation 함수중 하나이지만, 일반적으로 Multiclass Classification에 사용된다. y range 가 확률 도메인으로 결정되며, X 값에 따라서 모든 class의 확률값을 return 한다.\n",
    "<br>\n",
    "\n",
    "__Dropout__\n",
    "<br>\n",
    "CNN 그래프에서 Softmax로 가기전에 Dropout 계층이 있다. 이는 over-fitting을 방지하기 위해 뉴럴 넷이 학습중일때, 랜덤하게 뉴런을 꺼서 학습을 방지하는 기법이다."
   ]
  },
  {
   "cell_type": "code",
   "execution_count": null,
   "metadata": {},
   "outputs": [],
   "source": []
  }
 ],
 "metadata": {
  "kernelspec": {
   "display_name": "python3.6",
   "language": "python",
   "name": "python3.6"
  },
  "language_info": {
   "codemirror_mode": {
    "name": "ipython",
    "version": 3
   },
   "file_extension": ".py",
   "mimetype": "text/x-python",
   "name": "python",
   "nbconvert_exporter": "python",
   "pygments_lexer": "ipython3",
   "version": "3.6.6"
  }
 },
 "nbformat": 4,
 "nbformat_minor": 2
}
