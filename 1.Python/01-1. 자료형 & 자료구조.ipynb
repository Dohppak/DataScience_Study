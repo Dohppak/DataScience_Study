{
 "cells": [
  {
   "cell_type": "markdown",
   "metadata": {
    "collapsed": true
   },
   "source": [
    "# 01-1. 자료형(data type)\n",
    "\n",
    "### 객체는 자료형을 가지게 됩니다!\n",
    "- data type indicates how to store or use data\n",
    "- More efficient in terms of memory size and computational speed\n",
    "- Built-in data type\n",
    "- number, str, bool"
   ]
  },
  {
   "cell_type": "markdown",
   "metadata": {},
   "source": [
    "### 데이터와 연산\n",
    "\n",
    "#### 데이터\n",
    "- 데이터에는 형태가 있습니다 : int, float, str, bool\n",
    "- 데이터는 변수로 저장이 가능합니다 : reuse of values\n",
    "- 자료구조 : 하나 이상의 데이터를 하나의 변수에 저장하는방식\n",
    "\n",
    "#### 연산\n",
    "- 연산 : +-/....\n",
    "- 조건문\n",
    "- 함수\n",
    "- 반복문"
   ]
  },
  {
   "cell_type": "markdown",
   "metadata": {},
   "source": [
    "# 1. 숫자 자료형 (int, float)\n",
    "유효수자와 소수점의 위치를 나타내는 지수의 곱으로 표현된다.\n",
    "\n",
    "> #### 유효숫자 e지수 = 유효숫자 x 10^지수\n",
    "> #### 유효숫자 j = 허수를 나타낸다"
   ]
  },
  {
   "cell_type": "code",
   "execution_count": 113,
   "metadata": {},
   "outputs": [
    {
     "name": "stdout",
     "output_type": "stream",
     "text": [
      "a = 5\n",
      "adding = 7\n",
      "didivide = 2.5\n",
      "power = 25\n",
      "mock = 2\n",
      "remainder = 1\n"
     ]
    }
   ],
   "source": [
    "a = 5\n",
    "b = 2\n",
    "\n",
    "# 더하기 +\n",
    "adding = a+b\n",
    "\n",
    "# 곱하기\n",
    "multiply =a*b\n",
    "\n",
    "# 나누기 /\n",
    "divide = a/b\n",
    "\n",
    "# 거듭제곱\n",
    "power = a**b\n",
    "\n",
    "# 몫\n",
    "mock = a//b\n",
    "\n",
    "# 나머지\n",
    "remainder = a%b\n",
    "\n",
    "print('a =',a)\n",
    "print('adding =',adding)\n",
    "print('didivide =',divide)\n",
    "print('power =',power)\n",
    "print('mock =',mock)\n",
    "print('remainder =',remainder)"
   ]
  },
  {
   "cell_type": "code",
   "execution_count": 114,
   "metadata": {},
   "outputs": [
    {
     "data": {
      "text/plain": [
       "123000.0"
      ]
     },
     "execution_count": 114,
     "metadata": {},
     "output_type": "execute_result"
    }
   ],
   "source": [
    "123e3"
   ]
  },
  {
   "cell_type": "code",
   "execution_count": 115,
   "metadata": {},
   "outputs": [
    {
     "data": {
      "text/plain": [
       "0.123"
      ]
     },
     "execution_count": 115,
     "metadata": {},
     "output_type": "execute_result"
    }
   ],
   "source": [
    "123e-3"
   ]
  },
  {
   "cell_type": "code",
   "execution_count": 116,
   "metadata": {},
   "outputs": [
    {
     "data": {
      "text/plain": [
       "1.23456e-08"
      ]
     },
     "execution_count": 116,
     "metadata": {},
     "output_type": "execute_result"
    }
   ],
   "source": [
    "123.456e-10"
   ]
  },
  {
   "cell_type": "code",
   "execution_count": 117,
   "metadata": {},
   "outputs": [
    {
     "data": {
      "text/plain": [
       "False"
      ]
     },
     "execution_count": 117,
     "metadata": {},
     "output_type": "execute_result"
    }
   ],
   "source": [
    "0.1 + 0.2 == 0.3"
   ]
  },
  {
   "cell_type": "code",
   "execution_count": 133,
   "metadata": {},
   "outputs": [
    {
     "data": {
      "text/plain": [
       "'%.1f'"
      ]
     },
     "execution_count": 133,
     "metadata": {},
     "output_type": "execute_result"
    }
   ],
   "source": [
    "%precision 1"
   ]
  },
  {
   "cell_type": "code",
   "execution_count": 134,
   "metadata": {},
   "outputs": [
    {
     "data": {
      "text/plain": [
       "0.3"
      ]
     },
     "execution_count": 134,
     "metadata": {},
     "output_type": "execute_result"
    }
   ],
   "source": [
    "0.3"
   ]
  },
  {
   "cell_type": "code",
   "execution_count": 135,
   "metadata": {},
   "outputs": [
    {
     "data": {
      "text/plain": [
       "'%r'"
      ]
     },
     "execution_count": 135,
     "metadata": {},
     "output_type": "execute_result"
    }
   ],
   "source": [
    "%precision %r"
   ]
  },
  {
   "cell_type": "markdown",
   "metadata": {},
   "source": [
    "### 반올림\n",
    "\n",
    "#### round = 유효숫자를 지정한 반올림을 한 후 비교해야한다. 소숫점 이하 유효숫자의 갯수를 받는다"
   ]
  },
  {
   "cell_type": "code",
   "execution_count": 136,
   "metadata": {},
   "outputs": [
    {
     "data": {
      "text/plain": [
       "True"
      ]
     },
     "execution_count": 136,
     "metadata": {},
     "output_type": "execute_result"
    }
   ],
   "source": [
    "round (0.1 + 0.2, 5) == round (0.3, 5)"
   ]
  },
  {
   "cell_type": "markdown",
   "metadata": {},
   "source": [
    "### 형변환\n",
    "\n",
    "- int 명령\n",
    "- float 명령\n"
   ]
  },
  {
   "cell_type": "code",
   "execution_count": 137,
   "metadata": {},
   "outputs": [
    {
     "data": {
      "text/plain": [
       "1"
      ]
     },
     "execution_count": 137,
     "metadata": {},
     "output_type": "execute_result"
    }
   ],
   "source": [
    "int(1.0)"
   ]
  },
  {
   "cell_type": "code",
   "execution_count": 138,
   "metadata": {},
   "outputs": [
    {
     "data": {
      "text/plain": [
       "3"
      ]
     },
     "execution_count": 138,
     "metadata": {},
     "output_type": "execute_result"
    }
   ],
   "source": [
    "int(3.14)"
   ]
  },
  {
   "cell_type": "code",
   "execution_count": 139,
   "metadata": {},
   "outputs": [
    {
     "data": {
      "text/plain": [
       "3"
      ]
     },
     "execution_count": 139,
     "metadata": {},
     "output_type": "execute_result"
    }
   ],
   "source": [
    "int(3.9)"
   ]
  },
  {
   "cell_type": "markdown",
   "metadata": {},
   "source": [
    "### 풀어보자 연습문제!\n",
    "\n",
    "\n",
    "> 48320 $-$ (365 $-$ 5 X 9) $%$ 16 X 987 = ?\n",
    "<br/>\n",
    "> ((34 $-$ 3 X 7)$%$5$+$4)^2=?"
   ]
  },
  {
   "cell_type": "code",
   "execution_count": 145,
   "metadata": {},
   "outputs": [
    {
     "name": "stdout",
     "output_type": "stream",
     "text": [
      "28580.0\n",
      "49\n"
     ]
    }
   ],
   "source": [
    "print(48320-(365-5*9)/16*987)\n",
    "print(((34-3*7)%5+4)**2)"
   ]
  },
  {
   "cell_type": "markdown",
   "metadata": {},
   "source": [
    "## 재밌는 연습문제!\n",
    "\n",
    "1.다음(Daum)의 주가가 89,000원이고, 네이버(Naver)의 주가가 751,000이라고 하자, 어떤 사람이 다음주식 100주와 네이버 주식 20주를 가지고 있을때, 그 사람이 가지고 있는 주식의 총액은?"
   ]
  },
  {
   "cell_type": "markdown",
   "metadata": {},
   "source": [
    "2.만약 다음과 네이버의 주가가 5%와 10% 하락한 경우에 손실액을 구하세요."
   ]
  },
  {
   "cell_type": "markdown",
   "metadata": {},
   "source": [
    "3.월요일에 네이버의 주가가 100만원으로 시작해 3일 연속 하한가(-30%)를 기록했을때 수요일의 종가는?"
   ]
  },
  {
   "cell_type": "markdown",
   "metadata": {},
   "source": [
    "-----------------------------"
   ]
  },
  {
   "cell_type": "code",
   "execution_count": 141,
   "metadata": {},
   "outputs": [
    {
     "name": "stdout",
     "output_type": "stream",
     "text": [
      "23920000\n"
     ]
    }
   ],
   "source": [
    "daum = 89000\n",
    "naver = 751000\n",
    "total = daum*100 +naver*20\n",
    "print(total)"
   ]
  },
  {
   "cell_type": "code",
   "execution_count": 142,
   "metadata": {},
   "outputs": [
    {
     "name": "stdout",
     "output_type": "stream",
     "text": [
      "1947000.0\n"
     ]
    }
   ],
   "source": [
    "loss = (daum * 0.05 * 100) + (naver * 0.1 * 20)\n",
    "print(loss)"
   ]
  },
  {
   "cell_type": "code",
   "execution_count": 143,
   "metadata": {},
   "outputs": [
    {
     "name": "stdout",
     "output_type": "stream",
     "text": [
      "342999.99999999994\n"
     ]
    }
   ],
   "source": [
    "monday_open = 1000000\n",
    "wednesday_close = monday_open * (0.7)**3\n",
    "print(wednesday_close)"
   ]
  },
  {
   "cell_type": "code",
   "execution_count": 148,
   "metadata": {},
   "outputs": [
    {
     "data": {
      "text/plain": [
       "342999"
      ]
     },
     "execution_count": 148,
     "metadata": {},
     "output_type": "execute_result"
    }
   ],
   "source": [
    "int(wednesday_close)"
   ]
  },
  {
   "cell_type": "code",
   "execution_count": 149,
   "metadata": {},
   "outputs": [
    {
     "data": {
      "text/plain": [
       "343000.0"
      ]
     },
     "execution_count": 149,
     "metadata": {},
     "output_type": "execute_result"
    }
   ],
   "source": [
    "round(wednesday_close, 5)"
   ]
  },
  {
   "cell_type": "markdown",
   "metadata": {},
   "source": [
    "### NaN 과 Inf\n",
    "\n",
    "- NaN = not a number\n",
    "- Inf = Infinity"
   ]
  },
  {
   "cell_type": "markdown",
   "metadata": {},
   "source": [
    "------"
   ]
  },
  {
   "cell_type": "markdown",
   "metadata": {},
   "source": [
    "# String 자료형\n",
    "\n",
    "- 데이터의 저장이나 교환에 상당히 많이 사용이 된다. (html, json, xml)\n",
    "\n",
    "- 문자열은 연산이 가능하다. 덧셈연산은 문자열을 묻이고 곱셈연산은 문자열을 만복한다\n",
    " - 숫자를 문자열로 바꾸려면 str()명령을 사용한다. \n",
    " - 한줄 띄울려면 /n 이라고 쓴다\n",
    " - 명령을 여러번 쓰면서 줄바꿈을 안하려면, end=\"\" 를 추가한다.\n",
    " - 문자열에 %를 붙이면 문자열 안으로 들어간다.\n",
    " "
   ]
  },
  {
   "cell_type": "code",
   "execution_count": 12,
   "metadata": {},
   "outputs": [
    {
     "name": "stdout",
     "output_type": "stream",
     "text": [
      "Beautiful is better than ugly.\n",
      " Explicit is better than implicit.\n",
      " Simple is better than complex.\n",
      " Complex is better than complicated.\n",
      " Flat is better than nested.\n",
      " Sparse is better than dense.\n"
     ]
    }
   ],
   "source": [
    "print (\"Beautiful is better than ugly.\\n Explicit is better than implicit.\\n Simple is better than complex.\\n Complex is better than complicated.\\n Flat is better than nested.\\n Sparse is better than dense.\")"
   ]
  },
  {
   "cell_type": "code",
   "execution_count": 13,
   "metadata": {},
   "outputs": [
    {
     "name": "stdout",
     "output_type": "stream",
     "text": [
      "<class 'str'>\n",
      "python programpython programpython programpython programpython program\n",
      "yth\n",
      "변수타입 <class 'int'>\n",
      "string으로 변환 변수타입 <class 'str'>\n"
     ]
    }
   ],
   "source": [
    "string = 'python program'\n",
    "\n",
    "print(type(string))\n",
    "print(string*5)\n",
    "print(string[1:4])\n",
    "\n",
    "number = 7\n",
    "print('변수타입',type(number))\n",
    "print('string으로 변환 변수타입',type(str(number)))"
   ]
  },
  {
   "cell_type": "code",
   "execution_count": 14,
   "metadata": {},
   "outputs": [
    {
     "name": "stdout",
     "output_type": "stream",
     "text": [
      "www.abc.co.kr\n"
     ]
    }
   ],
   "source": [
    "##.strip(), 문자열 버리기\n",
    "print('http://www.abc.co.kr'.strip('http://'))"
   ]
  },
  {
   "cell_type": "code",
   "execution_count": 15,
   "metadata": {},
   "outputs": [
    {
     "name": "stdout",
     "output_type": "stream",
     "text": [
      "['python', 'program']\n",
      "['pyth', 'n pr', 'gram']\n"
     ]
    }
   ],
   "source": [
    "##.split(), 문자열 쪼개기\n",
    "print(string.split())\n",
    "print(string.split('o'))"
   ]
  },
  {
   "cell_type": "code",
   "execution_count": 16,
   "metadata": {},
   "outputs": [
    {
     "name": "stdout",
     "output_type": "stream",
     "text": [
      "\n",
      "This is long string\n",
      "Very.Long.WOw\n",
      "\n"
     ]
    }
   ],
   "source": [
    "##. long string\n",
    "\n",
    "long_string = '''\n",
    "This is long string\n",
    "Very.Long.WOw\n",
    "'''\n",
    "print(long_string)"
   ]
  },
  {
   "cell_type": "markdown",
   "metadata": {},
   "source": [
    "#### String Formatting\n",
    "\n",
    "- 주어진 서식에 맞추어 문자열을 만드는 방법\n",
    "- result : String\n",
    "    - print()\n",
    "    - format()\n",
    "        - format 형식에서는 expression을 사용할 수 있습니다.\n",
    "    - Literal string"
   ]
  },
  {
   "cell_type": "code",
   "execution_count": 17,
   "metadata": {},
   "outputs": [
    {
     "name": "stdout",
     "output_type": "stream",
     "text": [
      "python program\n",
      "marathon program\n"
     ]
    }
   ],
   "source": [
    "## replace, 문자열 바꾸기\n",
    "print(string)\n",
    "replace_string = string.replace('py','mara')\n",
    "print(replace_string)"
   ]
  },
  {
   "cell_type": "code",
   "execution_count": 18,
   "metadata": {},
   "outputs": [
    {
     "name": "stdout",
     "output_type": "stream",
     "text": [
      "I have %d apple and 3 %s\n",
      "I have 5 apple and 3 bananas\n",
      "I have 2 apple and 3 orange\n"
     ]
    }
   ],
   "source": [
    "## %포맷 사용하기\n",
    "format_string = 'I have %d apple and 3 %s'\n",
    "print(format_string)\n",
    "\n",
    "print(format_string %(5,'bananas'))\n",
    "print(format_string %(2,'orange'))"
   ]
  },
  {
   "cell_type": "code",
   "execution_count": 19,
   "metadata": {},
   "outputs": [
    {
     "name": "stdout",
     "output_type": "stream",
     "text": [
      "strings can be formatted\n",
      "Bob want to eat fish\n"
     ]
    }
   ],
   "source": [
    "## method format 사용하기\n",
    "format_string1 =\"{0} can be {1}\".format(\"strings\",\"formatted\")\n",
    "\n",
    "format_string2=\"{name} want to eat {food}\".format(name=\"Bob\",food=\"fish\")\n",
    "\n",
    "print(format_string1)\n",
    "print(format_string2)"
   ]
  },
  {
   "cell_type": "code",
   "execution_count": 20,
   "metadata": {},
   "outputs": [
    {
     "data": {
      "text/plain": [
       "'The Answer is 42.'"
      ]
     },
     "execution_count": 20,
     "metadata": {},
     "output_type": "execute_result"
    }
   ],
   "source": [
    "# printf -styple string formatting\n",
    "# %s = string\n",
    "# %d = double\n",
    "var = 42\n",
    "string ='Answer'\n",
    "s1 = 'The %s is %d.' %(string, var)\n",
    "s1"
   ]
  },
  {
   "cell_type": "markdown",
   "metadata": {},
   "source": [
    "#### Function of string \n",
    "\n",
    "- Formatting : rjust(), ljust(), center(), format()\n",
    "- Stripping : strip(), lstrip(), rstrip()\n",
    "- __Join/Split : join(), split(), splitlines()__\n",
    "- __Find/count : find(), rfind(), count()__"
   ]
  },
  {
   "cell_type": "code",
   "execution_count": 21,
   "metadata": {},
   "outputs": [
    {
     "name": "stdout",
     "output_type": "stream",
     "text": [
      "Python and Java and Ruby and C++\n"
     ]
    }
   ],
   "source": [
    "languages = \"Python, Java, Ruby, C++\"\n",
    "tokens = languages.split(\",\")\n",
    "sentence = ' and'.join(tokens)\n",
    "print(sentence)"
   ]
  },
  {
   "cell_type": "code",
   "execution_count": 22,
   "metadata": {},
   "outputs": [
    {
     "data": {
      "text/plain": [
       "['Python', ' Java', ' Ruby', ' C++']"
      ]
     },
     "execution_count": 22,
     "metadata": {},
     "output_type": "execute_result"
    }
   ],
   "source": [
    "tokens"
   ]
  },
  {
   "cell_type": "markdown",
   "metadata": {},
   "source": [
    "#### File access\n",
    "\n",
    "- open(filename, mode)\n",
    "    - fi"
   ]
  },
  {
   "cell_type": "markdown",
   "metadata": {},
   "source": [
    "# boolean 자료형\n",
    "\n",
    "- not !=\n",
    "- and &&\n",
    "- or |"
   ]
  },
  {
   "cell_type": "code",
   "execution_count": 23,
   "metadata": {},
   "outputs": [
    {
     "name": "stdout",
     "output_type": "stream",
     "text": [
      "0 1 2 3 \n",
      "1 2 3 4 \n",
      "2 3 4 5 \n",
      "3 4 5 6 \n"
     ]
    }
   ],
   "source": [
    "for i in range (4):\n",
    "    for j in range(4):\n",
    "        print(i+j, end=\" \")\n",
    "    print()"
   ]
  },
  {
   "cell_type": "code",
   "execution_count": 24,
   "metadata": {
    "scrolled": true
   },
   "outputs": [
    {
     "name": "stdout",
     "output_type": "stream",
     "text": [
      "1 3\n",
      "1 7\n",
      "2 2\n",
      "2 6\n",
      "3 5\n",
      "4 4\n",
      "5 3\n",
      "5 7\n",
      "6 2\n",
      "6 6\n"
     ]
    }
   ],
   "source": [
    "for i in range(6):\n",
    "    n1 = i + 1\n",
    "    for j in range (6):\n",
    "        n2 = j + 2\n",
    "        n = n1 + n2\n",
    "        if n % 4 == 0:\n",
    "            print(n1, n2)\n"
   ]
  },
  {
   "cell_type": "code",
   "execution_count": 25,
   "metadata": {},
   "outputs": [
    {
     "name": "stdout",
     "output_type": "stream",
     "text": [
      "1\n",
      "3\n",
      "6\n",
      "10\n",
      "15\n",
      "21\n",
      "28\n",
      "36\n",
      "45\n",
      "55\n"
     ]
    }
   ],
   "source": [
    "for j in range(10):\n",
    "    sum = 0\n",
    "    for i in range (j+1):\n",
    "        sum = sum + (i + 1)\n",
    "    print(sum)"
   ]
  },
  {
   "cell_type": "markdown",
   "metadata": {},
   "source": [
    "### 파이썬에서 여러자료를 한 변수에 담는 방법\n",
    "\n",
    "1. 여러개의 자료가 순서를 가지는 리스트 자료형\n",
    "2. 여러개 자료가 이름을 가지는 경우는 딕셔러니를 사용\n",
    "\n",
    "- 리스트 변수 = [자료1, 자료2, 자료3]\n",
    "- 인덱싱 : 리스트 변수에서 특정 변수를 꺼내는 행위\n",
    "- 딕셔너리 변수 = {자료이름1 : 자료값1, 자료이름2: 자료값2} 이떄 자료의 이름을 키(key)라고 하고 자료의 값을 값(value)라고 한다."
   ]
  },
  {
   "cell_type": "code",
   "execution_count": 26,
   "metadata": {},
   "outputs": [
    {
     "data": {
      "text/plain": [
       "[99, 10, 24]"
      ]
     },
     "execution_count": 26,
     "metadata": {},
     "output_type": "execute_result"
    }
   ],
   "source": [
    "x = [99,10,24]\n",
    "x"
   ]
  },
  {
   "cell_type": "code",
   "execution_count": 27,
   "metadata": {},
   "outputs": [
    {
     "data": {
      "text/plain": [
       "99"
      ]
     },
     "execution_count": 27,
     "metadata": {},
     "output_type": "execute_result"
    }
   ],
   "source": [
    "x[0]"
   ]
  },
  {
   "cell_type": "code",
   "execution_count": 28,
   "metadata": {},
   "outputs": [
    {
     "data": {
      "text/plain": [
       "{'english': 90, 'history': 100, 'math': 88}"
      ]
     },
     "execution_count": 28,
     "metadata": {},
     "output_type": "execute_result"
    }
   ],
   "source": [
    "b = {\"math\":88, \"english\":90, \"history\":100}\n",
    "b"
   ]
  },
  {
   "cell_type": "code",
   "execution_count": 29,
   "metadata": {},
   "outputs": [
    {
     "data": {
      "text/plain": [
       "90"
      ]
     },
     "execution_count": 29,
     "metadata": {},
     "output_type": "execute_result"
    }
   ],
   "source": [
    "b[\"english\"]"
   ]
  },
  {
   "cell_type": "code",
   "execution_count": 30,
   "metadata": {},
   "outputs": [
    {
     "data": {
      "text/plain": [
       "1"
      ]
     },
     "execution_count": 30,
     "metadata": {},
     "output_type": "execute_result"
    }
   ],
   "source": [
    "d = [1, 3.14, \"pi\"]\n",
    "d[0]"
   ]
  },
  {
   "cell_type": "code",
   "execution_count": 31,
   "metadata": {},
   "outputs": [
    {
     "data": {
      "text/plain": [
       "[[1, 10], [1, 2, 3]]"
      ]
     },
     "execution_count": 31,
     "metadata": {},
     "output_type": "execute_result"
    }
   ],
   "source": [
    "e = [[1,10],[1,2,3]]\n",
    "e"
   ]
  },
  {
   "cell_type": "code",
   "execution_count": 32,
   "metadata": {},
   "outputs": [
    {
     "data": {
      "text/plain": [
       "[1, 10]"
      ]
     },
     "execution_count": 32,
     "metadata": {},
     "output_type": "execute_result"
    }
   ],
   "source": [
    "e[0]"
   ]
  },
  {
   "cell_type": "code",
   "execution_count": 33,
   "metadata": {},
   "outputs": [
    {
     "data": {
      "text/plain": [
       "1"
      ]
     },
     "execution_count": 33,
     "metadata": {},
     "output_type": "execute_result"
    }
   ],
   "source": [
    "e[0][0]"
   ]
  },
  {
   "cell_type": "code",
   "execution_count": 34,
   "metadata": {},
   "outputs": [
    {
     "data": {
      "text/plain": [
       "3"
      ]
     },
     "execution_count": 34,
     "metadata": {},
     "output_type": "execute_result"
    }
   ],
   "source": [
    "a = [1,2,3]\n",
    "len(a)"
   ]
  },
  {
   "cell_type": "code",
   "execution_count": 35,
   "metadata": {},
   "outputs": [
    {
     "name": "stdout",
     "output_type": "stream",
     "text": [
      "len 은 리스트에 자료가 몇개 있는지를 알려줍니다!\n"
     ]
    }
   ],
   "source": [
    "print(\"len 은 리스트에 자료가 몇개 있는지를 알려줍니다!\")"
   ]
  },
  {
   "cell_type": "code",
   "execution_count": 36,
   "metadata": {},
   "outputs": [
    {
     "data": {
      "text/plain": [
       "range(0, 10)"
      ]
     },
     "execution_count": 36,
     "metadata": {},
     "output_type": "execute_result"
    }
   ],
   "source": [
    "b = range(10)\n",
    "b"
   ]
  },
  {
   "cell_type": "code",
   "execution_count": 37,
   "metadata": {},
   "outputs": [
    {
     "name": "stdout",
     "output_type": "stream",
     "text": [
      "range 는 파라미터 x,y에 대해 x보다 크고, y보다 작은 수열을 만든다. 즉 x는 시작값, y는 끝값이다\n"
     ]
    }
   ],
   "source": [
    "print(\"range 는 파라미터 x,y에 대해 x보다 크고, y보다 작은 수열을 만든다. 즉 x는 시작값, y는 끝값이다\")"
   ]
  },
  {
   "cell_type": "code",
   "execution_count": 38,
   "metadata": {},
   "outputs": [
    {
     "data": {
      "text/plain": [
       "range(1, 10, 3)"
      ]
     },
     "execution_count": 38,
     "metadata": {},
     "output_type": "execute_result"
    }
   ],
   "source": [
    "d = range(1, 10, 3)\n",
    "d"
   ]
  },
  {
   "cell_type": "markdown",
   "metadata": {},
   "source": [
    "### 추가 자료관리\n",
    "\n",
    "- update : 갱신하는 명령어\n",
    "- append : 자료를 추가하는 명령어 맨 마지막에 추가가 된다.\n",
    "- del : 인덱스를 이용하여 자료를 삭제한다. \n",
    "- slicing : 특정 범위의 자료를 모두 가져온다\n",
    "- 역 인데싱 : 음수 인덱스를 사용하여 뒤에서부터 가져올수도 있다\n"
   ]
  },
  {
   "cell_type": "code",
   "execution_count": 39,
   "metadata": {},
   "outputs": [
    {
     "data": {
      "text/plain": [
       "range(0, 20)"
      ]
     },
     "execution_count": 39,
     "metadata": {},
     "output_type": "execute_result"
    }
   ],
   "source": [
    "g = range(20)\n",
    "g"
   ]
  },
  {
   "cell_type": "code",
   "execution_count": 40,
   "metadata": {},
   "outputs": [
    {
     "data": {
      "text/plain": [
       "range(0, 5)"
      ]
     },
     "execution_count": 40,
     "metadata": {},
     "output_type": "execute_result"
    }
   ],
   "source": [
    "g[0:5]"
   ]
  },
  {
   "cell_type": "code",
   "execution_count": 41,
   "metadata": {},
   "outputs": [
    {
     "data": {
      "text/plain": [
       "[90, 75, 30, 14, 20, 90, 100]"
      ]
     },
     "execution_count": 41,
     "metadata": {},
     "output_type": "execute_result"
    }
   ],
   "source": [
    "a = [90, 75, 30, 14, 20, 90, 100]\n",
    "a"
   ]
  },
  {
   "cell_type": "code",
   "execution_count": 42,
   "metadata": {},
   "outputs": [
    {
     "data": {
      "text/plain": [
       "59.857142857142854"
      ]
     },
     "execution_count": 42,
     "metadata": {},
     "output_type": "execute_result"
    }
   ],
   "source": [
    "sum = 0\n",
    "for i in range(len(a)):\n",
    "    sum = sum + a[i]\n",
    "average = sum / len(a)\n",
    "average"
   ]
  },
  {
   "cell_type": "code",
   "execution_count": 43,
   "metadata": {},
   "outputs": [
    {
     "name": "stdout",
     "output_type": "stream",
     "text": [
      "0\n",
      "1\n",
      "2\n",
      "3\n",
      "4\n"
     ]
    }
   ],
   "source": [
    "range(5)\n",
    "for i in range(5):\n",
    "    print(i)"
   ]
  },
  {
   "cell_type": "code",
<<<<<<< HEAD
   "execution_count": 44,
=======
   "execution_count": 4,
>>>>>>> cbd9b8e73c92d76ca43ac6dd6918abaf74bc3f00
   "metadata": {
    "collapsed": true
   },
   "outputs": [],
   "source": [
    "a1 = [1,2,3,4,5,6,7,10]\n",
    "a2 = [5,2,1,3,5,2,6,2]"
   ]
  },
  {
   "cell_type": "code",
   "execution_count": 45,
   "metadata": {},
   "outputs": [
    {
     "data": {
      "text/plain": [
       "<zip at 0x106ea2f08>"
      ]
     },
     "execution_count": 45,
     "metadata": {},
     "output_type": "execute_result"
    }
   ],
   "source": [
    "zip(a1,a2)"
   ]
  },
  {
   "cell_type": "markdown",
   "metadata": {},
   "source": [
    "## input & output?"
   ]
  },
  {
   "cell_type": "code",
   "execution_count": 1,
   "metadata": {},
   "outputs": [
    {
     "name": "stdout",
     "output_type": "stream",
     "text": [
      "Enter a string: 안녕하세요\n"
     ]
    }
   ],
   "source": [
    "string = input('Enter a string: ')"
   ]
  },
  {
   "cell_type": "code",
   "execution_count": 2,
   "metadata": {},
   "outputs": [
    {
     "ename": "NameError",
     "evalue": "name 'number' is not defined",
     "output_type": "error",
     "traceback": [
      "\u001b[0;31m---------------------------------------------------------------------------\u001b[0m",
      "\u001b[0;31mNameError\u001b[0m                                 Traceback (most recent call last)",
      "\u001b[0;32m<ipython-input-2-4d93a139600d>\u001b[0m in \u001b[0;36m<module>\u001b[0;34m()\u001b[0m\n\u001b[0;32m----> 1\u001b[0;31m \u001b[0mprint\u001b[0m\u001b[0;34m(\u001b[0m\u001b[0mnumber\u001b[0m\u001b[0;34m)\u001b[0m\u001b[0;34m\u001b[0m\u001b[0m\n\u001b[0m",
      "\u001b[0;31mNameError\u001b[0m: name 'number' is not defined"
     ]
    }
   ],
   "source": [
    "print(number)"
   ]
  },
  {
   "cell_type": "code",
   "execution_count": 48,
   "metadata": {},
   "outputs": [
    {
     "data": {
      "text/plain": [
       "int"
      ]
     },
     "execution_count": 48,
     "metadata": {},
     "output_type": "execute_result"
    }
   ],
   "source": [
    "type(number)"
   ]
  },
  {
   "cell_type": "code",
   "execution_count": 49,
   "metadata": {},
   "outputs": [
    {
     "name": "stdout",
     "output_type": "stream",
     "text": [
      "Enter a number:\n"
     ]
    }
   ],
   "source": [
    "number = input('Enter a number:')"
   ]
  },
  {
   "cell_type": "code",
   "execution_count": 50,
   "metadata": {},
   "outputs": [
    {
     "data": {
      "text/plain": [
       "''"
      ]
     },
     "execution_count": 50,
     "metadata": {},
     "output_type": "execute_result"
    }
   ],
   "source": [
    "number"
   ]
  },
  {
   "cell_type": "code",
   "execution_count": 51,
   "metadata": {},
   "outputs": [
    {
     "ename": "ValueError",
     "evalue": "invalid literal for int() with base 10: ''",
     "output_type": "error",
     "traceback": [
      "\u001b[0;31m---------------------------------------------------------------------------\u001b[0m",
      "\u001b[0;31mValueError\u001b[0m                                Traceback (most recent call last)",
      "\u001b[0;32m<ipython-input-51-0637d31f3359>\u001b[0m in \u001b[0;36m<module>\u001b[0;34m()\u001b[0m\n\u001b[0;32m----> 1\u001b[0;31m \u001b[0mnumber\u001b[0m \u001b[0;34m=\u001b[0m \u001b[0mint\u001b[0m\u001b[0;34m(\u001b[0m\u001b[0mnumber\u001b[0m\u001b[0;34m)\u001b[0m \u001b[0;34m+\u001b[0m \u001b[0;36m1\u001b[0m\u001b[0;34m\u001b[0m\u001b[0m\n\u001b[0m",
      "\u001b[0;31mValueError\u001b[0m: invalid literal for int() with base 10: ''"
     ]
    }
   ],
   "source": [
    "number = int(number) + 1"
   ]
  },
  {
   "cell_type": "code",
   "execution_count": null,
   "metadata": {
    "collapsed": true
   },
   "outputs": [],
   "source": [
    "number"
   ]
  },
  {
   "cell_type": "code",
   "execution_count": null,
   "metadata": {
    "collapsed": true
   },
   "outputs": [],
   "source": [
    "number = int(input('Enter a number:'))"
   ]
  },
  {
   "cell_type": "markdown",
   "metadata": {},
   "source": [
    "# 자료구조 (Data structure)\n",
    "\n",
    "#### 자료구조는 자료를 구조화하고 저장하는 방식.\n",
    "\n",
    "#### 왜 사용하는가?  여러개의 자료형을 저장하기 위해!\n",
    "\n",
    "- 시퀀스 : 양의 정수를 이용한 인덱싱, 슬라이싱 등등 특정 연산이 있다.\n",
    "    - list (Mutable) : 원소값 추가 삭제 가능\n",
    "    - tuple (Immutable) : 원소값을 바꾸거나, 추가, 삭제 안됨\n",
    "    - string (Immutable) : 변경불가, 유니코드 문자만을 포함한다.\n",
    "- dic\n",
    "- set"
   ]
  },
  {
   "cell_type": "markdown",
   "metadata": {},
   "source": [
    "### List [ ]\n",
    "\n",
    "- Definition : mutable sequence, typically used to store collection of homogeneous items, 변화가능한 자료들의 집합니다\n",
    "- 인덱스 시작 : 0, 마이너스로 접근할 수도있다!\n",
    "- 어레이와 백터 컨테이너와 매우 유사하다."
   ]
  },
  {
   "cell_type": "code",
   "execution_count": 4,
   "metadata": {},
   "outputs": [
    {
     "data": {
      "text/plain": [
       "12"
      ]
     },
     "execution_count": 4,
     "metadata": {},
     "output_type": "execute_result"
    }
   ],
   "source": [
    "t1 = [42,124,12]\n",
    "t1[-1]"
   ]
  },
  {
   "cell_type": "markdown",
   "metadata": {},
   "source": [
    "#### List 슬라이싱\n",
    "\n",
    "- name_of_list[start:end]"
   ]
  },
  {
   "cell_type": "code",
   "execution_count": 6,
   "metadata": {},
   "outputs": [
    {
     "data": {
      "text/plain": [
       "[42, 1024, 23, 6, 28, 496, 255]"
      ]
     },
     "execution_count": 6,
     "metadata": {},
     "output_type": "execute_result"
    }
   ],
   "source": [
    "t = [42,1024,23,6,28,496,255]\n",
    "t"
   ]
  },
  {
   "cell_type": "code",
   "execution_count": 7,
   "metadata": {},
   "outputs": [
    {
     "data": {
      "text/plain": [
       "6"
      ]
     },
     "execution_count": 7,
     "metadata": {},
     "output_type": "execute_result"
    }
   ],
   "source": [
    "t[3]"
   ]
  },
  {
   "cell_type": "code",
   "execution_count": 8,
   "metadata": {},
   "outputs": [
    {
     "data": {
      "text/plain": [
       "[23, 6]"
      ]
     },
     "execution_count": 8,
     "metadata": {},
     "output_type": "execute_result"
    }
   ],
   "source": [
    "t[2:4]"
   ]
  },
  {
   "cell_type": "code",
   "execution_count": 9,
   "metadata": {},
   "outputs": [
    {
     "data": {
      "text/plain": [
       "[1024, 6]"
      ]
     },
     "execution_count": 9,
     "metadata": {},
     "output_type": "execute_result"
    }
   ],
   "source": [
    "t[1:5:2]"
   ]
  },
  {
   "cell_type": "code",
   "execution_count": 10,
   "metadata": {},
   "outputs": [
    {
     "data": {
      "text/plain": [
       "[28, 496, 255]"
      ]
     },
     "execution_count": 10,
     "metadata": {},
     "output_type": "execute_result"
    }
   ],
   "source": [
    "t[4:]"
   ]
  },
  {
   "cell_type": "markdown",
   "metadata": {},
   "source": [
    "### List의 변환\n",
    "\n",
    "- append(value)\n",
    "    - add one value to given list\n",
    "- extend(list)\n",
    "    - add all the itmes in a list to the given list\n",
    "- insert(i,x)\n",
    "    - insert x at i'th location on list\n",
    "- remove(x)\n",
    "    - remove first item form list whose value is x\n",
    "- clear()\n",
    "    - remove all itmes from the list. Equvalent to del list[:]\n",
    "- sort(key=None, reverse=False)\n",
    "    - Sort the itmes of the list in place\n",
    "- reverse\n",
    "    - Reverse the elemets of the list in plae\n",
    "- copy\n",
    "    - Return a shallow copy of the list. Equvailent to a[:]"
   ]
  },
  {
   "cell_type": "code",
   "execution_count": 58,
   "metadata": {},
   "outputs": [
    {
     "data": {
      "text/plain": [
       "[42, 1024, 23, 6, 28, 496, 255]"
      ]
     },
     "execution_count": 58,
     "metadata": {},
     "output_type": "execute_result"
    }
   ],
   "source": [
    "t = [42,1024,23,6,28,496,255]\n",
    "t"
   ]
  },
  {
   "cell_type": "code",
   "execution_count": 59,
   "metadata": {},
   "outputs": [
    {
     "name": "stdout",
     "output_type": "stream",
     "text": [
      "[1, 16, 256] [1, 16, 256] [1, 4, 16]\n"
     ]
    }
   ],
   "source": [
    "def square(arg):\n",
    "    for i in range(len(arg)):\n",
    "        arg[i] = arg[i]**2\n",
    "    return arg\n",
    "t1 = [1,2,4]\n",
    "t2 = t1\n",
    "t3 = t1.copy()\n",
    "t1 = square(t1)\n",
    "t2 = square(t2)\n",
    "t3 = square(t3)\n",
    "\n",
    "print(t1,t2,t3)"
   ]
  },
  {
   "cell_type": "markdown",
   "metadata": {},
   "source": [
    "### tuple ( )\n",
    "\n",
    "- Definition : immutable sequence, typically used to store collection of homogeneous items\n",
    "- 인덱스는 0부터 시작\n",
    "- 튜플의 언패킹 (unpacking)\n",
    "    - 튜플에 있는 원소들의 값을 여러변수에 한번에 대입하게 만든다."
   ]
  },
  {
   "cell_type": "code",
   "execution_count": 60,
   "metadata": {
    "collapsed": true
   },
   "outputs": [],
   "source": [
    "tu = (42,1024,23)"
   ]
  },
  {
   "cell_type": "code",
   "execution_count": 61,
   "metadata": {},
   "outputs": [
    {
     "data": {
      "text/plain": [
       "(42, 1024, 23)"
      ]
     },
     "execution_count": 61,
     "metadata": {},
     "output_type": "execute_result"
    }
   ],
   "source": [
    "tu"
   ]
  },
  {
   "cell_type": "markdown",
   "metadata": {},
   "source": [
    "### Set { }\n",
    "\n",
    "- Definition : 순서가 없고, 중복이 없는 원소들의 모음으로 정의가 됩니다. 이는 수학의 집합과 유사함!\n",
    "- 변수명 =set([a,b,c,d,...])"
   ]
  },
  {
   "cell_type": "code",
   "execution_count": 62,
   "metadata": {},
   "outputs": [
    {
     "data": {
      "text/plain": [
       "{'apple', 'banana', 'orange'}"
      ]
     },
     "execution_count": 62,
     "metadata": {},
     "output_type": "execute_result"
    }
   ],
   "source": [
    "fruits = set(['apple','orange','banana','apple'])\n",
    "fruits"
   ]
  },
  {
   "cell_type": "code",
   "execution_count": 63,
   "metadata": {},
   "outputs": [
    {
     "data": {
      "text/plain": [
       "True"
      ]
     },
     "execution_count": 63,
     "metadata": {},
     "output_type": "execute_result"
    }
   ],
   "source": [
    "'apple' in fruits"
   ]
  },
  {
   "cell_type": "markdown",
   "metadata": {},
   "source": [
    "### Dic\n",
    "\n",
    "- Definition : Key와 value 를 가지는 자료구조\n",
    "- 변수명 =dict('a'=1,'b'=2,'c'=3)\n",
    "- return {}"
   ]
  },
  {
   "cell_type": "code",
   "execution_count": 64,
   "metadata": {},
   "outputs": [
    {
     "data": {
      "text/plain": [
       "[['answer', 43], ['pi', 3.14], ['e', 2.145]]"
      ]
     },
     "execution_count": 64,
     "metadata": {},
     "output_type": "execute_result"
    }
   ],
   "source": [
    "t1 = [['answer',43],['pi',3.14],['e',2.145]]\n",
    "t1"
   ]
  },
  {
   "cell_type": "code",
   "execution_count": 65,
   "metadata": {},
   "outputs": [
    {
     "data": {
      "text/plain": [
       "{'answer': 43, 'e': 2.145, 'pi': 3.14}"
      ]
     },
     "execution_count": 65,
     "metadata": {},
     "output_type": "execute_result"
    }
   ],
   "source": [
    "d1 = dict(t1)\n",
    "d1"
   ]
  },
  {
   "cell_type": "code",
   "execution_count": 66,
   "metadata": {},
   "outputs": [
    {
     "data": {
      "text/plain": [
       "dict_keys(['answer', 'pi', 'e'])"
      ]
     },
     "execution_count": 66,
     "metadata": {},
     "output_type": "execute_result"
    }
   ],
   "source": [
    "d1.keys()"
   ]
  },
  {
   "cell_type": "code",
   "execution_count": 67,
   "metadata": {},
   "outputs": [
    {
     "data": {
      "text/plain": [
       "dict_values([43, 3.14, 2.145])"
      ]
     },
     "execution_count": 67,
     "metadata": {},
     "output_type": "execute_result"
    }
   ],
   "source": [
    "d1.values()"
   ]
  },
  {
   "cell_type": "code",
   "execution_count": 68,
   "metadata": {},
   "outputs": [
    {
     "data": {
      "text/plain": [
       "dict_items"
      ]
     },
     "execution_count": 68,
     "metadata": {},
     "output_type": "execute_result"
    }
   ],
   "source": [
    "type(d1.items())"
   ]
  },
  {
   "cell_type": "code",
   "execution_count": 69,
   "metadata": {},
   "outputs": [
    {
     "name": "stdout",
     "output_type": "stream",
     "text": [
      "43\n",
      "3.14\n",
      "2.145\n"
     ]
    }
   ],
   "source": [
    "for i in d1.values():\n",
    "    print(i)"
   ]
  },
  {
   "cell_type": "code",
   "execution_count": 70,
   "metadata": {
    "collapsed": true
   },
   "outputs": [],
   "source": [
    "d1['Question'] = 43"
   ]
  },
  {
   "cell_type": "code",
   "execution_count": 71,
   "metadata": {},
   "outputs": [
    {
     "data": {
      "text/plain": [
       "{'Question': 43, 'answer': 43, 'e': 2.145, 'pi': 3.14}"
      ]
     },
     "execution_count": 71,
     "metadata": {},
     "output_type": "execute_result"
    }
   ],
   "source": [
    "d1"
   ]
  },
  {
   "cell_type": "code",
   "execution_count": 72,
   "metadata": {},
   "outputs": [
    {
     "data": {
      "text/plain": [
       "0"
      ]
     },
     "execution_count": 72,
     "metadata": {},
     "output_type": "execute_result"
    }
   ],
   "source": [
    "#get함수는 사전의 key값이 있을때 value를 나타냅니다. 없다면 default값을 반환하게 됩니다.\n",
    "d1.get('prime',0)"
   ]
  },
  {
   "cell_type": "code",
   "execution_count": 73,
   "metadata": {},
   "outputs": [
    {
     "name": "stdout",
     "output_type": "stream",
     "text": [
      "{'a': 3, 'b': 1, 'd': 1}\n"
     ]
    }
   ],
   "source": [
    "def count_itmes(sequence):\n",
    "    count = {}\n",
    "    for item in sequence:\n",
    "        if item in count:\n",
    "            count[item] += 1\n",
    "        else:\n",
    "            count[item] = 1\n",
    "    return count\n",
    "t = ['a','b','a','d','a']\n",
    "print(count_itmes(t))"
   ]
  },
  {
   "cell_type": "code",
   "execution_count": 74,
   "metadata": {},
   "outputs": [
    {
     "data": {
      "text/plain": [
       "{-1: 1, 1: 4, 2: 1, 4: 1}"
      ]
     },
     "execution_count": 74,
     "metadata": {},
     "output_type": "execute_result"
    }
   ],
   "source": [
    "def count_items(sequence):\n",
    "    count = {}\n",
    "    for item in sequence:\n",
    "        count[item] =count.get(item, 0)+ 1\n",
    "    return count\n",
    "\n",
    "t = [1,1,1,1,2,-1,4]\n",
    "count_itmes(t)"
   ]
  },
  {
   "cell_type": "code",
   "execution_count": null,
   "metadata": {},
   "outputs": [],
   "source": []
  },
  {
   "cell_type": "markdown",
   "metadata": {},
   "source": [
    "딕셔너리 자료형에 대해 옳지 않은것은?\n",
    "1. 딕셔너리는 {}없이 정의된다\n",
    "2. key는 반드시 value 값이 필요하다\n",
    "3. .itmes()는 key와 value쌍을 반환한다.\n",
    "4. 당신은 특정한 key를 지울때 value값을 몰라도 된다\n",
    "5. 새로운 아이템은 = notation으로 추가할 수 있다."
   ]
  },
  {
   "cell_type": "markdown",
   "metadata": {},
   "source": [
    "## 중첩 데이터 구조 (Nest data structures)\n",
    "\n"
   ]
  },
  {
   "cell_type": "code",
   "execution_count": 94,
   "metadata": {},
   "outputs": [
    {
     "name": "stdout",
     "output_type": "stream",
     "text": [
      "('Carol', ['Analytical Mechanics', 'Linear Algebra', 'Programming'])\n",
      "['Analytical Mechanics', 'Linear Algebra', 'Programming']\n",
      "Programming\n"
     ]
    }
   ],
   "source": [
    "#List 안에\n",
    "students =[\n",
    "#튜플이 있고, 튜플안에 다시 List가 있는 구조입니다.\n",
    "    ('Alicce', ['Programming', 'Classic Mechanics']),\n",
    "    ('Bob',['Programming','Linear Algebra']),\n",
    "    ('Carol', ['Analytical Mechanics','Linear Algebra','Programming' ])\n",
    "]\n",
    "\n",
    "print(students[2])\n",
    "print(students[2][1])\n",
    "print(students[2][1][2])"
   ]
  },
  {
   "cell_type": "code",
   "execution_count": 95,
   "metadata": {},
   "outputs": [
    {
     "name": "stdout",
     "output_type": "stream",
     "text": [
      "Name: Alicce\n",
      "Course: ['Programming', 'Classic Mechanics']\n",
      "Name: Bob\n",
      "Course: ['Programming', 'Linear Algebra']\n",
      "Name: Carol\n",
      "Course: ['Analytical Mechanics', 'Linear Algebra', 'Programming']\n"
     ]
    }
   ],
   "source": [
    "for studnet_name, course in students:\n",
    "    print(\"Name:\",studnet_name)\n",
    "    print(\"Course:\",course)"
   ]
  },
  {
   "cell_type": "markdown",
   "metadata": {},
   "source": [
    "# List comprehension\n",
    "\n",
    "- 해석은 목록, 튜플, 사전 또는 집합 데이터구조를 생성하는 단축키입니다."
   ]
  },
  {
   "cell_type": "code",
   "execution_count": 96,
   "metadata": {},
   "outputs": [
    {
     "data": {
      "text/plain": [
       "[0, 1, 2, 3, 4, 5, 6, 7, 8, 9]"
      ]
     },
     "execution_count": 96,
     "metadata": {},
     "output_type": "execute_result"
    }
   ],
   "source": [
    "v1 = []\n",
    "for i in range(10):\n",
    "    v1.append(i)\n",
    "v1"
   ]
  },
  {
   "cell_type": "code",
   "execution_count": 97,
   "metadata": {},
   "outputs": [
    {
     "data": {
      "text/plain": [
       "[0, 1, 2, 3, 4, 5, 6, 7, 8, 9]"
      ]
     },
     "execution_count": 97,
     "metadata": {},
     "output_type": "execute_result"
    }
   ],
   "source": [
    "v2 = [i for i in range(10)]\n",
    "v2"
   ]
  },
  {
   "cell_type": "code",
   "execution_count": 98,
   "metadata": {},
   "outputs": [
    {
     "data": {
      "text/plain": [
       "[0, 2, 4, 6, 8]"
      ]
     },
     "execution_count": 98,
     "metadata": {},
     "output_type": "execute_result"
    }
   ],
   "source": [
    "v1 = []\n",
    "for i in range(10):\n",
    "    if i%2 == 0:\n",
    "        v1.append(i)\n",
    "v1"
   ]
  },
  {
   "cell_type": "code",
   "execution_count": 99,
   "metadata": {},
   "outputs": [
    {
     "data": {
      "text/plain": [
       "[0, 2, 4, 6, 8]"
      ]
     },
     "execution_count": 99,
     "metadata": {},
     "output_type": "execute_result"
    }
   ],
   "source": [
    "v2 = [i for i in range(10) if i%2 ==0]\n",
    "v2"
   ]
  },
  {
   "cell_type": "code",
   "execution_count": 100,
   "metadata": {},
   "outputs": [
    {
     "data": {
      "text/plain": [
       "[(0, 1), (0, 3), (2, 1), (2, 3)]"
      ]
     },
     "execution_count": 100,
     "metadata": {},
     "output_type": "execute_result"
    }
   ],
   "source": [
    "v1 = []\n",
    "for x in range(4):\n",
    "    if x%2 ==0:\n",
    "        for y in range(4):\n",
    "            if y%2:\n",
    "                v1.append((x,y))\n",
    "v1"
   ]
  },
  {
   "cell_type": "code",
   "execution_count": 101,
   "metadata": {},
   "outputs": [
    {
     "data": {
      "text/plain": [
       "[(0, 1), (0, 3), (2, 1), (2, 3)]"
      ]
     },
     "execution_count": 101,
     "metadata": {},
     "output_type": "execute_result"
    }
   ],
   "source": [
    "v2 = [(x,y) for x in range(4) if x%2 ==0\n",
    "            for y in range(4) if y%2]\n",
    "v2"
   ]
  },
  {
   "cell_type": "markdown",
   "metadata": {},
   "source": [
    "# Tuple comprehension"
   ]
  },
  {
   "cell_type": "code",
   "execution_count": 102,
   "metadata": {},
   "outputs": [
    {
     "name": "stdout",
     "output_type": "stream",
     "text": [
      "(0, 1, 2, 3, 4, 5, 6, 7, 8, 9) (0, 2, 4, 6, 8)\n"
     ]
    }
   ],
   "source": [
    "t1 = tuple(i for i in range(10))\n",
    "t2 = tuple(i for i in range(10) if i % 2 ==0)\n",
    "print(t1,t2)"
   ]
  },
  {
   "cell_type": "markdown",
   "metadata": {},
   "source": [
    "# set comprehension"
   ]
  },
  {
   "cell_type": "code",
   "execution_count": 103,
   "metadata": {},
   "outputs": [
    {
     "data": {
      "text/plain": [
       "{'e', 'g', 'n', 's', 'u'}"
      ]
     },
     "execution_count": 103,
     "metadata": {},
     "output_type": "execute_result"
    }
   ],
   "source": [
    "s = {x for x in \"seungheondoh\" if x not in 'dohppak'}\n",
    "s"
   ]
  },
  {
   "cell_type": "markdown",
   "metadata": {},
   "source": [
    "# Tuple comprehension"
   ]
  },
  {
   "cell_type": "code",
   "execution_count": 104,
   "metadata": {},
   "outputs": [
    {
     "data": {
      "text/plain": [
       "{0: 0, 1: 1, 2: 4, 3: 9, 4: 16}"
      ]
     },
     "execution_count": 104,
     "metadata": {},
     "output_type": "execute_result"
    }
   ],
   "source": [
    "d = {x: x**2 for x in range(5)}\n",
    "d"
   ]
  },
  {
   "cell_type": "code",
   "execution_count": 105,
   "metadata": {},
   "outputs": [
    {
     "data": {
      "text/plain": [
       "dict"
      ]
     },
     "execution_count": 105,
     "metadata": {},
     "output_type": "execute_result"
    }
   ],
   "source": [
    "type(d)"
   ]
  },
  {
   "cell_type": "code",
   "execution_count": 106,
   "metadata": {},
   "outputs": [
    {
     "name": "stdout",
     "output_type": "stream",
     "text": [
      "[4, 6, 8]\n"
     ]
    }
   ],
   "source": [
    "t1 = [1,2,3]\n",
    "t2 = [x+1 for x in t1]\n",
    "t3 = [x*2 for x in t2]\n",
    "print(t3)"
   ]
  },
  {
   "cell_type": "code",
   "execution_count": null,
   "metadata": {
    "collapsed": true
   },
   "outputs": [],
   "source": []
  },
  {
   "cell_type": "code",
   "execution_count": null,
   "metadata": {
    "collapsed": true
   },
   "outputs": [],
   "source": []
  }
 ],
 "metadata": {
  "kernelspec": {
   "display_name": "Python 3",
   "language": "python",
   "name": "python3"
  },
  "language_info": {
   "codemirror_mode": {
    "name": "ipython",
    "version": 3
   },
   "file_extension": ".py",
   "mimetype": "text/x-python",
   "name": "python",
   "nbconvert_exporter": "python",
   "pygments_lexer": "ipython3",
   "version": "3.6.3"
  }
 },
 "nbformat": 4,
 "nbformat_minor": 1
}
