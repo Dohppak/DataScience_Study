{
 "cells": [
  {
   "cell_type": "markdown",
   "metadata": {},
   "source": [
    "# Linearity\n",
    "\n",
    "선형성이란 직선처럼 똑바른 도형, 또는 비슷한 성질을 갖는 대상입니다. 1차 다항함수, 미분, 적분 연상 등이 있습니다. 행렬과 벡터의 곱셈또한 선형성을 가지게 됩니다. \n",
    "\n",
    "\n",
    "$$ \n",
    "\\text{superposition} : f(x+y) = f(x)+ f(y)\n",
    "$$\n",
    "\n",
    "$$\n",
    "\\text{homogeneity} : f(ax) = af(x)\n",
    "$$"
   ]
  },
  {
   "cell_type": "markdown",
   "metadata": {},
   "source": [
    "##### 1. Linear Equation\n",
    "If you know Linear Equation like this\n",
    "<br/>\n",
    "\n",
    "$$\n",
    "\\begin{align*}\n",
    "4x_{1} − 5x_{2} &= −13\\\\\n",
    "−2x_{1} + 3x_{2} &= 9\n",
    "\\end{align*}\n",
    "$$\n",
    "\n",
    "You can change Equation to vector form = 스칼라와 벡터의 곱으로 얻는 새로운 연산 (linear combination)\n",
    "<br/>\n",
    "\n",
    "$$\n",
    "A =\n",
    "\\begin{bmatrix}\n",
    "4 & -5 \\\\\n",
    "-2 & 3\n",
    "\\end{bmatrix}\n",
    ", \\quad\n",
    "x =\n",
    "\\begin{bmatrix}\n",
    "x_{1} \\\\\n",
    "x_{2}\n",
    "\\end{bmatrix}\n",
    ", \\quad\n",
    "b =\n",
    "\\begin{bmatrix}\n",
    "-13 \\\\\n",
    "9\n",
    "\\end{bmatrix}\n",
    "$$\n",
    "\n",
    "And also we can find solution\n",
    "<br/>\n",
    "\n",
    "$$\n",
    "\\begin{align*}\n",
    "Ax &= b \\\\\n",
    "A^{-1}Ax &= A^{-1}b \\\\\n",
    "x &= A^{-1}b\n",
    "\\end{align*}\n",
    "$$\n",
    "\n",
    "즉 1차 연립방정식의 해를 구한다는 것은 해를 두 벡터의 선형결합으로 표현가능하다고 해석할 수 있습니다"
   ]
  },
  {
   "cell_type": "markdown",
   "metadata": {},
   "source": [
    "##### Linear Combination?\n",
    "\n",
    "백터/행렬에 스칼라값을 곱한 후 더하거나 뺀 것을 말한다. 백터나 행렬을 선형 조합해도 크기는 변하지 않는다."
   ]
  },
  {
   "cell_type": "code",
   "execution_count": 2,
   "metadata": {},
   "outputs": [],
   "source": [
    "import numpy as np"
   ]
  },
  {
   "cell_type": "code",
   "execution_count": 3,
   "metadata": {},
   "outputs": [
    {
     "data": {
      "text/plain": [
       "array([[3.],\n",
       "       [5.]])"
      ]
     },
     "execution_count": 3,
     "metadata": {},
     "output_type": "execute_result"
    }
   ],
   "source": [
    "A = np.array([[4,-5],\n",
    "              [-2,3]])\n",
    "b = np.array([[-13],\n",
    "             [9]])\n",
    "x = np.linalg.inv(A).dot(b)\n",
    "x"
   ]
  },
  {
   "cell_type": "markdown",
   "metadata": {},
   "source": [
    "##### 2. Matrix??\n",
    "\n",
    "Can write a matrix in terms of its columns\n",
    "<br/>\n",
    "\n",
    "$$\n",
    "A =\n",
    "\\begin{bmatrix}\n",
    "\\mid&\\mid&&\\mid\\\\\n",
    "a_{1} & a_{2} & \\cdots & a_{n}\\\\\n",
    "\\mid&\\mid&&\\mid\\\\\n",
    "\\end{bmatrix}\n",
    "$$\n",
    "\n",
    "- $a_i$ corresponds to an entire vector, not an element of a vector"
   ]
  },
  {
   "cell_type": "markdown",
   "metadata": {},
   "source": [
    "##### 3. Vector-Vector Products\n",
    "Inner product \n",
    "$$\n",
    "x^{T}y = \\sum\\limits_{i=1}^{n}x_{i}\\,y_{i} \\quad \\in \\mathbb{R}\n",
    "$$"
   ]
  },
  {
   "cell_type": "code",
   "execution_count": 4,
   "metadata": {},
   "outputs": [
    {
     "data": {
      "text/plain": [
       "array([[5]])"
      ]
     },
     "execution_count": 4,
     "metadata": {},
     "output_type": "execute_result"
    }
   ],
   "source": [
    "x = np.array([[1],\n",
    "             [1]])\n",
    "y = np.array([[2],\n",
    "             [3]])\n",
    "x.T.dot(y)"
   ]
  },
  {
   "cell_type": "markdown",
   "metadata": {},
   "source": [
    "##### 4. Matrix-Vector Product\n",
    "$$\n",
    "A \\in \\mathbb{R}^{m \\times n}, x \\in \\mathbb{R}^{n} \\Longleftrightarrow Ax \\in \\mathbb{R}^{m}\n",
    "$$\n",
    "\n",
    "<br/>\n",
    "Writing $A$ by rows, each entry of $Ax$ is an inner product between $x$ and a row of $A$\n",
    "<br/>\n",
    "\n",
    "$$\n",
    "A =\n",
    "\\begin{bmatrix}\n",
    "- &b_{1}^{T} & - \\\\\n",
    "-& b_{2}^{T}&-  \\\\\n",
    "&\\vdots& \\\\\n",
    "-& b_{m}^{T}&- \n",
    "\\end{bmatrix}\n",
    ",\\qquad\n",
    "Ax \\in \\mathbb{R}^{m} =\n",
    "\\begin{bmatrix}\n",
    "b_{1}^{T}x \\\\\n",
    "b_{2}^{T}x \\\\\n",
    "\\vdots \\\\\n",
    "b_{m}^{T}x\n",
    "\\end{bmatrix}\n",
    "$$\n",
    "\n",
    "<br/>\n",
    "Writing $A$ by columns, $Ax$ is a linear combination of the columns of $A$, with coefficients given by $x$\n",
    "<br/>\n",
    "\n",
    "$$\n",
    "A =\n",
    "\\begin{bmatrix}\n",
    "\\mid&\\mid&&\\mid\\\\\n",
    "a_{1} & a_{2} & \\cdots & a_{n}\\\\\n",
    "\\mid&\\mid&&\\mid\\\\\n",
    "\\end{bmatrix}\n",
    ",\\qquad\n",
    "Ax \\in \\mathbb{R}^{m} = \\sum\\limits_{i=1}^{n}a_{i}x_{i}\n",
    "$$"
   ]
  },
  {
   "cell_type": "code",
   "execution_count": 5,
   "metadata": {},
   "outputs": [
    {
     "name": "stdout",
     "output_type": "stream",
     "text": [
      "[[ 70  80  90]\n",
      " [158 184 210]]\n",
      "[[ 70  80  90]\n",
      " [158 184 210]]\n"
     ]
    }
   ],
   "source": [
    "a = np.array([[1,2,3,4,],[5,6,7,8]])\n",
    "b = np.array([[1,2,3],[4,5,6],[7,8,9],[10,11,12]])\n",
    "print(np.matmul(a,b))\n",
    "print(np.dot(a,b))"
   ]
  },
  {
   "cell_type": "markdown",
   "metadata": {},
   "source": [
    "##### Element-wise Multiplication\n",
    "\n",
    "- you saw some element-wise multiplication\n",
    "- multiply function and * operator"
   ]
  },
  {
   "cell_type": "code",
   "execution_count": 12,
   "metadata": {},
   "outputs": [
    {
     "name": "stdout",
     "output_type": "stream",
     "text": [
      "[[1 2 3]\n",
      " [4 5 6]]\n",
      "[[0.25 0.5  0.75]\n",
      " [1.   1.25 1.5 ]]\n",
      "-------------------\n",
      "[[0.25 1.   2.25]\n",
      " [4.   6.25 9.  ]]\n",
      "[[0.25 1.   2.25]\n",
      " [4.   6.25 9.  ]]\n",
      "===================\n",
      "[[ 4.25  5.5   6.75]\n",
      " [ 5.5   7.25  9.  ]\n",
      " [ 6.75  9.   11.25]]\n"
     ]
    }
   ],
   "source": [
    "m = np.array([[1,2,3],[4,5,6]])\n",
    "print(m)\n",
    "n = m*0.25\n",
    "print(n)\n",
    "print(\"-------------------\")\n",
    "print(m*n)\n",
    "print(np.multiply(m,n))\n",
    "print(\"===================\")\n",
    "print(m.T.dot(n))"
   ]
  },
  {
   "cell_type": "markdown",
   "metadata": {},
   "source": [
    "##### Transpose\n",
    "if you use .T function, \n",
    "- remember modified both the transpose and the original matrix, too!\n",
    "- remember to condisder the transpose just as a different view of your matrix, rather than a different matrix entirely"
   ]
  },
  {
   "cell_type": "code",
   "execution_count": 7,
   "metadata": {},
   "outputs": [
    {
     "data": {
      "text/plain": [
       "array([[  1,   5,   9],\n",
       "       [  2,   6,  10],\n",
       "       [  3,   7,  11],\n",
       "       [  4, 200,  12]])"
      ]
     },
     "execution_count": 7,
     "metadata": {},
     "output_type": "execute_result"
    }
   ],
   "source": [
    "m = np.array([[1,2,3,4],[5,6,7,8],[9,10,11,12]])\n",
    "m_t = m.T\n",
    "m_t[3][1] = 200\n",
    "m_t"
   ]
  },
  {
   "cell_type": "markdown",
   "metadata": {},
   "source": [
    "##### 5. Diagonal Matrices\n",
    "\n",
    "- For $d = \\left[d_1,\\cdots,d_n\\right]^T\\in \\mathbb{R}^{n}$\n",
    "\n",
    "$$\n",
    "\\text{diag}(d) = \\mathbb{R}^{n \\times n} \n",
    "= \\begin{bmatrix}\n",
    "d_{1}&0&\\cdots&0 \\\\\n",
    "0&d_{2}&\\cdots&0 \\\\\n",
    "\\vdots&\\vdots&\\ddots&\\vdots\\\\\n",
    "0&0&\\cdots&d_{n} \\\\\n",
    "\\end{bmatrix}\n",
    "$$\n",
    "\n",
    "- Multiplying  $A∈\\mathbb{R}^{m \\times n}$  by a diagonal matrix  $D∈\\mathbb{R}^{n \\times n}$  on the right scales the columns of  A  \n",
    "\n",
    "$$\n",
    "AD = \n",
    "\\begin{bmatrix}\n",
    "\\mid&\\mid&&\\mid\\\\\n",
    "d_{1}a_{1} & d_{2}a_{2} & \\cdots & d_{n}a_{n}\\\\\n",
    "\\mid&\\mid&&\\mid\\\\\n",
    "\\end{bmatrix}\n",
    "$$"
   ]
  },
  {
   "cell_type": "code",
   "execution_count": 13,
   "metadata": {},
   "outputs": [
    {
     "data": {
      "text/plain": [
       "array([[10,  0,  0],\n",
       "       [ 0, 12,  0],\n",
       "       [ 0,  0, 33]])"
      ]
     },
     "execution_count": 13,
     "metadata": {},
     "output_type": "execute_result"
    }
   ],
   "source": [
    "d = np.array([10, 12, 33])\n",
    "D = np.diag(d)\n",
    "D"
   ]
  },
  {
   "cell_type": "markdown",
   "metadata": {},
   "source": [
    "##### 6. Norms (strenth or distance in linear space)\n",
    "\n",
    "- A vector norm is any function $f : \\mathbb{R}^{n} \\rightarrow \\mathbb{R}$\n",
    "- $\\;f(x)=0 \\quad \\Longleftrightarrow \\quad x=0$\n",
    "- $f(ax)= \\lvert a \\rvert f(x) \\;$ for $\\; a \\in \\mathbb{R}$\n",
    "- $f(x+y) \\leq f(x) + f(y)$\n",
    "- $l_2$ norm\n",
    "$$\n",
    "\\left\\lVert x \\right\\rVert _{2} = \\sqrt{\\sum\\limits_{i=1}^{n}x_{i}^2}\n",
    "$$\n",
    "- $l_1$ norm\n",
    "$$\n",
    "\\left\\lVert x \\right\\rVert _{1} = \\sum\\limits_{i=1}^{n} \\left\\lvert x_{i} \\right\\rvert\n",
    "$$"
   ]
  },
  {
   "cell_type": "code",
   "execution_count": 9,
   "metadata": {},
   "outputs": [
    {
     "data": {
      "text/plain": [
       "5.0"
      ]
     },
     "execution_count": 9,
     "metadata": {},
     "output_type": "execute_result"
    }
   ],
   "source": [
    "x = np.array([[4],\n",
    "             [3]])\n",
    "#Euclidian distance\n",
    "np.linalg.norm(x, 2)"
   ]
  },
  {
   "cell_type": "code",
   "execution_count": 9,
   "metadata": {},
   "outputs": [
    {
     "data": {
      "text/plain": [
       "7.0"
      ]
     },
     "execution_count": 9,
     "metadata": {},
     "output_type": "execute_result"
    }
   ],
   "source": [
    "#manhattan distance\n",
    "np.linalg.norm(x,1)"
   ]
  },
  {
   "cell_type": "markdown",
   "metadata": {},
   "source": [
    "##### 7. Orthogonality\n",
    "- Two vectors $x,y \\in \\mathbb{R}^{n}$ are orthogonal if\n",
    "$$\n",
    "x^{T}y=0\n",
    "$$\n",
    "- They are orthonormal if, in addtion,\n",
    "$$\n",
    "\\left\\lVert x \\right\\rVert _{2} = \\left\\lVert y \\right\\rVert _{2} = 1\n",
    "$$"
   ]
  },
  {
   "cell_type": "markdown",
   "metadata": {},
   "source": [
    "##### 8. Angle between Vectors\n",
    "- for any $x, y \\in \\mathbb{R}^n, \\lvert x^Ty \\rvert \\leq \\lVert x \\rVert \\, \\lVert y \\rVert$\n",
    "- (unsigned) angle between vectors in $\\mathbb{R}^{n}$ defined as \n",
    "\n",
    "$$\n",
    "\\begin{align*}\n",
    "\\theta &= \\angle(x,y) = \\cos^{-1}\\frac{x^Ty}{\\lVert x \\rVert \\lVert y \\rVert}\\\\ \\\\\n",
    "\\text{thus}\\; x^Ty &= \\lVert x \\rVert \\lVert y\\rVert \\cos\\theta\n",
    "\\end{align*}\n",
    "$$"
   ]
  },
  {
   "cell_type": "markdown",
   "metadata": {},
   "source": [
    "##### 1. input을 2개의 2차원 array를 만들어서 곱하는 함수를 만들어보세요\n",
    "def multiply_inputs(m1, m2):\n",
    "\n",
    "\n",
    "##### 2. 2개의 2차원 array를 넣어서 평균을 구하는 함수를 만들어보세요\n",
    "def find_mean(values):\n"
   ]
  },
  {
   "cell_type": "code",
   "execution_count": 30,
   "metadata": {},
   "outputs": [],
   "source": [
    "# Use the numpy library\n",
    "import numpy as np\n",
    "\n",
    "def prepare_inputs(inputs):\n",
    "    input_array = np.array([inputs])\n",
    "    inputs_minus_min = input_array - np.min(input_array)\n",
    "    inputs_div_max = inputs_minus_min / np.max(inputs_minus_min)\n",
    "\n",
    "    return input_array, inputs_minus_min, inputs_div_max\n",
    "    \n",
    "\n",
    "def multiply_inputs(m1, m2):\n",
    "    if m1.shape[0] != m2.shape[1] and m1.shape[1] != m2.shape[0]:     \n",
    "        return False\n",
    "\n",
    "    if m1.shape[1] == m2.shape[0]:\n",
    "        return np.matmul(m1, m2)        \n",
    "    else:\n",
    "        return np.matmul(m2, m1)        \n",
    "\n",
    "\n",
    "def find_mean(values):\n",
    "    return np.mean(values)\n"
   ]
  },
  {
   "cell_type": "code",
   "execution_count": 18,
   "metadata": {},
   "outputs": [],
   "source": [
    "x = np.array([[4,3],\n",
    "             [3,3]])\n",
    "y = np.array([[2,3],\n",
    "             [3,1]])"
   ]
  },
  {
   "cell_type": "code",
   "execution_count": 19,
   "metadata": {},
   "outputs": [
    {
     "data": {
      "text/plain": [
       "3.25"
      ]
     },
     "execution_count": 19,
     "metadata": {},
     "output_type": "execute_result"
    }
   ],
   "source": [
    "find_mean(x)"
   ]
  },
  {
   "cell_type": "code",
   "execution_count": 20,
   "metadata": {},
   "outputs": [
    {
     "data": {
      "text/plain": [
       "array([[17, 15],\n",
       "       [15, 12]])"
      ]
     },
     "execution_count": 20,
     "metadata": {},
     "output_type": "execute_result"
    }
   ],
   "source": [
    "multiply_inputs(x,y)"
   ]
  },
  {
   "cell_type": "markdown",
   "metadata": {},
   "source": [
    "##### Linear Independence??\n",
    "\n",
    "유한한 n 개의 벡터는 선형 종속이라고 합니다\n",
    "\n",
    "<img style=\"float:left;\" src=\"png/19.1.png\" width=\"200px\">\n",
    "$\n",
    "\\text{선형 종속이란}\\quad S=\\left\\{ { v }_{ 1 },{ v }_{ 2 },...,{ v }_{ n } \\right\\} 에\\quad 대해\\\\{ c }_{ 1 }{ v }_{ 1 }+{ c }_{ 2 }{ v }_{ 2 }+...+{ c }_{ n }=0을\\quad만족하는\\\\0이\\quad 아닌\\quad { c }_{ 1 },{ c }_{ 2 },...,{ c }_{ n }이\\quad존재한다\\\\\n",
    "$\n",
    "\n",
    "$\n",
    "\\text{선형 독립이란}\\quad 반대로\\quad c가\\quad 모두\\quad0일\\quad때\n",
    "$\n",
    "<br/>\n",
    "\n",
    "그 정의에 의해 동차선형방정식(homogeneous linear equation) Ax=0가 자명해(x=0)를 유일한 해로 가질 때 계수행렬(coefficient matrix) A의 열벡터(column vector)들은 서로 선형독립입니다."
   ]
  },
  {
   "cell_type": "markdown",
   "metadata": {},
   "source": [
    "##### Linear Transformation\n",
    "\n",
    "아래 조건을 만족하는 매핑 함수 $T$를 Linear하다고 정의합니다.\n",
    "\n",
    "- 임의의 두 벡터 $v,w$에 대해 $T(v+w)=T(v)+T(w)$\n",
    "- 임의의 스칼라 $a$와 벡터 $v$에 대해 $T(av) = aT(v)$\n",
    "- 임의의 스칼라 $c,d$와 벡터 $u,v$에 대해 $T(cu+dv) = cT(u) + dT(v)$\n",
    "\n",
    "이는 $Ax=b$를 선형변환으로 이해할 수도 있습니다. 행렬 $A$ 가 $m$x$n$ 크기이고, $x$가 $n$차원, $b$가 $m$차원 벡터라고 할 때, 행렬 $A$는 $n$차원 벡터 $x$를 $m$차원 벡터 $b$로 변환하는 함수인 것입니다"
   ]
  },
  {
   "cell_type": "markdown",
   "metadata": {},
   "source": [
    "<img src=\"png/19.2.png\" width=\"500px\">"
   ]
  },
  {
   "cell_type": "markdown",
   "metadata": {},
   "source": [
    "<img style =\"float:left\" src=\"png/19.3.png\" width=\"200px\">\n",
    "\n",
    "$\n",
    "T(x)=\\begin{bmatrix} 1 & -3 \\\\ 3 & 5 \\\\ -1 & 7 \\end{bmatrix}\\begin{bmatrix} { x }_{ 1 } \\\\ { x }_{ 2 } \\end{bmatrix}\n",
    "$\n",
    "\n",
    "2차원 벡터 (2,-1)은 3차원 벡터 5,1,-9로 변환되는 것입니다."
   ]
  },
  {
   "cell_type": "markdown",
   "metadata": {},
   "source": [
    "##### Matrix and Transformation\n",
    "\n",
    "> 원점을 이동하지 않는 선형 좌표 변환은 행렬을 곱하여 구할 수 있다.\n",
    "\n",
    "\n",
    "$$\n",
    "M=\n",
    "\\begin{bmatrix}\n",
    "m_{11} & m_{12} & m_{13}\\\\\n",
    "m_{21} & m_{22} & m_{23}\\\\\n",
    "m_{31} & m_{32} & m_{33}\\\\\n",
    "\\end{bmatrix}\n",
    "$$\n",
    "<br/>\n",
    "\n",
    "$$\n",
    "\\begin{array}\\\n",
    "\\vec y& = &M \\vec x\\\\\n",
    "\\begin{bmatrix}\\space \\\\ \\space \\\\ \\space \\end{bmatrix} & = &\\begin{bmatrix} &  & \\\\ &  & \\\\ &  &\\end{bmatrix}\\begin{bmatrix} \\space \\\\ \\space \\\\ \\space \\end{bmatrix}\n",
    "\\end{array}\n",
    "$$\n",
    "<br/>\n",
    "\n",
    "$$\n",
    "\\begin{array}\\\n",
    "\\text{Given} & & \\text{Interpret}\\\\\n",
    "\\text{Transformation} & \\longrightarrow & \\text{matrix}\\\\\n",
    "\\text{matrix} & \\longrightarrow & \\text{Transformation}\\\\\n",
    "\\end{array}\n",
    "$$\n",
    "<br/>\n",
    "\n",
    "$$\n",
    "\\begin{array}{c}\\\n",
    "\\vec x\\\\\n",
    "\\text{input}\n",
    "\\end{array}\n",
    "\\begin{array}{c}\\\n",
    "\\quad\n",
    "\\text{transformation}\\\\\n",
    "\\implies\n",
    "\\end{array}\n",
    "\\quad\n",
    "\\begin{array}{l}\n",
    "\\vec y\\\\\n",
    "\\text{output}\n",
    "\\end{array}\n",
    "$$\n",
    "<br/>\n",
    "\n",
    "$$\n",
    "\\text{Transformation = rotate + stretch/compress}\n",
    "$$"
   ]
  },
  {
   "cell_type": "markdown",
   "metadata": {},
   "source": [
    "##### Rotation\n",
    "$\n",
    "\\vec y = R(\\theta) \\vec x\n",
    "$\n",
    "<br/>\n",
    "<img style=\"float:left;\" src=\"png/linear_transform02.png\" width=\"200px\">\n",
    "<br/>\n",
    "\n",
    "<img style=\"float:left;\" src=\"png/linear_transform03.png\" width=\"200px\">\n",
    "\n",
    "\n",
    "$\n",
    "\\begin{bmatrix}\n",
    "\\cos(\\theta)\\\\\n",
    "\\sin(\\theta)\n",
    "\\end{bmatrix}=\n",
    "R(\\theta)\n",
    "\\begin{bmatrix}\n",
    "1\\\\\n",
    "0\n",
    "\\end{bmatrix}\\\\\n",
    "$\n"
   ]
  },
  {
   "cell_type": "markdown",
   "metadata": {},
   "source": [
    "##### Stretch & Compress\n",
    "<img style=\"float:left;\" src=\"png/linear_transform05.png\" width=\"300px\">\n",
    "$$\n",
    "\\begin{array}\\\\\n",
    "\\vec y = &k\\vec x\\\\\n",
    "& \\uparrow\\\\ \n",
    "& \\text{scalar (not matrix)}\\\\ \\\\\n",
    "\\vec y = &k I \\vec x  & \\text{where } I = \\text{ Identity martix}\\\\ \\\\\n",
    "\\vec y = &\\begin{bmatrix}k&0\\\\0&k\\end{bmatrix}\\vec x\n",
    "\\end{array}\n",
    "$$\n"
   ]
  },
  {
   "cell_type": "markdown",
   "metadata": {},
   "source": [
    "##### Stretch & Compress\n",
    "<img style=\"float:left;\" src=\"png/linear_transform08.png\" width=\"400px\">\n",
    "$$\n",
    "\\begin{array}{c}\\\\\n",
    "& P & \\\\\n",
    "\\begin{bmatrix}x_1\\\\x_2\\end{bmatrix} & \\implies & \\begin{bmatrix}x_1\\\\ 0\\end{bmatrix}\\\\\n",
    "\\vec x & & \\vec y\n",
    "\\end{array}\n",
    "$$\n",
    "\n",
    "$$\n",
    "\\vec y = P\\vec x = \\begin{bmatrix} 1 & 0 \\\\ 0 & 0 \\end{bmatrix}\\begin{bmatrix} x_1 \\\\ x_2 \\end{bmatrix} = \\begin{bmatrix} x_1 \\\\ 0 \\end{bmatrix}\n",
    "$$\n",
    "\n",
    "$$\n",
    "\\begin{array}\\\\\n",
    "P \\begin{bmatrix} 1 \\\\ 0 \\end{bmatrix} & = \\begin{bmatrix} 1 \\\\ 0 \\end{bmatrix}\\\\\n",
    "P \\begin{bmatrix} 0 \\\\ 1 \\end{bmatrix} & = \\begin{bmatrix} 0 \\\\ 0 \\end{bmatrix}\\\\\n",
    "P \\begin{bmatrix} 1 & 0 \\\\ 0 & 1 \\end{bmatrix} & = \\begin{bmatrix} 1 & 0 \\\\ 0 & 0 \\end{bmatrix}\n",
    "\\end{array}\n",
    "$$\n"
   ]
  },
  {
   "cell_type": "markdown",
   "metadata": {},
   "source": [
    "##### Multiple Transformations\n",
    "\n",
    "$T_1$  : transformation 1 : $M_1$\n",
    "<br/>\n",
    "\n",
    "$T_2$ : transformation 2 : $M_2$\n",
    "<br/>\n",
    "\n",
    "$T$ : Do transforamtion 1, followed by transformation 2 \n",
    "<br/>\n",
    "$$\n",
    "\\therefore \\; M = M_2 M_1\n",
    "$$\n",
    "\n",
    "$$\n",
    "\\begin{array}{c}\\\\\n",
    "&T_1&&T_2\\\\\n",
    "\\vec x & \\longrightarrow & \\vec y & \\longrightarrow & \\vec z\\\\\n",
    "\\end{array}\n",
    "$$\n",
    "<br/>\n",
    "\n",
    "$$\n",
    "\\begin{array}\\\\\n",
    "\\vec y & = M_1\\vec x\\\\\n",
    "\\vec z & = M_2\\vec y & = M_2M_1\\vec x\\\\\n",
    "& & = M \\vec x\n",
    "\\end{array}\n",
    "$$\n"
   ]
  },
  {
   "cell_type": "code",
   "execution_count": null,
   "metadata": {},
   "outputs": [],
   "source": []
  }
 ],
 "metadata": {
  "kernelspec": {
   "display_name": "Python 3",
   "language": "python",
   "name": "python3"
  },
  "language_info": {
   "codemirror_mode": {
    "name": "ipython",
    "version": 3
   },
   "file_extension": ".py",
   "mimetype": "text/x-python",
   "name": "python",
   "nbconvert_exporter": "python",
   "pygments_lexer": "ipython3",
   "version": "3.6.6"
  }
 },
 "nbformat": 4,
 "nbformat_minor": 2
}
