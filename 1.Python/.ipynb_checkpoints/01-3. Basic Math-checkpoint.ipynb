{
 "cells": [
  {
   "cell_type": "code",
   "execution_count": 1,
   "metadata": {},
   "outputs": [],
   "source": [
    "import numpy as np\n",
    "import matplotlib.pyplot as plt"
   ]
  },
  {
   "cell_type": "markdown",
   "metadata": {},
   "source": [
    "## 자연상수 e\n",
    "\n",
    "자연의 연속한 성장(growth)을 표현하기 위해 등장한 상수, __100%의 성장률__ 을 가지고 __1회 연속 성장__ 할때, 가질 수 있는 최대 성장량이다. \n",
    "$$\n",
    "e = \\lim \\limits_{n \\to \\infty} (1+\\dfrac{1}{n})^{n}\n",
    "$$\n",
    "\n",
    "- 연속성장이란?\n",
    "\n",
    "$$(1+\\dfrac{1}{n})^{n}$$\n",
    "\n",
    "1년뒤 100% 성장한다고할때, 이를 6개월에 나눠서 50% 성장한다고 나눠보자, 하지만 성장치를 나누면서, 나눠진 성장치가 새로운 단위(6개월)에 대해서 다시 성장하게 된다. 이를 일반화한다면, 100%의 성장을 n의 단위로 나눠서 n의 배율로 성장시키는 것이다. \n"
   ]
  },
  {
   "cell_type": "code",
   "execution_count": 2,
   "metadata": {},
   "outputs": [
    {
     "data": {
      "text/plain": [
       "2.718281828459045"
      ]
     },
     "execution_count": 2,
     "metadata": {},
     "output_type": "execute_result"
    }
   ],
   "source": [
    "np.e"
   ]
  },
  {
   "cell_type": "code",
   "execution_count": 6,
   "metadata": {},
   "outputs": [],
   "source": [
    "x_axis = np.linspace(-2,2,100)\n",
    "y = np.exp(x_axis)"
   ]
  },
  {
   "cell_type": "code",
   "execution_count": 14,
   "metadata": {},
   "outputs": [
    {
     "data": {
      "image/png": "[encoded data removed]",
      "text/plain": [
       "<Figure size 432x288 with 1 Axes>"
      ]
     },
     "metadata": {
      "needs_background": "light"
     },
     "output_type": "display_data"
    }
   ],
   "source": [
    "plt.plot(x_axis, y)\n",
    "plt.axhline(1, c='red', ls=\"--\")\n",
    "plt.show()"
   ]
  },
  {
   "cell_type": "code",
   "execution_count": null,
   "metadata": {},
   "outputs": [],
   "source": []
  }
 ],
 "metadata": {
  "kernelspec": {
   "display_name": "python3.6",
   "language": "python",
   "name": "python3.6"
  },
  "language_info": {
   "codemirror_mode": {
    "name": "ipython",
    "version": 3
   },
   "file_extension": ".py",
   "mimetype": "text/x-python",
   "name": "python",
   "nbconvert_exporter": "python",
   "pygments_lexer": "ipython3",
   "version": "3.6.6"
  }
 },
 "nbformat": 4,
 "nbformat_minor": 2
}
