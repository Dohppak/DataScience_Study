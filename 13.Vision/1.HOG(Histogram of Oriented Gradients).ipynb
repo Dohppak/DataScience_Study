{
 "cells": [
  {
   "attachments": {},
   "cell_type": "markdown",
   "id": "blind-airline",
   "metadata": {},
   "source": [
    "- reference : https://learnopencv.com/histogram-of-oriented-gradients/\n",
    "\n",
    "# Histogram of Oriented Gradients\n",
    "\n",
    "일반적으로 특성 설명자는 크기 너비 x 높이 x 3 (channels)의 이미지를 길이 n의 특성 벡터 / 배열로 변환합니다. HOG 특성 설명 자의 경우 입력 이미지의 크기는 64 x 128 x 3이고 출력 특성 벡터의 길이는 3780입니다.\n"
   ]
  },
  {
   "cell_type": "code",
   "execution_count": 5,
   "id": "increased-avatar",
   "metadata": {},
   "outputs": [],
   "source": [
    "import numpy as np\n",
    "import pandas as pd\n",
    "import cv2"
   ]
  },
  {
   "cell_type": "code",
   "execution_count": null,
   "id": "alpine-ottawa",
   "metadata": {},
   "outputs": [],
   "source": []
  }
 ],
 "metadata": {
  "kernelspec": {
   "display_name": "Python 3",
   "language": "python",
   "name": "python3"
  },
  "language_info": {
   "codemirror_mode": {
    "name": "ipython",
    "version": 3
   },
   "file_extension": ".py",
   "mimetype": "text/x-python",
   "name": "python",
   "nbconvert_exporter": "python",
   "pygments_lexer": "ipython3",
   "version": "3.9.1"
  }
 },
 "nbformat": 4,
 "nbformat_minor": 5
}
